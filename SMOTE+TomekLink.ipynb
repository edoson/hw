{
 "cells": [
  {
   "cell_type": "markdown",
   "id": "27e6b18d-19ba-4fce-b790-ca6800442ede",
   "metadata": {},
   "source": [
    "# Up & Downsampling"
   ]
  },
  {
   "cell_type": "code",
   "execution_count": 1,
   "id": "9e47cb1d-43d4-4191-9745-29d82e30c563",
   "metadata": {},
   "outputs": [],
   "source": [
    "import pandas as pd\n",
    "import numpy as np"
   ]
  },
  {
   "cell_type": "markdown",
   "id": "e2018636-7e70-4b7e-ba13-e830ae4c9d48",
   "metadata": {},
   "source": [
    "## Dataset"
   ]
  },
  {
   "cell_type": "code",
   "execution_count": 2,
   "id": "42fc10b6-71f5-42af-8238-098d8bfcf926",
   "metadata": {},
   "outputs": [],
   "source": [
    "from sklearn.model_selection import train_test_split"
   ]
  },
  {
   "cell_type": "code",
   "execution_count": 3,
   "id": "0aa0197e-313c-4168-892e-09d870b60160",
   "metadata": {},
   "outputs": [
    {
     "name": "stdout",
     "output_type": "stream",
     "text": [
      "<class 'pandas.core.frame.DataFrame'>\n",
      "RangeIndex: 726288 entries, 0 to 726287\n",
      "Columns: 767 entries, HKTLMYY to TLJYWBE\n",
      "dtypes: float64(742), int64(21), object(4)\n",
      "memory usage: 4.2+ GB\n"
     ]
    }
   ],
   "source": [
    "df = pd.read_feather('removed_duplicated_columns.feather')\n",
    "df.info()"
   ]
  },
  {
   "cell_type": "code",
   "execution_count": 4,
   "id": "da9af2aa-0d26-435e-8a61-6e7788933f46",
   "metadata": {},
   "outputs": [
    {
     "data": {
      "text/plain": [
       "False    726224\n",
       "True         64\n",
       "Name: TLJYWBE, dtype: int64"
      ]
     },
     "execution_count": 4,
     "metadata": {},
     "output_type": "execute_result"
    }
   ],
   "source": [
    "target = 'TLJYWBE'\n",
    "df[target] = df[target].apply(lambda v: v >= 1e-5)\n",
    "df[target].value_counts()"
   ]
  },
  {
   "cell_type": "code",
   "execution_count": 5,
   "id": "22dadbad-16b2-416e-83d5-700a31682050",
   "metadata": {},
   "outputs": [],
   "source": [
    "features = [c for c in df.columns if c != target]\n",
    "training_features, test_features, train_target, test_target = train_test_split(df[features], df[target], test_size=0.25, stratify=df[target])"
   ]
  },
  {
   "cell_type": "code",
   "execution_count": 6,
   "id": "19ce01b6-ee3d-4bb9-af6c-5b597430d719",
   "metadata": {},
   "outputs": [
    {
     "name": "stdout",
     "output_type": "stream",
     "text": [
      "Training set shape: (544716, 766)\n",
      "Training set target shape: (544716,)\n",
      "Test set shape: (181572, 766)\n",
      "Training set target shape: (181572,)\n"
     ]
    }
   ],
   "source": [
    "print(f'Training set shape: {training_features.shape}')\n",
    "print(f'Training set target shape: {train_target.shape}')\n",
    "print(f'Test set shape: {test_features.shape}')\n",
    "print(f'Training set target shape: {test_target.shape}')"
   ]
  },
  {
   "cell_type": "code",
   "execution_count": 7,
   "id": "2d583ee4-aaaf-48fc-8639-36258972d015",
   "metadata": {},
   "outputs": [
    {
     "data": {
      "text/plain": [
       "False    181556\n",
       "True         16\n",
       "Name: TLJYWBE, dtype: int64"
      ]
     },
     "execution_count": 7,
     "metadata": {},
     "output_type": "execute_result"
    }
   ],
   "source": [
    "test_target.value_counts()"
   ]
  },
  {
   "cell_type": "markdown",
   "id": "e3d368fe-370d-4e90-ae8a-9101f799e98f",
   "metadata": {},
   "source": [
    "## SMOTE + TomekLink"
   ]
  },
  {
   "cell_type": "code",
   "execution_count": 8,
   "id": "e809191f-f109-4010-ad73-cd492a0685c6",
   "metadata": {},
   "outputs": [],
   "source": [
    "from imblearn.pipeline import Pipeline\n",
    "from sklearn.model_selection import cross_validate\n",
    "from sklearn.model_selection import RepeatedStratifiedKFold\n",
    "from sklearn.ensemble import RandomForestClassifier\n",
    "from imblearn.combine import SMOTETomek\n",
    "from imblearn.over_sampling import SMOTE\n",
    "from imblearn.under_sampling import TomekLinks"
   ]
  },
  {
   "cell_type": "code",
   "execution_count": 9,
   "id": "577c1ed0-3415-4533-b5f7-498e2b8fc647",
   "metadata": {},
   "outputs": [],
   "source": [
    "from sklearn.compose import ColumnTransformer\n",
    "from imblearn.pipeline import Pipeline as ImbPipeline\n",
    "from sklearn.impute import SimpleImputer\n",
    "from sklearn.preprocessing import StandardScaler, OneHotEncoder\n",
    "from sklearn.ensemble import RandomForestClassifier"
   ]
  },
  {
   "cell_type": "markdown",
   "id": "6fc5febc-d193-471c-800f-68dbf35bcf72",
   "metadata": {},
   "source": [
    "### Pipeline"
   ]
  },
  {
   "cell_type": "code",
   "execution_count": 11,
   "id": "79b8ef22-6bc9-442f-a352-22400d02c3ff",
   "metadata": {},
   "outputs": [
    {
     "data": {
      "text/plain": [
       "float64    741\n",
       "int64       21\n",
       "object       4\n",
       "dtype: int64"
      ]
     },
     "execution_count": 11,
     "metadata": {},
     "output_type": "execute_result"
    }
   ],
   "source": [
    "dtypes = training_features.dtypes\n",
    "dtypes.value_counts()"
   ]
  },
  {
   "cell_type": "code",
   "execution_count": 12,
   "id": "26ee21aa-7f21-4546-a416-aa8f846d49a4",
   "metadata": {},
   "outputs": [
    {
     "data": {
      "text/plain": [
       "(21, 741, 4)"
      ]
     },
     "execution_count": 12,
     "metadata": {},
     "output_type": "execute_result"
    }
   ],
   "source": [
    "int_features = dtypes[dtypes == 'int64'].index\n",
    "float_features = dtypes[dtypes == 'float64'].index\n",
    "cat_features = dtypes[dtypes == 'object'].index\n",
    "len(int_features), len(float_features), len(cat_features)"
   ]
  },
  {
   "cell_type": "code",
   "execution_count": 13,
   "id": "d12770dc-9e35-43ca-8d14-01dedfc68a45",
   "metadata": {},
   "outputs": [],
   "source": [
    "resample=SMOTETomek(tomek=TomekLinks(sampling_strategy='majority'))"
   ]
  },
  {
   "cell_type": "code",
   "execution_count": 14,
   "id": "7c7ebae9-6e1f-42bd-a87c-18273c08f805",
   "metadata": {},
   "outputs": [],
   "source": [
    "numeric_transformer = Pipeline(steps=[\n",
    "    ('imputer', SimpleImputer(strategy='median')),\n",
    "    ('scaler', StandardScaler())\n",
    "])\n",
    "\n",
    "categorical_transformer = Pipeline(steps=[\n",
    "    ('imputer', SimpleImputer(strategy='constant', fill_value='missing')),\n",
    "    ('onehot', OneHotEncoder(handle_unknown='ignore'))\n",
    "])\n",
    "\n",
    "preprocessor = ColumnTransformer(\n",
    "    transformers=[\n",
    "        ('int', numeric_transformer, int_features),\n",
    "        ('float', numeric_transformer, float_features),\n",
    "        ('cat', categorical_transformer, cat_features)\n",
    "    ])\n",
    "\n",
    "smote = SMOTE(sampling_strategy=0.2, k_neighbors=5)\n",
    "tomek = TomekLinks(sampling_strategy='majority')\n",
    "\n",
    "# Create and evaluate the pipeline\n",
    "resampling_pipeline = ImbPipeline(steps=[('preprocessor', preprocessor),\n",
    "                              ('smote', smote),\n",
    "                              ('tomek', tomek)])"
   ]
  },
  {
   "cell_type": "code",
   "execution_count": null,
   "id": "53db9b60-2208-4fee-bc07-66b52377faec",
   "metadata": {},
   "outputs": [],
   "source": [
    "%%time\n",
    "X_resampled, y_resampled = resampling_pipeline.fit_transform(training_features, train_target)\n",
    "print(\"Size of resampled dataset:\", X_resampled.shape)\n",
    "print(\"Number of positive samples:\", y_resampled.sum())\n",
    "print(\"Number of negative samples:\", len(y_resampled) - y_resampled.sum())"
   ]
  },
  {
   "cell_type": "code",
   "execution_count": 52,
   "id": "0086a964-8bcc-45d2-bfbb-6f317d586e6c",
   "metadata": {},
   "outputs": [],
   "source": [
    "model = RandomForestClassifier(criterion='entropy')\n",
    "pipeline = ImbPipeline(steps=[('resample', resampling_pipeline),\n",
    "                              ('classifier', model)])"
   ]
  },
  {
   "cell_type": "code",
   "execution_count": null,
   "id": "409e3d3e-945b-4431-acc9-9821b93271dc",
   "metadata": {},
   "outputs": [],
   "source": [
    "pipeline.fit(X_train, y_train)\n",
    "y_pred = pipeline.predict(X_test)"
   ]
  },
  {
   "cell_type": "code",
   "execution_count": null,
   "id": "6382f23a-f0ca-47a1-b605-f2157e48cae8",
   "metadata": {},
   "outputs": [],
   "source": []
  },
  {
   "cell_type": "code",
   "execution_count": null,
   "id": "6e94647b-acf1-4923-8e3e-47019991d944",
   "metadata": {},
   "outputs": [],
   "source": []
  }
 ],
 "metadata": {
  "kernelspec": {
   "display_name": "Python 3",
   "language": "python",
   "name": "python3"
  },
  "language_info": {
   "codemirror_mode": {
    "name": "ipython",
    "version": 3
   },
   "file_extension": ".py",
   "mimetype": "text/x-python",
   "name": "python",
   "nbconvert_exporter": "python",
   "pygments_lexer": "ipython3",
   "version": "3.8.8"
  }
 },
 "nbformat": 4,
 "nbformat_minor": 5
}
