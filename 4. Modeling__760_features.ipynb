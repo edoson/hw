{
 "cells": [
  {
   "cell_type": "markdown",
   "id": "d37b69e3-67cd-4e3c-8b74-4616c2490f4a",
   "metadata": {},
   "source": [
    "# Final Modeling"
   ]
  },
  {
   "cell_type": "code",
   "execution_count": 1,
   "id": "7746a254-94a4-43f0-b4af-86521c77175d",
   "metadata": {
    "tags": []
   },
   "outputs": [],
   "source": [
    "import pandas as pd\n",
    "import numpy as np\n",
    "from sklearn.model_selection import train_test_split"
   ]
  },
  {
   "cell_type": "markdown",
   "id": "68182f6b-400c-4138-9382-2a04944be2c8",
   "metadata": {},
   "source": [
    "## Dataset craetion"
   ]
  },
  {
   "cell_type": "code",
   "execution_count": 2,
   "id": "712cde10-08d6-4f6e-bb8d-a18f05254396",
   "metadata": {
    "tags": []
   },
   "outputs": [
    {
     "name": "stdout",
     "output_type": "stream",
     "text": [
      "<class 'pandas.core.frame.DataFrame'>\n",
      "RangeIndex: 726288 entries, 0 to 726287\n",
      "Columns: 767 entries, HKTLMYY to TLJYWBE\n",
      "dtypes: float64(742), int64(21), object(4)\n",
      "memory usage: 4.2+ GB\n"
     ]
    }
   ],
   "source": [
    "df = pd.read_feather('removed_duplicated_columns.feather')\n",
    "df.info()"
   ]
  },
  {
   "cell_type": "code",
   "execution_count": 3,
   "id": "a3eaa0be-8e4f-4129-87d4-95187d017151",
   "metadata": {
    "tags": []
   },
   "outputs": [
    {
     "data": {
      "text/plain": [
       "TLJYWBE\n",
       "False    726224\n",
       "True         64\n",
       "Name: count, dtype: int64"
      ]
     },
     "execution_count": 3,
     "metadata": {},
     "output_type": "execute_result"
    }
   ],
   "source": [
    "target = 'TLJYWBE'\n",
    "df[target] = df[target].apply(lambda v: v >= 1e-5)\n",
    "df[target].value_counts()"
   ]
  },
  {
   "cell_type": "code",
   "execution_count": 4,
   "id": "af3247b9-5fed-46da-af30-ec089aa9ffba",
   "metadata": {
    "tags": []
   },
   "outputs": [],
   "source": [
    "features = [c for c in df.columns if c != target]\n",
    "training_features, test_features, train_target, test_target = train_test_split(df[features], df[target], test_size=0.3, stratify=df[target])"
   ]
  },
  {
   "cell_type": "code",
   "execution_count": 5,
   "id": "2d8f763c-e1ed-44e5-85d1-b2ed3eb0952b",
   "metadata": {
    "tags": []
   },
   "outputs": [
    {
     "name": "stdout",
     "output_type": "stream",
     "text": [
      "Training set shape: (508401, 766)\n",
      "Training set target shape: (508401,)\n",
      "Test set shape: (217887, 766)\n",
      "Training set target shape: (217887,)\n"
     ]
    }
   ],
   "source": [
    "print(f'Training set shape: {training_features.shape}')\n",
    "print(f'Training set target shape: {train_target.shape}')\n",
    "print(f'Test set shape: {test_features.shape}')\n",
    "print(f'Training set target shape: {test_target.shape}')"
   ]
  },
  {
   "cell_type": "code",
   "execution_count": 6,
   "id": "5d64d00c-c331-4482-a11d-685f2f4ad1ad",
   "metadata": {
    "tags": []
   },
   "outputs": [
    {
     "data": {
      "text/plain": [
       "TLJYWBE\n",
       "False    217868\n",
       "True         19\n",
       "Name: count, dtype: int64"
      ]
     },
     "execution_count": 6,
     "metadata": {},
     "output_type": "execute_result"
    }
   ],
   "source": [
    "test_target.value_counts()"
   ]
  },
  {
   "cell_type": "markdown",
   "id": "bd5a9c02-1801-4829-b3c9-ea4e43dd1acd",
   "metadata": {},
   "source": [
    "## Modeling"
   ]
  },
  {
   "cell_type": "code",
   "execution_count": 7,
   "id": "06d82279-13f3-4ba0-9e8f-ff572ad11747",
   "metadata": {
    "tags": []
   },
   "outputs": [],
   "source": [
    "import numpy as np\n",
    "from sklearn.compose import ColumnTransformer\n",
    "from sklearn.pipeline import Pipeline\n",
    "from sklearn.impute import SimpleImputer\n",
    "from sklearn.preprocessing import StandardScaler, OneHotEncoder\n",
    "from sklearn.linear_model import LogisticRegression\n",
    "from imblearn.ensemble import BalancedRandomForestClassifier\n",
    "from sklearn.model_selection import GridSearchCV, StratifiedKFold, RepeatedStratifiedKFold"
   ]
  },
  {
   "cell_type": "code",
   "execution_count": 8,
   "id": "db463ee4-2656-437f-a9b2-765c57b485b5",
   "metadata": {
    "tags": []
   },
   "outputs": [
    {
     "data": {
      "text/plain": [
       "float64    741\n",
       "int64       21\n",
       "object       4\n",
       "Name: count, dtype: int64"
      ]
     },
     "execution_count": 8,
     "metadata": {},
     "output_type": "execute_result"
    }
   ],
   "source": [
    "dtypes = training_features.dtypes\n",
    "dtypes.value_counts()"
   ]
  },
  {
   "cell_type": "code",
   "execution_count": 9,
   "id": "8f732df3-ad4f-43fd-a0a2-27c80c49e2a7",
   "metadata": {
    "tags": []
   },
   "outputs": [
    {
     "data": {
      "text/plain": [
       "(21, 741, 4)"
      ]
     },
     "execution_count": 9,
     "metadata": {},
     "output_type": "execute_result"
    }
   ],
   "source": [
    "int_features = dtypes[dtypes == 'int64'].index\n",
    "float_features = dtypes[dtypes == 'float64'].index\n",
    "cat_features = dtypes[dtypes == 'object'].index\n",
    "len(int_features), len(float_features), len(cat_features)"
   ]
  },
  {
   "cell_type": "code",
   "execution_count": 10,
   "id": "08c6cb39-da12-4740-a188-3845097249c1",
   "metadata": {
    "tags": []
   },
   "outputs": [],
   "source": [
    "numeric_transformer = Pipeline(steps=[\n",
    "    ('imputer', SimpleImputer(strategy='median')),\n",
    "    ('scaler', StandardScaler())\n",
    "])\n",
    "\n",
    "categorical_transformer = Pipeline(steps=[\n",
    "    ('imputer', SimpleImputer(strategy='constant', fill_value='missing')),\n",
    "    ('onehot', OneHotEncoder(handle_unknown='ignore'))\n",
    "])\n",
    "\n",
    "preprocessor = ColumnTransformer(\n",
    "    transformers=[\n",
    "        ('int', numeric_transformer, int_features),\n",
    "        ('float', numeric_transformer, float_features),\n",
    "        ('cat', categorical_transformer, cat_features)\n",
    "    ])\n",
    "\n",
    "pipeline = Pipeline(steps=[('preprocessor', preprocessor),\n",
    "                           ('classifier', 'passthrough')  \n",
    "                          ])"
   ]
  },
  {
   "cell_type": "markdown",
   "id": "4a9bde24-82f1-45fe-afeb-cdb9d61f9c97",
   "metadata": {},
   "source": [
    "## Balanced Random Forest"
   ]
  },
  {
   "cell_type": "code",
   "execution_count": 11,
   "id": "afe6e806-134e-4d90-ae17-102716c0e27b",
   "metadata": {
    "tags": []
   },
   "outputs": [],
   "source": [
    "param_grid = [\n",
    "    {\n",
    "        'classifier': [BalancedRandomForestClassifier(sampling_strategy='all', replacement=True)],\n",
    "        'classifier__max_depth': [None, 10, 20],\n",
    "        'classifier__n_estimators': [100, 150, 200],\n",
    "        'classifier__min_samples_leaf': [2, 4, 8],\n",
    "    }\n",
    "]"
   ]
  },
  {
   "cell_type": "code",
   "execution_count": 12,
   "id": "ef3cc0c8-eaf9-40cc-ae69-8630b5434213",
   "metadata": {
    "tags": []
   },
   "outputs": [],
   "source": [
    "from src.custom_metrics import precision_at_full_recall_scorer"
   ]
  },
  {
   "cell_type": "code",
   "execution_count": 13,
   "id": "71161214-8e8d-4096-9fb2-cc35a112b371",
   "metadata": {
    "tags": []
   },
   "outputs": [
    {
     "name": "stdout",
     "output_type": "stream",
     "text": [
      "CPU times: user 1min 46s, sys: 14.7 s, total: 2min\n",
      "Wall time: 2h 47min 14s\n"
     ]
    },
    {
     "data": {
      "text/html": [
       "<style>#sk-container-id-1 {color: black;}#sk-container-id-1 pre{padding: 0;}#sk-container-id-1 div.sk-toggleable {background-color: white;}#sk-container-id-1 label.sk-toggleable__label {cursor: pointer;display: block;width: 100%;margin-bottom: 0;padding: 0.3em;box-sizing: border-box;text-align: center;}#sk-container-id-1 label.sk-toggleable__label-arrow:before {content: \"▸\";float: left;margin-right: 0.25em;color: #696969;}#sk-container-id-1 label.sk-toggleable__label-arrow:hover:before {color: black;}#sk-container-id-1 div.sk-estimator:hover label.sk-toggleable__label-arrow:before {color: black;}#sk-container-id-1 div.sk-toggleable__content {max-height: 0;max-width: 0;overflow: hidden;text-align: left;background-color: #f0f8ff;}#sk-container-id-1 div.sk-toggleable__content pre {margin: 0.2em;color: black;border-radius: 0.25em;background-color: #f0f8ff;}#sk-container-id-1 input.sk-toggleable__control:checked~div.sk-toggleable__content {max-height: 200px;max-width: 100%;overflow: auto;}#sk-container-id-1 input.sk-toggleable__control:checked~label.sk-toggleable__label-arrow:before {content: \"▾\";}#sk-container-id-1 div.sk-estimator input.sk-toggleable__control:checked~label.sk-toggleable__label {background-color: #d4ebff;}#sk-container-id-1 div.sk-label input.sk-toggleable__control:checked~label.sk-toggleable__label {background-color: #d4ebff;}#sk-container-id-1 input.sk-hidden--visually {border: 0;clip: rect(1px 1px 1px 1px);clip: rect(1px, 1px, 1px, 1px);height: 1px;margin: -1px;overflow: hidden;padding: 0;position: absolute;width: 1px;}#sk-container-id-1 div.sk-estimator {font-family: monospace;background-color: #f0f8ff;border: 1px dotted black;border-radius: 0.25em;box-sizing: border-box;margin-bottom: 0.5em;}#sk-container-id-1 div.sk-estimator:hover {background-color: #d4ebff;}#sk-container-id-1 div.sk-parallel-item::after {content: \"\";width: 100%;border-bottom: 1px solid gray;flex-grow: 1;}#sk-container-id-1 div.sk-label:hover label.sk-toggleable__label {background-color: #d4ebff;}#sk-container-id-1 div.sk-serial::before {content: \"\";position: absolute;border-left: 1px solid gray;box-sizing: border-box;top: 0;bottom: 0;left: 50%;z-index: 0;}#sk-container-id-1 div.sk-serial {display: flex;flex-direction: column;align-items: center;background-color: white;padding-right: 0.2em;padding-left: 0.2em;position: relative;}#sk-container-id-1 div.sk-item {position: relative;z-index: 1;}#sk-container-id-1 div.sk-parallel {display: flex;align-items: stretch;justify-content: center;background-color: white;position: relative;}#sk-container-id-1 div.sk-item::before, #sk-container-id-1 div.sk-parallel-item::before {content: \"\";position: absolute;border-left: 1px solid gray;box-sizing: border-box;top: 0;bottom: 0;left: 50%;z-index: -1;}#sk-container-id-1 div.sk-parallel-item {display: flex;flex-direction: column;z-index: 1;position: relative;background-color: white;}#sk-container-id-1 div.sk-parallel-item:first-child::after {align-self: flex-end;width: 50%;}#sk-container-id-1 div.sk-parallel-item:last-child::after {align-self: flex-start;width: 50%;}#sk-container-id-1 div.sk-parallel-item:only-child::after {width: 0;}#sk-container-id-1 div.sk-dashed-wrapped {border: 1px dashed gray;margin: 0 0.4em 0.5em 0.4em;box-sizing: border-box;padding-bottom: 0.4em;background-color: white;}#sk-container-id-1 div.sk-label label {font-family: monospace;font-weight: bold;display: inline-block;line-height: 1.2em;}#sk-container-id-1 div.sk-label-container {text-align: center;}#sk-container-id-1 div.sk-container {/* jupyter's `normalize.less` sets `[hidden] { display: none; }` but bootstrap.min.css set `[hidden] { display: none !important; }` so we also need the `!important` here to be able to override the default hidden behavior on the sphinx rendered scikit-learn.org. See: https://github.com/scikit-learn/scikit-learn/issues/21755 */display: inline-block !important;position: relative;}#sk-container-id-1 div.sk-text-repr-fallback {display: none;}</style><div id=\"sk-container-id-1\" class=\"sk-top-container\"><div class=\"sk-text-repr-fallback\"><pre>GridSearchCV(cv=RepeatedStratifiedKFold(n_repeats=2, n_splits=5, random_state=1),\n",
       "             estimator=Pipeline(steps=[(&#x27;preprocessor&#x27;,\n",
       "                                        ColumnTransformer(transformers=[(&#x27;int&#x27;,\n",
       "                                                                         Pipeline(steps=[(&#x27;imputer&#x27;,\n",
       "                                                                                          SimpleImputer(strategy=&#x27;median&#x27;)),\n",
       "                                                                                         (&#x27;scaler&#x27;,\n",
       "                                                                                          StandardScaler())]),\n",
       "                                                                         Index([&#x27;HKTLMYY&#x27;, &#x27;JEKQIKE&#x27;, &#x27;MUEKGHC&#x27;, &#x27;HVTWAZN&#x27;, &#x27;SBUETBP&#x27;, &#x27;WSRRROM&#x27;,\n",
       "       &#x27;EGWONKF&#x27;, &#x27;XEUMIIT&#x27;, &#x27;JYNEQWD&#x27;, &#x27;X...\n",
       "                                       (&#x27;classifier&#x27;, &#x27;passthrough&#x27;)]),\n",
       "             n_jobs=2,\n",
       "             param_grid=[{&#x27;classifier&#x27;: [BalancedRandomForestClassifier(max_depth=10,\n",
       "                                                                        min_samples_leaf=4,\n",
       "                                                                        replacement=True,\n",
       "                                                                        sampling_strategy=&#x27;all&#x27;)],\n",
       "                          &#x27;classifier__max_depth&#x27;: [None, 10, 20],\n",
       "                          &#x27;classifier__min_samples_leaf&#x27;: [2, 4, 8],\n",
       "                          &#x27;classifier__n_estimators&#x27;: [100, 150, 200]}],\n",
       "             scoring=make_scorer(precision_at_full_recall, needs_proba=True))</pre><b>In a Jupyter environment, please rerun this cell to show the HTML representation or trust the notebook. <br />On GitHub, the HTML representation is unable to render, please try loading this page with nbviewer.org.</b></div><div class=\"sk-container\" hidden><div class=\"sk-item sk-dashed-wrapped\"><div class=\"sk-label-container\"><div class=\"sk-label sk-toggleable\"><input class=\"sk-toggleable__control sk-hidden--visually\" id=\"sk-estimator-id-1\" type=\"checkbox\" ><label for=\"sk-estimator-id-1\" class=\"sk-toggleable__label sk-toggleable__label-arrow\">GridSearchCV</label><div class=\"sk-toggleable__content\"><pre>GridSearchCV(cv=RepeatedStratifiedKFold(n_repeats=2, n_splits=5, random_state=1),\n",
       "             estimator=Pipeline(steps=[(&#x27;preprocessor&#x27;,\n",
       "                                        ColumnTransformer(transformers=[(&#x27;int&#x27;,\n",
       "                                                                         Pipeline(steps=[(&#x27;imputer&#x27;,\n",
       "                                                                                          SimpleImputer(strategy=&#x27;median&#x27;)),\n",
       "                                                                                         (&#x27;scaler&#x27;,\n",
       "                                                                                          StandardScaler())]),\n",
       "                                                                         Index([&#x27;HKTLMYY&#x27;, &#x27;JEKQIKE&#x27;, &#x27;MUEKGHC&#x27;, &#x27;HVTWAZN&#x27;, &#x27;SBUETBP&#x27;, &#x27;WSRRROM&#x27;,\n",
       "       &#x27;EGWONKF&#x27;, &#x27;XEUMIIT&#x27;, &#x27;JYNEQWD&#x27;, &#x27;X...\n",
       "                                       (&#x27;classifier&#x27;, &#x27;passthrough&#x27;)]),\n",
       "             n_jobs=2,\n",
       "             param_grid=[{&#x27;classifier&#x27;: [BalancedRandomForestClassifier(max_depth=10,\n",
       "                                                                        min_samples_leaf=4,\n",
       "                                                                        replacement=True,\n",
       "                                                                        sampling_strategy=&#x27;all&#x27;)],\n",
       "                          &#x27;classifier__max_depth&#x27;: [None, 10, 20],\n",
       "                          &#x27;classifier__min_samples_leaf&#x27;: [2, 4, 8],\n",
       "                          &#x27;classifier__n_estimators&#x27;: [100, 150, 200]}],\n",
       "             scoring=make_scorer(precision_at_full_recall, needs_proba=True))</pre></div></div></div><div class=\"sk-parallel\"><div class=\"sk-parallel-item\"><div class=\"sk-item\"><div class=\"sk-label-container\"><div class=\"sk-label sk-toggleable\"><input class=\"sk-toggleable__control sk-hidden--visually\" id=\"sk-estimator-id-2\" type=\"checkbox\" ><label for=\"sk-estimator-id-2\" class=\"sk-toggleable__label sk-toggleable__label-arrow\">estimator: Pipeline</label><div class=\"sk-toggleable__content\"><pre>Pipeline(steps=[(&#x27;preprocessor&#x27;,\n",
       "                 ColumnTransformer(transformers=[(&#x27;int&#x27;,\n",
       "                                                  Pipeline(steps=[(&#x27;imputer&#x27;,\n",
       "                                                                   SimpleImputer(strategy=&#x27;median&#x27;)),\n",
       "                                                                  (&#x27;scaler&#x27;,\n",
       "                                                                   StandardScaler())]),\n",
       "                                                  Index([&#x27;HKTLMYY&#x27;, &#x27;JEKQIKE&#x27;, &#x27;MUEKGHC&#x27;, &#x27;HVTWAZN&#x27;, &#x27;SBUETBP&#x27;, &#x27;WSRRROM&#x27;,\n",
       "       &#x27;EGWONKF&#x27;, &#x27;XEUMIIT&#x27;, &#x27;JYNEQWD&#x27;, &#x27;XJUIXIR&#x27;, &#x27;WLULXFN&#x27;, &#x27;AQYGYOE&#x27;,\n",
       "       &#x27;YZRVJSE&#x27;, &#x27;EULURHL&#x27;, &#x27;WCZJBOX&#x27;, &#x27;PIACHYE&#x27;, &#x27;LCAOHWW&#x27;, &#x27;PATWSZC&#x27;,\n",
       "       &#x27;...\n",
       "       &#x27;AHVIXII&#x27;, &#x27;PSXOLCG&#x27;, &#x27;NPVZRXF&#x27;, &#x27;RGDZIYI&#x27;, &#x27;UWFUPRN&#x27;, &#x27;QGKAEUF&#x27;,\n",
       "       &#x27;GQHLWWM&#x27;, &#x27;SHBNDLU&#x27;, &#x27;IHCEXCN&#x27;, &#x27;YEZPLBM&#x27;],\n",
       "      dtype=&#x27;object&#x27;, length=741)),\n",
       "                                                 (&#x27;cat&#x27;,\n",
       "                                                  Pipeline(steps=[(&#x27;imputer&#x27;,\n",
       "                                                                   SimpleImputer(fill_value=&#x27;missing&#x27;,\n",
       "                                                                                 strategy=&#x27;constant&#x27;)),\n",
       "                                                                  (&#x27;onehot&#x27;,\n",
       "                                                                   OneHotEncoder(handle_unknown=&#x27;ignore&#x27;))]),\n",
       "                                                  Index([&#x27;TQSLCKT&#x27;, &#x27;CJICMVV&#x27;, &#x27;OYBONYX&#x27;, &#x27;TERIJOV&#x27;], dtype=&#x27;object&#x27;))])),\n",
       "                (&#x27;classifier&#x27;, &#x27;passthrough&#x27;)])</pre></div></div></div><div class=\"sk-serial\"><div class=\"sk-item\"><div class=\"sk-serial\"><div class=\"sk-item sk-dashed-wrapped\"><div class=\"sk-label-container\"><div class=\"sk-label sk-toggleable\"><input class=\"sk-toggleable__control sk-hidden--visually\" id=\"sk-estimator-id-3\" type=\"checkbox\" ><label for=\"sk-estimator-id-3\" class=\"sk-toggleable__label sk-toggleable__label-arrow\">preprocessor: ColumnTransformer</label><div class=\"sk-toggleable__content\"><pre>ColumnTransformer(transformers=[(&#x27;int&#x27;,\n",
       "                                 Pipeline(steps=[(&#x27;imputer&#x27;,\n",
       "                                                  SimpleImputer(strategy=&#x27;median&#x27;)),\n",
       "                                                 (&#x27;scaler&#x27;, StandardScaler())]),\n",
       "                                 Index([&#x27;HKTLMYY&#x27;, &#x27;JEKQIKE&#x27;, &#x27;MUEKGHC&#x27;, &#x27;HVTWAZN&#x27;, &#x27;SBUETBP&#x27;, &#x27;WSRRROM&#x27;,\n",
       "       &#x27;EGWONKF&#x27;, &#x27;XEUMIIT&#x27;, &#x27;JYNEQWD&#x27;, &#x27;XJUIXIR&#x27;, &#x27;WLULXFN&#x27;, &#x27;AQYGYOE&#x27;,\n",
       "       &#x27;YZRVJSE&#x27;, &#x27;EULURHL&#x27;, &#x27;WCZJBOX&#x27;, &#x27;PIACHYE&#x27;, &#x27;LCAOHWW&#x27;, &#x27;PATWSZC&#x27;,\n",
       "       &#x27;FPBFOEB&#x27;, &#x27;XIRNYHK&#x27;, &#x27;HBQPQTD&#x27;],\n",
       "      dt...\n",
       "       &#x27;TDMCRGU&#x27;, &#x27;HNDGNRG&#x27;, &#x27;HFHITLP&#x27;, &#x27;MSVWNFK&#x27;,\n",
       "       ...\n",
       "       &#x27;AHVIXII&#x27;, &#x27;PSXOLCG&#x27;, &#x27;NPVZRXF&#x27;, &#x27;RGDZIYI&#x27;, &#x27;UWFUPRN&#x27;, &#x27;QGKAEUF&#x27;,\n",
       "       &#x27;GQHLWWM&#x27;, &#x27;SHBNDLU&#x27;, &#x27;IHCEXCN&#x27;, &#x27;YEZPLBM&#x27;],\n",
       "      dtype=&#x27;object&#x27;, length=741)),\n",
       "                                (&#x27;cat&#x27;,\n",
       "                                 Pipeline(steps=[(&#x27;imputer&#x27;,\n",
       "                                                  SimpleImputer(fill_value=&#x27;missing&#x27;,\n",
       "                                                                strategy=&#x27;constant&#x27;)),\n",
       "                                                 (&#x27;onehot&#x27;,\n",
       "                                                  OneHotEncoder(handle_unknown=&#x27;ignore&#x27;))]),\n",
       "                                 Index([&#x27;TQSLCKT&#x27;, &#x27;CJICMVV&#x27;, &#x27;OYBONYX&#x27;, &#x27;TERIJOV&#x27;], dtype=&#x27;object&#x27;))])</pre></div></div></div><div class=\"sk-parallel\"><div class=\"sk-parallel-item\"><div class=\"sk-item\"><div class=\"sk-label-container\"><div class=\"sk-label sk-toggleable\"><input class=\"sk-toggleable__control sk-hidden--visually\" id=\"sk-estimator-id-4\" type=\"checkbox\" ><label for=\"sk-estimator-id-4\" class=\"sk-toggleable__label sk-toggleable__label-arrow\">int</label><div class=\"sk-toggleable__content\"><pre>Index([&#x27;HKTLMYY&#x27;, &#x27;JEKQIKE&#x27;, &#x27;MUEKGHC&#x27;, &#x27;HVTWAZN&#x27;, &#x27;SBUETBP&#x27;, &#x27;WSRRROM&#x27;,\n",
       "       &#x27;EGWONKF&#x27;, &#x27;XEUMIIT&#x27;, &#x27;JYNEQWD&#x27;, &#x27;XJUIXIR&#x27;, &#x27;WLULXFN&#x27;, &#x27;AQYGYOE&#x27;,\n",
       "       &#x27;YZRVJSE&#x27;, &#x27;EULURHL&#x27;, &#x27;WCZJBOX&#x27;, &#x27;PIACHYE&#x27;, &#x27;LCAOHWW&#x27;, &#x27;PATWSZC&#x27;,\n",
       "       &#x27;FPBFOEB&#x27;, &#x27;XIRNYHK&#x27;, &#x27;HBQPQTD&#x27;],\n",
       "      dtype=&#x27;object&#x27;)</pre></div></div></div><div class=\"sk-serial\"><div class=\"sk-item\"><div class=\"sk-serial\"><div class=\"sk-item\"><div class=\"sk-estimator sk-toggleable\"><input class=\"sk-toggleable__control sk-hidden--visually\" id=\"sk-estimator-id-5\" type=\"checkbox\" ><label for=\"sk-estimator-id-5\" class=\"sk-toggleable__label sk-toggleable__label-arrow\">SimpleImputer</label><div class=\"sk-toggleable__content\"><pre>SimpleImputer(strategy=&#x27;median&#x27;)</pre></div></div></div><div class=\"sk-item\"><div class=\"sk-estimator sk-toggleable\"><input class=\"sk-toggleable__control sk-hidden--visually\" id=\"sk-estimator-id-6\" type=\"checkbox\" ><label for=\"sk-estimator-id-6\" class=\"sk-toggleable__label sk-toggleable__label-arrow\">StandardScaler</label><div class=\"sk-toggleable__content\"><pre>StandardScaler()</pre></div></div></div></div></div></div></div></div><div class=\"sk-parallel-item\"><div class=\"sk-item\"><div class=\"sk-label-container\"><div class=\"sk-label sk-toggleable\"><input class=\"sk-toggleable__control sk-hidden--visually\" id=\"sk-estimator-id-7\" type=\"checkbox\" ><label for=\"sk-estimator-id-7\" class=\"sk-toggleable__label sk-toggleable__label-arrow\">float</label><div class=\"sk-toggleable__content\"><pre>Index([&#x27;IJEXXXL&#x27;, &#x27;KVNLYTZ&#x27;, &#x27;ADOIOYN&#x27;, &#x27;GPCKISJ&#x27;, &#x27;BFYTKKS&#x27;, &#x27;HNJMSWN&#x27;,\n",
       "       &#x27;TDMCRGU&#x27;, &#x27;HNDGNRG&#x27;, &#x27;HFHITLP&#x27;, &#x27;MSVWNFK&#x27;,\n",
       "       ...\n",
       "       &#x27;AHVIXII&#x27;, &#x27;PSXOLCG&#x27;, &#x27;NPVZRXF&#x27;, &#x27;RGDZIYI&#x27;, &#x27;UWFUPRN&#x27;, &#x27;QGKAEUF&#x27;,\n",
       "       &#x27;GQHLWWM&#x27;, &#x27;SHBNDLU&#x27;, &#x27;IHCEXCN&#x27;, &#x27;YEZPLBM&#x27;],\n",
       "      dtype=&#x27;object&#x27;, length=741)</pre></div></div></div><div class=\"sk-serial\"><div class=\"sk-item\"><div class=\"sk-serial\"><div class=\"sk-item\"><div class=\"sk-estimator sk-toggleable\"><input class=\"sk-toggleable__control sk-hidden--visually\" id=\"sk-estimator-id-8\" type=\"checkbox\" ><label for=\"sk-estimator-id-8\" class=\"sk-toggleable__label sk-toggleable__label-arrow\">SimpleImputer</label><div class=\"sk-toggleable__content\"><pre>SimpleImputer(strategy=&#x27;median&#x27;)</pre></div></div></div><div class=\"sk-item\"><div class=\"sk-estimator sk-toggleable\"><input class=\"sk-toggleable__control sk-hidden--visually\" id=\"sk-estimator-id-9\" type=\"checkbox\" ><label for=\"sk-estimator-id-9\" class=\"sk-toggleable__label sk-toggleable__label-arrow\">StandardScaler</label><div class=\"sk-toggleable__content\"><pre>StandardScaler()</pre></div></div></div></div></div></div></div></div><div class=\"sk-parallel-item\"><div class=\"sk-item\"><div class=\"sk-label-container\"><div class=\"sk-label sk-toggleable\"><input class=\"sk-toggleable__control sk-hidden--visually\" id=\"sk-estimator-id-10\" type=\"checkbox\" ><label for=\"sk-estimator-id-10\" class=\"sk-toggleable__label sk-toggleable__label-arrow\">cat</label><div class=\"sk-toggleable__content\"><pre>Index([&#x27;TQSLCKT&#x27;, &#x27;CJICMVV&#x27;, &#x27;OYBONYX&#x27;, &#x27;TERIJOV&#x27;], dtype=&#x27;object&#x27;)</pre></div></div></div><div class=\"sk-serial\"><div class=\"sk-item\"><div class=\"sk-serial\"><div class=\"sk-item\"><div class=\"sk-estimator sk-toggleable\"><input class=\"sk-toggleable__control sk-hidden--visually\" id=\"sk-estimator-id-11\" type=\"checkbox\" ><label for=\"sk-estimator-id-11\" class=\"sk-toggleable__label sk-toggleable__label-arrow\">SimpleImputer</label><div class=\"sk-toggleable__content\"><pre>SimpleImputer(fill_value=&#x27;missing&#x27;, strategy=&#x27;constant&#x27;)</pre></div></div></div><div class=\"sk-item\"><div class=\"sk-estimator sk-toggleable\"><input class=\"sk-toggleable__control sk-hidden--visually\" id=\"sk-estimator-id-12\" type=\"checkbox\" ><label for=\"sk-estimator-id-12\" class=\"sk-toggleable__label sk-toggleable__label-arrow\">OneHotEncoder</label><div class=\"sk-toggleable__content\"><pre>OneHotEncoder(handle_unknown=&#x27;ignore&#x27;)</pre></div></div></div></div></div></div></div></div></div></div><div class=\"sk-item\"><div class=\"sk-estimator sk-toggleable\"><input class=\"sk-toggleable__control sk-hidden--visually\" id=\"sk-estimator-id-13\" type=\"checkbox\" ><label for=\"sk-estimator-id-13\" class=\"sk-toggleable__label sk-toggleable__label-arrow\">passthrough</label><div class=\"sk-toggleable__content\"><pre>passthrough</pre></div></div></div></div></div></div></div></div></div></div></div></div>"
      ],
      "text/plain": [
       "GridSearchCV(cv=RepeatedStratifiedKFold(n_repeats=2, n_splits=5, random_state=1),\n",
       "             estimator=Pipeline(steps=[('preprocessor',\n",
       "                                        ColumnTransformer(transformers=[('int',\n",
       "                                                                         Pipeline(steps=[('imputer',\n",
       "                                                                                          SimpleImputer(strategy='median')),\n",
       "                                                                                         ('scaler',\n",
       "                                                                                          StandardScaler())]),\n",
       "                                                                         Index(['HKTLMYY', 'JEKQIKE', 'MUEKGHC', 'HVTWAZN', 'SBUETBP', 'WSRRROM',\n",
       "       'EGWONKF', 'XEUMIIT', 'JYNEQWD', 'X...\n",
       "                                       ('classifier', 'passthrough')]),\n",
       "             n_jobs=2,\n",
       "             param_grid=[{'classifier': [BalancedRandomForestClassifier(max_depth=10,\n",
       "                                                                        min_samples_leaf=4,\n",
       "                                                                        replacement=True,\n",
       "                                                                        sampling_strategy='all')],\n",
       "                          'classifier__max_depth': [None, 10, 20],\n",
       "                          'classifier__min_samples_leaf': [2, 4, 8],\n",
       "                          'classifier__n_estimators': [100, 150, 200]}],\n",
       "             scoring=make_scorer(precision_at_full_recall, needs_proba=True))"
      ]
     },
     "execution_count": 13,
     "metadata": {},
     "output_type": "execute_result"
    }
   ],
   "source": [
    "%%time\n",
    "cv = RepeatedStratifiedKFold(n_splits=5, n_repeats=2, random_state=1)\n",
    "search = GridSearchCV(pipeline, param_grid, cv=cv, scoring=precision_at_full_recall_scorer, n_jobs=2)\n",
    "search.fit(training_features, train_target)"
   ]
  },
  {
   "cell_type": "code",
   "execution_count": 39,
   "id": "0db3f52e-f8aa-4a23-96ee-af49355a91fe",
   "metadata": {
    "tags": []
   },
   "outputs": [
    {
     "name": "stdout",
     "output_type": "stream",
     "text": [
      "Best parameter (CV score=0.00070):\n",
      "{'classifier': BalancedRandomForestClassifier(max_depth=10, min_samples_leaf=4,\n",
      "                               replacement=True, sampling_strategy='all'), 'classifier__max_depth': 10, 'classifier__min_samples_leaf': 4, 'classifier__n_estimators': 100}\n"
     ]
    }
   ],
   "source": [
    "print(\"Best parameter (CV score=%0.5f):\" % search.best_score_)\n",
    "print(search.best_params_)"
   ]
  },
  {
   "cell_type": "code",
   "execution_count": 15,
   "id": "3a7b2bfc-12a8-43b3-bb21-dce8afa215c6",
   "metadata": {
    "tags": []
   },
   "outputs": [
    {
     "data": {
      "text/html": [
       "<style>#sk-container-id-2 {color: black;}#sk-container-id-2 pre{padding: 0;}#sk-container-id-2 div.sk-toggleable {background-color: white;}#sk-container-id-2 label.sk-toggleable__label {cursor: pointer;display: block;width: 100%;margin-bottom: 0;padding: 0.3em;box-sizing: border-box;text-align: center;}#sk-container-id-2 label.sk-toggleable__label-arrow:before {content: \"▸\";float: left;margin-right: 0.25em;color: #696969;}#sk-container-id-2 label.sk-toggleable__label-arrow:hover:before {color: black;}#sk-container-id-2 div.sk-estimator:hover label.sk-toggleable__label-arrow:before {color: black;}#sk-container-id-2 div.sk-toggleable__content {max-height: 0;max-width: 0;overflow: hidden;text-align: left;background-color: #f0f8ff;}#sk-container-id-2 div.sk-toggleable__content pre {margin: 0.2em;color: black;border-radius: 0.25em;background-color: #f0f8ff;}#sk-container-id-2 input.sk-toggleable__control:checked~div.sk-toggleable__content {max-height: 200px;max-width: 100%;overflow: auto;}#sk-container-id-2 input.sk-toggleable__control:checked~label.sk-toggleable__label-arrow:before {content: \"▾\";}#sk-container-id-2 div.sk-estimator input.sk-toggleable__control:checked~label.sk-toggleable__label {background-color: #d4ebff;}#sk-container-id-2 div.sk-label input.sk-toggleable__control:checked~label.sk-toggleable__label {background-color: #d4ebff;}#sk-container-id-2 input.sk-hidden--visually {border: 0;clip: rect(1px 1px 1px 1px);clip: rect(1px, 1px, 1px, 1px);height: 1px;margin: -1px;overflow: hidden;padding: 0;position: absolute;width: 1px;}#sk-container-id-2 div.sk-estimator {font-family: monospace;background-color: #f0f8ff;border: 1px dotted black;border-radius: 0.25em;box-sizing: border-box;margin-bottom: 0.5em;}#sk-container-id-2 div.sk-estimator:hover {background-color: #d4ebff;}#sk-container-id-2 div.sk-parallel-item::after {content: \"\";width: 100%;border-bottom: 1px solid gray;flex-grow: 1;}#sk-container-id-2 div.sk-label:hover label.sk-toggleable__label {background-color: #d4ebff;}#sk-container-id-2 div.sk-serial::before {content: \"\";position: absolute;border-left: 1px solid gray;box-sizing: border-box;top: 0;bottom: 0;left: 50%;z-index: 0;}#sk-container-id-2 div.sk-serial {display: flex;flex-direction: column;align-items: center;background-color: white;padding-right: 0.2em;padding-left: 0.2em;position: relative;}#sk-container-id-2 div.sk-item {position: relative;z-index: 1;}#sk-container-id-2 div.sk-parallel {display: flex;align-items: stretch;justify-content: center;background-color: white;position: relative;}#sk-container-id-2 div.sk-item::before, #sk-container-id-2 div.sk-parallel-item::before {content: \"\";position: absolute;border-left: 1px solid gray;box-sizing: border-box;top: 0;bottom: 0;left: 50%;z-index: -1;}#sk-container-id-2 div.sk-parallel-item {display: flex;flex-direction: column;z-index: 1;position: relative;background-color: white;}#sk-container-id-2 div.sk-parallel-item:first-child::after {align-self: flex-end;width: 50%;}#sk-container-id-2 div.sk-parallel-item:last-child::after {align-self: flex-start;width: 50%;}#sk-container-id-2 div.sk-parallel-item:only-child::after {width: 0;}#sk-container-id-2 div.sk-dashed-wrapped {border: 1px dashed gray;margin: 0 0.4em 0.5em 0.4em;box-sizing: border-box;padding-bottom: 0.4em;background-color: white;}#sk-container-id-2 div.sk-label label {font-family: monospace;font-weight: bold;display: inline-block;line-height: 1.2em;}#sk-container-id-2 div.sk-label-container {text-align: center;}#sk-container-id-2 div.sk-container {/* jupyter's `normalize.less` sets `[hidden] { display: none; }` but bootstrap.min.css set `[hidden] { display: none !important; }` so we also need the `!important` here to be able to override the default hidden behavior on the sphinx rendered scikit-learn.org. See: https://github.com/scikit-learn/scikit-learn/issues/21755 */display: inline-block !important;position: relative;}#sk-container-id-2 div.sk-text-repr-fallback {display: none;}</style><div id=\"sk-container-id-2\" class=\"sk-top-container\"><div class=\"sk-text-repr-fallback\"><pre>Pipeline(steps=[(&#x27;preprocessor&#x27;,\n",
       "                 ColumnTransformer(transformers=[(&#x27;int&#x27;,\n",
       "                                                  Pipeline(steps=[(&#x27;imputer&#x27;,\n",
       "                                                                   SimpleImputer(strategy=&#x27;median&#x27;)),\n",
       "                                                                  (&#x27;scaler&#x27;,\n",
       "                                                                   StandardScaler())]),\n",
       "                                                  Index([&#x27;HKTLMYY&#x27;, &#x27;JEKQIKE&#x27;, &#x27;MUEKGHC&#x27;, &#x27;HVTWAZN&#x27;, &#x27;SBUETBP&#x27;, &#x27;WSRRROM&#x27;,\n",
       "       &#x27;EGWONKF&#x27;, &#x27;XEUMIIT&#x27;, &#x27;JYNEQWD&#x27;, &#x27;XJUIXIR&#x27;, &#x27;WLULXFN&#x27;, &#x27;AQYGYOE&#x27;,\n",
       "       &#x27;YZRVJSE&#x27;, &#x27;EULURHL&#x27;, &#x27;WCZJBOX&#x27;, &#x27;PIACHYE&#x27;, &#x27;LCAOHWW&#x27;, &#x27;PATWSZC&#x27;,\n",
       "       &#x27;...\n",
       "      dtype=&#x27;object&#x27;, length=741)),\n",
       "                                                 (&#x27;cat&#x27;,\n",
       "                                                  Pipeline(steps=[(&#x27;imputer&#x27;,\n",
       "                                                                   SimpleImputer(fill_value=&#x27;missing&#x27;,\n",
       "                                                                                 strategy=&#x27;constant&#x27;)),\n",
       "                                                                  (&#x27;onehot&#x27;,\n",
       "                                                                   OneHotEncoder(handle_unknown=&#x27;ignore&#x27;))]),\n",
       "                                                  Index([&#x27;TQSLCKT&#x27;, &#x27;CJICMVV&#x27;, &#x27;OYBONYX&#x27;, &#x27;TERIJOV&#x27;], dtype=&#x27;object&#x27;))])),\n",
       "                (&#x27;classifier&#x27;,\n",
       "                 BalancedRandomForestClassifier(max_depth=10,\n",
       "                                                min_samples_leaf=4,\n",
       "                                                replacement=True,\n",
       "                                                sampling_strategy=&#x27;all&#x27;))])</pre><b>In a Jupyter environment, please rerun this cell to show the HTML representation or trust the notebook. <br />On GitHub, the HTML representation is unable to render, please try loading this page with nbviewer.org.</b></div><div class=\"sk-container\" hidden><div class=\"sk-item sk-dashed-wrapped\"><div class=\"sk-label-container\"><div class=\"sk-label sk-toggleable\"><input class=\"sk-toggleable__control sk-hidden--visually\" id=\"sk-estimator-id-14\" type=\"checkbox\" ><label for=\"sk-estimator-id-14\" class=\"sk-toggleable__label sk-toggleable__label-arrow\">Pipeline</label><div class=\"sk-toggleable__content\"><pre>Pipeline(steps=[(&#x27;preprocessor&#x27;,\n",
       "                 ColumnTransformer(transformers=[(&#x27;int&#x27;,\n",
       "                                                  Pipeline(steps=[(&#x27;imputer&#x27;,\n",
       "                                                                   SimpleImputer(strategy=&#x27;median&#x27;)),\n",
       "                                                                  (&#x27;scaler&#x27;,\n",
       "                                                                   StandardScaler())]),\n",
       "                                                  Index([&#x27;HKTLMYY&#x27;, &#x27;JEKQIKE&#x27;, &#x27;MUEKGHC&#x27;, &#x27;HVTWAZN&#x27;, &#x27;SBUETBP&#x27;, &#x27;WSRRROM&#x27;,\n",
       "       &#x27;EGWONKF&#x27;, &#x27;XEUMIIT&#x27;, &#x27;JYNEQWD&#x27;, &#x27;XJUIXIR&#x27;, &#x27;WLULXFN&#x27;, &#x27;AQYGYOE&#x27;,\n",
       "       &#x27;YZRVJSE&#x27;, &#x27;EULURHL&#x27;, &#x27;WCZJBOX&#x27;, &#x27;PIACHYE&#x27;, &#x27;LCAOHWW&#x27;, &#x27;PATWSZC&#x27;,\n",
       "       &#x27;...\n",
       "      dtype=&#x27;object&#x27;, length=741)),\n",
       "                                                 (&#x27;cat&#x27;,\n",
       "                                                  Pipeline(steps=[(&#x27;imputer&#x27;,\n",
       "                                                                   SimpleImputer(fill_value=&#x27;missing&#x27;,\n",
       "                                                                                 strategy=&#x27;constant&#x27;)),\n",
       "                                                                  (&#x27;onehot&#x27;,\n",
       "                                                                   OneHotEncoder(handle_unknown=&#x27;ignore&#x27;))]),\n",
       "                                                  Index([&#x27;TQSLCKT&#x27;, &#x27;CJICMVV&#x27;, &#x27;OYBONYX&#x27;, &#x27;TERIJOV&#x27;], dtype=&#x27;object&#x27;))])),\n",
       "                (&#x27;classifier&#x27;,\n",
       "                 BalancedRandomForestClassifier(max_depth=10,\n",
       "                                                min_samples_leaf=4,\n",
       "                                                replacement=True,\n",
       "                                                sampling_strategy=&#x27;all&#x27;))])</pre></div></div></div><div class=\"sk-serial\"><div class=\"sk-item sk-dashed-wrapped\"><div class=\"sk-label-container\"><div class=\"sk-label sk-toggleable\"><input class=\"sk-toggleable__control sk-hidden--visually\" id=\"sk-estimator-id-15\" type=\"checkbox\" ><label for=\"sk-estimator-id-15\" class=\"sk-toggleable__label sk-toggleable__label-arrow\">preprocessor: ColumnTransformer</label><div class=\"sk-toggleable__content\"><pre>ColumnTransformer(transformers=[(&#x27;int&#x27;,\n",
       "                                 Pipeline(steps=[(&#x27;imputer&#x27;,\n",
       "                                                  SimpleImputer(strategy=&#x27;median&#x27;)),\n",
       "                                                 (&#x27;scaler&#x27;, StandardScaler())]),\n",
       "                                 Index([&#x27;HKTLMYY&#x27;, &#x27;JEKQIKE&#x27;, &#x27;MUEKGHC&#x27;, &#x27;HVTWAZN&#x27;, &#x27;SBUETBP&#x27;, &#x27;WSRRROM&#x27;,\n",
       "       &#x27;EGWONKF&#x27;, &#x27;XEUMIIT&#x27;, &#x27;JYNEQWD&#x27;, &#x27;XJUIXIR&#x27;, &#x27;WLULXFN&#x27;, &#x27;AQYGYOE&#x27;,\n",
       "       &#x27;YZRVJSE&#x27;, &#x27;EULURHL&#x27;, &#x27;WCZJBOX&#x27;, &#x27;PIACHYE&#x27;, &#x27;LCAOHWW&#x27;, &#x27;PATWSZC&#x27;,\n",
       "       &#x27;FPBFOEB&#x27;, &#x27;XIRNYHK&#x27;, &#x27;HBQPQTD&#x27;],\n",
       "      dt...\n",
       "       &#x27;TDMCRGU&#x27;, &#x27;HNDGNRG&#x27;, &#x27;HFHITLP&#x27;, &#x27;MSVWNFK&#x27;,\n",
       "       ...\n",
       "       &#x27;AHVIXII&#x27;, &#x27;PSXOLCG&#x27;, &#x27;NPVZRXF&#x27;, &#x27;RGDZIYI&#x27;, &#x27;UWFUPRN&#x27;, &#x27;QGKAEUF&#x27;,\n",
       "       &#x27;GQHLWWM&#x27;, &#x27;SHBNDLU&#x27;, &#x27;IHCEXCN&#x27;, &#x27;YEZPLBM&#x27;],\n",
       "      dtype=&#x27;object&#x27;, length=741)),\n",
       "                                (&#x27;cat&#x27;,\n",
       "                                 Pipeline(steps=[(&#x27;imputer&#x27;,\n",
       "                                                  SimpleImputer(fill_value=&#x27;missing&#x27;,\n",
       "                                                                strategy=&#x27;constant&#x27;)),\n",
       "                                                 (&#x27;onehot&#x27;,\n",
       "                                                  OneHotEncoder(handle_unknown=&#x27;ignore&#x27;))]),\n",
       "                                 Index([&#x27;TQSLCKT&#x27;, &#x27;CJICMVV&#x27;, &#x27;OYBONYX&#x27;, &#x27;TERIJOV&#x27;], dtype=&#x27;object&#x27;))])</pre></div></div></div><div class=\"sk-parallel\"><div class=\"sk-parallel-item\"><div class=\"sk-item\"><div class=\"sk-label-container\"><div class=\"sk-label sk-toggleable\"><input class=\"sk-toggleable__control sk-hidden--visually\" id=\"sk-estimator-id-16\" type=\"checkbox\" ><label for=\"sk-estimator-id-16\" class=\"sk-toggleable__label sk-toggleable__label-arrow\">int</label><div class=\"sk-toggleable__content\"><pre>Index([&#x27;HKTLMYY&#x27;, &#x27;JEKQIKE&#x27;, &#x27;MUEKGHC&#x27;, &#x27;HVTWAZN&#x27;, &#x27;SBUETBP&#x27;, &#x27;WSRRROM&#x27;,\n",
       "       &#x27;EGWONKF&#x27;, &#x27;XEUMIIT&#x27;, &#x27;JYNEQWD&#x27;, &#x27;XJUIXIR&#x27;, &#x27;WLULXFN&#x27;, &#x27;AQYGYOE&#x27;,\n",
       "       &#x27;YZRVJSE&#x27;, &#x27;EULURHL&#x27;, &#x27;WCZJBOX&#x27;, &#x27;PIACHYE&#x27;, &#x27;LCAOHWW&#x27;, &#x27;PATWSZC&#x27;,\n",
       "       &#x27;FPBFOEB&#x27;, &#x27;XIRNYHK&#x27;, &#x27;HBQPQTD&#x27;],\n",
       "      dtype=&#x27;object&#x27;)</pre></div></div></div><div class=\"sk-serial\"><div class=\"sk-item\"><div class=\"sk-serial\"><div class=\"sk-item\"><div class=\"sk-estimator sk-toggleable\"><input class=\"sk-toggleable__control sk-hidden--visually\" id=\"sk-estimator-id-17\" type=\"checkbox\" ><label for=\"sk-estimator-id-17\" class=\"sk-toggleable__label sk-toggleable__label-arrow\">SimpleImputer</label><div class=\"sk-toggleable__content\"><pre>SimpleImputer(strategy=&#x27;median&#x27;)</pre></div></div></div><div class=\"sk-item\"><div class=\"sk-estimator sk-toggleable\"><input class=\"sk-toggleable__control sk-hidden--visually\" id=\"sk-estimator-id-18\" type=\"checkbox\" ><label for=\"sk-estimator-id-18\" class=\"sk-toggleable__label sk-toggleable__label-arrow\">StandardScaler</label><div class=\"sk-toggleable__content\"><pre>StandardScaler()</pre></div></div></div></div></div></div></div></div><div class=\"sk-parallel-item\"><div class=\"sk-item\"><div class=\"sk-label-container\"><div class=\"sk-label sk-toggleable\"><input class=\"sk-toggleable__control sk-hidden--visually\" id=\"sk-estimator-id-19\" type=\"checkbox\" ><label for=\"sk-estimator-id-19\" class=\"sk-toggleable__label sk-toggleable__label-arrow\">float</label><div class=\"sk-toggleable__content\"><pre>Index([&#x27;IJEXXXL&#x27;, &#x27;KVNLYTZ&#x27;, &#x27;ADOIOYN&#x27;, &#x27;GPCKISJ&#x27;, &#x27;BFYTKKS&#x27;, &#x27;HNJMSWN&#x27;,\n",
       "       &#x27;TDMCRGU&#x27;, &#x27;HNDGNRG&#x27;, &#x27;HFHITLP&#x27;, &#x27;MSVWNFK&#x27;,\n",
       "       ...\n",
       "       &#x27;AHVIXII&#x27;, &#x27;PSXOLCG&#x27;, &#x27;NPVZRXF&#x27;, &#x27;RGDZIYI&#x27;, &#x27;UWFUPRN&#x27;, &#x27;QGKAEUF&#x27;,\n",
       "       &#x27;GQHLWWM&#x27;, &#x27;SHBNDLU&#x27;, &#x27;IHCEXCN&#x27;, &#x27;YEZPLBM&#x27;],\n",
       "      dtype=&#x27;object&#x27;, length=741)</pre></div></div></div><div class=\"sk-serial\"><div class=\"sk-item\"><div class=\"sk-serial\"><div class=\"sk-item\"><div class=\"sk-estimator sk-toggleable\"><input class=\"sk-toggleable__control sk-hidden--visually\" id=\"sk-estimator-id-20\" type=\"checkbox\" ><label for=\"sk-estimator-id-20\" class=\"sk-toggleable__label sk-toggleable__label-arrow\">SimpleImputer</label><div class=\"sk-toggleable__content\"><pre>SimpleImputer(strategy=&#x27;median&#x27;)</pre></div></div></div><div class=\"sk-item\"><div class=\"sk-estimator sk-toggleable\"><input class=\"sk-toggleable__control sk-hidden--visually\" id=\"sk-estimator-id-21\" type=\"checkbox\" ><label for=\"sk-estimator-id-21\" class=\"sk-toggleable__label sk-toggleable__label-arrow\">StandardScaler</label><div class=\"sk-toggleable__content\"><pre>StandardScaler()</pre></div></div></div></div></div></div></div></div><div class=\"sk-parallel-item\"><div class=\"sk-item\"><div class=\"sk-label-container\"><div class=\"sk-label sk-toggleable\"><input class=\"sk-toggleable__control sk-hidden--visually\" id=\"sk-estimator-id-22\" type=\"checkbox\" ><label for=\"sk-estimator-id-22\" class=\"sk-toggleable__label sk-toggleable__label-arrow\">cat</label><div class=\"sk-toggleable__content\"><pre>Index([&#x27;TQSLCKT&#x27;, &#x27;CJICMVV&#x27;, &#x27;OYBONYX&#x27;, &#x27;TERIJOV&#x27;], dtype=&#x27;object&#x27;)</pre></div></div></div><div class=\"sk-serial\"><div class=\"sk-item\"><div class=\"sk-serial\"><div class=\"sk-item\"><div class=\"sk-estimator sk-toggleable\"><input class=\"sk-toggleable__control sk-hidden--visually\" id=\"sk-estimator-id-23\" type=\"checkbox\" ><label for=\"sk-estimator-id-23\" class=\"sk-toggleable__label sk-toggleable__label-arrow\">SimpleImputer</label><div class=\"sk-toggleable__content\"><pre>SimpleImputer(fill_value=&#x27;missing&#x27;, strategy=&#x27;constant&#x27;)</pre></div></div></div><div class=\"sk-item\"><div class=\"sk-estimator sk-toggleable\"><input class=\"sk-toggleable__control sk-hidden--visually\" id=\"sk-estimator-id-24\" type=\"checkbox\" ><label for=\"sk-estimator-id-24\" class=\"sk-toggleable__label sk-toggleable__label-arrow\">OneHotEncoder</label><div class=\"sk-toggleable__content\"><pre>OneHotEncoder(handle_unknown=&#x27;ignore&#x27;)</pre></div></div></div></div></div></div></div></div></div></div><div class=\"sk-item\"><div class=\"sk-estimator sk-toggleable\"><input class=\"sk-toggleable__control sk-hidden--visually\" id=\"sk-estimator-id-25\" type=\"checkbox\" ><label for=\"sk-estimator-id-25\" class=\"sk-toggleable__label sk-toggleable__label-arrow\">BalancedRandomForestClassifier</label><div class=\"sk-toggleable__content\"><pre>BalancedRandomForestClassifier(max_depth=10, min_samples_leaf=4,\n",
       "                               replacement=True, sampling_strategy=&#x27;all&#x27;)</pre></div></div></div></div></div></div></div>"
      ],
      "text/plain": [
       "Pipeline(steps=[('preprocessor',\n",
       "                 ColumnTransformer(transformers=[('int',\n",
       "                                                  Pipeline(steps=[('imputer',\n",
       "                                                                   SimpleImputer(strategy='median')),\n",
       "                                                                  ('scaler',\n",
       "                                                                   StandardScaler())]),\n",
       "                                                  Index(['HKTLMYY', 'JEKQIKE', 'MUEKGHC', 'HVTWAZN', 'SBUETBP', 'WSRRROM',\n",
       "       'EGWONKF', 'XEUMIIT', 'JYNEQWD', 'XJUIXIR', 'WLULXFN', 'AQYGYOE',\n",
       "       'YZRVJSE', 'EULURHL', 'WCZJBOX', 'PIACHYE', 'LCAOHWW', 'PATWSZC',\n",
       "       '...\n",
       "      dtype='object', length=741)),\n",
       "                                                 ('cat',\n",
       "                                                  Pipeline(steps=[('imputer',\n",
       "                                                                   SimpleImputer(fill_value='missing',\n",
       "                                                                                 strategy='constant')),\n",
       "                                                                  ('onehot',\n",
       "                                                                   OneHotEncoder(handle_unknown='ignore'))]),\n",
       "                                                  Index(['TQSLCKT', 'CJICMVV', 'OYBONYX', 'TERIJOV'], dtype='object'))])),\n",
       "                ('classifier',\n",
       "                 BalancedRandomForestClassifier(max_depth=10,\n",
       "                                                min_samples_leaf=4,\n",
       "                                                replacement=True,\n",
       "                                                sampling_strategy='all'))])"
      ]
     },
     "execution_count": 15,
     "metadata": {},
     "output_type": "execute_result"
    }
   ],
   "source": [
    "search.best_estimator_"
   ]
  },
  {
   "cell_type": "code",
   "execution_count": 50,
   "id": "72e0fac3-6607-438a-9097-00a0899ab4d8",
   "metadata": {
    "tags": []
   },
   "outputs": [
    {
     "data": {
      "text/html": [
       "<div>\n",
       "<style scoped>\n",
       "    .dataframe tbody tr th:only-of-type {\n",
       "        vertical-align: middle;\n",
       "    }\n",
       "\n",
       "    .dataframe tbody tr th {\n",
       "        vertical-align: top;\n",
       "    }\n",
       "\n",
       "    .dataframe thead th {\n",
       "        text-align: right;\n",
       "    }\n",
       "</style>\n",
       "<table border=\"1\" class=\"dataframe\">\n",
       "  <thead>\n",
       "    <tr style=\"text-align: right;\">\n",
       "      <th></th>\n",
       "      <th>param_classifier__min_samples_leaf</th>\n",
       "      <th>param_classifier__n_estimators</th>\n",
       "      <th>param_classifier__max_depth</th>\n",
       "      <th>mean_test_score</th>\n",
       "      <th>std_test_score</th>\n",
       "    </tr>\n",
       "  </thead>\n",
       "  <tbody>\n",
       "    <tr>\n",
       "      <th>12</th>\n",
       "      <td>4</td>\n",
       "      <td>100</td>\n",
       "      <td>10</td>\n",
       "      <td>0.000700</td>\n",
       "      <td>0.000726</td>\n",
       "    </tr>\n",
       "    <tr>\n",
       "      <th>14</th>\n",
       "      <td>4</td>\n",
       "      <td>200</td>\n",
       "      <td>10</td>\n",
       "      <td>0.000698</td>\n",
       "      <td>0.000391</td>\n",
       "    </tr>\n",
       "    <tr>\n",
       "      <th>23</th>\n",
       "      <td>4</td>\n",
       "      <td>200</td>\n",
       "      <td>20</td>\n",
       "      <td>0.000678</td>\n",
       "      <td>0.000479</td>\n",
       "    </tr>\n",
       "    <tr>\n",
       "      <th>10</th>\n",
       "      <td>2</td>\n",
       "      <td>150</td>\n",
       "      <td>10</td>\n",
       "      <td>0.000636</td>\n",
       "      <td>0.000592</td>\n",
       "    </tr>\n",
       "    <tr>\n",
       "      <th>18</th>\n",
       "      <td>2</td>\n",
       "      <td>100</td>\n",
       "      <td>20</td>\n",
       "      <td>0.000614</td>\n",
       "      <td>0.000562</td>\n",
       "    </tr>\n",
       "    <tr>\n",
       "      <th>1</th>\n",
       "      <td>2</td>\n",
       "      <td>150</td>\n",
       "      <td>None</td>\n",
       "      <td>0.000612</td>\n",
       "      <td>0.000439</td>\n",
       "    </tr>\n",
       "    <tr>\n",
       "      <th>19</th>\n",
       "      <td>2</td>\n",
       "      <td>150</td>\n",
       "      <td>20</td>\n",
       "      <td>0.000608</td>\n",
       "      <td>0.000503</td>\n",
       "    </tr>\n",
       "    <tr>\n",
       "      <th>17</th>\n",
       "      <td>8</td>\n",
       "      <td>200</td>\n",
       "      <td>10</td>\n",
       "      <td>0.000599</td>\n",
       "      <td>0.000720</td>\n",
       "    </tr>\n",
       "    <tr>\n",
       "      <th>22</th>\n",
       "      <td>4</td>\n",
       "      <td>150</td>\n",
       "      <td>20</td>\n",
       "      <td>0.000593</td>\n",
       "      <td>0.000547</td>\n",
       "    </tr>\n",
       "    <tr>\n",
       "      <th>26</th>\n",
       "      <td>8</td>\n",
       "      <td>200</td>\n",
       "      <td>20</td>\n",
       "      <td>0.000583</td>\n",
       "      <td>0.000530</td>\n",
       "    </tr>\n",
       "  </tbody>\n",
       "</table>\n",
       "</div>"
      ],
      "text/plain": [
       "   param_classifier__min_samples_leaf param_classifier__n_estimators  \\\n",
       "12                                  4                            100   \n",
       "14                                  4                            200   \n",
       "23                                  4                            200   \n",
       "10                                  2                            150   \n",
       "18                                  2                            100   \n",
       "1                                   2                            150   \n",
       "19                                  2                            150   \n",
       "17                                  8                            200   \n",
       "22                                  4                            150   \n",
       "26                                  8                            200   \n",
       "\n",
       "   param_classifier__max_depth  mean_test_score  std_test_score  \n",
       "12                          10         0.000700        0.000726  \n",
       "14                          10         0.000698        0.000391  \n",
       "23                          20         0.000678        0.000479  \n",
       "10                          10         0.000636        0.000592  \n",
       "18                          20         0.000614        0.000562  \n",
       "1                         None         0.000612        0.000439  \n",
       "19                          20         0.000608        0.000503  \n",
       "17                          10         0.000599        0.000720  \n",
       "22                          20         0.000593        0.000547  \n",
       "26                          20         0.000583        0.000530  "
      ]
     },
     "execution_count": 50,
     "metadata": {},
     "output_type": "execute_result"
    }
   ],
   "source": [
    "pd.set_option('display.max_colwidth', 200)\n",
    "cols = ['param_classifier__min_samples_leaf','param_classifier__n_estimators','param_classifier__max_depth', 'mean_test_score','std_test_score']\n",
    "results = pd.DataFrame(search.cv_results_).sort_values(by='mean_test_score',ascending=False)\n",
    "results.head(10)[cols]"
   ]
  },
  {
   "cell_type": "markdown",
   "id": "3d50c29c-8bb7-41ed-b16b-9729f174b9a7",
   "metadata": {},
   "source": [
    "## Evaluating on the test set"
   ]
  },
  {
   "cell_type": "code",
   "execution_count": 19,
   "id": "2eddc29b-befd-456e-ba8e-0b24f7104129",
   "metadata": {
    "tags": []
   },
   "outputs": [],
   "source": [
    "from src.custom_metrics import precision_at_full_recall"
   ]
  },
  {
   "cell_type": "code",
   "execution_count": 58,
   "id": "377644eb-b1de-457f-89a5-21a92066d96c",
   "metadata": {
    "tags": []
   },
   "outputs": [
    {
     "data": {
      "text/plain": [
       "(0.00023905084233967868, 0.3735299422799423)"
      ]
     },
     "execution_count": 58,
     "metadata": {},
     "output_type": "execute_result"
    }
   ],
   "source": [
    "test_predicted_probs = search.best_estimator_.predict_proba(test_features)[:,1]\n",
    "precision, thd = precision_at_full_recall(test_target, test_predicted_probs, return_thd=True)\n",
    "precision, thd"
   ]
  },
  {
   "cell_type": "code",
   "execution_count": 60,
   "id": "c0a1fd3e-289d-4735-97cc-4b6d7d28fb9d",
   "metadata": {
    "tags": []
   },
   "outputs": [
    {
     "name": "stdout",
     "output_type": "stream",
     "text": [
      "True positive to False positive ratio: 1:4182\n",
      "Percentage of tests that will be skipped  63%\n"
     ]
    }
   ],
   "source": [
    "print(f'True positive to False positive ratio: 1:{1 / precision - 1:.0f}')\n",
    "print(f'Percentage of tests that will be skipped {100 * (1 - 19 * 4182 / 217686): .0f}%')"
   ]
  },
  {
   "cell_type": "markdown",
   "id": "f8e85893-fe5c-4aea-a4f1-f095362a2deb",
   "metadata": {
    "tags": []
   },
   "source": [
    "Conclusion:\n",
    "\n",
    "* Using a thd of 0.373 The classifier is able to recall all the defective tests.\n",
    "* At that thd, the precision is 0.000239, or 1:4182\n",
    "* The valid to defective ratio of the test set is 1:11465\n",
    "* Thus by using the classifier, only 79458 samples will need to run the **TLJYWBE** test, instead of 217686\n",
    "* This is a 63% reduction in the cost of the test."
   ]
  },
  {
   "cell_type": "markdown",
   "id": "b361006a-5409-4568-89c6-5ec2a95e5200",
   "metadata": {},
   "source": [
    "# More"
   ]
  },
  {
   "cell_type": "markdown",
   "id": "7a414882-eea5-440c-803d-a2d7abbedeed",
   "metadata": {},
   "source": [
    "### RUSBoostClassifier"
   ]
  },
  {
   "cell_type": "code",
   "execution_count": 89,
   "id": "7776f015-3b96-41ec-9bcf-3d82532aa498",
   "metadata": {
    "tags": []
   },
   "outputs": [],
   "source": [
    "from imblearn.ensemble import RUSBoostClassifier\n",
    "model = RUSBoostClassifier(n_estimators=200, algorithm='SAMME.R', random_state=0)\n",
    "pipeline = Pipeline(steps=[('preprocessor', preprocessor),\n",
    "                           ('classifier', model)])"
   ]
  },
  {
   "cell_type": "code",
   "execution_count": 90,
   "id": "c531a465-feb6-4300-9b20-4fb068663ced",
   "metadata": {
    "tags": []
   },
   "outputs": [
    {
     "data": {
      "text/html": [
       "<style>#sk-container-id-10 {color: black;}#sk-container-id-10 pre{padding: 0;}#sk-container-id-10 div.sk-toggleable {background-color: white;}#sk-container-id-10 label.sk-toggleable__label {cursor: pointer;display: block;width: 100%;margin-bottom: 0;padding: 0.3em;box-sizing: border-box;text-align: center;}#sk-container-id-10 label.sk-toggleable__label-arrow:before {content: \"▸\";float: left;margin-right: 0.25em;color: #696969;}#sk-container-id-10 label.sk-toggleable__label-arrow:hover:before {color: black;}#sk-container-id-10 div.sk-estimator:hover label.sk-toggleable__label-arrow:before {color: black;}#sk-container-id-10 div.sk-toggleable__content {max-height: 0;max-width: 0;overflow: hidden;text-align: left;background-color: #f0f8ff;}#sk-container-id-10 div.sk-toggleable__content pre {margin: 0.2em;color: black;border-radius: 0.25em;background-color: #f0f8ff;}#sk-container-id-10 input.sk-toggleable__control:checked~div.sk-toggleable__content {max-height: 200px;max-width: 100%;overflow: auto;}#sk-container-id-10 input.sk-toggleable__control:checked~label.sk-toggleable__label-arrow:before {content: \"▾\";}#sk-container-id-10 div.sk-estimator input.sk-toggleable__control:checked~label.sk-toggleable__label {background-color: #d4ebff;}#sk-container-id-10 div.sk-label input.sk-toggleable__control:checked~label.sk-toggleable__label {background-color: #d4ebff;}#sk-container-id-10 input.sk-hidden--visually {border: 0;clip: rect(1px 1px 1px 1px);clip: rect(1px, 1px, 1px, 1px);height: 1px;margin: -1px;overflow: hidden;padding: 0;position: absolute;width: 1px;}#sk-container-id-10 div.sk-estimator {font-family: monospace;background-color: #f0f8ff;border: 1px dotted black;border-radius: 0.25em;box-sizing: border-box;margin-bottom: 0.5em;}#sk-container-id-10 div.sk-estimator:hover {background-color: #d4ebff;}#sk-container-id-10 div.sk-parallel-item::after {content: \"\";width: 100%;border-bottom: 1px solid gray;flex-grow: 1;}#sk-container-id-10 div.sk-label:hover label.sk-toggleable__label {background-color: #d4ebff;}#sk-container-id-10 div.sk-serial::before {content: \"\";position: absolute;border-left: 1px solid gray;box-sizing: border-box;top: 0;bottom: 0;left: 50%;z-index: 0;}#sk-container-id-10 div.sk-serial {display: flex;flex-direction: column;align-items: center;background-color: white;padding-right: 0.2em;padding-left: 0.2em;position: relative;}#sk-container-id-10 div.sk-item {position: relative;z-index: 1;}#sk-container-id-10 div.sk-parallel {display: flex;align-items: stretch;justify-content: center;background-color: white;position: relative;}#sk-container-id-10 div.sk-item::before, #sk-container-id-10 div.sk-parallel-item::before {content: \"\";position: absolute;border-left: 1px solid gray;box-sizing: border-box;top: 0;bottom: 0;left: 50%;z-index: -1;}#sk-container-id-10 div.sk-parallel-item {display: flex;flex-direction: column;z-index: 1;position: relative;background-color: white;}#sk-container-id-10 div.sk-parallel-item:first-child::after {align-self: flex-end;width: 50%;}#sk-container-id-10 div.sk-parallel-item:last-child::after {align-self: flex-start;width: 50%;}#sk-container-id-10 div.sk-parallel-item:only-child::after {width: 0;}#sk-container-id-10 div.sk-dashed-wrapped {border: 1px dashed gray;margin: 0 0.4em 0.5em 0.4em;box-sizing: border-box;padding-bottom: 0.4em;background-color: white;}#sk-container-id-10 div.sk-label label {font-family: monospace;font-weight: bold;display: inline-block;line-height: 1.2em;}#sk-container-id-10 div.sk-label-container {text-align: center;}#sk-container-id-10 div.sk-container {/* jupyter's `normalize.less` sets `[hidden] { display: none; }` but bootstrap.min.css set `[hidden] { display: none !important; }` so we also need the `!important` here to be able to override the default hidden behavior on the sphinx rendered scikit-learn.org. See: https://github.com/scikit-learn/scikit-learn/issues/21755 */display: inline-block !important;position: relative;}#sk-container-id-10 div.sk-text-repr-fallback {display: none;}</style><div id=\"sk-container-id-10\" class=\"sk-top-container\"><div class=\"sk-text-repr-fallback\"><pre>Pipeline(steps=[(&#x27;preprocessor&#x27;,\n",
       "                 ColumnTransformer(transformers=[(&#x27;int&#x27;,\n",
       "                                                  Pipeline(steps=[(&#x27;imputer&#x27;,\n",
       "                                                                   SimpleImputer(strategy=&#x27;median&#x27;)),\n",
       "                                                                  (&#x27;scaler&#x27;,\n",
       "                                                                   StandardScaler())]),\n",
       "                                                  Index([&#x27;HKTLMYY&#x27;, &#x27;JEKQIKE&#x27;, &#x27;MUEKGHC&#x27;, &#x27;HVTWAZN&#x27;, &#x27;SBUETBP&#x27;, &#x27;WSRRROM&#x27;,\n",
       "       &#x27;EGWONKF&#x27;, &#x27;XEUMIIT&#x27;, &#x27;JYNEQWD&#x27;, &#x27;XJUIXIR&#x27;, &#x27;WLULXFN&#x27;, &#x27;AQYGYOE&#x27;,\n",
       "       &#x27;YZRVJSE&#x27;, &#x27;EULURHL&#x27;, &#x27;WCZJBOX&#x27;, &#x27;PIACHYE&#x27;, &#x27;LCAOHWW&#x27;, &#x27;PATWSZC&#x27;,\n",
       "       &#x27;...\n",
       "       &#x27;AHVIXII&#x27;, &#x27;PSXOLCG&#x27;, &#x27;NPVZRXF&#x27;, &#x27;RGDZIYI&#x27;, &#x27;UWFUPRN&#x27;, &#x27;QGKAEUF&#x27;,\n",
       "       &#x27;GQHLWWM&#x27;, &#x27;SHBNDLU&#x27;, &#x27;IHCEXCN&#x27;, &#x27;YEZPLBM&#x27;],\n",
       "      dtype=&#x27;object&#x27;, length=741)),\n",
       "                                                 (&#x27;cat&#x27;,\n",
       "                                                  Pipeline(steps=[(&#x27;imputer&#x27;,\n",
       "                                                                   SimpleImputer(fill_value=&#x27;missing&#x27;,\n",
       "                                                                                 strategy=&#x27;constant&#x27;)),\n",
       "                                                                  (&#x27;onehot&#x27;,\n",
       "                                                                   OneHotEncoder(handle_unknown=&#x27;ignore&#x27;))]),\n",
       "                                                  Index([&#x27;TQSLCKT&#x27;, &#x27;CJICMVV&#x27;, &#x27;OYBONYX&#x27;, &#x27;TERIJOV&#x27;], dtype=&#x27;object&#x27;))])),\n",
       "                (&#x27;classifier&#x27;,\n",
       "                 RUSBoostClassifier(n_estimators=200, random_state=0))])</pre><b>In a Jupyter environment, please rerun this cell to show the HTML representation or trust the notebook. <br />On GitHub, the HTML representation is unable to render, please try loading this page with nbviewer.org.</b></div><div class=\"sk-container\" hidden><div class=\"sk-item sk-dashed-wrapped\"><div class=\"sk-label-container\"><div class=\"sk-label sk-toggleable\"><input class=\"sk-toggleable__control sk-hidden--visually\" id=\"sk-estimator-id-110\" type=\"checkbox\" ><label for=\"sk-estimator-id-110\" class=\"sk-toggleable__label sk-toggleable__label-arrow\">Pipeline</label><div class=\"sk-toggleable__content\"><pre>Pipeline(steps=[(&#x27;preprocessor&#x27;,\n",
       "                 ColumnTransformer(transformers=[(&#x27;int&#x27;,\n",
       "                                                  Pipeline(steps=[(&#x27;imputer&#x27;,\n",
       "                                                                   SimpleImputer(strategy=&#x27;median&#x27;)),\n",
       "                                                                  (&#x27;scaler&#x27;,\n",
       "                                                                   StandardScaler())]),\n",
       "                                                  Index([&#x27;HKTLMYY&#x27;, &#x27;JEKQIKE&#x27;, &#x27;MUEKGHC&#x27;, &#x27;HVTWAZN&#x27;, &#x27;SBUETBP&#x27;, &#x27;WSRRROM&#x27;,\n",
       "       &#x27;EGWONKF&#x27;, &#x27;XEUMIIT&#x27;, &#x27;JYNEQWD&#x27;, &#x27;XJUIXIR&#x27;, &#x27;WLULXFN&#x27;, &#x27;AQYGYOE&#x27;,\n",
       "       &#x27;YZRVJSE&#x27;, &#x27;EULURHL&#x27;, &#x27;WCZJBOX&#x27;, &#x27;PIACHYE&#x27;, &#x27;LCAOHWW&#x27;, &#x27;PATWSZC&#x27;,\n",
       "       &#x27;...\n",
       "       &#x27;AHVIXII&#x27;, &#x27;PSXOLCG&#x27;, &#x27;NPVZRXF&#x27;, &#x27;RGDZIYI&#x27;, &#x27;UWFUPRN&#x27;, &#x27;QGKAEUF&#x27;,\n",
       "       &#x27;GQHLWWM&#x27;, &#x27;SHBNDLU&#x27;, &#x27;IHCEXCN&#x27;, &#x27;YEZPLBM&#x27;],\n",
       "      dtype=&#x27;object&#x27;, length=741)),\n",
       "                                                 (&#x27;cat&#x27;,\n",
       "                                                  Pipeline(steps=[(&#x27;imputer&#x27;,\n",
       "                                                                   SimpleImputer(fill_value=&#x27;missing&#x27;,\n",
       "                                                                                 strategy=&#x27;constant&#x27;)),\n",
       "                                                                  (&#x27;onehot&#x27;,\n",
       "                                                                   OneHotEncoder(handle_unknown=&#x27;ignore&#x27;))]),\n",
       "                                                  Index([&#x27;TQSLCKT&#x27;, &#x27;CJICMVV&#x27;, &#x27;OYBONYX&#x27;, &#x27;TERIJOV&#x27;], dtype=&#x27;object&#x27;))])),\n",
       "                (&#x27;classifier&#x27;,\n",
       "                 RUSBoostClassifier(n_estimators=200, random_state=0))])</pre></div></div></div><div class=\"sk-serial\"><div class=\"sk-item sk-dashed-wrapped\"><div class=\"sk-label-container\"><div class=\"sk-label sk-toggleable\"><input class=\"sk-toggleable__control sk-hidden--visually\" id=\"sk-estimator-id-111\" type=\"checkbox\" ><label for=\"sk-estimator-id-111\" class=\"sk-toggleable__label sk-toggleable__label-arrow\">preprocessor: ColumnTransformer</label><div class=\"sk-toggleable__content\"><pre>ColumnTransformer(transformers=[(&#x27;int&#x27;,\n",
       "                                 Pipeline(steps=[(&#x27;imputer&#x27;,\n",
       "                                                  SimpleImputer(strategy=&#x27;median&#x27;)),\n",
       "                                                 (&#x27;scaler&#x27;, StandardScaler())]),\n",
       "                                 Index([&#x27;HKTLMYY&#x27;, &#x27;JEKQIKE&#x27;, &#x27;MUEKGHC&#x27;, &#x27;HVTWAZN&#x27;, &#x27;SBUETBP&#x27;, &#x27;WSRRROM&#x27;,\n",
       "       &#x27;EGWONKF&#x27;, &#x27;XEUMIIT&#x27;, &#x27;JYNEQWD&#x27;, &#x27;XJUIXIR&#x27;, &#x27;WLULXFN&#x27;, &#x27;AQYGYOE&#x27;,\n",
       "       &#x27;YZRVJSE&#x27;, &#x27;EULURHL&#x27;, &#x27;WCZJBOX&#x27;, &#x27;PIACHYE&#x27;, &#x27;LCAOHWW&#x27;, &#x27;PATWSZC&#x27;,\n",
       "       &#x27;FPBFOEB&#x27;, &#x27;XIRNYHK&#x27;, &#x27;HBQPQTD&#x27;],\n",
       "      dt...\n",
       "       &#x27;TDMCRGU&#x27;, &#x27;HNDGNRG&#x27;, &#x27;HFHITLP&#x27;, &#x27;MSVWNFK&#x27;,\n",
       "       ...\n",
       "       &#x27;AHVIXII&#x27;, &#x27;PSXOLCG&#x27;, &#x27;NPVZRXF&#x27;, &#x27;RGDZIYI&#x27;, &#x27;UWFUPRN&#x27;, &#x27;QGKAEUF&#x27;,\n",
       "       &#x27;GQHLWWM&#x27;, &#x27;SHBNDLU&#x27;, &#x27;IHCEXCN&#x27;, &#x27;YEZPLBM&#x27;],\n",
       "      dtype=&#x27;object&#x27;, length=741)),\n",
       "                                (&#x27;cat&#x27;,\n",
       "                                 Pipeline(steps=[(&#x27;imputer&#x27;,\n",
       "                                                  SimpleImputer(fill_value=&#x27;missing&#x27;,\n",
       "                                                                strategy=&#x27;constant&#x27;)),\n",
       "                                                 (&#x27;onehot&#x27;,\n",
       "                                                  OneHotEncoder(handle_unknown=&#x27;ignore&#x27;))]),\n",
       "                                 Index([&#x27;TQSLCKT&#x27;, &#x27;CJICMVV&#x27;, &#x27;OYBONYX&#x27;, &#x27;TERIJOV&#x27;], dtype=&#x27;object&#x27;))])</pre></div></div></div><div class=\"sk-parallel\"><div class=\"sk-parallel-item\"><div class=\"sk-item\"><div class=\"sk-label-container\"><div class=\"sk-label sk-toggleable\"><input class=\"sk-toggleable__control sk-hidden--visually\" id=\"sk-estimator-id-112\" type=\"checkbox\" ><label for=\"sk-estimator-id-112\" class=\"sk-toggleable__label sk-toggleable__label-arrow\">int</label><div class=\"sk-toggleable__content\"><pre>Index([&#x27;HKTLMYY&#x27;, &#x27;JEKQIKE&#x27;, &#x27;MUEKGHC&#x27;, &#x27;HVTWAZN&#x27;, &#x27;SBUETBP&#x27;, &#x27;WSRRROM&#x27;,\n",
       "       &#x27;EGWONKF&#x27;, &#x27;XEUMIIT&#x27;, &#x27;JYNEQWD&#x27;, &#x27;XJUIXIR&#x27;, &#x27;WLULXFN&#x27;, &#x27;AQYGYOE&#x27;,\n",
       "       &#x27;YZRVJSE&#x27;, &#x27;EULURHL&#x27;, &#x27;WCZJBOX&#x27;, &#x27;PIACHYE&#x27;, &#x27;LCAOHWW&#x27;, &#x27;PATWSZC&#x27;,\n",
       "       &#x27;FPBFOEB&#x27;, &#x27;XIRNYHK&#x27;, &#x27;HBQPQTD&#x27;],\n",
       "      dtype=&#x27;object&#x27;)</pre></div></div></div><div class=\"sk-serial\"><div class=\"sk-item\"><div class=\"sk-serial\"><div class=\"sk-item\"><div class=\"sk-estimator sk-toggleable\"><input class=\"sk-toggleable__control sk-hidden--visually\" id=\"sk-estimator-id-113\" type=\"checkbox\" ><label for=\"sk-estimator-id-113\" class=\"sk-toggleable__label sk-toggleable__label-arrow\">SimpleImputer</label><div class=\"sk-toggleable__content\"><pre>SimpleImputer(strategy=&#x27;median&#x27;)</pre></div></div></div><div class=\"sk-item\"><div class=\"sk-estimator sk-toggleable\"><input class=\"sk-toggleable__control sk-hidden--visually\" id=\"sk-estimator-id-114\" type=\"checkbox\" ><label for=\"sk-estimator-id-114\" class=\"sk-toggleable__label sk-toggleable__label-arrow\">StandardScaler</label><div class=\"sk-toggleable__content\"><pre>StandardScaler()</pre></div></div></div></div></div></div></div></div><div class=\"sk-parallel-item\"><div class=\"sk-item\"><div class=\"sk-label-container\"><div class=\"sk-label sk-toggleable\"><input class=\"sk-toggleable__control sk-hidden--visually\" id=\"sk-estimator-id-115\" type=\"checkbox\" ><label for=\"sk-estimator-id-115\" class=\"sk-toggleable__label sk-toggleable__label-arrow\">float</label><div class=\"sk-toggleable__content\"><pre>Index([&#x27;IJEXXXL&#x27;, &#x27;KVNLYTZ&#x27;, &#x27;ADOIOYN&#x27;, &#x27;GPCKISJ&#x27;, &#x27;BFYTKKS&#x27;, &#x27;HNJMSWN&#x27;,\n",
       "       &#x27;TDMCRGU&#x27;, &#x27;HNDGNRG&#x27;, &#x27;HFHITLP&#x27;, &#x27;MSVWNFK&#x27;,\n",
       "       ...\n",
       "       &#x27;AHVIXII&#x27;, &#x27;PSXOLCG&#x27;, &#x27;NPVZRXF&#x27;, &#x27;RGDZIYI&#x27;, &#x27;UWFUPRN&#x27;, &#x27;QGKAEUF&#x27;,\n",
       "       &#x27;GQHLWWM&#x27;, &#x27;SHBNDLU&#x27;, &#x27;IHCEXCN&#x27;, &#x27;YEZPLBM&#x27;],\n",
       "      dtype=&#x27;object&#x27;, length=741)</pre></div></div></div><div class=\"sk-serial\"><div class=\"sk-item\"><div class=\"sk-serial\"><div class=\"sk-item\"><div class=\"sk-estimator sk-toggleable\"><input class=\"sk-toggleable__control sk-hidden--visually\" id=\"sk-estimator-id-116\" type=\"checkbox\" ><label for=\"sk-estimator-id-116\" class=\"sk-toggleable__label sk-toggleable__label-arrow\">SimpleImputer</label><div class=\"sk-toggleable__content\"><pre>SimpleImputer(strategy=&#x27;median&#x27;)</pre></div></div></div><div class=\"sk-item\"><div class=\"sk-estimator sk-toggleable\"><input class=\"sk-toggleable__control sk-hidden--visually\" id=\"sk-estimator-id-117\" type=\"checkbox\" ><label for=\"sk-estimator-id-117\" class=\"sk-toggleable__label sk-toggleable__label-arrow\">StandardScaler</label><div class=\"sk-toggleable__content\"><pre>StandardScaler()</pre></div></div></div></div></div></div></div></div><div class=\"sk-parallel-item\"><div class=\"sk-item\"><div class=\"sk-label-container\"><div class=\"sk-label sk-toggleable\"><input class=\"sk-toggleable__control sk-hidden--visually\" id=\"sk-estimator-id-118\" type=\"checkbox\" ><label for=\"sk-estimator-id-118\" class=\"sk-toggleable__label sk-toggleable__label-arrow\">cat</label><div class=\"sk-toggleable__content\"><pre>Index([&#x27;TQSLCKT&#x27;, &#x27;CJICMVV&#x27;, &#x27;OYBONYX&#x27;, &#x27;TERIJOV&#x27;], dtype=&#x27;object&#x27;)</pre></div></div></div><div class=\"sk-serial\"><div class=\"sk-item\"><div class=\"sk-serial\"><div class=\"sk-item\"><div class=\"sk-estimator sk-toggleable\"><input class=\"sk-toggleable__control sk-hidden--visually\" id=\"sk-estimator-id-119\" type=\"checkbox\" ><label for=\"sk-estimator-id-119\" class=\"sk-toggleable__label sk-toggleable__label-arrow\">SimpleImputer</label><div class=\"sk-toggleable__content\"><pre>SimpleImputer(fill_value=&#x27;missing&#x27;, strategy=&#x27;constant&#x27;)</pre></div></div></div><div class=\"sk-item\"><div class=\"sk-estimator sk-toggleable\"><input class=\"sk-toggleable__control sk-hidden--visually\" id=\"sk-estimator-id-120\" type=\"checkbox\" ><label for=\"sk-estimator-id-120\" class=\"sk-toggleable__label sk-toggleable__label-arrow\">OneHotEncoder</label><div class=\"sk-toggleable__content\"><pre>OneHotEncoder(handle_unknown=&#x27;ignore&#x27;)</pre></div></div></div></div></div></div></div></div></div></div><div class=\"sk-item\"><div class=\"sk-estimator sk-toggleable\"><input class=\"sk-toggleable__control sk-hidden--visually\" id=\"sk-estimator-id-121\" type=\"checkbox\" ><label for=\"sk-estimator-id-121\" class=\"sk-toggleable__label sk-toggleable__label-arrow\">RUSBoostClassifier</label><div class=\"sk-toggleable__content\"><pre>RUSBoostClassifier(n_estimators=200, random_state=0)</pre></div></div></div></div></div></div></div>"
      ],
      "text/plain": [
       "Pipeline(steps=[('preprocessor',\n",
       "                 ColumnTransformer(transformers=[('int',\n",
       "                                                  Pipeline(steps=[('imputer',\n",
       "                                                                   SimpleImputer(strategy='median')),\n",
       "                                                                  ('scaler',\n",
       "                                                                   StandardScaler())]),\n",
       "                                                  Index(['HKTLMYY', 'JEKQIKE', 'MUEKGHC', 'HVTWAZN', 'SBUETBP', 'WSRRROM',\n",
       "       'EGWONKF', 'XEUMIIT', 'JYNEQWD', 'XJUIXIR', 'WLULXFN', 'AQYGYOE',\n",
       "       'YZRVJSE', 'EULURHL', 'WCZJBOX', 'PIACHYE', 'LCAOHWW', 'PATWSZC',\n",
       "       '...\n",
       "       'AHVIXII', 'PSXOLCG', 'NPVZRXF', 'RGDZIYI', 'UWFUPRN', 'QGKAEUF',\n",
       "       'GQHLWWM', 'SHBNDLU', 'IHCEXCN', 'YEZPLBM'],\n",
       "      dtype='object', length=741)),\n",
       "                                                 ('cat',\n",
       "                                                  Pipeline(steps=[('imputer',\n",
       "                                                                   SimpleImputer(fill_value='missing',\n",
       "                                                                                 strategy='constant')),\n",
       "                                                                  ('onehot',\n",
       "                                                                   OneHotEncoder(handle_unknown='ignore'))]),\n",
       "                                                  Index(['TQSLCKT', 'CJICMVV', 'OYBONYX', 'TERIJOV'], dtype='object'))])),\n",
       "                ('classifier',\n",
       "                 RUSBoostClassifier(n_estimators=200, random_state=0))])"
      ]
     },
     "execution_count": 90,
     "metadata": {},
     "output_type": "execute_result"
    }
   ],
   "source": [
    "pipeline.fit(training_features, train_target)"
   ]
  },
  {
   "cell_type": "code",
   "execution_count": 91,
   "id": "6d7ce80d-3a78-47bb-a981-7ad0184a8543",
   "metadata": {
    "tags": []
   },
   "outputs": [
    {
     "data": {
      "text/plain": [
       "(0.0004325948862730812, 0.14368601105519216)"
      ]
     },
     "execution_count": 91,
     "metadata": {},
     "output_type": "execute_result"
    }
   ],
   "source": [
    "y_pred = pipeline.predict_proba(test_features)[:,1]\n",
    "precision, thd = precision_at_full_recall(test_target, y_pred, return_thd=True)\n",
    "precision, thd"
   ]
  },
  {
   "cell_type": "code",
   "execution_count": 92,
   "id": "f6dacd13-1f15-4ca0-b5bd-7076cf03225f",
   "metadata": {
    "tags": []
   },
   "outputs": [
    {
     "name": "stdout",
     "output_type": "stream",
     "text": [
      "True positive to False positive ratio: 1:2311\n",
      "Percentage of tests that will be skipped  80%\n"
     ]
    }
   ],
   "source": [
    "inv_prec = 1 / precision - 1\n",
    "print(f'True positive to False positive ratio: 1:{1 / precision - 1:.0f}')\n",
    "print(f'Percentage of tests that will be skipped {100 * (1 - 19 * inv_prec / 217686): .0f}%')"
   ]
  },
  {
   "cell_type": "markdown",
   "id": "c8fe49a8-6191-4e44-bb1b-be14bda632f8",
   "metadata": {
    "tags": []
   },
   "source": [
    "Conclusion:\n",
    "\n",
    "* Using a thd of 0.143 The classifier is able to recall all the defective tests.\n",
    "* At that thd, the precision is 0.000432, or 1:2311\n",
    "* The valid to defective ratio of the test set is 1:11465\n",
    "* Thus by using the classifier, only 43909 samples will need to run the **TLJYWBE** test, instead of 217686\n",
    "* This is a 80% reduction in the cost of the test."
   ]
  },
  {
   "cell_type": "markdown",
   "id": "8bd328ed-c03f-4331-890e-023b4b3c7f3b",
   "metadata": {},
   "source": [
    "### EasyEnsembleClassifier"
   ]
  },
  {
   "cell_type": "code",
   "execution_count": 86,
   "id": "8129db30-70f7-44ad-8ba5-fc765506da7f",
   "metadata": {
    "tags": []
   },
   "outputs": [
    {
     "data": {
      "text/html": [
       "<style>#sk-container-id-9 {color: black;}#sk-container-id-9 pre{padding: 0;}#sk-container-id-9 div.sk-toggleable {background-color: white;}#sk-container-id-9 label.sk-toggleable__label {cursor: pointer;display: block;width: 100%;margin-bottom: 0;padding: 0.3em;box-sizing: border-box;text-align: center;}#sk-container-id-9 label.sk-toggleable__label-arrow:before {content: \"▸\";float: left;margin-right: 0.25em;color: #696969;}#sk-container-id-9 label.sk-toggleable__label-arrow:hover:before {color: black;}#sk-container-id-9 div.sk-estimator:hover label.sk-toggleable__label-arrow:before {color: black;}#sk-container-id-9 div.sk-toggleable__content {max-height: 0;max-width: 0;overflow: hidden;text-align: left;background-color: #f0f8ff;}#sk-container-id-9 div.sk-toggleable__content pre {margin: 0.2em;color: black;border-radius: 0.25em;background-color: #f0f8ff;}#sk-container-id-9 input.sk-toggleable__control:checked~div.sk-toggleable__content {max-height: 200px;max-width: 100%;overflow: auto;}#sk-container-id-9 input.sk-toggleable__control:checked~label.sk-toggleable__label-arrow:before {content: \"▾\";}#sk-container-id-9 div.sk-estimator input.sk-toggleable__control:checked~label.sk-toggleable__label {background-color: #d4ebff;}#sk-container-id-9 div.sk-label input.sk-toggleable__control:checked~label.sk-toggleable__label {background-color: #d4ebff;}#sk-container-id-9 input.sk-hidden--visually {border: 0;clip: rect(1px 1px 1px 1px);clip: rect(1px, 1px, 1px, 1px);height: 1px;margin: -1px;overflow: hidden;padding: 0;position: absolute;width: 1px;}#sk-container-id-9 div.sk-estimator {font-family: monospace;background-color: #f0f8ff;border: 1px dotted black;border-radius: 0.25em;box-sizing: border-box;margin-bottom: 0.5em;}#sk-container-id-9 div.sk-estimator:hover {background-color: #d4ebff;}#sk-container-id-9 div.sk-parallel-item::after {content: \"\";width: 100%;border-bottom: 1px solid gray;flex-grow: 1;}#sk-container-id-9 div.sk-label:hover label.sk-toggleable__label {background-color: #d4ebff;}#sk-container-id-9 div.sk-serial::before {content: \"\";position: absolute;border-left: 1px solid gray;box-sizing: border-box;top: 0;bottom: 0;left: 50%;z-index: 0;}#sk-container-id-9 div.sk-serial {display: flex;flex-direction: column;align-items: center;background-color: white;padding-right: 0.2em;padding-left: 0.2em;position: relative;}#sk-container-id-9 div.sk-item {position: relative;z-index: 1;}#sk-container-id-9 div.sk-parallel {display: flex;align-items: stretch;justify-content: center;background-color: white;position: relative;}#sk-container-id-9 div.sk-item::before, #sk-container-id-9 div.sk-parallel-item::before {content: \"\";position: absolute;border-left: 1px solid gray;box-sizing: border-box;top: 0;bottom: 0;left: 50%;z-index: -1;}#sk-container-id-9 div.sk-parallel-item {display: flex;flex-direction: column;z-index: 1;position: relative;background-color: white;}#sk-container-id-9 div.sk-parallel-item:first-child::after {align-self: flex-end;width: 50%;}#sk-container-id-9 div.sk-parallel-item:last-child::after {align-self: flex-start;width: 50%;}#sk-container-id-9 div.sk-parallel-item:only-child::after {width: 0;}#sk-container-id-9 div.sk-dashed-wrapped {border: 1px dashed gray;margin: 0 0.4em 0.5em 0.4em;box-sizing: border-box;padding-bottom: 0.4em;background-color: white;}#sk-container-id-9 div.sk-label label {font-family: monospace;font-weight: bold;display: inline-block;line-height: 1.2em;}#sk-container-id-9 div.sk-label-container {text-align: center;}#sk-container-id-9 div.sk-container {/* jupyter's `normalize.less` sets `[hidden] { display: none; }` but bootstrap.min.css set `[hidden] { display: none !important; }` so we also need the `!important` here to be able to override the default hidden behavior on the sphinx rendered scikit-learn.org. See: https://github.com/scikit-learn/scikit-learn/issues/21755 */display: inline-block !important;position: relative;}#sk-container-id-9 div.sk-text-repr-fallback {display: none;}</style><div id=\"sk-container-id-9\" class=\"sk-top-container\"><div class=\"sk-text-repr-fallback\"><pre>Pipeline(steps=[(&#x27;preprocessor&#x27;,\n",
       "                 ColumnTransformer(transformers=[(&#x27;int&#x27;,\n",
       "                                                  Pipeline(steps=[(&#x27;imputer&#x27;,\n",
       "                                                                   SimpleImputer(strategy=&#x27;median&#x27;)),\n",
       "                                                                  (&#x27;scaler&#x27;,\n",
       "                                                                   StandardScaler())]),\n",
       "                                                  Index([&#x27;HKTLMYY&#x27;, &#x27;JEKQIKE&#x27;, &#x27;MUEKGHC&#x27;, &#x27;HVTWAZN&#x27;, &#x27;SBUETBP&#x27;, &#x27;WSRRROM&#x27;,\n",
       "       &#x27;EGWONKF&#x27;, &#x27;XEUMIIT&#x27;, &#x27;JYNEQWD&#x27;, &#x27;XJUIXIR&#x27;, &#x27;WLULXFN&#x27;, &#x27;AQYGYOE&#x27;,\n",
       "       &#x27;YZRVJSE&#x27;, &#x27;EULURHL&#x27;, &#x27;WCZJBOX&#x27;, &#x27;PIACHYE&#x27;, &#x27;LCAOHWW&#x27;, &#x27;PATWSZC&#x27;,\n",
       "       &#x27;...\n",
       "       &#x27;GQHLWWM&#x27;, &#x27;SHBNDLU&#x27;, &#x27;IHCEXCN&#x27;, &#x27;YEZPLBM&#x27;],\n",
       "      dtype=&#x27;object&#x27;, length=741)),\n",
       "                                                 (&#x27;cat&#x27;,\n",
       "                                                  Pipeline(steps=[(&#x27;imputer&#x27;,\n",
       "                                                                   SimpleImputer(fill_value=&#x27;missing&#x27;,\n",
       "                                                                                 strategy=&#x27;constant&#x27;)),\n",
       "                                                                  (&#x27;onehot&#x27;,\n",
       "                                                                   OneHotEncoder(handle_unknown=&#x27;ignore&#x27;))]),\n",
       "                                                  Index([&#x27;TQSLCKT&#x27;, &#x27;CJICMVV&#x27;, &#x27;OYBONYX&#x27;, &#x27;TERIJOV&#x27;], dtype=&#x27;object&#x27;))])),\n",
       "                (&#x27;classifier&#x27;,\n",
       "                 EasyEnsembleClassifier(n_estimators=100,\n",
       "                                        sampling_strategy=0.2))])</pre><b>In a Jupyter environment, please rerun this cell to show the HTML representation or trust the notebook. <br />On GitHub, the HTML representation is unable to render, please try loading this page with nbviewer.org.</b></div><div class=\"sk-container\" hidden><div class=\"sk-item sk-dashed-wrapped\"><div class=\"sk-label-container\"><div class=\"sk-label sk-toggleable\"><input class=\"sk-toggleable__control sk-hidden--visually\" id=\"sk-estimator-id-98\" type=\"checkbox\" ><label for=\"sk-estimator-id-98\" class=\"sk-toggleable__label sk-toggleable__label-arrow\">Pipeline</label><div class=\"sk-toggleable__content\"><pre>Pipeline(steps=[(&#x27;preprocessor&#x27;,\n",
       "                 ColumnTransformer(transformers=[(&#x27;int&#x27;,\n",
       "                                                  Pipeline(steps=[(&#x27;imputer&#x27;,\n",
       "                                                                   SimpleImputer(strategy=&#x27;median&#x27;)),\n",
       "                                                                  (&#x27;scaler&#x27;,\n",
       "                                                                   StandardScaler())]),\n",
       "                                                  Index([&#x27;HKTLMYY&#x27;, &#x27;JEKQIKE&#x27;, &#x27;MUEKGHC&#x27;, &#x27;HVTWAZN&#x27;, &#x27;SBUETBP&#x27;, &#x27;WSRRROM&#x27;,\n",
       "       &#x27;EGWONKF&#x27;, &#x27;XEUMIIT&#x27;, &#x27;JYNEQWD&#x27;, &#x27;XJUIXIR&#x27;, &#x27;WLULXFN&#x27;, &#x27;AQYGYOE&#x27;,\n",
       "       &#x27;YZRVJSE&#x27;, &#x27;EULURHL&#x27;, &#x27;WCZJBOX&#x27;, &#x27;PIACHYE&#x27;, &#x27;LCAOHWW&#x27;, &#x27;PATWSZC&#x27;,\n",
       "       &#x27;...\n",
       "       &#x27;GQHLWWM&#x27;, &#x27;SHBNDLU&#x27;, &#x27;IHCEXCN&#x27;, &#x27;YEZPLBM&#x27;],\n",
       "      dtype=&#x27;object&#x27;, length=741)),\n",
       "                                                 (&#x27;cat&#x27;,\n",
       "                                                  Pipeline(steps=[(&#x27;imputer&#x27;,\n",
       "                                                                   SimpleImputer(fill_value=&#x27;missing&#x27;,\n",
       "                                                                                 strategy=&#x27;constant&#x27;)),\n",
       "                                                                  (&#x27;onehot&#x27;,\n",
       "                                                                   OneHotEncoder(handle_unknown=&#x27;ignore&#x27;))]),\n",
       "                                                  Index([&#x27;TQSLCKT&#x27;, &#x27;CJICMVV&#x27;, &#x27;OYBONYX&#x27;, &#x27;TERIJOV&#x27;], dtype=&#x27;object&#x27;))])),\n",
       "                (&#x27;classifier&#x27;,\n",
       "                 EasyEnsembleClassifier(n_estimators=100,\n",
       "                                        sampling_strategy=0.2))])</pre></div></div></div><div class=\"sk-serial\"><div class=\"sk-item sk-dashed-wrapped\"><div class=\"sk-label-container\"><div class=\"sk-label sk-toggleable\"><input class=\"sk-toggleable__control sk-hidden--visually\" id=\"sk-estimator-id-99\" type=\"checkbox\" ><label for=\"sk-estimator-id-99\" class=\"sk-toggleable__label sk-toggleable__label-arrow\">preprocessor: ColumnTransformer</label><div class=\"sk-toggleable__content\"><pre>ColumnTransformer(transformers=[(&#x27;int&#x27;,\n",
       "                                 Pipeline(steps=[(&#x27;imputer&#x27;,\n",
       "                                                  SimpleImputer(strategy=&#x27;median&#x27;)),\n",
       "                                                 (&#x27;scaler&#x27;, StandardScaler())]),\n",
       "                                 Index([&#x27;HKTLMYY&#x27;, &#x27;JEKQIKE&#x27;, &#x27;MUEKGHC&#x27;, &#x27;HVTWAZN&#x27;, &#x27;SBUETBP&#x27;, &#x27;WSRRROM&#x27;,\n",
       "       &#x27;EGWONKF&#x27;, &#x27;XEUMIIT&#x27;, &#x27;JYNEQWD&#x27;, &#x27;XJUIXIR&#x27;, &#x27;WLULXFN&#x27;, &#x27;AQYGYOE&#x27;,\n",
       "       &#x27;YZRVJSE&#x27;, &#x27;EULURHL&#x27;, &#x27;WCZJBOX&#x27;, &#x27;PIACHYE&#x27;, &#x27;LCAOHWW&#x27;, &#x27;PATWSZC&#x27;,\n",
       "       &#x27;FPBFOEB&#x27;, &#x27;XIRNYHK&#x27;, &#x27;HBQPQTD&#x27;],\n",
       "      dt...\n",
       "       &#x27;TDMCRGU&#x27;, &#x27;HNDGNRG&#x27;, &#x27;HFHITLP&#x27;, &#x27;MSVWNFK&#x27;,\n",
       "       ...\n",
       "       &#x27;AHVIXII&#x27;, &#x27;PSXOLCG&#x27;, &#x27;NPVZRXF&#x27;, &#x27;RGDZIYI&#x27;, &#x27;UWFUPRN&#x27;, &#x27;QGKAEUF&#x27;,\n",
       "       &#x27;GQHLWWM&#x27;, &#x27;SHBNDLU&#x27;, &#x27;IHCEXCN&#x27;, &#x27;YEZPLBM&#x27;],\n",
       "      dtype=&#x27;object&#x27;, length=741)),\n",
       "                                (&#x27;cat&#x27;,\n",
       "                                 Pipeline(steps=[(&#x27;imputer&#x27;,\n",
       "                                                  SimpleImputer(fill_value=&#x27;missing&#x27;,\n",
       "                                                                strategy=&#x27;constant&#x27;)),\n",
       "                                                 (&#x27;onehot&#x27;,\n",
       "                                                  OneHotEncoder(handle_unknown=&#x27;ignore&#x27;))]),\n",
       "                                 Index([&#x27;TQSLCKT&#x27;, &#x27;CJICMVV&#x27;, &#x27;OYBONYX&#x27;, &#x27;TERIJOV&#x27;], dtype=&#x27;object&#x27;))])</pre></div></div></div><div class=\"sk-parallel\"><div class=\"sk-parallel-item\"><div class=\"sk-item\"><div class=\"sk-label-container\"><div class=\"sk-label sk-toggleable\"><input class=\"sk-toggleable__control sk-hidden--visually\" id=\"sk-estimator-id-100\" type=\"checkbox\" ><label for=\"sk-estimator-id-100\" class=\"sk-toggleable__label sk-toggleable__label-arrow\">int</label><div class=\"sk-toggleable__content\"><pre>Index([&#x27;HKTLMYY&#x27;, &#x27;JEKQIKE&#x27;, &#x27;MUEKGHC&#x27;, &#x27;HVTWAZN&#x27;, &#x27;SBUETBP&#x27;, &#x27;WSRRROM&#x27;,\n",
       "       &#x27;EGWONKF&#x27;, &#x27;XEUMIIT&#x27;, &#x27;JYNEQWD&#x27;, &#x27;XJUIXIR&#x27;, &#x27;WLULXFN&#x27;, &#x27;AQYGYOE&#x27;,\n",
       "       &#x27;YZRVJSE&#x27;, &#x27;EULURHL&#x27;, &#x27;WCZJBOX&#x27;, &#x27;PIACHYE&#x27;, &#x27;LCAOHWW&#x27;, &#x27;PATWSZC&#x27;,\n",
       "       &#x27;FPBFOEB&#x27;, &#x27;XIRNYHK&#x27;, &#x27;HBQPQTD&#x27;],\n",
       "      dtype=&#x27;object&#x27;)</pre></div></div></div><div class=\"sk-serial\"><div class=\"sk-item\"><div class=\"sk-serial\"><div class=\"sk-item\"><div class=\"sk-estimator sk-toggleable\"><input class=\"sk-toggleable__control sk-hidden--visually\" id=\"sk-estimator-id-101\" type=\"checkbox\" ><label for=\"sk-estimator-id-101\" class=\"sk-toggleable__label sk-toggleable__label-arrow\">SimpleImputer</label><div class=\"sk-toggleable__content\"><pre>SimpleImputer(strategy=&#x27;median&#x27;)</pre></div></div></div><div class=\"sk-item\"><div class=\"sk-estimator sk-toggleable\"><input class=\"sk-toggleable__control sk-hidden--visually\" id=\"sk-estimator-id-102\" type=\"checkbox\" ><label for=\"sk-estimator-id-102\" class=\"sk-toggleable__label sk-toggleable__label-arrow\">StandardScaler</label><div class=\"sk-toggleable__content\"><pre>StandardScaler()</pre></div></div></div></div></div></div></div></div><div class=\"sk-parallel-item\"><div class=\"sk-item\"><div class=\"sk-label-container\"><div class=\"sk-label sk-toggleable\"><input class=\"sk-toggleable__control sk-hidden--visually\" id=\"sk-estimator-id-103\" type=\"checkbox\" ><label for=\"sk-estimator-id-103\" class=\"sk-toggleable__label sk-toggleable__label-arrow\">float</label><div class=\"sk-toggleable__content\"><pre>Index([&#x27;IJEXXXL&#x27;, &#x27;KVNLYTZ&#x27;, &#x27;ADOIOYN&#x27;, &#x27;GPCKISJ&#x27;, &#x27;BFYTKKS&#x27;, &#x27;HNJMSWN&#x27;,\n",
       "       &#x27;TDMCRGU&#x27;, &#x27;HNDGNRG&#x27;, &#x27;HFHITLP&#x27;, &#x27;MSVWNFK&#x27;,\n",
       "       ...\n",
       "       &#x27;AHVIXII&#x27;, &#x27;PSXOLCG&#x27;, &#x27;NPVZRXF&#x27;, &#x27;RGDZIYI&#x27;, &#x27;UWFUPRN&#x27;, &#x27;QGKAEUF&#x27;,\n",
       "       &#x27;GQHLWWM&#x27;, &#x27;SHBNDLU&#x27;, &#x27;IHCEXCN&#x27;, &#x27;YEZPLBM&#x27;],\n",
       "      dtype=&#x27;object&#x27;, length=741)</pre></div></div></div><div class=\"sk-serial\"><div class=\"sk-item\"><div class=\"sk-serial\"><div class=\"sk-item\"><div class=\"sk-estimator sk-toggleable\"><input class=\"sk-toggleable__control sk-hidden--visually\" id=\"sk-estimator-id-104\" type=\"checkbox\" ><label for=\"sk-estimator-id-104\" class=\"sk-toggleable__label sk-toggleable__label-arrow\">SimpleImputer</label><div class=\"sk-toggleable__content\"><pre>SimpleImputer(strategy=&#x27;median&#x27;)</pre></div></div></div><div class=\"sk-item\"><div class=\"sk-estimator sk-toggleable\"><input class=\"sk-toggleable__control sk-hidden--visually\" id=\"sk-estimator-id-105\" type=\"checkbox\" ><label for=\"sk-estimator-id-105\" class=\"sk-toggleable__label sk-toggleable__label-arrow\">StandardScaler</label><div class=\"sk-toggleable__content\"><pre>StandardScaler()</pre></div></div></div></div></div></div></div></div><div class=\"sk-parallel-item\"><div class=\"sk-item\"><div class=\"sk-label-container\"><div class=\"sk-label sk-toggleable\"><input class=\"sk-toggleable__control sk-hidden--visually\" id=\"sk-estimator-id-106\" type=\"checkbox\" ><label for=\"sk-estimator-id-106\" class=\"sk-toggleable__label sk-toggleable__label-arrow\">cat</label><div class=\"sk-toggleable__content\"><pre>Index([&#x27;TQSLCKT&#x27;, &#x27;CJICMVV&#x27;, &#x27;OYBONYX&#x27;, &#x27;TERIJOV&#x27;], dtype=&#x27;object&#x27;)</pre></div></div></div><div class=\"sk-serial\"><div class=\"sk-item\"><div class=\"sk-serial\"><div class=\"sk-item\"><div class=\"sk-estimator sk-toggleable\"><input class=\"sk-toggleable__control sk-hidden--visually\" id=\"sk-estimator-id-107\" type=\"checkbox\" ><label for=\"sk-estimator-id-107\" class=\"sk-toggleable__label sk-toggleable__label-arrow\">SimpleImputer</label><div class=\"sk-toggleable__content\"><pre>SimpleImputer(fill_value=&#x27;missing&#x27;, strategy=&#x27;constant&#x27;)</pre></div></div></div><div class=\"sk-item\"><div class=\"sk-estimator sk-toggleable\"><input class=\"sk-toggleable__control sk-hidden--visually\" id=\"sk-estimator-id-108\" type=\"checkbox\" ><label for=\"sk-estimator-id-108\" class=\"sk-toggleable__label sk-toggleable__label-arrow\">OneHotEncoder</label><div class=\"sk-toggleable__content\"><pre>OneHotEncoder(handle_unknown=&#x27;ignore&#x27;)</pre></div></div></div></div></div></div></div></div></div></div><div class=\"sk-item\"><div class=\"sk-estimator sk-toggleable\"><input class=\"sk-toggleable__control sk-hidden--visually\" id=\"sk-estimator-id-109\" type=\"checkbox\" ><label for=\"sk-estimator-id-109\" class=\"sk-toggleable__label sk-toggleable__label-arrow\">EasyEnsembleClassifier</label><div class=\"sk-toggleable__content\"><pre>EasyEnsembleClassifier(n_estimators=100, sampling_strategy=0.2)</pre></div></div></div></div></div></div></div>"
      ],
      "text/plain": [
       "Pipeline(steps=[('preprocessor',\n",
       "                 ColumnTransformer(transformers=[('int',\n",
       "                                                  Pipeline(steps=[('imputer',\n",
       "                                                                   SimpleImputer(strategy='median')),\n",
       "                                                                  ('scaler',\n",
       "                                                                   StandardScaler())]),\n",
       "                                                  Index(['HKTLMYY', 'JEKQIKE', 'MUEKGHC', 'HVTWAZN', 'SBUETBP', 'WSRRROM',\n",
       "       'EGWONKF', 'XEUMIIT', 'JYNEQWD', 'XJUIXIR', 'WLULXFN', 'AQYGYOE',\n",
       "       'YZRVJSE', 'EULURHL', 'WCZJBOX', 'PIACHYE', 'LCAOHWW', 'PATWSZC',\n",
       "       '...\n",
       "       'GQHLWWM', 'SHBNDLU', 'IHCEXCN', 'YEZPLBM'],\n",
       "      dtype='object', length=741)),\n",
       "                                                 ('cat',\n",
       "                                                  Pipeline(steps=[('imputer',\n",
       "                                                                   SimpleImputer(fill_value='missing',\n",
       "                                                                                 strategy='constant')),\n",
       "                                                                  ('onehot',\n",
       "                                                                   OneHotEncoder(handle_unknown='ignore'))]),\n",
       "                                                  Index(['TQSLCKT', 'CJICMVV', 'OYBONYX', 'TERIJOV'], dtype='object'))])),\n",
       "                ('classifier',\n",
       "                 EasyEnsembleClassifier(n_estimators=100,\n",
       "                                        sampling_strategy=0.2))])"
      ]
     },
     "execution_count": 86,
     "metadata": {},
     "output_type": "execute_result"
    }
   ],
   "source": [
    "from imblearn.ensemble import EasyEnsembleClassifier\n",
    "eec = EasyEnsembleClassifier(n_estimators=100, sampling_strategy=0.2)\n",
    "pipeline = Pipeline(steps=[('preprocessor', preprocessor),\n",
    "                           ('classifier', eec)])\n",
    "pipeline.fit(training_features, train_target)"
   ]
  },
  {
   "cell_type": "code",
   "execution_count": 87,
   "id": "b5d59095-dac3-4f28-949d-ce3083dc962b",
   "metadata": {
    "tags": []
   },
   "outputs": [
    {
     "data": {
      "text/plain": [
       "(0.0005907776499486957, 0.4220245747734167)"
      ]
     },
     "execution_count": 87,
     "metadata": {},
     "output_type": "execute_result"
    }
   ],
   "source": [
    "y_pred = pipeline.predict_proba(test_features)[:,1]\n",
    "precision, thd = precision_at_full_recall(test_target, y_pred, return_thd=True)\n",
    "precision, thd"
   ]
  },
  {
   "cell_type": "code",
   "execution_count": 88,
   "id": "62d6292d-34f7-4775-af0c-e3923fd728b9",
   "metadata": {
    "tags": []
   },
   "outputs": [
    {
     "name": "stdout",
     "output_type": "stream",
     "text": [
      "True positive to False positive ratio: 1:1692\n",
      "Percentage of tests that will be skipped  85%\n"
     ]
    }
   ],
   "source": [
    "inv_prec = 1 / precision - 1\n",
    "print(f'True positive to False positive ratio: 1:{1 / precision - 1:.0f}')\n",
    "print(f'Percentage of tests that will be skipped {100 * (1 - 19 * inv_prec / 217686): .0f}%')"
   ]
  },
  {
   "cell_type": "markdown",
   "id": "da4ffe75-a15d-4b7b-b905-98d60398bdca",
   "metadata": {
    "tags": []
   },
   "source": [
    "Conclusion:\n",
    "\n",
    "* Using a thd of 0.422 The classifier is able to recall all the defective tests.\n",
    "* At that thd, the precision is 0.000590, or 1:1692\n",
    "* The valid to defective ratio of the test set is 1:11465\n",
    "* Thus by using the classifier, only 32148 samples will need to run the **TLJYWBE** test, instead of 217686\n",
    "* This is a 85% reduction in the cost of the test."
   ]
  }
 ],
 "metadata": {
  "kernelspec": {
   "display_name": "conda_python3",
   "language": "python",
   "name": "conda_python3"
  },
  "language_info": {
   "codemirror_mode": {
    "name": "ipython",
    "version": 3
   },
   "file_extension": ".py",
   "mimetype": "text/x-python",
   "name": "python",
   "nbconvert_exporter": "python",
   "pygments_lexer": "ipython3",
   "version": "3.10.12"
  }
 },
 "nbformat": 4,
 "nbformat_minor": 5
}
