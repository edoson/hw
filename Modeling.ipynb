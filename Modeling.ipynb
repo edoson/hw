{
 "cells": [
  {
   "cell_type": "markdown",
   "id": "c3650ec5-196c-45df-b557-3fd8ea25d98d",
   "metadata": {},
   "source": [
    "# Modeling"
   ]
  },
  {
   "cell_type": "code",
   "execution_count": 2,
   "id": "9216be30-0c4a-4090-8d2c-a320fc52ac72",
   "metadata": {},
   "outputs": [],
   "source": [
    "import pandas as pd\n",
    "import numpy as np"
   ]
  },
  {
   "cell_type": "code",
   "execution_count": 3,
   "id": "a53097f4-99fd-4ad7-b8e8-3bdfc048e6a0",
   "metadata": {},
   "outputs": [
    {
     "data": {
      "text/html": [
       "        <script type=\"text/javascript\">\n",
       "        window.PlotlyConfig = {MathJaxConfig: 'local'};\n",
       "        if (window.MathJax) {MathJax.Hub.Config({SVG: {font: \"STIX-Web\"}});}\n",
       "        if (typeof require !== 'undefined') {\n",
       "        require.undef(\"plotly\");\n",
       "        requirejs.config({\n",
       "            paths: {\n",
       "                'plotly': ['https://cdn.plot.ly/plotly-2.2.0.min']\n",
       "            }\n",
       "        });\n",
       "        require(['plotly'], function(Plotly) {\n",
       "            window._Plotly = Plotly;\n",
       "        });\n",
       "        }\n",
       "        </script>\n",
       "        "
      ]
     },
     "metadata": {},
     "output_type": "display_data"
    }
   ],
   "source": [
    "import cufflinks as cf; cf.go_offline()"
   ]
  },
  {
   "cell_type": "markdown",
   "id": "d8326e0d-fa75-4c13-b69f-b73125d4eb41",
   "metadata": {},
   "source": [
    "## Dataset"
   ]
  },
  {
   "cell_type": "code",
   "execution_count": 4,
   "id": "a2b314b5-94b0-408f-8e79-a85898dc5620",
   "metadata": {},
   "outputs": [
    {
     "name": "stdout",
     "output_type": "stream",
     "text": [
      "<class 'pandas.core.frame.DataFrame'>\n",
      "RangeIndex: 726288 entries, 0 to 726287\n",
      "Columns: 767 entries, HKTLMYY to TLJYWBE\n",
      "dtypes: float64(742), int64(21), object(4)\n",
      "memory usage: 4.2+ GB\n"
     ]
    }
   ],
   "source": [
    "df = pd.read_feather('removed_duplicated_columns.feather')\n",
    "df.info()"
   ]
  },
  {
   "cell_type": "code",
   "execution_count": 8,
   "id": "bad4a292-e69b-42de-b791-ee449b7a3505",
   "metadata": {},
   "outputs": [
    {
     "data": {
      "text/plain": [
       "False    726224\n",
       "True         64\n",
       "Name: TLJYWBE, dtype: int64"
      ]
     },
     "execution_count": 8,
     "metadata": {},
     "output_type": "execute_result"
    }
   ],
   "source": [
    "target = 'TLJYWBE'\n",
    "df[target] = df[target].apply(lambda v: v >= 1e-5)\n",
    "df[target].value_counts()"
   ]
  },
  {
   "cell_type": "code",
   "execution_count": 9,
   "id": "66d3b4b4-3288-4b98-b09a-b5d892ae5ca2",
   "metadata": {},
   "outputs": [],
   "source": [
    "from sklearn.model_selection import train_test_split"
   ]
  },
  {
   "cell_type": "code",
   "execution_count": 14,
   "id": "8c1c43d4-2c37-4791-bfad-649c397b363e",
   "metadata": {},
   "outputs": [],
   "source": [
    "features = [c for c in df.columns if c != target]\n",
    "training_features, train_target, test_features, test_target = train_test_split(df[features], df[target], test_size=0.25, stratify=df[target])"
   ]
  },
  {
   "cell_type": "code",
   "execution_count": 15,
   "id": "7bff88c3-6449-4f67-ab63-24226625415d",
   "metadata": {},
   "outputs": [
    {
     "data": {
      "text/plain": [
       "False    181556\n",
       "True         16\n",
       "Name: TLJYWBE, dtype: int64"
      ]
     },
     "execution_count": 15,
     "metadata": {},
     "output_type": "execute_result"
    }
   ],
   "source": [
    "test_target.value_counts()"
   ]
  },
  {
   "cell_type": "code",
   "execution_count": null,
   "id": "fde6b748-6e1c-4694-a082-6cf76a195fd1",
   "metadata": {},
   "outputs": [],
   "source": []
  }
 ],
 "metadata": {
  "kernelspec": {
   "display_name": "Python 3",
   "language": "python",
   "name": "python3"
  },
  "language_info": {
   "codemirror_mode": {
    "name": "ipython",
    "version": 3
   },
   "file_extension": ".py",
   "mimetype": "text/x-python",
   "name": "python",
   "nbconvert_exporter": "python",
   "pygments_lexer": "ipython3",
   "version": "3.8.8"
  }
 },
 "nbformat": 4,
 "nbformat_minor": 5
}
