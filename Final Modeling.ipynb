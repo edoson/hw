{
 "cells": [
  {
   "cell_type": "markdown",
   "id": "d37b69e3-67cd-4e3c-8b74-4616c2490f4a",
   "metadata": {},
   "source": [
    "# Final Modeling"
   ]
  },
  {
   "cell_type": "code",
   "execution_count": 1,
   "id": "7746a254-94a4-43f0-b4af-86521c77175d",
   "metadata": {},
   "outputs": [],
   "source": [
    "import pandas as pd\n",
    "import numpy as np\n",
    "from sklearn.model_selection import train_test_split"
   ]
  },
  {
   "cell_type": "markdown",
   "id": "68182f6b-400c-4138-9382-2a04944be2c8",
   "metadata": {},
   "source": [
    "## Dataset craetion"
   ]
  },
  {
   "cell_type": "code",
   "execution_count": 3,
   "id": "712cde10-08d6-4f6e-bb8d-a18f05254396",
   "metadata": {},
   "outputs": [
    {
     "name": "stdout",
     "output_type": "stream",
     "text": [
      "<class 'pandas.core.frame.DataFrame'>\n",
      "RangeIndex: 709518 entries, 0 to 709517\n",
      "Columns: 368 entries, HKTLMYY to TLJYWBE\n",
      "dtypes: float64(347), int64(21)\n",
      "memory usage: 1.9 GB\n"
     ]
    }
   ],
   "source": [
    "df = pd.read_feather('dataset_no_duplicates_no_univalue_no_correlated_columns.feather')\n",
    "df.info()"
   ]
  },
  {
   "cell_type": "code",
   "execution_count": 4,
   "id": "a3eaa0be-8e4f-4129-87d4-95187d017151",
   "metadata": {},
   "outputs": [
    {
     "data": {
      "text/plain": [
       "False    709454\n",
       "True         64\n",
       "Name: TLJYWBE, dtype: int64"
      ]
     },
     "execution_count": 4,
     "metadata": {},
     "output_type": "execute_result"
    }
   ],
   "source": [
    "target = 'TLJYWBE'\n",
    "df[target] = df[target].apply(lambda v: v >= 1e-5)\n",
    "df[target].value_counts()"
   ]
  },
  {
   "cell_type": "code",
   "execution_count": 5,
   "id": "af3247b9-5fed-46da-af30-ec089aa9ffba",
   "metadata": {},
   "outputs": [],
   "source": [
    "features = [c for c in df.columns if c != target]\n",
    "training_features, test_features, train_target, test_target = train_test_split(df[features], df[target], test_size=0.3, stratify=df[target])"
   ]
  },
  {
   "cell_type": "code",
   "execution_count": 6,
   "id": "2d8f763c-e1ed-44e5-85d1-b2ed3eb0952b",
   "metadata": {},
   "outputs": [
    {
     "name": "stdout",
     "output_type": "stream",
     "text": [
      "Training set shape: (496662, 367)\n",
      "Training set target shape: (496662,)\n",
      "Test set shape: (212856, 367)\n",
      "Training set target shape: (212856,)\n"
     ]
    }
   ],
   "source": [
    "print(f'Training set shape: {training_features.shape}')\n",
    "print(f'Training set target shape: {train_target.shape}')\n",
    "print(f'Test set shape: {test_features.shape}')\n",
    "print(f'Training set target shape: {test_target.shape}')"
   ]
  },
  {
   "cell_type": "code",
   "execution_count": 7,
   "id": "5d64d00c-c331-4482-a11d-685f2f4ad1ad",
   "metadata": {},
   "outputs": [
    {
     "data": {
      "text/plain": [
       "False    212837\n",
       "True         19\n",
       "Name: TLJYWBE, dtype: int64"
      ]
     },
     "execution_count": 7,
     "metadata": {},
     "output_type": "execute_result"
    }
   ],
   "source": [
    "test_target.value_counts()"
   ]
  },
  {
   "cell_type": "markdown",
   "id": "bd5a9c02-1801-4829-b3c9-ea4e43dd1acd",
   "metadata": {},
   "source": [
    "## Modeling"
   ]
  },
  {
   "cell_type": "code",
   "execution_count": 24,
   "id": "06d82279-13f3-4ba0-9e8f-ff572ad11747",
   "metadata": {
    "tags": []
   },
   "outputs": [],
   "source": [
    "import numpy as np\n",
    "from sklearn.compose import ColumnTransformer\n",
    "from sklearn.pipeline import Pipeline\n",
    "from sklearn.impute import SimpleImputer\n",
    "from sklearn.preprocessing import StandardScaler, OneHotEncoder\n",
    "from sklearn.linear_model import LogisticRegression\n",
    "from imblearn.ensemble import BalancedRandomForestClassifier\n",
    "from sklearn.model_selection import GridSearchCV, StratifiedKFold, RepeatedStratifiedKFold"
   ]
  },
  {
   "cell_type": "code",
   "execution_count": 15,
   "id": "db463ee4-2656-437f-a9b2-765c57b485b5",
   "metadata": {
    "tags": []
   },
   "outputs": [
    {
     "data": {
      "text/plain": [
       "float64    741\n",
       "int64       21\n",
       "object       4\n",
       "dtype: int64"
      ]
     },
     "execution_count": 15,
     "metadata": {},
     "output_type": "execute_result"
    }
   ],
   "source": [
    "dtypes = training_features.dtypes\n",
    "dtypes.value_counts()"
   ]
  },
  {
   "cell_type": "code",
   "execution_count": 16,
   "id": "8f732df3-ad4f-43fd-a0a2-27c80c49e2a7",
   "metadata": {
    "tags": []
   },
   "outputs": [
    {
     "data": {
      "text/plain": [
       "(21, 741, 4)"
      ]
     },
     "execution_count": 16,
     "metadata": {},
     "output_type": "execute_result"
    }
   ],
   "source": [
    "int_features = dtypes[dtypes == 'int64'].index\n",
    "float_features = dtypes[dtypes == 'float64'].index\n",
    "cat_features = dtypes[dtypes == 'object'].index\n",
    "len(int_features), len(float_features), len(cat_features)"
   ]
  },
  {
   "cell_type": "code",
   "execution_count": 17,
   "id": "08c6cb39-da12-4740-a188-3845097249c1",
   "metadata": {
    "tags": []
   },
   "outputs": [],
   "source": [
    "numeric_transformer = Pipeline(steps=[\n",
    "    ('imputer', SimpleImputer(strategy='median')),\n",
    "    ('scaler', StandardScaler())\n",
    "])\n",
    "\n",
    "categorical_transformer = Pipeline(steps=[\n",
    "    ('imputer', SimpleImputer(strategy='constant', fill_value='missing')),\n",
    "    ('onehot', OneHotEncoder(handle_unknown='ignore'))\n",
    "])\n",
    "\n",
    "preprocessor = ColumnTransformer(\n",
    "    transformers=[\n",
    "        ('int', numeric_transformer, int_features),\n",
    "        ('float', numeric_transformer, float_features),\n",
    "        ('cat', categorical_transformer, cat_features)\n",
    "    ])\n",
    "\n",
    "pipeline = Pipeline(steps=[('preprocessor', preprocessor),\n",
    "                           ('classifier', 'passthrough')  \n",
    "                          ])"
   ]
  },
  {
   "cell_type": "markdown",
   "id": "4a9bde24-82f1-45fe-afeb-cdb9d61f9c97",
   "metadata": {},
   "source": [
    "## Balanced Random Forest"
   ]
  },
  {
   "cell_type": "code",
   "execution_count": 27,
   "id": "afe6e806-134e-4d90-ae17-102716c0e27b",
   "metadata": {
    "tags": []
   },
   "outputs": [],
   "source": [
    "param_grid = [\n",
    "    {\n",
    "        'classifier': [BalancedRandomForestClassifier()],\n",
    "        'classifier__max_depth': [None, 10, 20],\n",
    "        'classifier__n_estimators': [100, 150, 200],\n",
    "        'classifier__min_samples_leaf': [2, 4, 8],\n",
    "    }\n",
    "]"
   ]
  },
  {
   "cell_type": "code",
   "execution_count": 28,
   "id": "ef3cc0c8-eaf9-40cc-ae69-8630b5434213",
   "metadata": {
    "tags": []
   },
   "outputs": [],
   "source": [
    "from src.custom_metrics import precision_at_full_recall, precision_at_full_recall_scorer"
   ]
  },
  {
   "cell_type": "code",
   "execution_count": null,
   "id": "71161214-8e8d-4096-9fb2-cc35a112b371",
   "metadata": {
    "tags": []
   },
   "outputs": [],
   "source": [
    "%%time\n",
    "cv = RepeatedStratifiedKFold(n_splits=5, n_repeats=2, random_state=1)\n",
    "search = GridSearchCV(pipeline, param_grid, cv=cv, scoring=precision_at_full_recall_scorer, n_jobs=-1)\n",
    "search.fit(training_features, train_target)"
   ]
  },
  {
   "cell_type": "code",
   "execution_count": null,
   "id": "0db3f52e-f8aa-4a23-96ee-af49355a91fe",
   "metadata": {
    "tags": []
   },
   "outputs": [],
   "source": [
    "print(\"Best parameter (CV score=%0.3f):\" % search.best_score_)\n",
    "print(search.best_params_)"
   ]
  },
  {
   "cell_type": "markdown",
   "id": "485ca3bf-5bdf-490b-9682-885e5d108e3d",
   "metadata": {},
   "source": [
    "## Fitting with resampled data"
   ]
  },
  {
   "cell_type": "code",
   "execution_count": null,
   "id": "2fff5f46-697e-4461-bd78-5cd5917ccaec",
   "metadata": {},
   "outputs": [],
   "source": [
    "import numpy as np\n",
    "\n",
    "# Load the resampled training data\n",
    "X_resampled = np.load('X_resampled.npy')\n",
    "y_resampled = np.load('y_resampled.npy')\n",
    "\n",
    "# Load the transformed test data\n",
    "X_test_transformed = np.load('X_test_transformed.npy')\n",
    "test_target = np.load('test_target.npy')\n",
    "\n",
    "# Verify shapes:\n",
    "print(f\"Loaded resampled training set shape: {X_resampled.shape}\")\n",
    "print(f\"Loaded resampled target shape: {y_resampled.shape}\")\n",
    "print(f\"Loaded transformed test set shape: {X_test_transformed.shape}\")\n",
    "print(f\"Loaded test target shape: {test_target.shape}\")\n"
   ]
  },
  {
   "cell_type": "code",
   "execution_count": 27,
   "id": "36fa55cb-a50c-4720-9e72-a6214e88889e",
   "metadata": {
    "tags": []
   },
   "outputs": [],
   "source": [
    "param_grid = [\n",
    "    {\n",
    "        'classifier': [BalancedRandomForestClassifier()],\n",
    "        'classifier__max_depth': [None, 10, 20],\n",
    "        'classifier__n_estimators': [100, 150, 200],\n",
    "        'classifier__min_samples_leaf': [2, 4, 8],\n",
    "    }\n",
    "]"
   ]
  },
  {
   "cell_type": "code",
   "execution_count": null,
   "id": "044d2ab9-9038-42a5-81bd-c4906c798905",
   "metadata": {
    "tags": []
   },
   "outputs": [],
   "source": [
    "%%time\n",
    "cv = RepeatedStratifiedKFold(n_splits=5, n_repeats=2, random_state=1)\n",
    "search = GridSearchCV(pipeline, param_grid, cv=cv, scoring=precision_at_full_recall_scorer, n_jobs=-1)\n",
    "search.fit(X_resampled, y_resampled)"
   ]
  },
  {
   "cell_type": "code",
   "execution_count": null,
   "id": "0ba02f58-6e07-4bc8-b30e-d196ab42d454",
   "metadata": {
    "tags": []
   },
   "outputs": [],
   "source": [
    "print(\"Best parameter (CV score=%0.3f):\" % search.best_score_)\n",
    "print(search.best_params_)"
   ]
  },
  {
   "cell_type": "markdown",
   "id": "6e3a933e-2b5c-4624-91ef-4b4c40a9d288",
   "metadata": {},
   "source": [
    "### Test model"
   ]
  },
  {
   "cell_type": "code",
   "execution_count": null,
   "id": "784d0bbc-7ade-4ad3-9994-08c03740172e",
   "metadata": {},
   "outputs": [],
   "source": [
    "test_predicted_probs = search.best_estimator.predict_proba(X_test_transformed)[:,1]"
   ]
  },
  {
   "cell_type": "code",
   "execution_count": null,
   "id": "c8944273-51e0-4f5b-add3-455303c7825e",
   "metadata": {},
   "outputs": [],
   "source": [
    "precision_at_full_recall(test_target, test_predicted_probs, return_thd=True)"
   ]
  }
 ],
 "metadata": {
  "kernelspec": {
   "display_name": "Python 3",
   "language": "python",
   "name": "python3"
  },
  "language_info": {
   "codemirror_mode": {
    "name": "ipython",
    "version": 3
   },
   "file_extension": ".py",
   "mimetype": "text/x-python",
   "name": "python",
   "nbconvert_exporter": "python",
   "pygments_lexer": "ipython3",
   "version": "3.8.8"
  }
 },
 "nbformat": 4,
 "nbformat_minor": 5
}
