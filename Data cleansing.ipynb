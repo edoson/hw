{
 "cells": [
  {
   "cell_type": "markdown",
   "id": "c8f42dd7-592a-4fe4-9699-7c0dd7d3356b",
   "metadata": {},
   "source": [
    "# Home Assignment"
   ]
  },
  {
   "cell_type": "code",
   "execution_count": 1,
   "id": "324450ff-e56d-4440-9a27-4568531ea89c",
   "metadata": {},
   "outputs": [],
   "source": [
    "import pandas as pd\n",
    "import numpy as np"
   ]
  },
  {
   "cell_type": "code",
   "execution_count": 2,
   "id": "a651c15a-6949-4d2d-babb-c94aa62f79c9",
   "metadata": {},
   "outputs": [
    {
     "name": "stdout",
     "output_type": "stream",
     "text": [
      "<class 'pandas.core.frame.DataFrame'>\n",
      "RangeIndex: 726288 entries, 0 to 726287\n",
      "Columns: 881 entries, HKTLMYY to TLJYWBE\n",
      "dtypes: float64(794), int64(43), object(44)\n",
      "memory usage: 4.8+ GB\n"
     ]
    }
   ],
   "source": [
    "df = pd.read_feather('/Users/idodavid/Downloads/home_assignment.feather')\n",
    "df.info()"
   ]
  },
  {
   "cell_type": "code",
   "execution_count": 3,
   "id": "4b9a932a-e209-4fa8-9ac4-f994932f7c58",
   "metadata": {},
   "outputs": [
    {
     "data": {
      "text/html": [
       "        <script type=\"text/javascript\">\n",
       "        window.PlotlyConfig = {MathJaxConfig: 'local'};\n",
       "        if (window.MathJax) {MathJax.Hub.Config({SVG: {font: \"STIX-Web\"}});}\n",
       "        if (typeof require !== 'undefined') {\n",
       "        require.undef(\"plotly\");\n",
       "        requirejs.config({\n",
       "            paths: {\n",
       "                'plotly': ['https://cdn.plot.ly/plotly-2.2.0.min']\n",
       "            }\n",
       "        });\n",
       "        require(['plotly'], function(Plotly) {\n",
       "            window._Plotly = Plotly;\n",
       "        });\n",
       "        }\n",
       "        </script>\n",
       "        "
      ]
     },
     "metadata": {},
     "output_type": "display_data"
    }
   ],
   "source": [
    "import cufflinks as cf; cf.go_offline()"
   ]
  },
  {
   "cell_type": "markdown",
   "id": "3ff819cf-4432-474a-8a5e-cfc59302c8a9",
   "metadata": {},
   "source": [
    "## Data Integrity"
   ]
  },
  {
   "cell_type": "markdown",
   "id": "6629d51f-7945-4c07-94bd-edf0c6a76a2c",
   "metadata": {},
   "source": [
    "### Duplicated rows"
   ]
  },
  {
   "cell_type": "code",
   "execution_count": 4,
   "id": "d5bc480e-9a4d-4195-8bfe-80b8b25c2117",
   "metadata": {},
   "outputs": [
    {
     "data": {
      "text/plain": [
       "0"
      ]
     },
     "execution_count": 4,
     "metadata": {},
     "output_type": "execute_result"
    }
   ],
   "source": [
    "df.duplicated().sum()"
   ]
  },
  {
   "cell_type": "markdown",
   "id": "eb4ad168-fae9-4671-9652-131be49ff69a",
   "metadata": {},
   "source": [
    "### Data types"
   ]
  },
  {
   "cell_type": "code",
   "execution_count": 5,
   "id": "b1f890d5-8400-415f-8547-f887abc088b1",
   "metadata": {},
   "outputs": [],
   "source": [
    "columns_type = df.dtypes"
   ]
  },
  {
   "cell_type": "code",
   "execution_count": 6,
   "id": "ede3c9c5-330f-4ca2-9c5e-26806e19ecb5",
   "metadata": {},
   "outputs": [
    {
     "data": {
      "text/plain": [
       "float64    794\n",
       "object      44\n",
       "int64       43\n",
       "dtype: int64"
      ]
     },
     "execution_count": 6,
     "metadata": {},
     "output_type": "execute_result"
    }
   ],
   "source": [
    "columns_type.value_counts()"
   ]
  },
  {
   "cell_type": "markdown",
   "id": "6480895c-2673-479b-a374-36247d3a444d",
   "metadata": {},
   "source": [
    "### Fixing value issues"
   ]
  },
  {
   "cell_type": "code",
   "execution_count": 7,
   "id": "36cc4f1e-bb01-4931-99fd-33855aa148eb",
   "metadata": {},
   "outputs": [],
   "source": [
    "df.replace(-np.inf, np.nan, inplace=True)\n",
    "df.replace(np.inf, np.nan, inplace=True)\n",
    "df.replace('nan',np.nan, inplace=True)\n",
    "df.replace('-∞', float('-inf'), inplace=True)\n",
    "df.replace('False', False, inplace=True)\n",
    "df.replace('FALSE', False, inplace=True)\n",
    "df.replace('True', True, inplace=True)\n",
    "df.replace('TRUE', True, inplace=True)"
   ]
  },
  {
   "cell_type": "code",
   "execution_count": 8,
   "id": "32525bfe-b5ae-4047-b380-dd85f87dfd15",
   "metadata": {},
   "outputs": [],
   "source": [
    "cat_columns = df.dtypes[df.dtypes == 'object'].index\n",
    "for c in cat_columns:\n",
    "    if c in ['TQSLCKT',\n",
    "             'FRPZZAO',\n",
    "             'CJICMVV',\n",
    "             'CNECOOI',\n",
    "             'HLUJJDC',\n",
    "             'OYBONYX',\n",
    "             'DRELDXX',\n",
    "             'IMAZODZ',\n",
    "             'ABMWXIO',\n",
    "             'EYAUITY',\n",
    "             'TOTBAZC',\n",
    "             'TERIJOV',\n",
    "             'FKCIOEN']:\n",
    "        continue\n",
    "    df[c]=df[c].astype(float)"
   ]
  },
  {
   "cell_type": "code",
   "execution_count": 9,
   "id": "0b0280d9-da6a-47a6-9b0b-edd9fd9789ae",
   "metadata": {},
   "outputs": [
    {
     "data": {
      "text/plain": [
       "float64    825\n",
       "int64       43\n",
       "object      13\n",
       "dtype: int64"
      ]
     },
     "execution_count": 9,
     "metadata": {},
     "output_type": "execute_result"
    }
   ],
   "source": [
    "df.dtypes.value_counts()"
   ]
  },
  {
   "cell_type": "markdown",
   "id": "f31d8f63-53a8-4863-997a-23b90127f16e",
   "metadata": {},
   "source": [
    "### Target analysis"
   ]
  },
  {
   "cell_type": "code",
   "execution_count": 10,
   "id": "09845251-96e9-4ee1-a5cf-cbd6c0fddb89",
   "metadata": {},
   "outputs": [],
   "source": [
    "target_test = 'TLJYWBE'\n",
    "failure_thd = 1e-5\n",
    "target_test_col = df[target_test]"
   ]
  },
  {
   "cell_type": "code",
   "execution_count": 11,
   "id": "37059c11-205b-4892-a796-30bf0a874df4",
   "metadata": {},
   "outputs": [
    {
     "data": {
      "text/plain": [
       "16770"
      ]
     },
     "execution_count": 11,
     "metadata": {},
     "output_type": "execute_result"
    }
   ],
   "source": [
    "target_test_col.isna().sum()"
   ]
  },
  {
   "cell_type": "code",
   "execution_count": 12,
   "id": "38532ed8-532e-4166-837e-95b3e71b2e6a",
   "metadata": {},
   "outputs": [
    {
     "data": {
      "text/plain": [
       "(709518, 881)"
      ]
     },
     "execution_count": 12,
     "metadata": {},
     "output_type": "execute_result"
    }
   ],
   "source": [
    "df = df[target_test_col.notnull()]\n",
    "df.shape"
   ]
  },
  {
   "cell_type": "code",
   "execution_count": 13,
   "id": "abb85bb9-bbb9-454b-976f-004b82138b47",
   "metadata": {},
   "outputs": [
    {
     "data": {
      "text/plain": [
       "False    726224\n",
       "True         64\n",
       "Name: TLJYWBE, dtype: int64"
      ]
     },
     "execution_count": 13,
     "metadata": {},
     "output_type": "execute_result"
    }
   ],
   "source": [
    "(target_test_col >= failure_thd).value_counts(dropna=False)"
   ]
  },
  {
   "cell_type": "markdown",
   "id": "0da2a33e-021e-40ff-90cd-7b64e09046a5",
   "metadata": {},
   "source": [
    "## Handling duplicated columns"
   ]
  },
  {
   "cell_type": "code",
   "execution_count": 14,
   "id": "3d85f927-065c-47a5-8390-99fe467ad316",
   "metadata": {},
   "outputs": [],
   "source": [
    "def nan_positions_match(df, col1, col2):\n",
    "    return (df[col1].isnull() == df[col2].isnull()).all()\n",
    "\n",
    "def categorical_distribution_match(df, col1, col2):\n",
    "    # Get value counts for each column\n",
    "    vc1 = df[col1].value_counts()\n",
    "    vc2 = df[col2].value_counts()\n",
    "    is_equal_distribution = vc1.values.tolist() == vc2.values.tolist()\n",
    "    category_matching = list(zip(vc1.index, vc2.index))\n",
    "\n",
    "    # Check if indices for each category match\n",
    "    all_categories_match = True\n",
    "    for cat_1, cat_2 in category_matching:\n",
    "        indices_col1 = df[df[col1] == cat_1].index\n",
    "        indices_col2 = df[df[col2] == cat_2].index\n",
    "        if not indices_col1.equals(indices_col2):\n",
    "            all_categories_match = False\n",
    "            break\n",
    "\n",
    "    # Return results\n",
    "    if is_equal_distribution and all_categories_match:\n",
    "        return True\n",
    "    else:\n",
    "        return False\n",
    "\n",
    "def check_columns_identity(df, col1, col2):\n",
    "    if df[col1].dtype != df[col2].dtype:\n",
    "        return False\n",
    "    if not nan_positions_match(df, col1, col2):\n",
    "        return False\n",
    "    if df[col1].dtype == 'object':\n",
    "        if not categorical_distribution_match(df, col1, col2):\n",
    "            return False\n",
    "    elif df[col1].dtype == 'int64':\n",
    "        if not categorical_distribution_match(df, col1, col2):\n",
    "            return False\n",
    "    elif df[col1].dtype == 'float64':\n",
    "        if not (df[col1].dropna().rank() == df[col2].dropna().rank()).all():\n",
    "            return False\n",
    "    return True"
   ]
  },
  {
   "cell_type": "code",
   "execution_count": 15,
   "id": "440f46d5-2256-4c79-8a68-a9f0d5659d64",
   "metadata": {},
   "outputs": [],
   "source": [
    "cols = df.columns"
   ]
  },
  {
   "cell_type": "code",
   "execution_count": 16,
   "id": "8f88bb87-d257-406d-867c-01bc112ea0f4",
   "metadata": {
    "tags": []
   },
   "outputs": [
    {
     "name": "stdout",
     "output_type": "stream",
     "text": [
      "Testing column 880 of 881. Number of cols to drop so far: 192\r"
     ]
    }
   ],
   "source": [
    "from collections import defaultdict\n",
    "cols_to_drop = set()\n",
    "matches = defaultdict(list)\n",
    "sample = df.sample(1000, random_state=42)\n",
    "for i,col1 in enumerate(cols):\n",
    "    print(f'Testing column {i} of {len(cols)}. Number of cols to drop so far: {len(cols_to_drop)}', end='\\r')\n",
    "    for col2 in cols:\n",
    "        if col1 == col2:\n",
    "            continue\n",
    "        if check_columns_identity(sample, col1, col2):\n",
    "            #print(f'Fount match: {col1} to {col2}')\n",
    "            matches[col1].append(col2)\n",
    "            cols_to_drop.add(col2)"
   ]
  },
  {
   "cell_type": "code",
   "execution_count": 17,
   "id": "f6eb05ae-f1fe-4f7d-8aab-11bf439b5266",
   "metadata": {},
   "outputs": [
    {
     "name": "stdout",
     "output_type": "stream",
     "text": [
      "Eventually, column UIDFQDA is not a duplicate of column MSVWNFK\n",
      "Eventually, column MSVWNFK is not a duplicate of column UIDFQDA\n",
      "Indeed, column MMGUYQW is a duplicate of column HGCJPXQ\n",
      "Indeed, column EJLLSVL is a duplicate of column HGCJPXQ\n",
      "Indeed, column FGRQLRJ is a duplicate of column HGCJPXQ\n",
      "Eventually, column LWFSOBB is not a duplicate of column HGCJPXQ\n",
      "Eventually, column KHDGXRJ is not a duplicate of column HGCJPXQ\n",
      "Eventually, column MZUTRGY is not a duplicate of column HGCJPXQ\n",
      "Eventually, column WSTYRNH is not a duplicate of column HGCJPXQ\n",
      "Eventually, column IJOSAYZ is not a duplicate of column HGCJPXQ\n",
      "Eventually, column GNJJUIH is not a duplicate of column HGCJPXQ\n",
      "Eventually, column MKVXAUF is not a duplicate of column HGCJPXQ\n",
      "Eventually, column VXZZORS is not a duplicate of column HGCJPXQ\n",
      "Eventually, column HOAJWUR is not a duplicate of column HGCJPXQ\n",
      "Eventually, column KXGNEZR is not a duplicate of column HGCJPXQ\n",
      "Eventually, column NJFNKOX is not a duplicate of column HGCJPXQ\n",
      "Eventually, column IQOCYUU is not a duplicate of column HGCJPXQ\n",
      "Eventually, column KVOYKGE is not a duplicate of column HGCJPXQ\n",
      "Eventually, column RNCEKOH is not a duplicate of column HGCJPXQ\n",
      "Eventually, column UMIGGHZ is not a duplicate of column HGCJPXQ\n",
      "Eventually, column ZHPRSBN is not a duplicate of column HGCJPXQ\n",
      "Eventually, column XRUUCHW is not a duplicate of column HGCJPXQ\n",
      "Eventually, column XXIPGDP is not a duplicate of column HGCJPXQ\n",
      "Eventually, column XJTQVGI is not a duplicate of column HGCJPXQ\n",
      "Eventually, column VMYGDBS is not a duplicate of column HGCJPXQ\n",
      "Eventually, column EWKETJA is not a duplicate of column HGCJPXQ\n",
      "Eventually, column QVZRENP is not a duplicate of column HGCJPXQ\n",
      "Eventually, column LVBGDZB is not a duplicate of column HGCJPXQ\n",
      "Eventually, column FIJMBVX is not a duplicate of column HGCJPXQ\n",
      "Eventually, column GGNNDQY is not a duplicate of column HGCJPXQ\n",
      "Eventually, column IJTGMGJ is not a duplicate of column HGCJPXQ\n",
      "Eventually, column CPZMPBY is not a duplicate of column HGCJPXQ\n",
      "Eventually, column ILGYBTA is not a duplicate of column HGCJPXQ\n",
      "Eventually, column SZWWWHI is not a duplicate of column HGCJPXQ\n",
      "Eventually, column FJXWXPI is not a duplicate of column HGCJPXQ\n",
      "Eventually, column HGONGZK is not a duplicate of column HGCJPXQ\n",
      "Eventually, column CRYLNZI is not a duplicate of column HGCJPXQ\n",
      "Eventually, column MRDZBFN is not a duplicate of column HGCJPXQ\n",
      "Eventually, column QXTPTQN is not a duplicate of column HGCJPXQ\n",
      "Eventually, column LJGDTWM is not a duplicate of column HGCJPXQ\n",
      "Indeed, column FRPZZAO is a duplicate of column TQSLCKT\n",
      "Eventually, column CJICMVV is not a duplicate of column TQSLCKT\n",
      "Eventually, column CNECOOI is not a duplicate of column TQSLCKT\n",
      "Eventually, column HLUJJDC is not a duplicate of column TQSLCKT\n",
      "Eventually, column TERIJOV is not a duplicate of column TQSLCKT\n",
      "Eventually, column FKCIOEN is not a duplicate of column TQSLCKT\n",
      "Eventually, column TQSLCKT is not a duplicate of column CJICMVV\n",
      "Indeed, column CNECOOI is a duplicate of column CJICMVV\n",
      "Indeed, column HLUJJDC is a duplicate of column CJICMVV\n",
      "Eventually, column TERIJOV is not a duplicate of column CJICMVV\n",
      "Eventually, column FKCIOEN is not a duplicate of column CJICMVV\n",
      "Eventually, column HGCJPXQ is not a duplicate of column LWFSOBB\n",
      "Eventually, column KHDGXRJ is not a duplicate of column LWFSOBB\n",
      "Eventually, column MZUTRGY is not a duplicate of column LWFSOBB\n",
      "Eventually, column WSTYRNH is not a duplicate of column LWFSOBB\n",
      "Eventually, column IJOSAYZ is not a duplicate of column LWFSOBB\n",
      "Eventually, column GNJJUIH is not a duplicate of column LWFSOBB\n",
      "Eventually, column MKVXAUF is not a duplicate of column LWFSOBB\n",
      "Eventually, column VXZZORS is not a duplicate of column LWFSOBB\n",
      "Eventually, column HOAJWUR is not a duplicate of column LWFSOBB\n",
      "Eventually, column KXGNEZR is not a duplicate of column LWFSOBB\n",
      "Eventually, column NJFNKOX is not a duplicate of column LWFSOBB\n",
      "Eventually, column IQOCYUU is not a duplicate of column LWFSOBB\n",
      "Eventually, column KVOYKGE is not a duplicate of column LWFSOBB\n",
      "Eventually, column RNCEKOH is not a duplicate of column LWFSOBB\n",
      "Eventually, column UMIGGHZ is not a duplicate of column LWFSOBB\n",
      "Eventually, column ZHPRSBN is not a duplicate of column LWFSOBB\n",
      "Eventually, column XRUUCHW is not a duplicate of column LWFSOBB\n",
      "Eventually, column XXIPGDP is not a duplicate of column LWFSOBB\n",
      "Eventually, column XJTQVGI is not a duplicate of column LWFSOBB\n",
      "Eventually, column VMYGDBS is not a duplicate of column LWFSOBB\n",
      "Eventually, column EWKETJA is not a duplicate of column LWFSOBB\n",
      "Eventually, column QVZRENP is not a duplicate of column LWFSOBB\n",
      "Eventually, column LVBGDZB is not a duplicate of column LWFSOBB\n",
      "Eventually, column FIJMBVX is not a duplicate of column LWFSOBB\n",
      "Eventually, column GGNNDQY is not a duplicate of column LWFSOBB\n",
      "Eventually, column IJTGMGJ is not a duplicate of column LWFSOBB\n",
      "Eventually, column CPZMPBY is not a duplicate of column LWFSOBB\n",
      "Eventually, column ILGYBTA is not a duplicate of column LWFSOBB\n",
      "Eventually, column SZWWWHI is not a duplicate of column LWFSOBB\n",
      "Eventually, column FJXWXPI is not a duplicate of column LWFSOBB\n",
      "Eventually, column HGONGZK is not a duplicate of column LWFSOBB\n",
      "Eventually, column CRYLNZI is not a duplicate of column LWFSOBB\n",
      "Eventually, column MRDZBFN is not a duplicate of column LWFSOBB\n",
      "Eventually, column QXTPTQN is not a duplicate of column LWFSOBB\n",
      "Eventually, column LJGDTWM is not a duplicate of column LWFSOBB\n",
      "Eventually, column HGCJPXQ is not a duplicate of column KHDGXRJ\n",
      "Eventually, column LWFSOBB is not a duplicate of column KHDGXRJ\n",
      "Indeed, column MZUTRGY is a duplicate of column KHDGXRJ\n",
      "Eventually, column WSTYRNH is not a duplicate of column KHDGXRJ\n",
      "Eventually, column IJOSAYZ is not a duplicate of column KHDGXRJ\n",
      "Eventually, column GNJJUIH is not a duplicate of column KHDGXRJ\n",
      "Eventually, column MKVXAUF is not a duplicate of column KHDGXRJ\n",
      "Indeed, column VXZZORS is a duplicate of column KHDGXRJ\n",
      "Eventually, column HOAJWUR is not a duplicate of column KHDGXRJ\n",
      "Indeed, column KXGNEZR is a duplicate of column KHDGXRJ\n",
      "Eventually, column NJFNKOX is not a duplicate of column KHDGXRJ\n",
      "Eventually, column IQOCYUU is not a duplicate of column KHDGXRJ\n",
      "Eventually, column KVOYKGE is not a duplicate of column KHDGXRJ\n",
      "Eventually, column RNCEKOH is not a duplicate of column KHDGXRJ\n",
      "Eventually, column UMIGGHZ is not a duplicate of column KHDGXRJ\n",
      "Eventually, column ZHPRSBN is not a duplicate of column KHDGXRJ\n",
      "Eventually, column XRUUCHW is not a duplicate of column KHDGXRJ\n",
      "Eventually, column XXIPGDP is not a duplicate of column KHDGXRJ\n",
      "Eventually, column XJTQVGI is not a duplicate of column KHDGXRJ\n",
      "Eventually, column VMYGDBS is not a duplicate of column KHDGXRJ\n",
      "Eventually, column EWKETJA is not a duplicate of column KHDGXRJ\n",
      "Eventually, column QVZRENP is not a duplicate of column KHDGXRJ\n",
      "Eventually, column LVBGDZB is not a duplicate of column KHDGXRJ\n",
      "Eventually, column FIJMBVX is not a duplicate of column KHDGXRJ\n",
      "Eventually, column GGNNDQY is not a duplicate of column KHDGXRJ\n",
      "Eventually, column IJTGMGJ is not a duplicate of column KHDGXRJ\n",
      "Eventually, column CPZMPBY is not a duplicate of column KHDGXRJ\n",
      "Eventually, column ILGYBTA is not a duplicate of column KHDGXRJ\n",
      "Eventually, column SZWWWHI is not a duplicate of column KHDGXRJ\n",
      "Eventually, column FJXWXPI is not a duplicate of column KHDGXRJ\n",
      "Eventually, column HGONGZK is not a duplicate of column KHDGXRJ\n",
      "Eventually, column CRYLNZI is not a duplicate of column KHDGXRJ\n",
      "Eventually, column MRDZBFN is not a duplicate of column KHDGXRJ\n",
      "Eventually, column QXTPTQN is not a duplicate of column KHDGXRJ\n",
      "Eventually, column LJGDTWM is not a duplicate of column KHDGXRJ\n",
      "Eventually, column HGCJPXQ is not a duplicate of column WSTYRNH\n",
      "Eventually, column LWFSOBB is not a duplicate of column WSTYRNH\n",
      "Eventually, column KHDGXRJ is not a duplicate of column WSTYRNH\n",
      "Indeed, column IJOSAYZ is a duplicate of column WSTYRNH\n",
      "Eventually, column GNJJUIH is not a duplicate of column WSTYRNH\n",
      "Eventually, column MKVXAUF is not a duplicate of column WSTYRNH\n",
      "Indeed, column HOAJWUR is a duplicate of column WSTYRNH\n",
      "Eventually, column NJFNKOX is not a duplicate of column WSTYRNH\n",
      "Eventually, column IQOCYUU is not a duplicate of column WSTYRNH\n",
      "Eventually, column KVOYKGE is not a duplicate of column WSTYRNH\n",
      "Eventually, column RNCEKOH is not a duplicate of column WSTYRNH\n",
      "Eventually, column UMIGGHZ is not a duplicate of column WSTYRNH\n",
      "Eventually, column ZHPRSBN is not a duplicate of column WSTYRNH\n",
      "Eventually, column XRUUCHW is not a duplicate of column WSTYRNH\n",
      "Eventually, column XXIPGDP is not a duplicate of column WSTYRNH\n",
      "Eventually, column XJTQVGI is not a duplicate of column WSTYRNH\n",
      "Eventually, column VMYGDBS is not a duplicate of column WSTYRNH\n",
      "Eventually, column EWKETJA is not a duplicate of column WSTYRNH\n",
      "Eventually, column QVZRENP is not a duplicate of column WSTYRNH\n",
      "Eventually, column LVBGDZB is not a duplicate of column WSTYRNH\n",
      "Eventually, column FIJMBVX is not a duplicate of column WSTYRNH\n",
      "Eventually, column GGNNDQY is not a duplicate of column WSTYRNH\n",
      "Eventually, column IJTGMGJ is not a duplicate of column WSTYRNH\n",
      "Eventually, column CPZMPBY is not a duplicate of column WSTYRNH\n",
      "Eventually, column ILGYBTA is not a duplicate of column WSTYRNH\n",
      "Eventually, column SZWWWHI is not a duplicate of column WSTYRNH\n",
      "Eventually, column FJXWXPI is not a duplicate of column WSTYRNH\n",
      "Eventually, column HGONGZK is not a duplicate of column WSTYRNH\n",
      "Eventually, column CRYLNZI is not a duplicate of column WSTYRNH\n",
      "Eventually, column MRDZBFN is not a duplicate of column WSTYRNH\n",
      "Eventually, column QXTPTQN is not a duplicate of column WSTYRNH\n",
      "Eventually, column LJGDTWM is not a duplicate of column WSTYRNH\n",
      "Eventually, column HGCJPXQ is not a duplicate of column GNJJUIH\n",
      "Eventually, column LWFSOBB is not a duplicate of column GNJJUIH\n",
      "Eventually, column KHDGXRJ is not a duplicate of column GNJJUIH\n",
      "Eventually, column WSTYRNH is not a duplicate of column GNJJUIH\n",
      "Indeed, column MKVXAUF is a duplicate of column GNJJUIH\n",
      "Indeed, column NJFNKOX is a duplicate of column GNJJUIH\n",
      "Eventually, column IQOCYUU is not a duplicate of column GNJJUIH\n",
      "Eventually, column KVOYKGE is not a duplicate of column GNJJUIH\n",
      "Eventually, column RNCEKOH is not a duplicate of column GNJJUIH\n",
      "Eventually, column UMIGGHZ is not a duplicate of column GNJJUIH\n",
      "Eventually, column ZHPRSBN is not a duplicate of column GNJJUIH\n",
      "Eventually, column XRUUCHW is not a duplicate of column GNJJUIH\n",
      "Eventually, column XXIPGDP is not a duplicate of column GNJJUIH\n",
      "Eventually, column XJTQVGI is not a duplicate of column GNJJUIH\n",
      "Eventually, column VMYGDBS is not a duplicate of column GNJJUIH\n",
      "Eventually, column EWKETJA is not a duplicate of column GNJJUIH\n",
      "Eventually, column QVZRENP is not a duplicate of column GNJJUIH\n",
      "Eventually, column LVBGDZB is not a duplicate of column GNJJUIH\n",
      "Eventually, column FIJMBVX is not a duplicate of column GNJJUIH\n",
      "Eventually, column GGNNDQY is not a duplicate of column GNJJUIH\n",
      "Eventually, column IJTGMGJ is not a duplicate of column GNJJUIH\n",
      "Eventually, column CPZMPBY is not a duplicate of column GNJJUIH\n",
      "Eventually, column ILGYBTA is not a duplicate of column GNJJUIH\n",
      "Eventually, column SZWWWHI is not a duplicate of column GNJJUIH\n",
      "Eventually, column FJXWXPI is not a duplicate of column GNJJUIH\n",
      "Eventually, column HGONGZK is not a duplicate of column GNJJUIH\n",
      "Eventually, column CRYLNZI is not a duplicate of column GNJJUIH\n",
      "Eventually, column MRDZBFN is not a duplicate of column GNJJUIH\n",
      "Eventually, column QXTPTQN is not a duplicate of column GNJJUIH\n",
      "Eventually, column LJGDTWM is not a duplicate of column GNJJUIH\n",
      "Eventually, column DLWYUSK is not a duplicate of column OELFGBD\n",
      "Eventually, column OELFGBD is not a duplicate of column DLWYUSK\n",
      "Eventually, column LVMHJCI is not a duplicate of column INJPVHJ\n",
      "Eventually, column INJPVHJ is not a duplicate of column LVMHJCI\n",
      "Eventually, column IFZDTPK is not a duplicate of column CXQMCRY\n",
      "Eventually, column CXQMCRY is not a duplicate of column IFZDTPK\n",
      "Indeed, column FZHCPXN is a duplicate of column PCIXTYP\n",
      "Indeed, column ABKUZXQ is a duplicate of column PCIXTYP\n",
      "Indeed, column TNLTITB is a duplicate of column PCIXTYP\n",
      "Indeed, column WHWNSMK is a duplicate of column PCIXTYP\n",
      "Indeed, column OELGKKQ is a duplicate of column PCIXTYP\n",
      "Indeed, column XQJKMDS is a duplicate of column PCIXTYP\n",
      "Indeed, column WYYWAWQ is a duplicate of column PCIXTYP\n",
      "Indeed, column FMWCHDN is a duplicate of column PCIXTYP\n",
      "Indeed, column WPJXHBR is a duplicate of column PCIXTYP\n",
      "Indeed, column PGENXWU is a duplicate of column PCIXTYP\n",
      "Indeed, column ZQMONHC is a duplicate of column PCIXTYP\n",
      "Indeed, column AJOFIZJ is a duplicate of column PCIXTYP\n",
      "Indeed, column VXQLENI is a duplicate of column PCIXTYP\n",
      "Indeed, column HTTHEYH is a duplicate of column PCIXTYP\n",
      "Indeed, column FBDGIUT is a duplicate of column PCIXTYP\n",
      "Indeed, column VLOHNYE is a duplicate of column PCIXTYP\n",
      "Indeed, column ERXNSUN is a duplicate of column PCIXTYP\n",
      "Indeed, column UANVOYU is a duplicate of column PCIXTYP\n",
      "Indeed, column MKGQLST is a duplicate of column PCIXTYP\n",
      "Indeed, column BADTSBX is a duplicate of column PCIXTYP\n",
      "Indeed, column NEKQCXA is a duplicate of column PCIXTYP\n",
      "Indeed, column KAHHGFH is a duplicate of column PCIXTYP\n",
      "Indeed, column MOYGMAB is a duplicate of column PCIXTYP\n",
      "Indeed, column YXRYJNT is a duplicate of column PCIXTYP\n",
      "Indeed, column TKXCHYD is a duplicate of column PCIXTYP\n",
      "Indeed, column TWTFEPM is a duplicate of column PCIXTYP\n",
      "Indeed, column ZBSCEOT is a duplicate of column PCIXTYP\n",
      "Indeed, column FBTIPCA is a duplicate of column PCIXTYP\n",
      "Indeed, column YLYAAGH is a duplicate of column PCIXTYP\n",
      "Indeed, column CYGFXWC is a duplicate of column PCIXTYP\n",
      "Indeed, column AHMUWMD is a duplicate of column PCIXTYP\n",
      "Eventually, column VUBFVUN is not a duplicate of column PCIXTYP\n",
      "Eventually, column VHLPUWU is not a duplicate of column PCIXTYP\n",
      "Eventually, column LDVYKSE is not a duplicate of column PCIXTYP\n",
      "Indeed, column XZSIRUV is a duplicate of column PCIXTYP\n",
      "Indeed, column YEZPLBM is a duplicate of column PCIXTYP\n",
      "Indeed, column MAODOCR is a duplicate of column PCIXTYP\n",
      "Indeed, column RONTGKG is a duplicate of column PCIXTYP\n",
      "Indeed, column OLOIPWS is a duplicate of column PCIXTYP\n",
      "Indeed, column PBZEGCA is a duplicate of column PCIXTYP\n",
      "Indeed, column FRICEIH is a duplicate of column PCIXTYP\n",
      "Indeed, column JWJHZJJ is a duplicate of column PCIXTYP\n",
      "Indeed, column NOIYREE is a duplicate of column PCIXTYP\n",
      "Indeed, column QTIPFME is a duplicate of column PCIXTYP\n",
      "Indeed, column BBVGXMU is a duplicate of column PCIXTYP\n",
      "Indeed, column FSBLFRV is a duplicate of column PCIXTYP\n",
      "Indeed, column UGFBHFI is a duplicate of column PCIXTYP\n",
      "Indeed, column KDIATNL is a duplicate of column PCIXTYP\n",
      "Indeed, column BTEYMSX is a duplicate of column PCIXTYP\n",
      "Indeed, column TUIWOPA is a duplicate of column PCIXTYP\n",
      "Indeed, column LEVGOPF is a duplicate of column PCIXTYP\n",
      "Indeed, column BZRZXSR is a duplicate of column PCIXTYP\n",
      "Indeed, column AXVFXOV is a duplicate of column PCIXTYP\n",
      "Indeed, column SIJOOGR is a duplicate of column PCIXTYP\n",
      "Indeed, column BQLHRUO is a duplicate of column PCIXTYP\n",
      "Indeed, column HGWWOZY is a duplicate of column PCIXTYP\n",
      "Indeed, column DRELDXX is a duplicate of column OYBONYX\n",
      "Indeed, column IMAZODZ is a duplicate of column OYBONYX\n",
      "Indeed, column ABMWXIO is a duplicate of column OYBONYX\n",
      "Indeed, column EYAUITY is a duplicate of column OYBONYX\n",
      "Indeed, column TOTBAZC is a duplicate of column OYBONYX\n",
      "Eventually, column HGCJPXQ is not a duplicate of column IQOCYUU\n",
      "Eventually, column LWFSOBB is not a duplicate of column IQOCYUU\n",
      "Eventually, column KHDGXRJ is not a duplicate of column IQOCYUU\n",
      "Eventually, column WSTYRNH is not a duplicate of column IQOCYUU\n",
      "Eventually, column GNJJUIH is not a duplicate of column IQOCYUU\n",
      "Eventually, column KVOYKGE is not a duplicate of column IQOCYUU\n",
      "Eventually, column RNCEKOH is not a duplicate of column IQOCYUU\n",
      "Eventually, column UMIGGHZ is not a duplicate of column IQOCYUU\n",
      "Eventually, column ZHPRSBN is not a duplicate of column IQOCYUU\n",
      "Indeed, column XRUUCHW is a duplicate of column IQOCYUU\n",
      "Eventually, column XXIPGDP is not a duplicate of column IQOCYUU\n",
      "Eventually, column XJTQVGI is not a duplicate of column IQOCYUU\n",
      "Eventually, column VMYGDBS is not a duplicate of column IQOCYUU\n",
      "Eventually, column EWKETJA is not a duplicate of column IQOCYUU\n",
      "Eventually, column QVZRENP is not a duplicate of column IQOCYUU\n",
      "Eventually, column LVBGDZB is not a duplicate of column IQOCYUU\n",
      "Eventually, column FIJMBVX is not a duplicate of column IQOCYUU\n",
      "Eventually, column GGNNDQY is not a duplicate of column IQOCYUU\n",
      "Eventually, column IJTGMGJ is not a duplicate of column IQOCYUU\n",
      "Eventually, column CPZMPBY is not a duplicate of column IQOCYUU\n",
      "Eventually, column ILGYBTA is not a duplicate of column IQOCYUU\n",
      "Eventually, column SZWWWHI is not a duplicate of column IQOCYUU\n",
      "Eventually, column FJXWXPI is not a duplicate of column IQOCYUU\n",
      "Eventually, column HGONGZK is not a duplicate of column IQOCYUU\n",
      "Eventually, column CRYLNZI is not a duplicate of column IQOCYUU\n",
      "Eventually, column MRDZBFN is not a duplicate of column IQOCYUU\n",
      "Eventually, column QXTPTQN is not a duplicate of column IQOCYUU\n",
      "Indeed, column LJGDTWM is a duplicate of column IQOCYUU\n",
      "Eventually, column HGCJPXQ is not a duplicate of column KVOYKGE\n",
      "Eventually, column LWFSOBB is not a duplicate of column KVOYKGE\n",
      "Eventually, column KHDGXRJ is not a duplicate of column KVOYKGE\n",
      "Eventually, column WSTYRNH is not a duplicate of column KVOYKGE\n",
      "Eventually, column GNJJUIH is not a duplicate of column KVOYKGE\n",
      "Eventually, column IQOCYUU is not a duplicate of column KVOYKGE\n",
      "Indeed, column RNCEKOH is a duplicate of column KVOYKGE\n",
      "Indeed, column UMIGGHZ is a duplicate of column KVOYKGE\n",
      "Indeed, column ZHPRSBN is a duplicate of column KVOYKGE\n",
      "Eventually, column XXIPGDP is not a duplicate of column KVOYKGE\n",
      "Eventually, column XJTQVGI is not a duplicate of column KVOYKGE\n",
      "Eventually, column VMYGDBS is not a duplicate of column KVOYKGE\n",
      "Eventually, column EWKETJA is not a duplicate of column KVOYKGE\n",
      "Eventually, column QVZRENP is not a duplicate of column KVOYKGE\n",
      "Eventually, column LVBGDZB is not a duplicate of column KVOYKGE\n",
      "Eventually, column FIJMBVX is not a duplicate of column KVOYKGE\n",
      "Eventually, column GGNNDQY is not a duplicate of column KVOYKGE\n",
      "Eventually, column IJTGMGJ is not a duplicate of column KVOYKGE\n",
      "Eventually, column CPZMPBY is not a duplicate of column KVOYKGE\n",
      "Eventually, column ILGYBTA is not a duplicate of column KVOYKGE\n",
      "Eventually, column SZWWWHI is not a duplicate of column KVOYKGE\n",
      "Eventually, column FJXWXPI is not a duplicate of column KVOYKGE\n",
      "Eventually, column HGONGZK is not a duplicate of column KVOYKGE\n",
      "Eventually, column CRYLNZI is not a duplicate of column KVOYKGE\n",
      "Eventually, column MRDZBFN is not a duplicate of column KVOYKGE\n",
      "Eventually, column QXTPTQN is not a duplicate of column KVOYKGE\n",
      "Eventually, column TQSLCKT is not a duplicate of column TERIJOV\n",
      "Eventually, column CJICMVV is not a duplicate of column TERIJOV\n",
      "Indeed, column FKCIOEN is a duplicate of column TERIJOV\n",
      "Indeed, column BXBUVRU is a duplicate of column SWMNPFK\n",
      "Indeed, column KRMCXMU is a duplicate of column SWMNPFK\n",
      "Indeed, column XRUSUCA is a duplicate of column SWMNPFK\n",
      "Indeed, column YPMGCVT is a duplicate of column SWMNPFK\n",
      "Indeed, column HTMOHRO is a duplicate of column SWMNPFK\n",
      "Indeed, column WWHSAAX is a duplicate of column SWMNPFK\n",
      "Indeed, column LVDPQQT is a duplicate of column SWMNPFK\n",
      "Indeed, column EHAPOTE is a duplicate of column SWMNPFK\n",
      "Indeed, column PINNYVT is a duplicate of column SWMNPFK\n",
      "Indeed, column LNGBURD is a duplicate of column SWMNPFK\n",
      "Indeed, column BQEDTSY is a duplicate of column SWMNPFK\n",
      "Indeed, column LGRGANO is a duplicate of column SWMNPFK\n",
      "Indeed, column IPLONQP is a duplicate of column SWMNPFK\n",
      "Indeed, column RQVRYXC is a duplicate of column SWMNPFK\n",
      "Indeed, column WMZGUWK is a duplicate of column SWMNPFK\n",
      "Indeed, column VWPFOKV is a duplicate of column SWMNPFK\n",
      "Indeed, column AKRJZVC is a duplicate of column SWMNPFK\n",
      "Indeed, column VDOFXVB is a duplicate of column SWMNPFK\n",
      "Indeed, column TMSJMYI is a duplicate of column SWMNPFK\n",
      "Indeed, column ELXUMTI is a duplicate of column SWMNPFK\n",
      "Indeed, column KNYSSTU is a duplicate of column SWMNPFK\n",
      "Indeed, column EBEXNTO is a duplicate of column OJSWUAF\n",
      "Indeed, column FYWFJXP is a duplicate of column OJSWUAF\n",
      "Indeed, column JEQWBOK is a duplicate of column OJSWUAF\n",
      "Indeed, column TGXFVBT is a duplicate of column OJSWUAF\n",
      "Indeed, column WCYWJXK is a duplicate of column OJSWUAF\n",
      "Eventually, column HGCJPXQ is not a duplicate of column XXIPGDP\n",
      "Eventually, column LWFSOBB is not a duplicate of column XXIPGDP\n",
      "Eventually, column KHDGXRJ is not a duplicate of column XXIPGDP\n",
      "Eventually, column WSTYRNH is not a duplicate of column XXIPGDP\n",
      "Eventually, column GNJJUIH is not a duplicate of column XXIPGDP\n",
      "Eventually, column IQOCYUU is not a duplicate of column XXIPGDP\n",
      "Eventually, column KVOYKGE is not a duplicate of column XXIPGDP\n",
      "Indeed, column XJTQVGI is a duplicate of column XXIPGDP\n",
      "Indeed, column VMYGDBS is a duplicate of column XXIPGDP\n",
      "Eventually, column EWKETJA is not a duplicate of column XXIPGDP\n",
      "Eventually, column QVZRENP is not a duplicate of column XXIPGDP\n",
      "Eventually, column LVBGDZB is not a duplicate of column XXIPGDP\n",
      "Eventually, column FIJMBVX is not a duplicate of column XXIPGDP\n",
      "Eventually, column GGNNDQY is not a duplicate of column XXIPGDP\n",
      "Eventually, column IJTGMGJ is not a duplicate of column XXIPGDP\n",
      "Eventually, column CPZMPBY is not a duplicate of column XXIPGDP\n",
      "Eventually, column ILGYBTA is not a duplicate of column XXIPGDP\n",
      "Eventually, column SZWWWHI is not a duplicate of column XXIPGDP\n",
      "Eventually, column FJXWXPI is not a duplicate of column XXIPGDP\n",
      "Eventually, column HGONGZK is not a duplicate of column XXIPGDP\n",
      "Eventually, column CRYLNZI is not a duplicate of column XXIPGDP\n",
      "Eventually, column MRDZBFN is not a duplicate of column XXIPGDP\n",
      "Eventually, column QXTPTQN is not a duplicate of column XXIPGDP\n",
      "Eventually, column VUTOMKG is not a duplicate of column RHCAZIU\n",
      "Eventually, column CUULBWE is not a duplicate of column RHCAZIU\n",
      "Eventually, column RHCAZIU is not a duplicate of column VUTOMKG\n",
      "Eventually, column CUULBWE is not a duplicate of column VUTOMKG\n",
      "Eventually, column RHCAZIU is not a duplicate of column CUULBWE\n",
      "Eventually, column VUTOMKG is not a duplicate of column CUULBWE\n",
      "Indeed, column SHLZRCB is a duplicate of column JZVNCXT\n",
      "Indeed, column XIVOAXI is a duplicate of column JZVNCXT\n",
      "Indeed, column KKMOSNN is a duplicate of column JZVNCXT\n",
      "Indeed, column WTARSLQ is a duplicate of column JZVNCXT\n",
      "Indeed, column OPLXQJS is a duplicate of column JZVNCXT\n",
      "Indeed, column UILLRWJ is a duplicate of column JMFGDPB\n",
      "Indeed, column CKTRRMV is a duplicate of column JMFGDPB\n",
      "Indeed, column KYJTYYF is a duplicate of column JMFGDPB\n",
      "Eventually, column AWMGPPL is not a duplicate of column JMFGDPB\n",
      "Eventually, column VAGMJKH is not a duplicate of column JMFGDPB\n",
      "Indeed, column RTYTHAC is a duplicate of column SETVSTN\n",
      "Indeed, column MXNLYUW is a duplicate of column SETVSTN\n",
      "Indeed, column QDZIZBN is a duplicate of column SETVSTN\n",
      "Eventually, column RXLZZHO is not a duplicate of column SETVSTN\n",
      "Eventually, column SHXMZYS is not a duplicate of column SETVSTN\n",
      "Indeed, column VSPXQWL is a duplicate of column DUOKWOI\n",
      "Indeed, column NFRPIGQ is a duplicate of column DUOKWOI\n",
      "Indeed, column YRLOEIR is a duplicate of column DUOKWOI\n",
      "Eventually, column SJZKEVZ is not a duplicate of column DUOKWOI\n",
      "Eventually, column LTDFQFZ is not a duplicate of column DUOKWOI\n",
      "Eventually, column HGCJPXQ is not a duplicate of column EWKETJA\n",
      "Eventually, column LWFSOBB is not a duplicate of column EWKETJA\n",
      "Eventually, column KHDGXRJ is not a duplicate of column EWKETJA\n",
      "Eventually, column WSTYRNH is not a duplicate of column EWKETJA\n",
      "Eventually, column GNJJUIH is not a duplicate of column EWKETJA\n",
      "Eventually, column IQOCYUU is not a duplicate of column EWKETJA\n",
      "Eventually, column KVOYKGE is not a duplicate of column EWKETJA\n",
      "Eventually, column XXIPGDP is not a duplicate of column EWKETJA\n",
      "Indeed, column QVZRENP is a duplicate of column EWKETJA\n",
      "Eventually, column LVBGDZB is not a duplicate of column EWKETJA\n",
      "Eventually, column FIJMBVX is not a duplicate of column EWKETJA\n",
      "Eventually, column GGNNDQY is not a duplicate of column EWKETJA\n",
      "Eventually, column IJTGMGJ is not a duplicate of column EWKETJA\n",
      "Eventually, column CPZMPBY is not a duplicate of column EWKETJA\n",
      "Eventually, column ILGYBTA is not a duplicate of column EWKETJA\n",
      "Eventually, column SZWWWHI is not a duplicate of column EWKETJA\n",
      "Eventually, column FJXWXPI is not a duplicate of column EWKETJA\n",
      "Eventually, column HGONGZK is not a duplicate of column EWKETJA\n",
      "Eventually, column CRYLNZI is not a duplicate of column EWKETJA\n",
      "Eventually, column MRDZBFN is not a duplicate of column EWKETJA\n",
      "Eventually, column QXTPTQN is not a duplicate of column EWKETJA\n",
      "Eventually, column MSJJKBM is not a duplicate of column YTYOTNN\n",
      "Eventually, column NYFXQAP is not a duplicate of column YTYOTNN\n",
      "Eventually, column YTYOTNN is not a duplicate of column MSJJKBM\n",
      "Indeed, column NYFXQAP is a duplicate of column MSJJKBM\n",
      "Eventually, column EYARVDG is not a duplicate of column ZUEEBTY\n",
      "Eventually, column RFVSOEI is not a duplicate of column ZUEEBTY\n",
      "Eventually, column SHBNDLU is not a duplicate of column ZUEEBTY\n",
      "Eventually, column LTZYUVU is not a duplicate of column KMGNWGY\n",
      "Eventually, column IUCJIOI is not a duplicate of column LZIQISI\n",
      "Eventually, column WVRSHBW is not a duplicate of column DEAUOMN\n",
      "Eventually, column HGCJPXQ is not a duplicate of column LVBGDZB\n",
      "Eventually, column LWFSOBB is not a duplicate of column LVBGDZB\n",
      "Eventually, column KHDGXRJ is not a duplicate of column LVBGDZB\n",
      "Eventually, column WSTYRNH is not a duplicate of column LVBGDZB\n",
      "Eventually, column GNJJUIH is not a duplicate of column LVBGDZB\n",
      "Eventually, column IQOCYUU is not a duplicate of column LVBGDZB\n",
      "Eventually, column KVOYKGE is not a duplicate of column LVBGDZB\n",
      "Eventually, column XXIPGDP is not a duplicate of column LVBGDZB\n",
      "Eventually, column EWKETJA is not a duplicate of column LVBGDZB\n",
      "Indeed, column FIJMBVX is a duplicate of column LVBGDZB\n",
      "Eventually, column GGNNDQY is not a duplicate of column LVBGDZB\n",
      "Eventually, column IJTGMGJ is not a duplicate of column LVBGDZB\n",
      "Eventually, column CPZMPBY is not a duplicate of column LVBGDZB\n",
      "Eventually, column ILGYBTA is not a duplicate of column LVBGDZB\n",
      "Eventually, column SZWWWHI is not a duplicate of column LVBGDZB\n",
      "Eventually, column FJXWXPI is not a duplicate of column LVBGDZB\n",
      "Eventually, column HGONGZK is not a duplicate of column LVBGDZB\n",
      "Eventually, column CRYLNZI is not a duplicate of column LVBGDZB\n",
      "Eventually, column MRDZBFN is not a duplicate of column LVBGDZB\n",
      "Eventually, column QXTPTQN is not a duplicate of column LVBGDZB\n",
      "Eventually, column HGCJPXQ is not a duplicate of column GGNNDQY\n",
      "Eventually, column LWFSOBB is not a duplicate of column GGNNDQY\n",
      "Eventually, column KHDGXRJ is not a duplicate of column GGNNDQY\n",
      "Eventually, column WSTYRNH is not a duplicate of column GGNNDQY\n",
      "Eventually, column GNJJUIH is not a duplicate of column GGNNDQY\n",
      "Eventually, column IQOCYUU is not a duplicate of column GGNNDQY\n",
      "Eventually, column KVOYKGE is not a duplicate of column GGNNDQY\n",
      "Eventually, column XXIPGDP is not a duplicate of column GGNNDQY\n",
      "Eventually, column EWKETJA is not a duplicate of column GGNNDQY\n",
      "Eventually, column LVBGDZB is not a duplicate of column GGNNDQY\n",
      "Eventually, column IJTGMGJ is not a duplicate of column GGNNDQY\n",
      "Eventually, column CPZMPBY is not a duplicate of column GGNNDQY\n",
      "Eventually, column ILGYBTA is not a duplicate of column GGNNDQY\n",
      "Eventually, column SZWWWHI is not a duplicate of column GGNNDQY\n",
      "Eventually, column FJXWXPI is not a duplicate of column GGNNDQY\n",
      "Eventually, column HGONGZK is not a duplicate of column GGNNDQY\n",
      "Eventually, column CRYLNZI is not a duplicate of column GGNNDQY\n",
      "Eventually, column MRDZBFN is not a duplicate of column GGNNDQY\n",
      "Eventually, column QXTPTQN is not a duplicate of column GGNNDQY\n",
      "Eventually, column HGCJPXQ is not a duplicate of column IJTGMGJ\n",
      "Eventually, column LWFSOBB is not a duplicate of column IJTGMGJ\n",
      "Eventually, column KHDGXRJ is not a duplicate of column IJTGMGJ\n",
      "Eventually, column WSTYRNH is not a duplicate of column IJTGMGJ\n",
      "Eventually, column GNJJUIH is not a duplicate of column IJTGMGJ\n",
      "Eventually, column IQOCYUU is not a duplicate of column IJTGMGJ\n",
      "Eventually, column KVOYKGE is not a duplicate of column IJTGMGJ\n",
      "Eventually, column XXIPGDP is not a duplicate of column IJTGMGJ\n",
      "Eventually, column EWKETJA is not a duplicate of column IJTGMGJ\n",
      "Eventually, column LVBGDZB is not a duplicate of column IJTGMGJ\n",
      "Eventually, column GGNNDQY is not a duplicate of column IJTGMGJ\n",
      "Indeed, column CPZMPBY is a duplicate of column IJTGMGJ\n",
      "Eventually, column ILGYBTA is not a duplicate of column IJTGMGJ\n",
      "Eventually, column SZWWWHI is not a duplicate of column IJTGMGJ\n",
      "Eventually, column FJXWXPI is not a duplicate of column IJTGMGJ\n",
      "Eventually, column HGONGZK is not a duplicate of column IJTGMGJ\n",
      "Eventually, column CRYLNZI is not a duplicate of column IJTGMGJ\n",
      "Eventually, column MRDZBFN is not a duplicate of column IJTGMGJ\n",
      "Eventually, column QXTPTQN is not a duplicate of column IJTGMGJ\n",
      "Eventually, column HGCJPXQ is not a duplicate of column ILGYBTA\n",
      "Eventually, column LWFSOBB is not a duplicate of column ILGYBTA\n",
      "Eventually, column KHDGXRJ is not a duplicate of column ILGYBTA\n",
      "Eventually, column WSTYRNH is not a duplicate of column ILGYBTA\n",
      "Eventually, column GNJJUIH is not a duplicate of column ILGYBTA\n",
      "Eventually, column IQOCYUU is not a duplicate of column ILGYBTA\n",
      "Eventually, column KVOYKGE is not a duplicate of column ILGYBTA\n",
      "Eventually, column XXIPGDP is not a duplicate of column ILGYBTA\n",
      "Eventually, column EWKETJA is not a duplicate of column ILGYBTA\n",
      "Eventually, column LVBGDZB is not a duplicate of column ILGYBTA\n",
      "Eventually, column GGNNDQY is not a duplicate of column ILGYBTA\n",
      "Eventually, column IJTGMGJ is not a duplicate of column ILGYBTA\n",
      "Indeed, column SZWWWHI is a duplicate of column ILGYBTA\n",
      "Indeed, column FJXWXPI is a duplicate of column ILGYBTA\n",
      "Eventually, column HGONGZK is not a duplicate of column ILGYBTA\n",
      "Eventually, column CRYLNZI is not a duplicate of column ILGYBTA\n",
      "Eventually, column MRDZBFN is not a duplicate of column ILGYBTA\n",
      "Eventually, column QXTPTQN is not a duplicate of column ILGYBTA\n",
      "Indeed, column OQCUPZO is a duplicate of column MPRIFAX\n",
      "Eventually, column JKILSTV is not a duplicate of column EKTAHFF\n",
      "Eventually, column ZUEEBTY is not a duplicate of column EYARVDG\n",
      "Eventually, column RFVSOEI is not a duplicate of column EYARVDG\n",
      "Eventually, column SHBNDLU is not a duplicate of column EYARVDG\n",
      "Eventually, column HGCJPXQ is not a duplicate of column HGONGZK\n",
      "Eventually, column LWFSOBB is not a duplicate of column HGONGZK\n",
      "Eventually, column KHDGXRJ is not a duplicate of column HGONGZK\n",
      "Eventually, column WSTYRNH is not a duplicate of column HGONGZK\n",
      "Eventually, column GNJJUIH is not a duplicate of column HGONGZK\n",
      "Eventually, column IQOCYUU is not a duplicate of column HGONGZK\n",
      "Eventually, column KVOYKGE is not a duplicate of column HGONGZK\n",
      "Eventually, column XXIPGDP is not a duplicate of column HGONGZK\n",
      "Eventually, column EWKETJA is not a duplicate of column HGONGZK\n",
      "Eventually, column LVBGDZB is not a duplicate of column HGONGZK\n",
      "Eventually, column GGNNDQY is not a duplicate of column HGONGZK\n",
      "Eventually, column IJTGMGJ is not a duplicate of column HGONGZK\n",
      "Eventually, column ILGYBTA is not a duplicate of column HGONGZK\n",
      "Eventually, column CRYLNZI is not a duplicate of column HGONGZK\n",
      "Eventually, column MRDZBFN is not a duplicate of column HGONGZK\n",
      "Eventually, column QXTPTQN is not a duplicate of column HGONGZK\n",
      "Eventually, column JMFGDPB is not a duplicate of column AWMGPPL\n",
      "Indeed, column VAGMJKH is a duplicate of column AWMGPPL\n",
      "Eventually, column SETVSTN is not a duplicate of column RXLZZHO\n",
      "Indeed, column SHXMZYS is a duplicate of column RXLZZHO\n",
      "Eventually, column DUOKWOI is not a duplicate of column SJZKEVZ\n",
      "Indeed, column LTDFQFZ is a duplicate of column SJZKEVZ\n",
      "Eventually, column HGCJPXQ is not a duplicate of column CRYLNZI\n",
      "Eventually, column LWFSOBB is not a duplicate of column CRYLNZI\n",
      "Eventually, column KHDGXRJ is not a duplicate of column CRYLNZI\n",
      "Eventually, column WSTYRNH is not a duplicate of column CRYLNZI\n",
      "Eventually, column GNJJUIH is not a duplicate of column CRYLNZI\n",
      "Eventually, column IQOCYUU is not a duplicate of column CRYLNZI\n",
      "Eventually, column KVOYKGE is not a duplicate of column CRYLNZI\n",
      "Eventually, column XXIPGDP is not a duplicate of column CRYLNZI\n",
      "Eventually, column EWKETJA is not a duplicate of column CRYLNZI\n",
      "Eventually, column LVBGDZB is not a duplicate of column CRYLNZI\n",
      "Eventually, column GGNNDQY is not a duplicate of column CRYLNZI\n",
      "Eventually, column IJTGMGJ is not a duplicate of column CRYLNZI\n",
      "Eventually, column ILGYBTA is not a duplicate of column CRYLNZI\n",
      "Eventually, column HGONGZK is not a duplicate of column CRYLNZI\n",
      "Indeed, column MRDZBFN is a duplicate of column CRYLNZI\n",
      "Eventually, column QXTPTQN is not a duplicate of column CRYLNZI\n",
      "Eventually, column PCIXTYP is not a duplicate of column VUBFVUN\n",
      "Eventually, column VHLPUWU is not a duplicate of column VUBFVUN\n",
      "Eventually, column LDVYKSE is not a duplicate of column VUBFVUN\n",
      "Eventually, column PCIXTYP is not a duplicate of column VHLPUWU\n",
      "Eventually, column VUBFVUN is not a duplicate of column VHLPUWU\n",
      "Indeed, column LDVYKSE is a duplicate of column VHLPUWU\n",
      "Eventually, column EKTAHFF is not a duplicate of column JKILSTV\n",
      "Eventually, column ZUEEBTY is not a duplicate of column RFVSOEI\n",
      "Eventually, column EYARVDG is not a duplicate of column RFVSOEI\n",
      "Eventually, column SHBNDLU is not a duplicate of column RFVSOEI\n",
      "Eventually, column HGCJPXQ is not a duplicate of column QXTPTQN\n",
      "Eventually, column LWFSOBB is not a duplicate of column QXTPTQN\n",
      "Eventually, column KHDGXRJ is not a duplicate of column QXTPTQN\n",
      "Eventually, column WSTYRNH is not a duplicate of column QXTPTQN\n",
      "Eventually, column GNJJUIH is not a duplicate of column QXTPTQN\n",
      "Eventually, column IQOCYUU is not a duplicate of column QXTPTQN\n",
      "Eventually, column KVOYKGE is not a duplicate of column QXTPTQN\n",
      "Eventually, column XXIPGDP is not a duplicate of column QXTPTQN\n",
      "Eventually, column EWKETJA is not a duplicate of column QXTPTQN\n",
      "Eventually, column LVBGDZB is not a duplicate of column QXTPTQN\n",
      "Eventually, column GGNNDQY is not a duplicate of column QXTPTQN\n",
      "Eventually, column IJTGMGJ is not a duplicate of column QXTPTQN\n",
      "Eventually, column ILGYBTA is not a duplicate of column QXTPTQN\n",
      "Eventually, column HGONGZK is not a duplicate of column QXTPTQN\n",
      "Eventually, column CRYLNZI is not a duplicate of column QXTPTQN\n",
      "Eventually, column KMGNWGY is not a duplicate of column LTZYUVU\n",
      "Eventually, column LZIQISI is not a duplicate of column IUCJIOI\n",
      "Eventually, column DEAUOMN is not a duplicate of column WVRSHBW\n",
      "Eventually, column UWFUPRN is not a duplicate of column RGDZIYI\n",
      "Eventually, column QGKAEUF is not a duplicate of column RGDZIYI\n",
      "Eventually, column RGDZIYI is not a duplicate of column UWFUPRN\n",
      "Eventually, column QGKAEUF is not a duplicate of column UWFUPRN\n",
      "Eventually, column RGDZIYI is not a duplicate of column QGKAEUF\n",
      "Eventually, column UWFUPRN is not a duplicate of column QGKAEUF\n",
      "Eventually, column ZUEEBTY is not a duplicate of column SHBNDLU\n",
      "Eventually, column EYARVDG is not a duplicate of column SHBNDLU\n",
      "Eventually, column RFVSOEI is not a duplicate of column SHBNDLU\n"
     ]
    }
   ],
   "source": [
    "true_dup = defaultdict(list)\n",
    "cols_to_drop = set()\n",
    "for col, duplicates in matches.items():\n",
    "    if col in cols_to_drop:\n",
    "        continue\n",
    "    for d in duplicates:\n",
    "        if d in cols_to_drop:\n",
    "            continue\n",
    "        if check_columns_identity(df, col, d):\n",
    "            print(f'Indeed, column {d} is a duplicate of column {col}')\n",
    "            true_dup[col].append(d)\n",
    "            cols_to_drop.add(d)\n",
    "        else:\n",
    "            print(f'Eventually, column {d} is not a duplicate of column {col}')"
   ]
  },
  {
   "cell_type": "code",
   "execution_count": 18,
   "id": "62993da0-b27f-4ad0-9f29-266c9f9bb53a",
   "metadata": {},
   "outputs": [
    {
     "name": "stdout",
     "output_type": "stream",
     "text": [
      "HGCJPXQ ['MMGUYQW', 'EJLLSVL', 'FGRQLRJ']\n",
      "TQSLCKT ['FRPZZAO']\n",
      "CJICMVV ['CNECOOI', 'HLUJJDC']\n",
      "KHDGXRJ ['MZUTRGY', 'VXZZORS', 'KXGNEZR']\n",
      "WSTYRNH ['IJOSAYZ', 'HOAJWUR']\n",
      "GNJJUIH ['MKVXAUF', 'NJFNKOX']\n",
      "PCIXTYP ['FZHCPXN', 'ABKUZXQ', 'TNLTITB', 'WHWNSMK', 'OELGKKQ', 'XQJKMDS', 'WYYWAWQ', 'FMWCHDN', 'WPJXHBR', 'PGENXWU', 'ZQMONHC', 'AJOFIZJ', 'VXQLENI', 'HTTHEYH', 'FBDGIUT', 'VLOHNYE', 'ERXNSUN', 'UANVOYU', 'MKGQLST', 'BADTSBX', 'NEKQCXA', 'KAHHGFH', 'MOYGMAB', 'YXRYJNT', 'TKXCHYD', 'TWTFEPM', 'ZBSCEOT', 'FBTIPCA', 'YLYAAGH', 'CYGFXWC', 'AHMUWMD', 'XZSIRUV', 'YEZPLBM', 'MAODOCR', 'RONTGKG', 'OLOIPWS', 'PBZEGCA', 'FRICEIH', 'JWJHZJJ', 'NOIYREE', 'QTIPFME', 'BBVGXMU', 'FSBLFRV', 'UGFBHFI', 'KDIATNL', 'BTEYMSX', 'TUIWOPA', 'LEVGOPF', 'BZRZXSR', 'AXVFXOV', 'SIJOOGR', 'BQLHRUO', 'HGWWOZY']\n",
      "OYBONYX ['DRELDXX', 'IMAZODZ', 'ABMWXIO', 'EYAUITY', 'TOTBAZC']\n",
      "IQOCYUU ['XRUUCHW', 'LJGDTWM']\n",
      "KVOYKGE ['RNCEKOH', 'UMIGGHZ', 'ZHPRSBN']\n",
      "TERIJOV ['FKCIOEN']\n",
      "SWMNPFK ['BXBUVRU', 'KRMCXMU', 'XRUSUCA', 'YPMGCVT', 'HTMOHRO', 'WWHSAAX', 'LVDPQQT', 'EHAPOTE', 'PINNYVT', 'LNGBURD', 'BQEDTSY', 'LGRGANO', 'IPLONQP', 'RQVRYXC', 'WMZGUWK', 'VWPFOKV', 'AKRJZVC', 'VDOFXVB', 'TMSJMYI', 'ELXUMTI', 'KNYSSTU']\n",
      "OJSWUAF ['EBEXNTO', 'FYWFJXP', 'JEQWBOK', 'TGXFVBT', 'WCYWJXK']\n",
      "XXIPGDP ['XJTQVGI', 'VMYGDBS']\n",
      "JZVNCXT ['SHLZRCB', 'XIVOAXI', 'KKMOSNN', 'WTARSLQ', 'OPLXQJS']\n",
      "JMFGDPB ['UILLRWJ', 'CKTRRMV', 'KYJTYYF']\n",
      "SETVSTN ['RTYTHAC', 'MXNLYUW', 'QDZIZBN']\n",
      "DUOKWOI ['VSPXQWL', 'NFRPIGQ', 'YRLOEIR']\n",
      "EWKETJA ['QVZRENP']\n",
      "MSJJKBM ['NYFXQAP']\n",
      "LVBGDZB ['FIJMBVX']\n",
      "IJTGMGJ ['CPZMPBY']\n",
      "ILGYBTA ['SZWWWHI', 'FJXWXPI']\n",
      "MPRIFAX ['OQCUPZO']\n",
      "AWMGPPL ['VAGMJKH']\n",
      "RXLZZHO ['SHXMZYS']\n",
      "SJZKEVZ ['LTDFQFZ']\n",
      "CRYLNZI ['MRDZBFN']\n",
      "VHLPUWU ['LDVYKSE']\n"
     ]
    }
   ],
   "source": [
    "for col,duplicates in true_dup.items():\n",
    "    print(col, duplicates)"
   ]
  },
  {
   "cell_type": "markdown",
   "id": "26e2b5d2-8ae8-4801-b7cd-8491b6f410b8",
   "metadata": {
    "jupyter": {
     "outputs_hidden": true
    },
    "tags": []
   },
   "source": [
    "### Removing duplicated columns"
   ]
  },
  {
   "cell_type": "code",
   "execution_count": 19,
   "id": "459d25fd-9144-4ebe-b0f3-2dde2aa28f98",
   "metadata": {},
   "outputs": [],
   "source": [
    "for col, duplicates in true_dup.items():\n",
    "    df.drop(columns=duplicates, inplace=True)    "
   ]
  },
  {
   "cell_type": "code",
   "execution_count": 20,
   "id": "e67f6fc5-4dd3-4092-b424-6d3b570142d5",
   "metadata": {},
   "outputs": [
    {
     "name": "stdout",
     "output_type": "stream",
     "text": [
      "<class 'pandas.core.frame.DataFrame'>\n",
      "Int64Index: 709518 entries, 0 to 726287\n",
      "Columns: 750 entries, HKTLMYY to TLJYWBE\n",
      "dtypes: float64(724), int64(22), object(4)\n",
      "memory usage: 4.0+ GB\n"
     ]
    }
   ],
   "source": [
    "df.info()"
   ]
  },
  {
   "cell_type": "code",
   "execution_count": 21,
   "id": "3acb9bfe-48af-4366-8e6f-326c3874829c",
   "metadata": {},
   "outputs": [],
   "source": [
    "nuniques = df.nunique(dropna=False)\n",
    "df.drop(columns=nuniques[nuniques == 1].index, inplace=True)"
   ]
  },
  {
   "cell_type": "code",
   "execution_count": 48,
   "id": "25e1d5a1-a58d-4d07-9aee-d4d17ba8c233",
   "metadata": {},
   "outputs": [
    {
     "data": {
      "text/plain": [
       "Index(['PCIXTYP', 'OYBONYX', 'IQOCYUU', 'SWMNPFK'], dtype='object')"
      ]
     },
     "execution_count": 48,
     "metadata": {},
     "output_type": "execute_result"
    }
   ],
   "source": [
    "nuniques[nuniques == 1].index"
   ]
  },
  {
   "cell_type": "code",
   "execution_count": 22,
   "id": "c31087d6-43b2-4cde-82f4-4f3a5f844cd4",
   "metadata": {},
   "outputs": [
    {
     "name": "stdout",
     "output_type": "stream",
     "text": [
      "<class 'pandas.core.frame.DataFrame'>\n",
      "Int64Index: 709518 entries, 0 to 726287\n",
      "Columns: 746 entries, HKTLMYY to TLJYWBE\n",
      "dtypes: float64(722), int64(21), object(3)\n",
      "memory usage: 3.9+ GB\n"
     ]
    }
   ],
   "source": [
    "df.info()"
   ]
  },
  {
   "cell_type": "markdown",
   "id": "7d703f13-d3e9-43d3-b3f5-4a8a52d9af09",
   "metadata": {},
   "source": [
    "## Correlation Analysis"
   ]
  },
  {
   "cell_type": "code",
   "execution_count": 23,
   "id": "3be8a5d9-4743-4213-84ae-d84e69c21d5d",
   "metadata": {},
   "outputs": [
    {
     "data": {
      "text/html": [
       "        <script type=\"text/javascript\">\n",
       "        window.PlotlyConfig = {MathJaxConfig: 'local'};\n",
       "        if (window.MathJax) {MathJax.Hub.Config({SVG: {font: \"STIX-Web\"}});}\n",
       "        if (typeof require !== 'undefined') {\n",
       "        require.undef(\"plotly\");\n",
       "        requirejs.config({\n",
       "            paths: {\n",
       "                'plotly': ['https://cdn.plot.ly/plotly-2.2.0.min']\n",
       "            }\n",
       "        });\n",
       "        require(['plotly'], function(Plotly) {\n",
       "            window._Plotly = Plotly;\n",
       "        });\n",
       "        }\n",
       "        </script>\n",
       "        "
      ]
     },
     "metadata": {},
     "output_type": "display_data"
    }
   ],
   "source": [
    "import cufflinks as cf; cf.go_offline()"
   ]
  },
  {
   "cell_type": "markdown",
   "id": "dcea1c35-526a-46a5-9abc-20c041c2010d",
   "metadata": {},
   "source": [
    "### Missing values"
   ]
  },
  {
   "cell_type": "code",
   "execution_count": 24,
   "id": "4ac9715a-1e1c-4af0-8917-9d394fc1a988",
   "metadata": {},
   "outputs": [],
   "source": [
    "missing_values = df.isnull().sum()\n",
    "missing_percentage = (missing_values / len(df)) * 100"
   ]
  },
  {
   "cell_type": "code",
   "execution_count": 25,
   "id": "cf982e1e-ae16-4b20-b217-0802b362f5ac",
   "metadata": {},
   "outputs": [
    {
     "data": {
      "text/plain": [
       "count    746.000000\n",
       "mean       7.441915\n",
       "std       23.689376\n",
       "min        0.000000\n",
       "25%        0.000141\n",
       "50%        0.003383\n",
       "75%        0.006765\n",
       "max       99.981960\n",
       "dtype: float64"
      ]
     },
     "execution_count": 25,
     "metadata": {},
     "output_type": "execute_result"
    }
   ],
   "source": [
    "missing_percentage.describe()"
   ]
  },
  {
   "cell_type": "code",
   "execution_count": 26,
   "id": "ee28ad3b-ee66-47a6-8742-89ce5f43beae",
   "metadata": {},
   "outputs": [
    {
     "data": {
      "application/vnd.plotly.v1+json": {
       "config": {
        "linkText": "Export to plot.ly",
        "plotlyServerURL": "https://plot.ly",
        "showLink": true
       },
       "data": [
        {
         "marker": {
          "color": "rgba(255, 153, 51, 0.6)",
          "line": {
           "color": "rgba(255, 153, 51, 1.0)",
           "width": 1
          }
         },
         "name": "None",
         "orientation": "v",
         "text": "",
         "type": "bar",
         "x": [
          "VHLPUWU",
          "VUBFVUN",
          "MSJJKBM",
          "YTYOTNN",
          "MPRIFAX",
          "MSVWNFK",
          "XKLWARB",
          "UIDFQDA",
          "OELFGBD",
          "NMCAKWK",
          "DLWYUSK",
          "VUTOMKG",
          "CUULBWE",
          "RHCAZIU",
          "CHBMNEK",
          "XUCVAEV",
          "KKKSVYN",
          "GTKQUGU",
          "KCVNCWE",
          "BTDJSVV",
          "RGDZIYI",
          "QGKAEUF",
          "UWFUPRN",
          "VRXSNDL",
          "VFXXPOM",
          "LYCIQTI",
          "FIGZKCY",
          "OJSWUAF",
          "PTGZANY",
          "SRDJVGB",
          "GJFZDWF",
          "AUNDDNZ",
          "TWXNMUD",
          "CDSPXSX",
          "JRVGHMH",
          "BDABVCY",
          "UBMPCGB",
          "OAEOBHM",
          "FJCYMJD",
          "HFHITLP",
          "BFYTKKS",
          "GPCKISJ",
          "IJEXXXL",
          "HNJMSWN",
          "TDMCRGU",
          "WTVBKCK",
          "USAETVU",
          "ZAIRSDG",
          "XZJYNXP",
          "HNDGNRG",
          "ADOIOYN",
          "KVNLYTZ",
          "ADXRLFT",
          "POPBDDN",
          "LCJYFNQ",
          "RMSJZUV",
          "FUKRRDS",
          "GMJTNTH",
          "UZQXSAH",
          "EBCCQTL",
          "YBBDEJH",
          "KGPPPLD",
          "GGTSHYD",
          "LCXZSFV",
          "REQAQFJ",
          "ZYOBVQN",
          "SJZKEVZ",
          "JMFGDPB",
          "AWMGPPL",
          "DUOKWOI",
          "SETVSTN",
          "RXLZZHO",
          "JZVNCXT",
          "AOWLZQX",
          "DMAJOKS",
          "KCFQOSD",
          "GVJTVXV",
          "ETXKSTM",
          "LOGULZS",
          "GYFZSXY",
          "OGYQNUB",
          "ELDKYEY",
          "LADIFWP",
          "RVCNNGA",
          "OISOEYC",
          "GPDXQZO",
          "UDQKCAP",
          "UAEETIT",
          "SQODRRP",
          "KYRXYOZ",
          "YCWMHMB",
          "BUVBEYO",
          "SHAHZCX",
          "ZYMCRAL",
          "JIQIQWD",
          "FLYIGDN",
          "QODSZMV",
          "WXCZODE",
          "BMGPCSU",
          "YPIWRTV",
          "KLTSLAM",
          "RIEGYBR",
          "JZFIGSE",
          "UJTXHTS",
          "KKFJKFD",
          "KUXSPYJ",
          "TBFLCFW",
          "EBRWJEU",
          "WPZPJYB",
          "FPGUGZC",
          "MICTQSV",
          "PIJMPQK",
          "XIITBEU",
          "NLPSQAO",
          "PJLETFT",
          "QXTPTQN",
          "HEBFRRA",
          "FFRECAD",
          "BZYFPMM",
          "JQXEEPS",
          "NVITMSQ",
          "PJGXCUT",
          "ATSLHPA",
          "FTMZZVG",
          "THFGWMH",
          "IROKFNR",
          "PZYGETW",
          "WBCMBKW",
          "YIDCRAN",
          "UMJYMGD",
          "NQQYONU",
          "ACEFRZA",
          "NTYHQRF",
          "ZSCIZXU",
          "RFVSOEI",
          "VTLKBMI",
          "FTFSHCI",
          "NRKKRBK",
          "BGPVFMN",
          "DXWRFDA",
          "SRZFXSA",
          "WROOIFH",
          "HOVFLAR",
          "YVZKQBW",
          "JKILSTV",
          "GMLIQMK",
          "PLSHZWK",
          "JIMYAME",
          "UYZDABQ",
          "DBIEMBY",
          "GPZQYDO",
          "EBWHZXL",
          "LZBJHYC",
          "PKTNUED",
          "XPCRCSI",
          "OZIVQPW",
          "JWFXMKH",
          "ARVLGNZ",
          "CRYLNZI",
          "HGCJPXQ",
          "PYGQGOY",
          "KWGZVQN",
          "OULTOYT",
          "BQULMYJ",
          "WTMETCB",
          "LNZGNNA",
          "TQSLCKT",
          "NVBZJEU",
          "GBGZJZO",
          "VYTOISY",
          "RMVEJRV",
          "JULDEHH",
          "NOLZTQY",
          "CRPEWMZ",
          "BTXMHGA",
          "XKFVLFS",
          "CMOKZIS",
          "ZWBKTXW",
          "VWNSDQF",
          "QZOMJMJ",
          "XXIPGDP",
          "GJVQCDG",
          "ULCBNOU",
          "IJLFOZT",
          "OGIHHVJ",
          "SMOGFZD",
          "VQGBZBI",
          "PUYNKTQ",
          "EGJUWUC",
          "RLHGEVY",
          "XOGKHIO",
          "HDNPBLR",
          "ZZTPIJA",
          "UJYQCMY",
          "DANYGJI",
          "CQZHXYY",
          "VCPMKTP",
          "UOWMANL",
          "HTRZKGZ",
          "BEUAZOI"
         ],
         "y": [
          99.98195958383015,
          99.98195958383015,
          99.97632195377707,
          99.97632195377707,
          99.75194427766455,
          99.7192460233567,
          99.7192460233567,
          99.7192460233567,
          99.57605022000851,
          99.57605022000851,
          99.57605022000851,
          99.50727113336096,
          99.50727113336096,
          99.50727113336096,
          99.50050597729727,
          99.50050597729727,
          99.50050597729727,
          99.43623699469217,
          99.43623699469217,
          99.43623699469217,
          99.00552205863698,
          99.00552205863698,
          99.00552205863698,
          94.44284711592941,
          90.67240013643064,
          86.98990018575991,
          86.84219427836925,
          81.2240140489741,
          73.49609171296571,
          73.49609171296571,
          73.49609171296571,
          73.49609171296571,
          73.49609171296571,
          73.49609171296571,
          73.49609171296571,
          73.49609171296571,
          73.49609171296571,
          73.49609171296571,
          73.49609171296571,
          71.03921253583418,
          71.03921253583418,
          71.03921253583418,
          71.03921253583418,
          71.03921253583418,
          71.03921253583418,
          71.03921253583418,
          71.03921253583418,
          71.03921253583418,
          71.03921253583418,
          71.03921253583418,
          71.03921253583418,
          71.03921253583418,
          68.65449502338207,
          68.65449502338207,
          68.65449502338207,
          68.65449502338207,
          68.65449502338207,
          68.65449502338207,
          68.65449502338207,
          68.65449502338207,
          68.65449502338207,
          68.65449502338207,
          68.65449502338207,
          68.65449502338207,
          68.65449502338207,
          61.628034806727946,
          18.77598595102591,
          18.77598595102591,
          18.77598595102591,
          18.77598595102591,
          18.77598595102591,
          18.77598595102591,
          18.77598595102591,
          0.5040041267451989,
          0.4994940227027362,
          0.4994940227027362,
          0.011275260106156574,
          0.011275260106156574,
          0.011275260106156574,
          0.011275260106156574,
          0.011275260106156574,
          0.011275260106156574,
          0.011275260106156574,
          0.011275260106156574,
          0.011275260106156574,
          0.011275260106156574,
          0.011275260106156574,
          0.011275260106156574,
          0.011275260106156574,
          0.011275260106156574,
          0.011275260106156574,
          0.011275260106156574,
          0.011275260106156574,
          0.011275260106156574,
          0.011275260106156574,
          0.011275260106156574,
          0.011275260106156574,
          0.011275260106156574,
          0.011275260106156574,
          0.011275260106156574,
          0.011275260106156574,
          0.011275260106156574,
          0.011275260106156574,
          0.011275260106156574,
          0.011275260106156574,
          0.011275260106156574,
          0.011275260106156574,
          0.011275260106156574,
          0.011275260106156574,
          0.011275260106156574,
          0.011275260106156574,
          0.011275260106156574,
          0.011275260106156574,
          0.011275260106156574,
          0.011275260106156574,
          0.011275260106156574,
          0.011275260106156574,
          0.011275260106156574,
          0.011275260106156574,
          0.011275260106156574,
          0.011275260106156574,
          0.011275260106156574,
          0.011275260106156574,
          0.011275260106156574,
          0.011275260106156574,
          0.011275260106156574,
          0.011275260106156574,
          0.011275260106156574,
          0.011275260106156574,
          0.011275260106156574,
          0.011275260106156574,
          0.011275260106156574,
          0.011275260106156574,
          0.011275260106156574,
          0.011275260106156574,
          0.011275260106156574,
          0.011275260106156574,
          0.011275260106156574,
          0.011275260106156574,
          0.011275260106156574,
          0.011275260106156574,
          0.011275260106156574,
          0.011275260106156574,
          0.011275260106156574,
          0.011275260106156574,
          0.011275260106156574,
          0.011275260106156574,
          0.00902020808492526,
          0.00902020808492526,
          0.00902020808492526,
          0.00902020808492526,
          0.00902020808492526,
          0.00902020808492526,
          0.00902020808492526,
          0.00902020808492526,
          0.00902020808492526,
          0.00902020808492526,
          0.00902020808492526,
          0.00902020808492526,
          0.008174563576963516,
          0.008174563576963516,
          0.008174563576963516,
          0.008174563576963516,
          0.008174563576963516,
          0.008174563576963516,
          0.008174563576963516,
          0.008174563576963516,
          0.006765156063693944,
          0.006765156063693944,
          0.006765156063693944,
          0.006765156063693944,
          0.006765156063693944,
          0.006765156063693944,
          0.006765156063693944,
          0.006765156063693944,
          0.006765156063693944,
          0.006765156063693944,
          0.006765156063693944,
          0.006765156063693944,
          0.006765156063693944,
          0.006765156063693944,
          0.006765156063693944,
          0.006765156063693944,
          0.006765156063693944,
          0.006765156063693944,
          0.006765156063693944,
          0.006765156063693944,
          0.006765156063693944,
          0.006765156063693944,
          0.006765156063693944,
          0.006765156063693944,
          0.006765156063693944,
          0.006765156063693944,
          0.006765156063693944,
          0.006765156063693944,
          0.006765156063693944,
          0.006765156063693944,
          0.006765156063693944,
          0.006765156063693944,
          0.006765156063693944
         ]
        }
       ],
       "layout": {
        "autosize": true,
        "legend": {
         "bgcolor": "#F5F6F9",
         "font": {
          "color": "#4D5663"
         }
        },
        "paper_bgcolor": "#F5F6F9",
        "plot_bgcolor": "#F5F6F9",
        "template": {
         "data": {
          "bar": [
           {
            "error_x": {
             "color": "#2a3f5f"
            },
            "error_y": {
             "color": "#2a3f5f"
            },
            "marker": {
             "line": {
              "color": "#E5ECF6",
              "width": 0.5
             },
             "pattern": {
              "fillmode": "overlay",
              "size": 10,
              "solidity": 0.2
             }
            },
            "type": "bar"
           }
          ],
          "barpolar": [
           {
            "marker": {
             "line": {
              "color": "#E5ECF6",
              "width": 0.5
             },
             "pattern": {
              "fillmode": "overlay",
              "size": 10,
              "solidity": 0.2
             }
            },
            "type": "barpolar"
           }
          ],
          "carpet": [
           {
            "aaxis": {
             "endlinecolor": "#2a3f5f",
             "gridcolor": "white",
             "linecolor": "white",
             "minorgridcolor": "white",
             "startlinecolor": "#2a3f5f"
            },
            "baxis": {
             "endlinecolor": "#2a3f5f",
             "gridcolor": "white",
             "linecolor": "white",
             "minorgridcolor": "white",
             "startlinecolor": "#2a3f5f"
            },
            "type": "carpet"
           }
          ],
          "choropleth": [
           {
            "colorbar": {
             "outlinewidth": 0,
             "ticks": ""
            },
            "type": "choropleth"
           }
          ],
          "contour": [
           {
            "colorbar": {
             "outlinewidth": 0,
             "ticks": ""
            },
            "colorscale": [
             [
              0,
              "#0d0887"
             ],
             [
              0.1111111111111111,
              "#46039f"
             ],
             [
              0.2222222222222222,
              "#7201a8"
             ],
             [
              0.3333333333333333,
              "#9c179e"
             ],
             [
              0.4444444444444444,
              "#bd3786"
             ],
             [
              0.5555555555555556,
              "#d8576b"
             ],
             [
              0.6666666666666666,
              "#ed7953"
             ],
             [
              0.7777777777777778,
              "#fb9f3a"
             ],
             [
              0.8888888888888888,
              "#fdca26"
             ],
             [
              1,
              "#f0f921"
             ]
            ],
            "type": "contour"
           }
          ],
          "contourcarpet": [
           {
            "colorbar": {
             "outlinewidth": 0,
             "ticks": ""
            },
            "type": "contourcarpet"
           }
          ],
          "heatmap": [
           {
            "colorbar": {
             "outlinewidth": 0,
             "ticks": ""
            },
            "colorscale": [
             [
              0,
              "#0d0887"
             ],
             [
              0.1111111111111111,
              "#46039f"
             ],
             [
              0.2222222222222222,
              "#7201a8"
             ],
             [
              0.3333333333333333,
              "#9c179e"
             ],
             [
              0.4444444444444444,
              "#bd3786"
             ],
             [
              0.5555555555555556,
              "#d8576b"
             ],
             [
              0.6666666666666666,
              "#ed7953"
             ],
             [
              0.7777777777777778,
              "#fb9f3a"
             ],
             [
              0.8888888888888888,
              "#fdca26"
             ],
             [
              1,
              "#f0f921"
             ]
            ],
            "type": "heatmap"
           }
          ],
          "heatmapgl": [
           {
            "colorbar": {
             "outlinewidth": 0,
             "ticks": ""
            },
            "colorscale": [
             [
              0,
              "#0d0887"
             ],
             [
              0.1111111111111111,
              "#46039f"
             ],
             [
              0.2222222222222222,
              "#7201a8"
             ],
             [
              0.3333333333333333,
              "#9c179e"
             ],
             [
              0.4444444444444444,
              "#bd3786"
             ],
             [
              0.5555555555555556,
              "#d8576b"
             ],
             [
              0.6666666666666666,
              "#ed7953"
             ],
             [
              0.7777777777777778,
              "#fb9f3a"
             ],
             [
              0.8888888888888888,
              "#fdca26"
             ],
             [
              1,
              "#f0f921"
             ]
            ],
            "type": "heatmapgl"
           }
          ],
          "histogram": [
           {
            "marker": {
             "pattern": {
              "fillmode": "overlay",
              "size": 10,
              "solidity": 0.2
             }
            },
            "type": "histogram"
           }
          ],
          "histogram2d": [
           {
            "colorbar": {
             "outlinewidth": 0,
             "ticks": ""
            },
            "colorscale": [
             [
              0,
              "#0d0887"
             ],
             [
              0.1111111111111111,
              "#46039f"
             ],
             [
              0.2222222222222222,
              "#7201a8"
             ],
             [
              0.3333333333333333,
              "#9c179e"
             ],
             [
              0.4444444444444444,
              "#bd3786"
             ],
             [
              0.5555555555555556,
              "#d8576b"
             ],
             [
              0.6666666666666666,
              "#ed7953"
             ],
             [
              0.7777777777777778,
              "#fb9f3a"
             ],
             [
              0.8888888888888888,
              "#fdca26"
             ],
             [
              1,
              "#f0f921"
             ]
            ],
            "type": "histogram2d"
           }
          ],
          "histogram2dcontour": [
           {
            "colorbar": {
             "outlinewidth": 0,
             "ticks": ""
            },
            "colorscale": [
             [
              0,
              "#0d0887"
             ],
             [
              0.1111111111111111,
              "#46039f"
             ],
             [
              0.2222222222222222,
              "#7201a8"
             ],
             [
              0.3333333333333333,
              "#9c179e"
             ],
             [
              0.4444444444444444,
              "#bd3786"
             ],
             [
              0.5555555555555556,
              "#d8576b"
             ],
             [
              0.6666666666666666,
              "#ed7953"
             ],
             [
              0.7777777777777778,
              "#fb9f3a"
             ],
             [
              0.8888888888888888,
              "#fdca26"
             ],
             [
              1,
              "#f0f921"
             ]
            ],
            "type": "histogram2dcontour"
           }
          ],
          "mesh3d": [
           {
            "colorbar": {
             "outlinewidth": 0,
             "ticks": ""
            },
            "type": "mesh3d"
           }
          ],
          "parcoords": [
           {
            "line": {
             "colorbar": {
              "outlinewidth": 0,
              "ticks": ""
             }
            },
            "type": "parcoords"
           }
          ],
          "pie": [
           {
            "automargin": true,
            "type": "pie"
           }
          ],
          "scatter": [
           {
            "marker": {
             "colorbar": {
              "outlinewidth": 0,
              "ticks": ""
             }
            },
            "type": "scatter"
           }
          ],
          "scatter3d": [
           {
            "line": {
             "colorbar": {
              "outlinewidth": 0,
              "ticks": ""
             }
            },
            "marker": {
             "colorbar": {
              "outlinewidth": 0,
              "ticks": ""
             }
            },
            "type": "scatter3d"
           }
          ],
          "scattercarpet": [
           {
            "marker": {
             "colorbar": {
              "outlinewidth": 0,
              "ticks": ""
             }
            },
            "type": "scattercarpet"
           }
          ],
          "scattergeo": [
           {
            "marker": {
             "colorbar": {
              "outlinewidth": 0,
              "ticks": ""
             }
            },
            "type": "scattergeo"
           }
          ],
          "scattergl": [
           {
            "marker": {
             "colorbar": {
              "outlinewidth": 0,
              "ticks": ""
             }
            },
            "type": "scattergl"
           }
          ],
          "scattermapbox": [
           {
            "marker": {
             "colorbar": {
              "outlinewidth": 0,
              "ticks": ""
             }
            },
            "type": "scattermapbox"
           }
          ],
          "scatterpolar": [
           {
            "marker": {
             "colorbar": {
              "outlinewidth": 0,
              "ticks": ""
             }
            },
            "type": "scatterpolar"
           }
          ],
          "scatterpolargl": [
           {
            "marker": {
             "colorbar": {
              "outlinewidth": 0,
              "ticks": ""
             }
            },
            "type": "scatterpolargl"
           }
          ],
          "scatterternary": [
           {
            "marker": {
             "colorbar": {
              "outlinewidth": 0,
              "ticks": ""
             }
            },
            "type": "scatterternary"
           }
          ],
          "surface": [
           {
            "colorbar": {
             "outlinewidth": 0,
             "ticks": ""
            },
            "colorscale": [
             [
              0,
              "#0d0887"
             ],
             [
              0.1111111111111111,
              "#46039f"
             ],
             [
              0.2222222222222222,
              "#7201a8"
             ],
             [
              0.3333333333333333,
              "#9c179e"
             ],
             [
              0.4444444444444444,
              "#bd3786"
             ],
             [
              0.5555555555555556,
              "#d8576b"
             ],
             [
              0.6666666666666666,
              "#ed7953"
             ],
             [
              0.7777777777777778,
              "#fb9f3a"
             ],
             [
              0.8888888888888888,
              "#fdca26"
             ],
             [
              1,
              "#f0f921"
             ]
            ],
            "type": "surface"
           }
          ],
          "table": [
           {
            "cells": {
             "fill": {
              "color": "#EBF0F8"
             },
             "line": {
              "color": "white"
             }
            },
            "header": {
             "fill": {
              "color": "#C8D4E3"
             },
             "line": {
              "color": "white"
             }
            },
            "type": "table"
           }
          ]
         },
         "layout": {
          "annotationdefaults": {
           "arrowcolor": "#2a3f5f",
           "arrowhead": 0,
           "arrowwidth": 1
          },
          "autotypenumbers": "strict",
          "coloraxis": {
           "colorbar": {
            "outlinewidth": 0,
            "ticks": ""
           }
          },
          "colorscale": {
           "diverging": [
            [
             0,
             "#8e0152"
            ],
            [
             0.1,
             "#c51b7d"
            ],
            [
             0.2,
             "#de77ae"
            ],
            [
             0.3,
             "#f1b6da"
            ],
            [
             0.4,
             "#fde0ef"
            ],
            [
             0.5,
             "#f7f7f7"
            ],
            [
             0.6,
             "#e6f5d0"
            ],
            [
             0.7,
             "#b8e186"
            ],
            [
             0.8,
             "#7fbc41"
            ],
            [
             0.9,
             "#4d9221"
            ],
            [
             1,
             "#276419"
            ]
           ],
           "sequential": [
            [
             0,
             "#0d0887"
            ],
            [
             0.1111111111111111,
             "#46039f"
            ],
            [
             0.2222222222222222,
             "#7201a8"
            ],
            [
             0.3333333333333333,
             "#9c179e"
            ],
            [
             0.4444444444444444,
             "#bd3786"
            ],
            [
             0.5555555555555556,
             "#d8576b"
            ],
            [
             0.6666666666666666,
             "#ed7953"
            ],
            [
             0.7777777777777778,
             "#fb9f3a"
            ],
            [
             0.8888888888888888,
             "#fdca26"
            ],
            [
             1,
             "#f0f921"
            ]
           ],
           "sequentialminus": [
            [
             0,
             "#0d0887"
            ],
            [
             0.1111111111111111,
             "#46039f"
            ],
            [
             0.2222222222222222,
             "#7201a8"
            ],
            [
             0.3333333333333333,
             "#9c179e"
            ],
            [
             0.4444444444444444,
             "#bd3786"
            ],
            [
             0.5555555555555556,
             "#d8576b"
            ],
            [
             0.6666666666666666,
             "#ed7953"
            ],
            [
             0.7777777777777778,
             "#fb9f3a"
            ],
            [
             0.8888888888888888,
             "#fdca26"
            ],
            [
             1,
             "#f0f921"
            ]
           ]
          },
          "colorway": [
           "#636efa",
           "#EF553B",
           "#00cc96",
           "#ab63fa",
           "#FFA15A",
           "#19d3f3",
           "#FF6692",
           "#B6E880",
           "#FF97FF",
           "#FECB52"
          ],
          "font": {
           "color": "#2a3f5f"
          },
          "geo": {
           "bgcolor": "white",
           "lakecolor": "white",
           "landcolor": "#E5ECF6",
           "showlakes": true,
           "showland": true,
           "subunitcolor": "white"
          },
          "hoverlabel": {
           "align": "left"
          },
          "hovermode": "closest",
          "mapbox": {
           "style": "light"
          },
          "paper_bgcolor": "white",
          "plot_bgcolor": "#E5ECF6",
          "polar": {
           "angularaxis": {
            "gridcolor": "white",
            "linecolor": "white",
            "ticks": ""
           },
           "bgcolor": "#E5ECF6",
           "radialaxis": {
            "gridcolor": "white",
            "linecolor": "white",
            "ticks": ""
           }
          },
          "scene": {
           "xaxis": {
            "backgroundcolor": "#E5ECF6",
            "gridcolor": "white",
            "gridwidth": 2,
            "linecolor": "white",
            "showbackground": true,
            "ticks": "",
            "zerolinecolor": "white"
           },
           "yaxis": {
            "backgroundcolor": "#E5ECF6",
            "gridcolor": "white",
            "gridwidth": 2,
            "linecolor": "white",
            "showbackground": true,
            "ticks": "",
            "zerolinecolor": "white"
           },
           "zaxis": {
            "backgroundcolor": "#E5ECF6",
            "gridcolor": "white",
            "gridwidth": 2,
            "linecolor": "white",
            "showbackground": true,
            "ticks": "",
            "zerolinecolor": "white"
           }
          },
          "shapedefaults": {
           "line": {
            "color": "#2a3f5f"
           }
          },
          "ternary": {
           "aaxis": {
            "gridcolor": "white",
            "linecolor": "white",
            "ticks": ""
           },
           "baxis": {
            "gridcolor": "white",
            "linecolor": "white",
            "ticks": ""
           },
           "bgcolor": "#E5ECF6",
           "caxis": {
            "gridcolor": "white",
            "linecolor": "white",
            "ticks": ""
           }
          },
          "title": {
           "x": 0.05
          },
          "xaxis": {
           "automargin": true,
           "gridcolor": "white",
           "linecolor": "white",
           "ticks": "",
           "title": {
            "standoff": 15
           },
           "zerolinecolor": "white",
           "zerolinewidth": 2
          },
          "yaxis": {
           "automargin": true,
           "gridcolor": "white",
           "linecolor": "white",
           "ticks": "",
           "title": {
            "standoff": 15
           },
           "zerolinecolor": "white",
           "zerolinewidth": 2
          }
         }
        },
        "title": {
         "font": {
          "color": "#4D5663"
         }
        },
        "xaxis": {
         "autorange": true,
         "gridcolor": "#E1E5ED",
         "range": [
          -0.5,
          199.5
         ],
         "showgrid": true,
         "tickfont": {
          "color": "#4D5663"
         },
         "title": {
          "font": {
           "color": "#4D5663"
          },
          "text": ""
         },
         "type": "category",
         "zerolinecolor": "#E1E5ED"
        },
        "yaxis": {
         "autorange": true,
         "gridcolor": "#E1E5ED",
         "range": [
          0,
          105.2441679829791
         ],
         "showgrid": true,
         "tickfont": {
          "color": "#4D5663"
         },
         "title": {
          "font": {
           "color": "#4D5663"
          },
          "text": ""
         },
         "type": "linear",
         "zerolinecolor": "#E1E5ED"
        }
       }
      },
      "image/png": "[encoded data removed]",
      "text/html": [
       "<div>                            <div id=\"a0591384-eb1b-4397-9c9f-94a23eac19e0\" class=\"plotly-graph-div\" style=\"height:525px; width:100%;\"></div>            <script type=\"text/javascript\">                require([\"plotly\"], function(Plotly) {                    window.PLOTLYENV=window.PLOTLYENV || {};\n",
       "                    window.PLOTLYENV.BASE_URL='https://plot.ly';                                    if (document.getElementById(\"a0591384-eb1b-4397-9c9f-94a23eac19e0\")) {                    Plotly.newPlot(                        \"a0591384-eb1b-4397-9c9f-94a23eac19e0\",                        [{\"marker\":{\"color\":\"rgba(255, 153, 51, 0.6)\",\"line\":{\"color\":\"rgba(255, 153, 51, 1.0)\",\"width\":1}},\"name\":\"None\",\"orientation\":\"v\",\"text\":\"\",\"type\":\"bar\",\"x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y\":[99.98195958383015,99.98195958383015,99.97632195377707,99.97632195377707,99.75194427766455,99.7192460233567,99.7192460233567,99.7192460233567,99.57605022000851,99.57605022000851,99.57605022000851,99.50727113336096,99.50727113336096,99.50727113336096,99.50050597729727,99.50050597729727,99.50050597729727,99.43623699469217,99.43623699469217,99.43623699469217,99.00552205863698,99.00552205863698,99.00552205863698,94.44284711592941,90.67240013643064,86.98990018575991,86.84219427836925,81.2240140489741,73.49609171296571,73.49609171296571,73.49609171296571,73.49609171296571,73.49609171296571,73.49609171296571,73.49609171296571,73.49609171296571,73.49609171296571,73.49609171296571,73.49609171296571,71.03921253583418,71.03921253583418,71.03921253583418,71.03921253583418,71.03921253583418,71.03921253583418,71.03921253583418,71.03921253583418,71.03921253583418,71.03921253583418,71.03921253583418,71.03921253583418,71.03921253583418,68.65449502338207,68.65449502338207,68.65449502338207,68.65449502338207,68.65449502338207,68.65449502338207,68.65449502338207,68.65449502338207,68.65449502338207,68.65449502338207,68.65449502338207,68.65449502338207,68.65449502338207,61.628034806727946,18.77598595102591,18.77598595102591,18.77598595102591,18.77598595102591,18.77598595102591,18.77598595102591,18.77598595102591,0.5040041267451989,0.4994940227027362,0.4994940227027362,0.011275260106156574,0.011275260106156574,0.011275260106156574,0.011275260106156574,0.011275260106156574,0.011275260106156574,0.011275260106156574,0.011275260106156574,0.011275260106156574,0.011275260106156574,0.011275260106156574,0.011275260106156574,0.011275260106156574,0.011275260106156574,0.011275260106156574,0.011275260106156574,0.011275260106156574,0.011275260106156574,0.011275260106156574,0.011275260106156574,0.011275260106156574,0.011275260106156574,0.011275260106156574,0.011275260106156574,0.011275260106156574,0.011275260106156574,0.011275260106156574,0.011275260106156574,0.011275260106156574,0.011275260106156574,0.011275260106156574,0.011275260106156574,0.011275260106156574,0.011275260106156574,0.011275260106156574,0.011275260106156574,0.011275260106156574,0.011275260106156574,0.011275260106156574,0.011275260106156574,0.011275260106156574,0.011275260106156574,0.011275260106156574,0.011275260106156574,0.011275260106156574,0.011275260106156574,0.011275260106156574,0.011275260106156574,0.011275260106156574,0.011275260106156574,0.011275260106156574,0.011275260106156574,0.011275260106156574,0.011275260106156574,0.011275260106156574,0.011275260106156574,0.011275260106156574,0.011275260106156574,0.011275260106156574,0.011275260106156574,0.011275260106156574,0.011275260106156574,0.011275260106156574,0.011275260106156574,0.011275260106156574,0.011275260106156574,0.011275260106156574,0.011275260106156574,0.011275260106156574,0.011275260106156574,0.011275260106156574,0.00902020808492526,0.00902020808492526,0.00902020808492526,0.00902020808492526,0.00902020808492526,0.00902020808492526,0.00902020808492526,0.00902020808492526,0.00902020808492526,0.00902020808492526,0.00902020808492526,0.00902020808492526,0.008174563576963516,0.008174563576963516,0.008174563576963516,0.008174563576963516,0.008174563576963516,0.008174563576963516,0.008174563576963516,0.008174563576963516,0.006765156063693944,0.006765156063693944,0.006765156063693944,0.006765156063693944,0.006765156063693944,0.006765156063693944,0.006765156063693944,0.006765156063693944,0.006765156063693944,0.006765156063693944,0.006765156063693944,0.006765156063693944,0.006765156063693944,0.006765156063693944,0.006765156063693944,0.006765156063693944,0.006765156063693944,0.006765156063693944,0.006765156063693944,0.006765156063693944,0.006765156063693944,0.006765156063693944,0.006765156063693944,0.006765156063693944,0.006765156063693944,0.006765156063693944,0.006765156063693944,0.006765156063693944,0.006765156063693944,0.006765156063693944,0.006765156063693944,0.006765156063693944,0.006765156063693944]}],                        {\"legend\":{\"bgcolor\":\"#F5F6F9\",\"font\":{\"color\":\"#4D5663\"}},\"paper_bgcolor\":\"#F5F6F9\",\"plot_bgcolor\":\"#F5F6F9\",\"template\":{\"data\":{\"bar\":[{\"error_x\":{\"color\":\"#2a3f5f\"},\"error_y\":{\"color\":\"#2a3f5f\"},\"marker\":{\"line\":{\"color\":\"#E5ECF6\",\"width\":0.5},\"pattern\":{\"fillmode\":\"overlay\",\"size\":10,\"solidity\":0.2}},\"type\":\"bar\"}],\"barpolar\":[{\"marker\":{\"line\":{\"color\":\"#E5ECF6\",\"width\":0.5},\"pattern\":{\"fillmode\":\"overlay\",\"size\":10,\"solidity\":0.2}},\"type\":\"barpolar\"}],\"carpet\":[{\"aaxis\":{\"endlinecolor\":\"#2a3f5f\",\"gridcolor\":\"white\",\"linecolor\":\"white\",\"minorgridcolor\":\"white\",\"startlinecolor\":\"#2a3f5f\"},\"baxis\":{\"endlinecolor\":\"#2a3f5f\",\"gridcolor\":\"white\",\"linecolor\":\"white\",\"minorgridcolor\":\"white\",\"startlinecolor\":\"#2a3f5f\"},\"type\":\"carpet\"}],\"choropleth\":[{\"colorbar\":{\"outlinewidth\":0,\"ticks\":\"\"},\"type\":\"choropleth\"}],\"contour\":[{\"colorbar\":{\"outlinewidth\":0,\"ticks\":\"\"},\"colorscale\":[[0.0,\"#0d0887\"],[0.1111111111111111,\"#46039f\"],[0.2222222222222222,\"#7201a8\"],[0.3333333333333333,\"#9c179e\"],[0.4444444444444444,\"#bd3786\"],[0.5555555555555556,\"#d8576b\"],[0.6666666666666666,\"#ed7953\"],[0.7777777777777778,\"#fb9f3a\"],[0.8888888888888888,\"#fdca26\"],[1.0,\"#f0f921\"]],\"type\":\"contour\"}],\"contourcarpet\":[{\"colorbar\":{\"outlinewidth\":0,\"ticks\":\"\"},\"type\":\"contourcarpet\"}],\"heatmap\":[{\"colorbar\":{\"outlinewidth\":0,\"ticks\":\"\"},\"colorscale\":[[0.0,\"#0d0887\"],[0.1111111111111111,\"#46039f\"],[0.2222222222222222,\"#7201a8\"],[0.3333333333333333,\"#9c179e\"],[0.4444444444444444,\"#bd3786\"],[0.5555555555555556,\"#d8576b\"],[0.6666666666666666,\"#ed7953\"],[0.7777777777777778,\"#fb9f3a\"],[0.8888888888888888,\"#fdca26\"],[1.0,\"#f0f921\"]],\"type\":\"heatmap\"}],\"heatmapgl\":[{\"colorbar\":{\"outlinewidth\":0,\"ticks\":\"\"},\"colorscale\":[[0.0,\"#0d0887\"],[0.1111111111111111,\"#46039f\"],[0.2222222222222222,\"#7201a8\"],[0.3333333333333333,\"#9c179e\"],[0.4444444444444444,\"#bd3786\"],[0.5555555555555556,\"#d8576b\"],[0.6666666666666666,\"#ed7953\"],[0.7777777777777778,\"#fb9f3a\"],[0.8888888888888888,\"#fdca26\"],[1.0,\"#f0f921\"]],\"type\":\"heatmapgl\"}],\"histogram\":[{\"marker\":{\"pattern\":{\"fillmode\":\"overlay\",\"size\":10,\"solidity\":0.2}},\"type\":\"histogram\"}],\"histogram2d\":[{\"colorbar\":{\"outlinewidth\":0,\"ticks\":\"\"},\"colorscale\":[[0.0,\"#0d0887\"],[0.1111111111111111,\"#46039f\"],[0.2222222222222222,\"#7201a8\"],[0.3333333333333333,\"#9c179e\"],[0.4444444444444444,\"#bd3786\"],[0.5555555555555556,\"#d8576b\"],[0.6666666666666666,\"#ed7953\"],[0.7777777777777778,\"#fb9f3a\"],[0.8888888888888888,\"#fdca26\"],[1.0,\"#f0f921\"]],\"type\":\"histogram2d\"}],\"histogram2dcontour\":[{\"colorbar\":{\"outlinewidth\":0,\"ticks\":\"\"},\"colorscale\":[[0.0,\"#0d0887\"],[0.1111111111111111,\"#46039f\"],[0.2222222222222222,\"#7201a8\"],[0.3333333333333333,\"#9c179e\"],[0.4444444444444444,\"#bd3786\"],[0.5555555555555556,\"#d8576b\"],[0.6666666666666666,\"#ed7953\"],[0.7777777777777778,\"#fb9f3a\"],[0.8888888888888888,\"#fdca26\"],[1.0,\"#f0f921\"]],\"type\":\"histogram2dcontour\"}],\"mesh3d\":[{\"colorbar\":{\"outlinewidth\":0,\"ticks\":\"\"},\"type\":\"mesh3d\"}],\"parcoords\":[{\"line\":{\"colorbar\":{\"outlinewidth\":0,\"ticks\":\"\"}},\"type\":\"parcoords\"}],\"pie\":[{\"automargin\":true,\"type\":\"pie\"}],\"scatter\":[{\"marker\":{\"colorbar\":{\"outlinewidth\":0,\"ticks\":\"\"}},\"type\":\"scatter\"}],\"scatter3d\":[{\"line\":{\"colorbar\":{\"outlinewidth\":0,\"ticks\":\"\"}},\"marker\":{\"colorbar\":{\"outlinewidth\":0,\"ticks\":\"\"}},\"type\":\"scatter3d\"}],\"scattercarpet\":[{\"marker\":{\"colorbar\":{\"outlinewidth\":0,\"ticks\":\"\"}},\"type\":\"scattercarpet\"}],\"scattergeo\":[{\"marker\":{\"colorbar\":{\"outlinewidth\":0,\"ticks\":\"\"}},\"type\":\"scattergeo\"}],\"scattergl\":[{\"marker\":{\"colorbar\":{\"outlinewidth\":0,\"ticks\":\"\"}},\"type\":\"scattergl\"}],\"scattermapbox\":[{\"marker\":{\"colorbar\":{\"outlinewidth\":0,\"ticks\":\"\"}},\"type\":\"scattermapbox\"}],\"scatterpolar\":[{\"marker\":{\"colorbar\":{\"outlinewidth\":0,\"ticks\":\"\"}},\"type\":\"scatterpolar\"}],\"scatterpolargl\":[{\"marker\":{\"colorbar\":{\"outlinewidth\":0,\"ticks\":\"\"}},\"type\":\"scatterpolargl\"}],\"scatterternary\":[{\"marker\":{\"colorbar\":{\"outlinewidth\":0,\"ticks\":\"\"}},\"type\":\"scatterternary\"}],\"surface\":[{\"colorbar\":{\"outlinewidth\":0,\"ticks\":\"\"},\"colorscale\":[[0.0,\"#0d0887\"],[0.1111111111111111,\"#46039f\"],[0.2222222222222222,\"#7201a8\"],[0.3333333333333333,\"#9c179e\"],[0.4444444444444444,\"#bd3786\"],[0.5555555555555556,\"#d8576b\"],[0.6666666666666666,\"#ed7953\"],[0.7777777777777778,\"#fb9f3a\"],[0.8888888888888888,\"#fdca26\"],[1.0,\"#f0f921\"]],\"type\":\"surface\"}],\"table\":[{\"cells\":{\"fill\":{\"color\":\"#EBF0F8\"},\"line\":{\"color\":\"white\"}},\"header\":{\"fill\":{\"color\":\"#C8D4E3\"},\"line\":{\"color\":\"white\"}},\"type\":\"table\"}]},\"layout\":{\"annotationdefaults\":{\"arrowcolor\":\"#2a3f5f\",\"arrowhead\":0,\"arrowwidth\":1},\"autotypenumbers\":\"strict\",\"coloraxis\":{\"colorbar\":{\"outlinewidth\":0,\"ticks\":\"\"}},\"colorscale\":{\"diverging\":[[0,\"#8e0152\"],[0.1,\"#c51b7d\"],[0.2,\"#de77ae\"],[0.3,\"#f1b6da\"],[0.4,\"#fde0ef\"],[0.5,\"#f7f7f7\"],[0.6,\"#e6f5d0\"],[0.7,\"#b8e186\"],[0.8,\"#7fbc41\"],[0.9,\"#4d9221\"],[1,\"#276419\"]],\"sequential\":[[0.0,\"#0d0887\"],[0.1111111111111111,\"#46039f\"],[0.2222222222222222,\"#7201a8\"],[0.3333333333333333,\"#9c179e\"],[0.4444444444444444,\"#bd3786\"],[0.5555555555555556,\"#d8576b\"],[0.6666666666666666,\"#ed7953\"],[0.7777777777777778,\"#fb9f3a\"],[0.8888888888888888,\"#fdca26\"],[1.0,\"#f0f921\"]],\"sequentialminus\":[[0.0,\"#0d0887\"],[0.1111111111111111,\"#46039f\"],[0.2222222222222222,\"#7201a8\"],[0.3333333333333333,\"#9c179e\"],[0.4444444444444444,\"#bd3786\"],[0.5555555555555556,\"#d8576b\"],[0.6666666666666666,\"#ed7953\"],[0.7777777777777778,\"#fb9f3a\"],[0.8888888888888888,\"#fdca26\"],[1.0,\"#f0f921\"]]},\"colorway\":[\"#636efa\",\"#EF553B\",\"#00cc96\",\"#ab63fa\",\"#FFA15A\",\"#19d3f3\",\"#FF6692\",\"#B6E880\",\"#FF97FF\",\"#FECB52\"],\"font\":{\"color\":\"#2a3f5f\"},\"geo\":{\"bgcolor\":\"white\",\"lakecolor\":\"white\",\"landcolor\":\"#E5ECF6\",\"showlakes\":true,\"showland\":true,\"subunitcolor\":\"white\"},\"hoverlabel\":{\"align\":\"left\"},\"hovermode\":\"closest\",\"mapbox\":{\"style\":\"light\"},\"paper_bgcolor\":\"white\",\"plot_bgcolor\":\"#E5ECF6\",\"polar\":{\"angularaxis\":{\"gridcolor\":\"white\",\"linecolor\":\"white\",\"ticks\":\"\"},\"bgcolor\":\"#E5ECF6\",\"radialaxis\":{\"gridcolor\":\"white\",\"linecolor\":\"white\",\"ticks\":\"\"}},\"scene\":{\"xaxis\":{\"backgroundcolor\":\"#E5ECF6\",\"gridcolor\":\"white\",\"gridwidth\":2,\"linecolor\":\"white\",\"showbackground\":true,\"ticks\":\"\",\"zerolinecolor\":\"white\"},\"yaxis\":{\"backgroundcolor\":\"#E5ECF6\",\"gridcolor\":\"white\",\"gridwidth\":2,\"linecolor\":\"white\",\"showbackground\":true,\"ticks\":\"\",\"zerolinecolor\":\"white\"},\"zaxis\":{\"backgroundcolor\":\"#E5ECF6\",\"gridcolor\":\"white\",\"gridwidth\":2,\"linecolor\":\"white\",\"showbackground\":true,\"ticks\":\"\",\"zerolinecolor\":\"white\"}},\"shapedefaults\":{\"line\":{\"color\":\"#2a3f5f\"}},\"ternary\":{\"aaxis\":{\"gridcolor\":\"white\",\"linecolor\":\"white\",\"ticks\":\"\"},\"baxis\":{\"gridcolor\":\"white\",\"linecolor\":\"white\",\"ticks\":\"\"},\"bgcolor\":\"#E5ECF6\",\"caxis\":{\"gridcolor\":\"white\",\"linecolor\":\"white\",\"ticks\":\"\"}},\"title\":{\"x\":0.05},\"xaxis\":{\"automargin\":true,\"gridcolor\":\"white\",\"linecolor\":\"white\",\"ticks\":\"\",\"title\":{\"standoff\":15},\"zerolinecolor\":\"white\",\"zerolinewidth\":2},\"yaxis\":{\"automargin\":true,\"gridcolor\":\"white\",\"linecolor\":\"white\",\"ticks\":\"\",\"title\":{\"standoff\":15},\"zerolinecolor\":\"white\",\"zerolinewidth\":2}}},\"title\":{\"font\":{\"color\":\"#4D5663\"}},\"xaxis\":{\"gridcolor\":\"#E1E5ED\",\"showgrid\":true,\"tickfont\":{\"color\":\"#4D5663\"},\"title\":{\"font\":{\"color\":\"#4D5663\"},\"text\":\"\"},\"zerolinecolor\":\"#E1E5ED\"},\"yaxis\":{\"gridcolor\":\"#E1E5ED\",\"showgrid\":true,\"tickfont\":{\"color\":\"#4D5663\"},\"title\":{\"font\":{\"color\":\"#4D5663\"},\"text\":\"\"},\"zerolinecolor\":\"#E1E5ED\"}},                        {\"showLink\": true, \"linkText\": \"Export to plot.ly\", \"plotlyServerURL\": \"https://plot.ly\", \"responsive\": true}                    ).then(function(){\n",
       "                            \n",
       "var gd = document.getElementById('a0591384-eb1b-4397-9c9f-94a23eac19e0');\n",
       "var x = new MutationObserver(function (mutations, observer) {{\n",
       "        var display = window.getComputedStyle(gd).display;\n",
       "        if (!display || display === 'none') {{\n",
       "            console.log([gd, 'removed!']);\n",
       "            Plotly.purge(gd);\n",
       "            observer.disconnect();\n",
       "        }}\n",
       "}});\n",
       "\n",
       "// Listen for the removal of the full notebook cells\n",
       "var notebookContainer = gd.closest('#notebook-container');\n",
       "if (notebookContainer) {{\n",
       "    x.observe(notebookContainer, {childList: true});\n",
       "}}\n",
       "\n",
       "// Listen for the clearing of the current output cell\n",
       "var outputEl = gd.closest('.output');\n",
       "if (outputEl) {{\n",
       "    x.observe(outputEl, {childList: true});\n",
       "}}\n",
       "\n",
       "                        })                };                });            </script>        </div>"
      ]
     },
     "metadata": {},
     "output_type": "display_data"
    }
   ],
   "source": [
    "missing_percentage.sort_values(ascending=False).head(200).iplot(kind='bar')"
   ]
  },
  {
   "cell_type": "code",
   "execution_count": 27,
   "id": "090f7fea-62d6-46bd-8e50-4e3f442734db",
   "metadata": {},
   "outputs": [
    {
     "data": {
      "application/vnd.plotly.v1+json": {
       "config": {
        "linkText": "Export to plot.ly",
        "plotlyServerURL": "https://plot.ly",
        "showLink": true
       },
       "data": [
        {
         "marker": {
          "color": "rgba(255, 153, 51, 0.6)",
          "line": {
           "color": "rgba(255, 153, 51, 1.0)",
           "width": 1
          }
         },
         "name": "None",
         "orientation": "v",
         "text": "",
         "type": "bar",
         "x": [
          "AHDJJHN",
          "EDQZDFY",
          "TPUASCQ",
          "UZIGIGC",
          "HFYZKSZ",
          "YWVSPKM",
          "MNNVQLZ",
          "MGHHIOF",
          "DTJITAO",
          "GJJABFU",
          "FNCZPLL",
          "CEIXACS",
          "MSAHYEA",
          "DJANPLY",
          "KVOYKGE",
          "KPQSPBC",
          "AIKOJYC",
          "AKUNFFN",
          "TERIJOV",
          "NYWUAUO",
          "HBCMCGN",
          "EOBUBXA",
          "SLCKDWR",
          "UPSDFCS",
          "OYSQKAH",
          "FAIOOOV",
          "NGVHWDO",
          "LPKKAWN",
          "BGDAMPC",
          "NIVQSOG",
          "QASZGHA",
          "JIWJHVI",
          "GUEUYTS",
          "AYAJVQL",
          "PSXOLCG",
          "AHVIXII",
          "MOSECGI",
          "XJCMQSV",
          "DCDCWXQ",
          "LLZRQRY",
          "NRUIVJF",
          "KNIKHDA",
          "JZRBYSL",
          "EIQECLF",
          "GYXMTQR",
          "NMWUWJL",
          "ODXOWHT",
          "POUQMMG",
          "DIKRMOL",
          "AZLIRWB",
          "WPYBJPG",
          "TQZKVZQ",
          "BKSGEBR",
          "OOASVXJ",
          "FPBFOEB",
          "EEIRTMR",
          "AUESMVQ",
          "XKEMMHR",
          "CNGIUEP",
          "OADGFBJ",
          "JUMKXBC",
          "UZPPCUZ",
          "ZUMBXNE",
          "HIFPGGQ",
          "KXISVUL",
          "HGXUJOI",
          "SRQKQTX",
          "GOBJALH",
          "STMKCSJ",
          "AUSDIEL",
          "MKHJGMF",
          "ULYIQYO",
          "IHCEXCN",
          "SHBNDLU",
          "GQHLWWM",
          "NPVZRXF",
          "BYEQVGG",
          "OMIIMXP",
          "WGQRBHJ",
          "KDQUJOB",
          "TTQVFLL",
          "XIRNYHK",
          "PRVIFOQ",
          "HBQPQTD",
          "LPCAWJY",
          "CVWPAJZ",
          "KCTFYGC",
          "LTZYUVU",
          "IUCJIOI",
          "WVRSHBW",
          "VMWDQGF",
          "EJMEHVK",
          "SKKXRWR",
          "SFTKCKG",
          "ALDDXXN",
          "RNKJCEN",
          "UTGKBXG",
          "CTGUILF",
          "DDGIRQA",
          "YYKATJF",
          "JNYELDJ",
          "YAXADEO",
          "WIWNVTH",
          "APJFLOK",
          "SFGWGSJ",
          "EDASGHM",
          "LBMUJNZ",
          "HKTLMYY",
          "PATWSZC",
          "SDEUDHY",
          "SHEGNUT",
          "JEKQIKE",
          "MUEKGHC",
          "PUBVMLA",
          "OOFAOBD",
          "UDQVDVI",
          "AGLJDAB",
          "BDROJVQ",
          "UXZNNNB",
          "ZSGPKXD",
          "LCAOHWW",
          "INLEXOC",
          "PIFCYQL",
          "HVTWAZN",
          "SBUETBP",
          "WSRRROM",
          "RHYKHCF",
          "AOLWPYQ",
          "PNSPXXL",
          "PPPQVMZ",
          "EAZAMWH",
          "JNEVNAR",
          "RZPQSGM",
          "YCYSGLG",
          "AVSMOFQ",
          "CMSGVTL",
          "FXACWUA",
          "IKMWIOV",
          "LJWUXOV",
          "YLHQTEA",
          "UNFEABR",
          "DMTXDGF",
          "MRUWBZT",
          "LNWVWPK",
          "PFFFNMW",
          "VEOALEL",
          "KNFIDTO",
          "VZOZKWX",
          "VRNGUZU",
          "NSERJIK",
          "OKIKPOJ",
          "DVSZBLN",
          "FFJOGRA",
          "LEFUBNX",
          "DDCMFRW",
          "MDBYIRV",
          "OKMWHQM",
          "NDWFVEZ",
          "HSCCVTR",
          "VKTZZSI",
          "VMHLOFU",
          "NIMFVWU",
          "YZRVJSE",
          "EULURHL",
          "WCZJBOX",
          "QSQCEMO",
          "FREGTES",
          "MFKGYLS",
          "RETRSMC",
          "LWIGOSX",
          "SXUVCDJ",
          "ZHFQXTN",
          "QKXDWEZ",
          "CBNASKU",
          "JOJRNMZ",
          "PIACHYE",
          "CNKJBOO",
          "HYBFEEM",
          "CJMPQXT",
          "AKWDPAB",
          "UGXVMKE",
          "CZJWKNF",
          "EGWONKF",
          "XEUMIIT",
          "JYNEQWD",
          "LZJFGGT",
          "VRFKBMQ",
          "ZDWTEVD",
          "RMDQISV",
          "XGBPWXI",
          "UEIYMWS",
          "JYSKSPX",
          "WSCCCVK",
          "BGEQHWR",
          "QTALKVV",
          "XJUIXIR",
          "WLULXFN",
          "AQYGYOE",
          "FHCNORU",
          "TLJYWBE"
         ],
         "y": [
          0.0011275260106156574,
          0.0011275260106156574,
          0.0011275260106156574,
          0.0011275260106156574,
          0.0011275260106156574,
          0.0011275260106156574,
          0.0011275260106156574,
          0.0011275260106156574,
          0.0011275260106156574,
          0.0011275260106156574,
          0.0011275260106156574,
          0.0011275260106156574,
          0.00014094075132695718,
          0.00014094075132695718,
          0.00014094075132695718,
          0.00014094075132695718,
          0.00014094075132695718,
          0.00014094075132695718,
          0.00014094075132695718,
          0.00014094075132695718,
          0,
          0,
          0,
          0,
          0,
          0,
          0,
          0,
          0,
          0,
          0,
          0,
          0,
          0,
          0,
          0,
          0,
          0,
          0,
          0,
          0,
          0,
          0,
          0,
          0,
          0,
          0,
          0,
          0,
          0,
          0,
          0,
          0,
          0,
          0,
          0,
          0,
          0,
          0,
          0,
          0,
          0,
          0,
          0,
          0,
          0,
          0,
          0,
          0,
          0,
          0,
          0,
          0,
          0,
          0,
          0,
          0,
          0,
          0,
          0,
          0,
          0,
          0,
          0,
          0,
          0,
          0,
          0,
          0,
          0,
          0,
          0,
          0,
          0,
          0,
          0,
          0,
          0,
          0,
          0,
          0,
          0,
          0,
          0,
          0,
          0,
          0,
          0,
          0,
          0,
          0,
          0,
          0,
          0,
          0,
          0,
          0,
          0,
          0,
          0,
          0,
          0,
          0,
          0,
          0,
          0,
          0,
          0,
          0,
          0,
          0,
          0,
          0,
          0,
          0,
          0,
          0,
          0,
          0,
          0,
          0,
          0,
          0,
          0,
          0,
          0,
          0,
          0,
          0,
          0,
          0,
          0,
          0,
          0,
          0,
          0,
          0,
          0,
          0,
          0,
          0,
          0,
          0,
          0,
          0,
          0,
          0,
          0,
          0,
          0,
          0,
          0,
          0,
          0,
          0,
          0,
          0,
          0,
          0,
          0,
          0,
          0,
          0,
          0,
          0,
          0,
          0,
          0,
          0,
          0,
          0,
          0,
          0,
          0,
          0,
          0,
          0,
          0,
          0,
          0
         ]
        }
       ],
       "layout": {
        "autosize": true,
        "legend": {
         "bgcolor": "#F5F6F9",
         "font": {
          "color": "#4D5663"
         }
        },
        "paper_bgcolor": "#F5F6F9",
        "plot_bgcolor": "#F5F6F9",
        "template": {
         "data": {
          "bar": [
           {
            "error_x": {
             "color": "#2a3f5f"
            },
            "error_y": {
             "color": "#2a3f5f"
            },
            "marker": {
             "line": {
              "color": "#E5ECF6",
              "width": 0.5
             },
             "pattern": {
              "fillmode": "overlay",
              "size": 10,
              "solidity": 0.2
             }
            },
            "type": "bar"
           }
          ],
          "barpolar": [
           {
            "marker": {
             "line": {
              "color": "#E5ECF6",
              "width": 0.5
             },
             "pattern": {
              "fillmode": "overlay",
              "size": 10,
              "solidity": 0.2
             }
            },
            "type": "barpolar"
           }
          ],
          "carpet": [
           {
            "aaxis": {
             "endlinecolor": "#2a3f5f",
             "gridcolor": "white",
             "linecolor": "white",
             "minorgridcolor": "white",
             "startlinecolor": "#2a3f5f"
            },
            "baxis": {
             "endlinecolor": "#2a3f5f",
             "gridcolor": "white",
             "linecolor": "white",
             "minorgridcolor": "white",
             "startlinecolor": "#2a3f5f"
            },
            "type": "carpet"
           }
          ],
          "choropleth": [
           {
            "colorbar": {
             "outlinewidth": 0,
             "ticks": ""
            },
            "type": "choropleth"
           }
          ],
          "contour": [
           {
            "colorbar": {
             "outlinewidth": 0,
             "ticks": ""
            },
            "colorscale": [
             [
              0,
              "#0d0887"
             ],
             [
              0.1111111111111111,
              "#46039f"
             ],
             [
              0.2222222222222222,
              "#7201a8"
             ],
             [
              0.3333333333333333,
              "#9c179e"
             ],
             [
              0.4444444444444444,
              "#bd3786"
             ],
             [
              0.5555555555555556,
              "#d8576b"
             ],
             [
              0.6666666666666666,
              "#ed7953"
             ],
             [
              0.7777777777777778,
              "#fb9f3a"
             ],
             [
              0.8888888888888888,
              "#fdca26"
             ],
             [
              1,
              "#f0f921"
             ]
            ],
            "type": "contour"
           }
          ],
          "contourcarpet": [
           {
            "colorbar": {
             "outlinewidth": 0,
             "ticks": ""
            },
            "type": "contourcarpet"
           }
          ],
          "heatmap": [
           {
            "colorbar": {
             "outlinewidth": 0,
             "ticks": ""
            },
            "colorscale": [
             [
              0,
              "#0d0887"
             ],
             [
              0.1111111111111111,
              "#46039f"
             ],
             [
              0.2222222222222222,
              "#7201a8"
             ],
             [
              0.3333333333333333,
              "#9c179e"
             ],
             [
              0.4444444444444444,
              "#bd3786"
             ],
             [
              0.5555555555555556,
              "#d8576b"
             ],
             [
              0.6666666666666666,
              "#ed7953"
             ],
             [
              0.7777777777777778,
              "#fb9f3a"
             ],
             [
              0.8888888888888888,
              "#fdca26"
             ],
             [
              1,
              "#f0f921"
             ]
            ],
            "type": "heatmap"
           }
          ],
          "heatmapgl": [
           {
            "colorbar": {
             "outlinewidth": 0,
             "ticks": ""
            },
            "colorscale": [
             [
              0,
              "#0d0887"
             ],
             [
              0.1111111111111111,
              "#46039f"
             ],
             [
              0.2222222222222222,
              "#7201a8"
             ],
             [
              0.3333333333333333,
              "#9c179e"
             ],
             [
              0.4444444444444444,
              "#bd3786"
             ],
             [
              0.5555555555555556,
              "#d8576b"
             ],
             [
              0.6666666666666666,
              "#ed7953"
             ],
             [
              0.7777777777777778,
              "#fb9f3a"
             ],
             [
              0.8888888888888888,
              "#fdca26"
             ],
             [
              1,
              "#f0f921"
             ]
            ],
            "type": "heatmapgl"
           }
          ],
          "histogram": [
           {
            "marker": {
             "pattern": {
              "fillmode": "overlay",
              "size": 10,
              "solidity": 0.2
             }
            },
            "type": "histogram"
           }
          ],
          "histogram2d": [
           {
            "colorbar": {
             "outlinewidth": 0,
             "ticks": ""
            },
            "colorscale": [
             [
              0,
              "#0d0887"
             ],
             [
              0.1111111111111111,
              "#46039f"
             ],
             [
              0.2222222222222222,
              "#7201a8"
             ],
             [
              0.3333333333333333,
              "#9c179e"
             ],
             [
              0.4444444444444444,
              "#bd3786"
             ],
             [
              0.5555555555555556,
              "#d8576b"
             ],
             [
              0.6666666666666666,
              "#ed7953"
             ],
             [
              0.7777777777777778,
              "#fb9f3a"
             ],
             [
              0.8888888888888888,
              "#fdca26"
             ],
             [
              1,
              "#f0f921"
             ]
            ],
            "type": "histogram2d"
           }
          ],
          "histogram2dcontour": [
           {
            "colorbar": {
             "outlinewidth": 0,
             "ticks": ""
            },
            "colorscale": [
             [
              0,
              "#0d0887"
             ],
             [
              0.1111111111111111,
              "#46039f"
             ],
             [
              0.2222222222222222,
              "#7201a8"
             ],
             [
              0.3333333333333333,
              "#9c179e"
             ],
             [
              0.4444444444444444,
              "#bd3786"
             ],
             [
              0.5555555555555556,
              "#d8576b"
             ],
             [
              0.6666666666666666,
              "#ed7953"
             ],
             [
              0.7777777777777778,
              "#fb9f3a"
             ],
             [
              0.8888888888888888,
              "#fdca26"
             ],
             [
              1,
              "#f0f921"
             ]
            ],
            "type": "histogram2dcontour"
           }
          ],
          "mesh3d": [
           {
            "colorbar": {
             "outlinewidth": 0,
             "ticks": ""
            },
            "type": "mesh3d"
           }
          ],
          "parcoords": [
           {
            "line": {
             "colorbar": {
              "outlinewidth": 0,
              "ticks": ""
             }
            },
            "type": "parcoords"
           }
          ],
          "pie": [
           {
            "automargin": true,
            "type": "pie"
           }
          ],
          "scatter": [
           {
            "marker": {
             "colorbar": {
              "outlinewidth": 0,
              "ticks": ""
             }
            },
            "type": "scatter"
           }
          ],
          "scatter3d": [
           {
            "line": {
             "colorbar": {
              "outlinewidth": 0,
              "ticks": ""
             }
            },
            "marker": {
             "colorbar": {
              "outlinewidth": 0,
              "ticks": ""
             }
            },
            "type": "scatter3d"
           }
          ],
          "scattercarpet": [
           {
            "marker": {
             "colorbar": {
              "outlinewidth": 0,
              "ticks": ""
             }
            },
            "type": "scattercarpet"
           }
          ],
          "scattergeo": [
           {
            "marker": {
             "colorbar": {
              "outlinewidth": 0,
              "ticks": ""
             }
            },
            "type": "scattergeo"
           }
          ],
          "scattergl": [
           {
            "marker": {
             "colorbar": {
              "outlinewidth": 0,
              "ticks": ""
             }
            },
            "type": "scattergl"
           }
          ],
          "scattermapbox": [
           {
            "marker": {
             "colorbar": {
              "outlinewidth": 0,
              "ticks": ""
             }
            },
            "type": "scattermapbox"
           }
          ],
          "scatterpolar": [
           {
            "marker": {
             "colorbar": {
              "outlinewidth": 0,
              "ticks": ""
             }
            },
            "type": "scatterpolar"
           }
          ],
          "scatterpolargl": [
           {
            "marker": {
             "colorbar": {
              "outlinewidth": 0,
              "ticks": ""
             }
            },
            "type": "scatterpolargl"
           }
          ],
          "scatterternary": [
           {
            "marker": {
             "colorbar": {
              "outlinewidth": 0,
              "ticks": ""
             }
            },
            "type": "scatterternary"
           }
          ],
          "surface": [
           {
            "colorbar": {
             "outlinewidth": 0,
             "ticks": ""
            },
            "colorscale": [
             [
              0,
              "#0d0887"
             ],
             [
              0.1111111111111111,
              "#46039f"
             ],
             [
              0.2222222222222222,
              "#7201a8"
             ],
             [
              0.3333333333333333,
              "#9c179e"
             ],
             [
              0.4444444444444444,
              "#bd3786"
             ],
             [
              0.5555555555555556,
              "#d8576b"
             ],
             [
              0.6666666666666666,
              "#ed7953"
             ],
             [
              0.7777777777777778,
              "#fb9f3a"
             ],
             [
              0.8888888888888888,
              "#fdca26"
             ],
             [
              1,
              "#f0f921"
             ]
            ],
            "type": "surface"
           }
          ],
          "table": [
           {
            "cells": {
             "fill": {
              "color": "#EBF0F8"
             },
             "line": {
              "color": "white"
             }
            },
            "header": {
             "fill": {
              "color": "#C8D4E3"
             },
             "line": {
              "color": "white"
             }
            },
            "type": "table"
           }
          ]
         },
         "layout": {
          "annotationdefaults": {
           "arrowcolor": "#2a3f5f",
           "arrowhead": 0,
           "arrowwidth": 1
          },
          "autotypenumbers": "strict",
          "coloraxis": {
           "colorbar": {
            "outlinewidth": 0,
            "ticks": ""
           }
          },
          "colorscale": {
           "diverging": [
            [
             0,
             "#8e0152"
            ],
            [
             0.1,
             "#c51b7d"
            ],
            [
             0.2,
             "#de77ae"
            ],
            [
             0.3,
             "#f1b6da"
            ],
            [
             0.4,
             "#fde0ef"
            ],
            [
             0.5,
             "#f7f7f7"
            ],
            [
             0.6,
             "#e6f5d0"
            ],
            [
             0.7,
             "#b8e186"
            ],
            [
             0.8,
             "#7fbc41"
            ],
            [
             0.9,
             "#4d9221"
            ],
            [
             1,
             "#276419"
            ]
           ],
           "sequential": [
            [
             0,
             "#0d0887"
            ],
            [
             0.1111111111111111,
             "#46039f"
            ],
            [
             0.2222222222222222,
             "#7201a8"
            ],
            [
             0.3333333333333333,
             "#9c179e"
            ],
            [
             0.4444444444444444,
             "#bd3786"
            ],
            [
             0.5555555555555556,
             "#d8576b"
            ],
            [
             0.6666666666666666,
             "#ed7953"
            ],
            [
             0.7777777777777778,
             "#fb9f3a"
            ],
            [
             0.8888888888888888,
             "#fdca26"
            ],
            [
             1,
             "#f0f921"
            ]
           ],
           "sequentialminus": [
            [
             0,
             "#0d0887"
            ],
            [
             0.1111111111111111,
             "#46039f"
            ],
            [
             0.2222222222222222,
             "#7201a8"
            ],
            [
             0.3333333333333333,
             "#9c179e"
            ],
            [
             0.4444444444444444,
             "#bd3786"
            ],
            [
             0.5555555555555556,
             "#d8576b"
            ],
            [
             0.6666666666666666,
             "#ed7953"
            ],
            [
             0.7777777777777778,
             "#fb9f3a"
            ],
            [
             0.8888888888888888,
             "#fdca26"
            ],
            [
             1,
             "#f0f921"
            ]
           ]
          },
          "colorway": [
           "#636efa",
           "#EF553B",
           "#00cc96",
           "#ab63fa",
           "#FFA15A",
           "#19d3f3",
           "#FF6692",
           "#B6E880",
           "#FF97FF",
           "#FECB52"
          ],
          "font": {
           "color": "#2a3f5f"
          },
          "geo": {
           "bgcolor": "white",
           "lakecolor": "white",
           "landcolor": "#E5ECF6",
           "showlakes": true,
           "showland": true,
           "subunitcolor": "white"
          },
          "hoverlabel": {
           "align": "left"
          },
          "hovermode": "closest",
          "mapbox": {
           "style": "light"
          },
          "paper_bgcolor": "white",
          "plot_bgcolor": "#E5ECF6",
          "polar": {
           "angularaxis": {
            "gridcolor": "white",
            "linecolor": "white",
            "ticks": ""
           },
           "bgcolor": "#E5ECF6",
           "radialaxis": {
            "gridcolor": "white",
            "linecolor": "white",
            "ticks": ""
           }
          },
          "scene": {
           "xaxis": {
            "backgroundcolor": "#E5ECF6",
            "gridcolor": "white",
            "gridwidth": 2,
            "linecolor": "white",
            "showbackground": true,
            "ticks": "",
            "zerolinecolor": "white"
           },
           "yaxis": {
            "backgroundcolor": "#E5ECF6",
            "gridcolor": "white",
            "gridwidth": 2,
            "linecolor": "white",
            "showbackground": true,
            "ticks": "",
            "zerolinecolor": "white"
           },
           "zaxis": {
            "backgroundcolor": "#E5ECF6",
            "gridcolor": "white",
            "gridwidth": 2,
            "linecolor": "white",
            "showbackground": true,
            "ticks": "",
            "zerolinecolor": "white"
           }
          },
          "shapedefaults": {
           "line": {
            "color": "#2a3f5f"
           }
          },
          "ternary": {
           "aaxis": {
            "gridcolor": "white",
            "linecolor": "white",
            "ticks": ""
           },
           "baxis": {
            "gridcolor": "white",
            "linecolor": "white",
            "ticks": ""
           },
           "bgcolor": "#E5ECF6",
           "caxis": {
            "gridcolor": "white",
            "linecolor": "white",
            "ticks": ""
           }
          },
          "title": {
           "x": 0.05
          },
          "xaxis": {
           "automargin": true,
           "gridcolor": "white",
           "linecolor": "white",
           "ticks": "",
           "title": {
            "standoff": 15
           },
           "zerolinecolor": "white",
           "zerolinewidth": 2
          },
          "yaxis": {
           "automargin": true,
           "gridcolor": "white",
           "linecolor": "white",
           "ticks": "",
           "title": {
            "standoff": 15
           },
           "zerolinecolor": "white",
           "zerolinewidth": 2
          }
         }
        },
        "title": {
         "font": {
          "color": "#4D5663"
         }
        },
        "xaxis": {
         "autorange": true,
         "gridcolor": "#E1E5ED",
         "range": [
          -0.5,
          199.5
         ],
         "showgrid": true,
         "tickfont": {
          "color": "#4D5663"
         },
         "title": {
          "font": {
           "color": "#4D5663"
          },
          "text": ""
         },
         "type": "category",
         "zerolinecolor": "#E1E5ED"
        },
        "yaxis": {
         "autorange": true,
         "gridcolor": "#E1E5ED",
         "range": [
          0,
          0.0011868694848585868
         ],
         "showgrid": true,
         "tickfont": {
          "color": "#4D5663"
         },
         "title": {
          "font": {
           "color": "#4D5663"
          },
          "text": ""
         },
         "type": "linear",
         "zerolinecolor": "#E1E5ED"
        }
       }
      },
      "image/png": "[encoded data removed]",
      "text/html": [
       "<div>                            <div id=\"fa461944-53ff-4388-97c8-cadce850b83d\" class=\"plotly-graph-div\" style=\"height:525px; width:100%;\"></div>            <script type=\"text/javascript\">                require([\"plotly\"], function(Plotly) {                    window.PLOTLYENV=window.PLOTLYENV || {};\n",
       "                    window.PLOTLYENV.BASE_URL='https://plot.ly';                                    if (document.getElementById(\"fa461944-53ff-4388-97c8-cadce850b83d\")) {                    Plotly.newPlot(                        \"fa461944-53ff-4388-97c8-cadce850b83d\",                        [{\"marker\":{\"color\":\"rgba(255, 153, 51, 0.6)\",\"line\":{\"color\":\"rgba(255, 153, 51, 1.0)\",\"width\":1}},\"name\":\"None\",\"orientation\":\"v\",\"text\":\"\",\"type\":\"bar\",\"x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y\":[0.0011275260106156574,0.0011275260106156574,0.0011275260106156574,0.0011275260106156574,0.0011275260106156574,0.0011275260106156574,0.0011275260106156574,0.0011275260106156574,0.0011275260106156574,0.0011275260106156574,0.0011275260106156574,0.0011275260106156574,0.00014094075132695718,0.00014094075132695718,0.00014094075132695718,0.00014094075132695718,0.00014094075132695718,0.00014094075132695718,0.00014094075132695718,0.00014094075132695718,0.0,0.0,0.0,0.0,0.0,0.0,0.0,0.0,0.0,0.0,0.0,0.0,0.0,0.0,0.0,0.0,0.0,0.0,0.0,0.0,0.0,0.0,0.0,0.0,0.0,0.0,0.0,0.0,0.0,0.0,0.0,0.0,0.0,0.0,0.0,0.0,0.0,0.0,0.0,0.0,0.0,0.0,0.0,0.0,0.0,0.0,0.0,0.0,0.0,0.0,0.0,0.0,0.0,0.0,0.0,0.0,0.0,0.0,0.0,0.0,0.0,0.0,0.0,0.0,0.0,0.0,0.0,0.0,0.0,0.0,0.0,0.0,0.0,0.0,0.0,0.0,0.0,0.0,0.0,0.0,0.0,0.0,0.0,0.0,0.0,0.0,0.0,0.0,0.0,0.0,0.0,0.0,0.0,0.0,0.0,0.0,0.0,0.0,0.0,0.0,0.0,0.0,0.0,0.0,0.0,0.0,0.0,0.0,0.0,0.0,0.0,0.0,0.0,0.0,0.0,0.0,0.0,0.0,0.0,0.0,0.0,0.0,0.0,0.0,0.0,0.0,0.0,0.0,0.0,0.0,0.0,0.0,0.0,0.0,0.0,0.0,0.0,0.0,0.0,0.0,0.0,0.0,0.0,0.0,0.0,0.0,0.0,0.0,0.0,0.0,0.0,0.0,0.0,0.0,0.0,0.0,0.0,0.0,0.0,0.0,0.0,0.0,0.0,0.0,0.0,0.0,0.0,0.0,0.0,0.0,0.0,0.0,0.0,0.0,0.0,0.0,0.0,0.0,0.0,0.0]}],                        {\"legend\":{\"bgcolor\":\"#F5F6F9\",\"font\":{\"color\":\"#4D5663\"}},\"paper_bgcolor\":\"#F5F6F9\",\"plot_bgcolor\":\"#F5F6F9\",\"template\":{\"data\":{\"bar\":[{\"error_x\":{\"color\":\"#2a3f5f\"},\"error_y\":{\"color\":\"#2a3f5f\"},\"marker\":{\"line\":{\"color\":\"#E5ECF6\",\"width\":0.5},\"pattern\":{\"fillmode\":\"overlay\",\"size\":10,\"solidity\":0.2}},\"type\":\"bar\"}],\"barpolar\":[{\"marker\":{\"line\":{\"color\":\"#E5ECF6\",\"width\":0.5},\"pattern\":{\"fillmode\":\"overlay\",\"size\":10,\"solidity\":0.2}},\"type\":\"barpolar\"}],\"carpet\":[{\"aaxis\":{\"endlinecolor\":\"#2a3f5f\",\"gridcolor\":\"white\",\"linecolor\":\"white\",\"minorgridcolor\":\"white\",\"startlinecolor\":\"#2a3f5f\"},\"baxis\":{\"endlinecolor\":\"#2a3f5f\",\"gridcolor\":\"white\",\"linecolor\":\"white\",\"minorgridcolor\":\"white\",\"startlinecolor\":\"#2a3f5f\"},\"type\":\"carpet\"}],\"choropleth\":[{\"colorbar\":{\"outlinewidth\":0,\"ticks\":\"\"},\"type\":\"choropleth\"}],\"contour\":[{\"colorbar\":{\"outlinewidth\":0,\"ticks\":\"\"},\"colorscale\":[[0.0,\"#0d0887\"],[0.1111111111111111,\"#46039f\"],[0.2222222222222222,\"#7201a8\"],[0.3333333333333333,\"#9c179e\"],[0.4444444444444444,\"#bd3786\"],[0.5555555555555556,\"#d8576b\"],[0.6666666666666666,\"#ed7953\"],[0.7777777777777778,\"#fb9f3a\"],[0.8888888888888888,\"#fdca26\"],[1.0,\"#f0f921\"]],\"type\":\"contour\"}],\"contourcarpet\":[{\"colorbar\":{\"outlinewidth\":0,\"ticks\":\"\"},\"type\":\"contourcarpet\"}],\"heatmap\":[{\"colorbar\":{\"outlinewidth\":0,\"ticks\":\"\"},\"colorscale\":[[0.0,\"#0d0887\"],[0.1111111111111111,\"#46039f\"],[0.2222222222222222,\"#7201a8\"],[0.3333333333333333,\"#9c179e\"],[0.4444444444444444,\"#bd3786\"],[0.5555555555555556,\"#d8576b\"],[0.6666666666666666,\"#ed7953\"],[0.7777777777777778,\"#fb9f3a\"],[0.8888888888888888,\"#fdca26\"],[1.0,\"#f0f921\"]],\"type\":\"heatmap\"}],\"heatmapgl\":[{\"colorbar\":{\"outlinewidth\":0,\"ticks\":\"\"},\"colorscale\":[[0.0,\"#0d0887\"],[0.1111111111111111,\"#46039f\"],[0.2222222222222222,\"#7201a8\"],[0.3333333333333333,\"#9c179e\"],[0.4444444444444444,\"#bd3786\"],[0.5555555555555556,\"#d8576b\"],[0.6666666666666666,\"#ed7953\"],[0.7777777777777778,\"#fb9f3a\"],[0.8888888888888888,\"#fdca26\"],[1.0,\"#f0f921\"]],\"type\":\"heatmapgl\"}],\"histogram\":[{\"marker\":{\"pattern\":{\"fillmode\":\"overlay\",\"size\":10,\"solidity\":0.2}},\"type\":\"histogram\"}],\"histogram2d\":[{\"colorbar\":{\"outlinewidth\":0,\"ticks\":\"\"},\"colorscale\":[[0.0,\"#0d0887\"],[0.1111111111111111,\"#46039f\"],[0.2222222222222222,\"#7201a8\"],[0.3333333333333333,\"#9c179e\"],[0.4444444444444444,\"#bd3786\"],[0.5555555555555556,\"#d8576b\"],[0.6666666666666666,\"#ed7953\"],[0.7777777777777778,\"#fb9f3a\"],[0.8888888888888888,\"#fdca26\"],[1.0,\"#f0f921\"]],\"type\":\"histogram2d\"}],\"histogram2dcontour\":[{\"colorbar\":{\"outlinewidth\":0,\"ticks\":\"\"},\"colorscale\":[[0.0,\"#0d0887\"],[0.1111111111111111,\"#46039f\"],[0.2222222222222222,\"#7201a8\"],[0.3333333333333333,\"#9c179e\"],[0.4444444444444444,\"#bd3786\"],[0.5555555555555556,\"#d8576b\"],[0.6666666666666666,\"#ed7953\"],[0.7777777777777778,\"#fb9f3a\"],[0.8888888888888888,\"#fdca26\"],[1.0,\"#f0f921\"]],\"type\":\"histogram2dcontour\"}],\"mesh3d\":[{\"colorbar\":{\"outlinewidth\":0,\"ticks\":\"\"},\"type\":\"mesh3d\"}],\"parcoords\":[{\"line\":{\"colorbar\":{\"outlinewidth\":0,\"ticks\":\"\"}},\"type\":\"parcoords\"}],\"pie\":[{\"automargin\":true,\"type\":\"pie\"}],\"scatter\":[{\"marker\":{\"colorbar\":{\"outlinewidth\":0,\"ticks\":\"\"}},\"type\":\"scatter\"}],\"scatter3d\":[{\"line\":{\"colorbar\":{\"outlinewidth\":0,\"ticks\":\"\"}},\"marker\":{\"colorbar\":{\"outlinewidth\":0,\"ticks\":\"\"}},\"type\":\"scatter3d\"}],\"scattercarpet\":[{\"marker\":{\"colorbar\":{\"outlinewidth\":0,\"ticks\":\"\"}},\"type\":\"scattercarpet\"}],\"scattergeo\":[{\"marker\":{\"colorbar\":{\"outlinewidth\":0,\"ticks\":\"\"}},\"type\":\"scattergeo\"}],\"scattergl\":[{\"marker\":{\"colorbar\":{\"outlinewidth\":0,\"ticks\":\"\"}},\"type\":\"scattergl\"}],\"scattermapbox\":[{\"marker\":{\"colorbar\":{\"outlinewidth\":0,\"ticks\":\"\"}},\"type\":\"scattermapbox\"}],\"scatterpolar\":[{\"marker\":{\"colorbar\":{\"outlinewidth\":0,\"ticks\":\"\"}},\"type\":\"scatterpolar\"}],\"scatterpolargl\":[{\"marker\":{\"colorbar\":{\"outlinewidth\":0,\"ticks\":\"\"}},\"type\":\"scatterpolargl\"}],\"scatterternary\":[{\"marker\":{\"colorbar\":{\"outlinewidth\":0,\"ticks\":\"\"}},\"type\":\"scatterternary\"}],\"surface\":[{\"colorbar\":{\"outlinewidth\":0,\"ticks\":\"\"},\"colorscale\":[[0.0,\"#0d0887\"],[0.1111111111111111,\"#46039f\"],[0.2222222222222222,\"#7201a8\"],[0.3333333333333333,\"#9c179e\"],[0.4444444444444444,\"#bd3786\"],[0.5555555555555556,\"#d8576b\"],[0.6666666666666666,\"#ed7953\"],[0.7777777777777778,\"#fb9f3a\"],[0.8888888888888888,\"#fdca26\"],[1.0,\"#f0f921\"]],\"type\":\"surface\"}],\"table\":[{\"cells\":{\"fill\":{\"color\":\"#EBF0F8\"},\"line\":{\"color\":\"white\"}},\"header\":{\"fill\":{\"color\":\"#C8D4E3\"},\"line\":{\"color\":\"white\"}},\"type\":\"table\"}]},\"layout\":{\"annotationdefaults\":{\"arrowcolor\":\"#2a3f5f\",\"arrowhead\":0,\"arrowwidth\":1},\"autotypenumbers\":\"strict\",\"coloraxis\":{\"colorbar\":{\"outlinewidth\":0,\"ticks\":\"\"}},\"colorscale\":{\"diverging\":[[0,\"#8e0152\"],[0.1,\"#c51b7d\"],[0.2,\"#de77ae\"],[0.3,\"#f1b6da\"],[0.4,\"#fde0ef\"],[0.5,\"#f7f7f7\"],[0.6,\"#e6f5d0\"],[0.7,\"#b8e186\"],[0.8,\"#7fbc41\"],[0.9,\"#4d9221\"],[1,\"#276419\"]],\"sequential\":[[0.0,\"#0d0887\"],[0.1111111111111111,\"#46039f\"],[0.2222222222222222,\"#7201a8\"],[0.3333333333333333,\"#9c179e\"],[0.4444444444444444,\"#bd3786\"],[0.5555555555555556,\"#d8576b\"],[0.6666666666666666,\"#ed7953\"],[0.7777777777777778,\"#fb9f3a\"],[0.8888888888888888,\"#fdca26\"],[1.0,\"#f0f921\"]],\"sequentialminus\":[[0.0,\"#0d0887\"],[0.1111111111111111,\"#46039f\"],[0.2222222222222222,\"#7201a8\"],[0.3333333333333333,\"#9c179e\"],[0.4444444444444444,\"#bd3786\"],[0.5555555555555556,\"#d8576b\"],[0.6666666666666666,\"#ed7953\"],[0.7777777777777778,\"#fb9f3a\"],[0.8888888888888888,\"#fdca26\"],[1.0,\"#f0f921\"]]},\"colorway\":[\"#636efa\",\"#EF553B\",\"#00cc96\",\"#ab63fa\",\"#FFA15A\",\"#19d3f3\",\"#FF6692\",\"#B6E880\",\"#FF97FF\",\"#FECB52\"],\"font\":{\"color\":\"#2a3f5f\"},\"geo\":{\"bgcolor\":\"white\",\"lakecolor\":\"white\",\"landcolor\":\"#E5ECF6\",\"showlakes\":true,\"showland\":true,\"subunitcolor\":\"white\"},\"hoverlabel\":{\"align\":\"left\"},\"hovermode\":\"closest\",\"mapbox\":{\"style\":\"light\"},\"paper_bgcolor\":\"white\",\"plot_bgcolor\":\"#E5ECF6\",\"polar\":{\"angularaxis\":{\"gridcolor\":\"white\",\"linecolor\":\"white\",\"ticks\":\"\"},\"bgcolor\":\"#E5ECF6\",\"radialaxis\":{\"gridcolor\":\"white\",\"linecolor\":\"white\",\"ticks\":\"\"}},\"scene\":{\"xaxis\":{\"backgroundcolor\":\"#E5ECF6\",\"gridcolor\":\"white\",\"gridwidth\":2,\"linecolor\":\"white\",\"showbackground\":true,\"ticks\":\"\",\"zerolinecolor\":\"white\"},\"yaxis\":{\"backgroundcolor\":\"#E5ECF6\",\"gridcolor\":\"white\",\"gridwidth\":2,\"linecolor\":\"white\",\"showbackground\":true,\"ticks\":\"\",\"zerolinecolor\":\"white\"},\"zaxis\":{\"backgroundcolor\":\"#E5ECF6\",\"gridcolor\":\"white\",\"gridwidth\":2,\"linecolor\":\"white\",\"showbackground\":true,\"ticks\":\"\",\"zerolinecolor\":\"white\"}},\"shapedefaults\":{\"line\":{\"color\":\"#2a3f5f\"}},\"ternary\":{\"aaxis\":{\"gridcolor\":\"white\",\"linecolor\":\"white\",\"ticks\":\"\"},\"baxis\":{\"gridcolor\":\"white\",\"linecolor\":\"white\",\"ticks\":\"\"},\"bgcolor\":\"#E5ECF6\",\"caxis\":{\"gridcolor\":\"white\",\"linecolor\":\"white\",\"ticks\":\"\"}},\"title\":{\"x\":0.05},\"xaxis\":{\"automargin\":true,\"gridcolor\":\"white\",\"linecolor\":\"white\",\"ticks\":\"\",\"title\":{\"standoff\":15},\"zerolinecolor\":\"white\",\"zerolinewidth\":2},\"yaxis\":{\"automargin\":true,\"gridcolor\":\"white\",\"linecolor\":\"white\",\"ticks\":\"\",\"title\":{\"standoff\":15},\"zerolinecolor\":\"white\",\"zerolinewidth\":2}}},\"title\":{\"font\":{\"color\":\"#4D5663\"}},\"xaxis\":{\"gridcolor\":\"#E1E5ED\",\"showgrid\":true,\"tickfont\":{\"color\":\"#4D5663\"},\"title\":{\"font\":{\"color\":\"#4D5663\"},\"text\":\"\"},\"zerolinecolor\":\"#E1E5ED\"},\"yaxis\":{\"gridcolor\":\"#E1E5ED\",\"showgrid\":true,\"tickfont\":{\"color\":\"#4D5663\"},\"title\":{\"font\":{\"color\":\"#4D5663\"},\"text\":\"\"},\"zerolinecolor\":\"#E1E5ED\"}},                        {\"showLink\": true, \"linkText\": \"Export to plot.ly\", \"plotlyServerURL\": \"https://plot.ly\", \"responsive\": true}                    ).then(function(){\n",
       "                            \n",
       "var gd = document.getElementById('fa461944-53ff-4388-97c8-cadce850b83d');\n",
       "var x = new MutationObserver(function (mutations, observer) {{\n",
       "        var display = window.getComputedStyle(gd).display;\n",
       "        if (!display || display === 'none') {{\n",
       "            console.log([gd, 'removed!']);\n",
       "            Plotly.purge(gd);\n",
       "            observer.disconnect();\n",
       "        }}\n",
       "}});\n",
       "\n",
       "// Listen for the removal of the full notebook cells\n",
       "var notebookContainer = gd.closest('#notebook-container');\n",
       "if (notebookContainer) {{\n",
       "    x.observe(notebookContainer, {childList: true});\n",
       "}}\n",
       "\n",
       "// Listen for the clearing of the current output cell\n",
       "var outputEl = gd.closest('.output');\n",
       "if (outputEl) {{\n",
       "    x.observe(outputEl, {childList: true});\n",
       "}}\n",
       "\n",
       "                        })                };                });            </script>        </div>"
      ]
     },
     "metadata": {},
     "output_type": "display_data"
    }
   ],
   "source": [
    "missing_percentage.sort_values(ascending=False).tail(200).iplot(kind='bar')"
   ]
  },
  {
   "cell_type": "markdown",
   "id": "f55462aa-fe74-4041-a8d3-40a5e6ddbb5d",
   "metadata": {},
   "source": [
    "### Unique values"
   ]
  },
  {
   "cell_type": "code",
   "execution_count": 28,
   "id": "85983003-593c-434e-90e1-e40e3df675b6",
   "metadata": {},
   "outputs": [],
   "source": [
    "cols_unique_values = df.nunique()"
   ]
  },
  {
   "cell_type": "code",
   "execution_count": 29,
   "id": "65985dce-2d7e-4cf3-a0da-f9abd4f0802a",
   "metadata": {},
   "outputs": [
    {
     "data": {
      "text/plain": [
       "26"
      ]
     },
     "execution_count": 29,
     "metadata": {},
     "output_type": "execute_result"
    }
   ],
   "source": [
    "univalued_cols = cols_unique_values[cols_unique_values == 1]\n",
    "len(univalued_cols)"
   ]
  },
  {
   "cell_type": "code",
   "execution_count": 30,
   "id": "164a69a2-295d-4191-a047-8f807c02fc0f",
   "metadata": {},
   "outputs": [
    {
     "name": "stdout",
     "output_type": "stream",
     "text": [
      "<class 'pandas.core.frame.DataFrame'>\n",
      "Int64Index: 709518 entries, 0 to 726287\n",
      "Columns: 720 entries, HKTLMYY to TLJYWBE\n",
      "dtypes: float64(699), int64(21)\n",
      "memory usage: 3.8 GB\n"
     ]
    }
   ],
   "source": [
    "df = df.drop(columns=univalued_cols.index)\n",
    "df.info()"
   ]
  },
  {
   "cell_type": "markdown",
   "id": "2bf1d6f9-5852-43de-9903-42fa039e6627",
   "metadata": {},
   "source": [
    "### Correlations"
   ]
  },
  {
   "cell_type": "code",
   "execution_count": 31,
   "id": "aec62448-a2c0-4372-86ce-94472b80af51",
   "metadata": {},
   "outputs": [],
   "source": [
    "sample_for_corr_calc = df.sample(frac=0.1, random_state=42)"
   ]
  },
  {
   "cell_type": "code",
   "execution_count": 32,
   "id": "ce3ed30f-630d-427c-80a4-169a58fbb10b",
   "metadata": {},
   "outputs": [
    {
     "data": {
      "text/plain": [
       "644"
      ]
     },
     "execution_count": 32,
     "metadata": {},
     "output_type": "execute_result"
    }
   ],
   "source": [
    "valid_cols = missing_percentage[missing_percentage < 50].index\n",
    "dtypes = df.dtypes\n",
    "float_cols = [c for c in dtypes[dtypes == 'float64'].index.tolist() if c in valid_cols]\n",
    "len(float_cols)"
   ]
  },
  {
   "cell_type": "code",
   "execution_count": 33,
   "id": "b0db504b-e990-4cfc-a75c-ee347ed97c8b",
   "metadata": {},
   "outputs": [
    {
     "name": "stdout",
     "output_type": "stream",
     "text": [
      "[########################################] | 100% Completed |  2min 15.6s\n"
     ]
    }
   ],
   "source": [
    "from dask.diagnostics import ProgressBar\n",
    "import dask.dataframe as dd\n",
    "\n",
    "ddf = dd.from_pandas(sample_for_corr_calc, npartitions=8)\n",
    "\n",
    "with ProgressBar():\n",
    "    correlation_matrix = ddf[float_cols].corr().compute()"
   ]
  },
  {
   "cell_type": "code",
   "execution_count": 34,
   "id": "04f67c3c-9501-40fd-a88d-a1eac265b8c4",
   "metadata": {},
   "outputs": [],
   "source": [
    "melted_corr = correlation_matrix.stack().reset_index()\n",
    "melted_corr.columns = ['col1', 'col2', 'correlation']\n",
    "melted_corr.correlation = abs(melted_corr.correlation)\n",
    "melted_corr = melted_corr[melted_corr['col1'] != melted_corr['col2']]"
   ]
  },
  {
   "cell_type": "code",
   "execution_count": 35,
   "id": "ca714eb0-fff0-45e6-95d8-3338461da42e",
   "metadata": {},
   "outputs": [
    {
     "data": {
      "text/html": [
       "<div>\n",
       "<style scoped>\n",
       "    .dataframe tbody tr th:only-of-type {\n",
       "        vertical-align: middle;\n",
       "    }\n",
       "\n",
       "    .dataframe tbody tr th {\n",
       "        vertical-align: top;\n",
       "    }\n",
       "\n",
       "    .dataframe thead th {\n",
       "        text-align: right;\n",
       "    }\n",
       "</style>\n",
       "<table border=\"1\" class=\"dataframe\">\n",
       "  <thead>\n",
       "    <tr style=\"text-align: right;\">\n",
       "      <th></th>\n",
       "      <th>col1</th>\n",
       "      <th>col2</th>\n",
       "      <th>correlation</th>\n",
       "    </tr>\n",
       "  </thead>\n",
       "  <tbody>\n",
       "    <tr>\n",
       "      <th>46364</th>\n",
       "      <td>LWFSOBB</td>\n",
       "      <td>HVHDNTE</td>\n",
       "      <td>1.0</td>\n",
       "    </tr>\n",
       "    <tr>\n",
       "      <th>43796</th>\n",
       "      <td>HVHDNTE</td>\n",
       "      <td>LWFSOBB</td>\n",
       "      <td>1.0</td>\n",
       "    </tr>\n",
       "    <tr>\n",
       "      <th>47007</th>\n",
       "      <td>WSTYRNH</td>\n",
       "      <td>HVHDNTE</td>\n",
       "      <td>1.0</td>\n",
       "    </tr>\n",
       "    <tr>\n",
       "      <th>43797</th>\n",
       "      <td>HVHDNTE</td>\n",
       "      <td>WSTYRNH</td>\n",
       "      <td>1.0</td>\n",
       "    </tr>\n",
       "    <tr>\n",
       "      <th>45721</th>\n",
       "      <td>PKCUSYS</td>\n",
       "      <td>HVHDNTE</td>\n",
       "      <td>1.0</td>\n",
       "    </tr>\n",
       "    <tr>\n",
       "      <th>43795</th>\n",
       "      <td>HVHDNTE</td>\n",
       "      <td>PKCUSYS</td>\n",
       "      <td>1.0</td>\n",
       "    </tr>\n",
       "    <tr>\n",
       "      <th>45077</th>\n",
       "      <td>UZXVNSW</td>\n",
       "      <td>ILHBFRB</td>\n",
       "      <td>1.0</td>\n",
       "    </tr>\n",
       "    <tr>\n",
       "      <th>43151</th>\n",
       "      <td>ILHBFRB</td>\n",
       "      <td>UZXVNSW</td>\n",
       "      <td>1.0</td>\n",
       "    </tr>\n",
       "    <tr>\n",
       "      <th>47011</th>\n",
       "      <td>WSTYRNH</td>\n",
       "      <td>LWFSOBB</td>\n",
       "      <td>1.0</td>\n",
       "    </tr>\n",
       "    <tr>\n",
       "      <th>46369</th>\n",
       "      <td>LWFSOBB</td>\n",
       "      <td>WSTYRNH</td>\n",
       "      <td>1.0</td>\n",
       "    </tr>\n",
       "    <tr>\n",
       "      <th>46367</th>\n",
       "      <td>LWFSOBB</td>\n",
       "      <td>PKCUSYS</td>\n",
       "      <td>1.0</td>\n",
       "    </tr>\n",
       "    <tr>\n",
       "      <th>45725</th>\n",
       "      <td>PKCUSYS</td>\n",
       "      <td>LWFSOBB</td>\n",
       "      <td>1.0</td>\n",
       "    </tr>\n",
       "    <tr>\n",
       "      <th>47010</th>\n",
       "      <td>WSTYRNH</td>\n",
       "      <td>PKCUSYS</td>\n",
       "      <td>1.0</td>\n",
       "    </tr>\n",
       "    <tr>\n",
       "      <th>45726</th>\n",
       "      <td>PKCUSYS</td>\n",
       "      <td>WSTYRNH</td>\n",
       "      <td>1.0</td>\n",
       "    </tr>\n",
       "    <tr>\n",
       "      <th>42506</th>\n",
       "      <td>QNIBUZZ</td>\n",
       "      <td>HVHDNTE</td>\n",
       "      <td>1.0</td>\n",
       "    </tr>\n",
       "    <tr>\n",
       "      <th>43790</th>\n",
       "      <td>HVHDNTE</td>\n",
       "      <td>QNIBUZZ</td>\n",
       "      <td>1.0</td>\n",
       "    </tr>\n",
       "    <tr>\n",
       "      <th>42508</th>\n",
       "      <td>QNIBUZZ</td>\n",
       "      <td>UZXVNSW</td>\n",
       "      <td>1.0</td>\n",
       "    </tr>\n",
       "    <tr>\n",
       "      <th>45076</th>\n",
       "      <td>UZXVNSW</td>\n",
       "      <td>QNIBUZZ</td>\n",
       "      <td>1.0</td>\n",
       "    </tr>\n",
       "    <tr>\n",
       "      <th>46362</th>\n",
       "      <td>LWFSOBB</td>\n",
       "      <td>QNIBUZZ</td>\n",
       "      <td>1.0</td>\n",
       "    </tr>\n",
       "    <tr>\n",
       "      <th>42510</th>\n",
       "      <td>QNIBUZZ</td>\n",
       "      <td>LWFSOBB</td>\n",
       "      <td>1.0</td>\n",
       "    </tr>\n",
       "  </tbody>\n",
       "</table>\n",
       "</div>"
      ],
      "text/plain": [
       "          col1     col2  correlation\n",
       "46364  LWFSOBB  HVHDNTE          1.0\n",
       "43796  HVHDNTE  LWFSOBB          1.0\n",
       "47007  WSTYRNH  HVHDNTE          1.0\n",
       "43797  HVHDNTE  WSTYRNH          1.0\n",
       "45721  PKCUSYS  HVHDNTE          1.0\n",
       "43795  HVHDNTE  PKCUSYS          1.0\n",
       "45077  UZXVNSW  ILHBFRB          1.0\n",
       "43151  ILHBFRB  UZXVNSW          1.0\n",
       "47011  WSTYRNH  LWFSOBB          1.0\n",
       "46369  LWFSOBB  WSTYRNH          1.0\n",
       "46367  LWFSOBB  PKCUSYS          1.0\n",
       "45725  PKCUSYS  LWFSOBB          1.0\n",
       "47010  WSTYRNH  PKCUSYS          1.0\n",
       "45726  PKCUSYS  WSTYRNH          1.0\n",
       "42506  QNIBUZZ  HVHDNTE          1.0\n",
       "43790  HVHDNTE  QNIBUZZ          1.0\n",
       "42508  QNIBUZZ  UZXVNSW          1.0\n",
       "45076  UZXVNSW  QNIBUZZ          1.0\n",
       "46362  LWFSOBB  QNIBUZZ          1.0\n",
       "42510  QNIBUZZ  LWFSOBB          1.0"
      ]
     },
     "execution_count": 35,
     "metadata": {},
     "output_type": "execute_result"
    }
   ],
   "source": [
    "melted_corr = melted_corr.sort_values(by='correlation', ascending=False)\n",
    "melted_corr.head(20)"
   ]
  },
  {
   "cell_type": "markdown",
   "id": "1097f0e4-9b89-4bdd-8d4b-02eba5975e83",
   "metadata": {},
   "source": [
    "### Identifying highly correlated columns"
   ]
  },
  {
   "cell_type": "code",
   "execution_count": 36,
   "id": "7d1516ce-6c4e-4cd3-8a00-85c9de1c6ae2",
   "metadata": {},
   "outputs": [
    {
     "data": {
      "text/plain": [
       "(6442, 3)"
      ]
     },
     "execution_count": 36,
     "metadata": {},
     "output_type": "execute_result"
    }
   ],
   "source": [
    "highly_correlated = melted_corr[melted_corr.correlation > 0.8]\n",
    "highly_correlated.shape"
   ]
  },
  {
   "cell_type": "code",
   "execution_count": 37,
   "id": "0e89c8d3-77ef-4c6d-a4e7-9bef6a6c7802",
   "metadata": {},
   "outputs": [
    {
     "data": {
      "text/plain": [
       "442"
      ]
     },
     "execution_count": 37,
     "metadata": {},
     "output_type": "execute_result"
    }
   ],
   "source": [
    "candidates_to_drop = set(highly_correlated.col1.values).union(set(highly_correlated.col2.values))\n",
    "len(candidates_to_drop)"
   ]
  },
  {
   "cell_type": "code",
   "execution_count": 38,
   "id": "6160695f-d24b-4fe8-bda6-c241494defd4",
   "metadata": {},
   "outputs": [],
   "source": [
    "cols_duplicates = []\n",
    "for cand_col in candidates_to_drop:\n",
    "    subset = highly_correlated[highly_correlated.col1 == cand_col]\n",
    "    n_duplicates, duplicates = len(subset), subset.col2.values.tolist()\n",
    "    cols_duplicates.append((cand_col, n_duplicates, duplicates))    "
   ]
  },
  {
   "cell_type": "code",
   "execution_count": 39,
   "id": "dee90114-4bdf-429d-9037-817d85acd53f",
   "metadata": {},
   "outputs": [],
   "source": [
    "sorted_cols_duplicates = sorted(cols_duplicates, key=lambda x: -x[1])"
   ]
  },
  {
   "cell_type": "code",
   "execution_count": 40,
   "id": "01280f9c-06a2-4489-a5bc-b6d8bc3365c3",
   "metadata": {},
   "outputs": [
    {
     "data": {
      "text/plain": [
       "[('OYSQKAH', 1, ['OMIIMXP']),\n",
       " ('QALPUXN', 1, ['MPCDRWL']),\n",
       " ('JYSKSPX', 1, ['BTKTNSN']),\n",
       " ('ZHFQXTN', 1, ['ZYMFJDH']),\n",
       " ('JMFGDPB', 1, ['AWMGPPL'])]"
      ]
     },
     "execution_count": 40,
     "metadata": {},
     "output_type": "execute_result"
    }
   ],
   "source": [
    "sorted_cols_duplicates[-5:]"
   ]
  },
  {
   "cell_type": "code",
   "execution_count": 41,
   "id": "61d625e6-9bf5-4bb0-b49c-bbbcd864fb32",
   "metadata": {
    "tags": []
   },
   "outputs": [
    {
     "name": "stdout",
     "output_type": "stream",
     "text": [
      "Size dataframe: 3176 (Started at 6442. Unique columns remained: 378,  unique columns remodevd: 64\n",
      "Size dataframe: 2270 (Started at 6442. Unique columns remained: 346,  unique columns remodevd: 96\n",
      "Size dataframe: 1697 (Started at 6442. Unique columns remained: 319,  unique columns remodevd: 123\n",
      "Size dataframe: 1680 (Started at 6442. Unique columns remained: 318,  unique columns remodevd: 124\n",
      "Size dataframe: 1646 (Started at 6442. Unique columns remained: 316,  unique columns remodevd: 126\n",
      "Size dataframe: 1612 (Started at 6442. Unique columns remained: 314,  unique columns remodevd: 128\n",
      "Size dataframe: 1566 (Started at 6442. Unique columns remained: 311,  unique columns remodevd: 131\n",
      "Size dataframe: 1535 (Started at 6442. Unique columns remained: 309,  unique columns remodevd: 133\n",
      "Size dataframe: 1450 (Started at 6442. Unique columns remained: 301,  unique columns remodevd: 141\n",
      "Size dataframe: 1281 (Started at 6442. Unique columns remained: 288,  unique columns remodevd: 154\n",
      "Size dataframe: 1260 (Started at 6442. Unique columns remained: 286,  unique columns remodevd: 156\n",
      "Size dataframe: 1209 (Started at 6442. Unique columns remained: 279,  unique columns remodevd: 163\n",
      "Size dataframe: 1169 (Started at 6442. Unique columns remained: 274,  unique columns remodevd: 168\n",
      "Size dataframe: 1169 (Started at 6442. Unique columns remained: 274,  unique columns remodevd: 168\n",
      "Size dataframe: 1120 (Started at 6442. Unique columns remained: 267,  unique columns remodevd: 175\n",
      "Size dataframe: 1071 (Started at 6442. Unique columns remained: 260,  unique columns remodevd: 182\n",
      "Size dataframe: 1029 (Started at 6442. Unique columns remained: 254,  unique columns remodevd: 188\n",
      "Size dataframe: 980 (Started at 6442. Unique columns remained: 247,  unique columns remodevd: 195\n",
      "Size dataframe: 980 (Started at 6442. Unique columns remained: 247,  unique columns remodevd: 195\n",
      "Size dataframe: 944 (Started at 6442. Unique columns remained: 241,  unique columns remodevd: 201\n",
      "Size dataframe: 908 (Started at 6442. Unique columns remained: 235,  unique columns remodevd: 207\n",
      "Size dataframe: 872 (Started at 6442. Unique columns remained: 229,  unique columns remodevd: 213\n",
      "Size dataframe: 836 (Started at 6442. Unique columns remained: 223,  unique columns remodevd: 219\n",
      "Size dataframe: 800 (Started at 6442. Unique columns remained: 217,  unique columns remodevd: 225\n",
      "Size dataframe: 764 (Started at 6442. Unique columns remained: 211,  unique columns remodevd: 231\n",
      "Size dataframe: 739 (Started at 6442. Unique columns remained: 206,  unique columns remodevd: 236\n",
      "Size dataframe: 714 (Started at 6442. Unique columns remained: 201,  unique columns remodevd: 241\n",
      "Size dataframe: 689 (Started at 6442. Unique columns remained: 196,  unique columns remodevd: 246\n",
      "Size dataframe: 664 (Started at 6442. Unique columns remained: 191,  unique columns remodevd: 251\n",
      "Size dataframe: 656 (Started at 6442. Unique columns remained: 189,  unique columns remodevd: 253\n",
      "Size dataframe: 640 (Started at 6442. Unique columns remained: 185,  unique columns remodevd: 257\n",
      "Size dataframe: 631 (Started at 6442. Unique columns remained: 182,  unique columns remodevd: 260\n",
      "Size dataframe: 622 (Started at 6442. Unique columns remained: 179,  unique columns remodevd: 263\n",
      "Size dataframe: 613 (Started at 6442. Unique columns remained: 176,  unique columns remodevd: 266\n",
      "Size dataframe: 604 (Started at 6442. Unique columns remained: 173,  unique columns remodevd: 269\n",
      "Size dataframe: 599 (Started at 6442. Unique columns remained: 170,  unique columns remodevd: 272\n",
      "Size dataframe: 594 (Started at 6442. Unique columns remained: 167,  unique columns remodevd: 275\n",
      "Size dataframe: 590 (Started at 6442. Unique columns remained: 165,  unique columns remodevd: 277\n",
      "Size dataframe: 586 (Started at 6442. Unique columns remained: 163,  unique columns remodevd: 279\n",
      "Size dataframe: 582 (Started at 6442. Unique columns remained: 161,  unique columns remodevd: 281\n",
      "Size dataframe: 578 (Started at 6442. Unique columns remained: 159,  unique columns remodevd: 283\n",
      "Size dataframe: 574 (Started at 6442. Unique columns remained: 157,  unique columns remodevd: 285\n",
      "Size dataframe: 570 (Started at 6442. Unique columns remained: 155,  unique columns remodevd: 287\n",
      "Size dataframe: 566 (Started at 6442. Unique columns remained: 153,  unique columns remodevd: 289\n",
      "Size dataframe: 562 (Started at 6442. Unique columns remained: 151,  unique columns remodevd: 291\n",
      "Size dataframe: 558 (Started at 6442. Unique columns remained: 149,  unique columns remodevd: 293\n",
      "Size dataframe: 555 (Started at 6442. Unique columns remained: 147,  unique columns remodevd: 295\n",
      "Size dataframe: 551 (Started at 6442. Unique columns remained: 145,  unique columns remodevd: 297\n",
      "Size dataframe: 547 (Started at 6442. Unique columns remained: 143,  unique columns remodevd: 299\n",
      "Size dataframe: 543 (Started at 6442. Unique columns remained: 141,  unique columns remodevd: 301\n",
      "Size dataframe: 539 (Started at 6442. Unique columns remained: 139,  unique columns remodevd: 303\n",
      "Size dataframe: 535 (Started at 6442. Unique columns remained: 137,  unique columns remodevd: 305\n",
      "Size dataframe: 531 (Started at 6442. Unique columns remained: 135,  unique columns remodevd: 307\n",
      "Size dataframe: 527 (Started at 6442. Unique columns remained: 133,  unique columns remodevd: 309\n",
      "Size dataframe: 527 (Started at 6442. Unique columns remained: 133,  unique columns remodevd: 309\n",
      "Size dataframe: 523 (Started at 6442. Unique columns remained: 131,  unique columns remodevd: 311\n",
      "Size dataframe: 519 (Started at 6442. Unique columns remained: 129,  unique columns remodevd: 313\n",
      "Size dataframe: 515 (Started at 6442. Unique columns remained: 127,  unique columns remodevd: 315\n",
      "Size dataframe: 511 (Started at 6442. Unique columns remained: 125,  unique columns remodevd: 317\n",
      "Size dataframe: 507 (Started at 6442. Unique columns remained: 123,  unique columns remodevd: 319\n",
      "Size dataframe: 503 (Started at 6442. Unique columns remained: 121,  unique columns remodevd: 321\n",
      "Size dataframe: 499 (Started at 6442. Unique columns remained: 119,  unique columns remodevd: 323\n",
      "Size dataframe: 495 (Started at 6442. Unique columns remained: 117,  unique columns remodevd: 325\n",
      "Size dataframe: 493 (Started at 6442. Unique columns remained: 115,  unique columns remodevd: 327\n",
      "Size dataframe: 492 (Started at 6442. Unique columns remained: 114,  unique columns remodevd: 328\n",
      "Size dataframe: 491 (Started at 6442. Unique columns remained: 113,  unique columns remodevd: 329\n",
      "Size dataframe: 490 (Started at 6442. Unique columns remained: 112,  unique columns remodevd: 330\n",
      "Size dataframe: 489 (Started at 6442. Unique columns remained: 111,  unique columns remodevd: 331\n",
      "Size dataframe: 488 (Started at 6442. Unique columns remained: 110,  unique columns remodevd: 332\n",
      "Size dataframe: 487 (Started at 6442. Unique columns remained: 109,  unique columns remodevd: 333\n",
      "Size dataframe: 486 (Started at 6442. Unique columns remained: 108,  unique columns remodevd: 334\n",
      "Size dataframe: 486 (Started at 6442. Unique columns remained: 108,  unique columns remodevd: 334\n",
      "Size dataframe: 485 (Started at 6442. Unique columns remained: 107,  unique columns remodevd: 335\n",
      "Size dataframe: 484 (Started at 6442. Unique columns remained: 106,  unique columns remodevd: 336\n",
      "Size dataframe: 483 (Started at 6442. Unique columns remained: 105,  unique columns remodevd: 337\n",
      "Size dataframe: 482 (Started at 6442. Unique columns remained: 104,  unique columns remodevd: 338\n",
      "Size dataframe: 481 (Started at 6442. Unique columns remained: 103,  unique columns remodevd: 339\n",
      "Size dataframe: 480 (Started at 6442. Unique columns remained: 102,  unique columns remodevd: 340\n",
      "Size dataframe: 479 (Started at 6442. Unique columns remained: 101,  unique columns remodevd: 341\n",
      "Size dataframe: 478 (Started at 6442. Unique columns remained: 100,  unique columns remodevd: 342\n",
      "Size dataframe: 477 (Started at 6442. Unique columns remained: 99,  unique columns remodevd: 343\n",
      "Size dataframe: 476 (Started at 6442. Unique columns remained: 98,  unique columns remodevd: 344\n",
      "Size dataframe: 475 (Started at 6442. Unique columns remained: 97,  unique columns remodevd: 345\n",
      "Size dataframe: 474 (Started at 6442. Unique columns remained: 96,  unique columns remodevd: 346\n",
      "Size dataframe: 473 (Started at 6442. Unique columns remained: 95,  unique columns remodevd: 347\n",
      "Size dataframe: 472 (Started at 6442. Unique columns remained: 94,  unique columns remodevd: 348\n",
      "Size dataframe: 471 (Started at 6442. Unique columns remained: 93,  unique columns remodevd: 349\n",
      "Size dataframe: 470 (Started at 6442. Unique columns remained: 92,  unique columns remodevd: 350\n",
      "Size dataframe: 469 (Started at 6442. Unique columns remained: 91,  unique columns remodevd: 351\n",
      "Size dataframe: 468 (Started at 6442. Unique columns remained: 90,  unique columns remodevd: 352\n"
     ]
    }
   ],
   "source": [
    "removed = set()\n",
    "tmp = highly_correlated.copy()\n",
    "for col, _, duplicates in sorted_cols_duplicates:\n",
    "    if not col in tmp.col1.values:\n",
    "        continue\n",
    "    tmp = tmp[~tmp.col1.isin(duplicates)]\n",
    "    removed.update(duplicates)\n",
    "    print(f'Size dataframe: {len(tmp)} (Started at {len(highly_correlated)}. Unique columns remained: {tmp.col1.nunique()},  unique columns remodevd: {len(removed)}')"
   ]
  },
  {
   "cell_type": "code",
   "execution_count": 42,
   "id": "58ddf6a7-56cb-402b-b129-2e3b5e9c4fec",
   "metadata": {},
   "outputs": [
    {
     "data": {
      "text/plain": [
       "442"
      ]
     },
     "execution_count": 42,
     "metadata": {},
     "output_type": "execute_result"
    }
   ],
   "source": [
    "highly_correlated.col1.nunique()"
   ]
  },
  {
   "cell_type": "code",
   "execution_count": 43,
   "id": "8086364a-e4c0-41c4-88a0-7b222d374ee1",
   "metadata": {},
   "outputs": [
    {
     "data": {
      "text/plain": [
       "442"
      ]
     },
     "execution_count": 43,
     "metadata": {},
     "output_type": "execute_result"
    }
   ],
   "source": [
    "tmp.col1.nunique() + len(set(removed))"
   ]
  },
  {
   "cell_type": "markdown",
   "id": "da7eb3b2-0de2-47e1-9d86-2eb079fcdde7",
   "metadata": {},
   "source": [
    "## Removing highly correlated columns:"
   ]
  },
  {
   "cell_type": "code",
   "execution_count": 44,
   "id": "05a0c350-d6cf-47ab-afb0-a3c94cb21401",
   "metadata": {},
   "outputs": [
    {
     "name": "stdout",
     "output_type": "stream",
     "text": [
      "<class 'pandas.core.frame.DataFrame'>\n",
      "Int64Index: 709518 entries, 0 to 726287\n",
      "Columns: 720 entries, HKTLMYY to TLJYWBE\n",
      "dtypes: float64(699), int64(21)\n",
      "memory usage: 3.8 GB\n"
     ]
    }
   ],
   "source": [
    "df.info()"
   ]
  },
  {
   "cell_type": "code",
   "execution_count": 45,
   "id": "7bb6a5a9-2d50-4d6a-bdf2-3c38dc9542f2",
   "metadata": {},
   "outputs": [
    {
     "name": "stdout",
     "output_type": "stream",
     "text": [
      "<class 'pandas.core.frame.DataFrame'>\n",
      "Int64Index: 709518 entries, 0 to 726287\n",
      "Columns: 368 entries, HKTLMYY to TLJYWBE\n",
      "dtypes: float64(347), int64(21)\n",
      "memory usage: 2.0 GB\n"
     ]
    }
   ],
   "source": [
    "updated_df = df.drop(columns=removed)\n",
    "updated_df.info()"
   ]
  },
  {
   "cell_type": "markdown",
   "id": "6ac689fc-4f84-47a7-8d18-87f7b0971c87",
   "metadata": {},
   "source": [
    "## Saving"
   ]
  },
  {
   "cell_type": "code",
   "execution_count": 47,
   "id": "e22e0c90-c3f4-4306-b4f4-135c3927f150",
   "metadata": {},
   "outputs": [],
   "source": [
    "updated_df.reset_index(drop=True).to_feather('dataset_no_duplicates_no_univalue_no_correlated_columns.feather')"
   ]
  }
 ],
 "metadata": {
  "kernelspec": {
   "display_name": "Python 3",
   "language": "python",
   "name": "python3"
  },
  "language_info": {
   "codemirror_mode": {
    "name": "ipython",
    "version": 3
   },
   "file_extension": ".py",
   "mimetype": "text/x-python",
   "name": "python",
   "nbconvert_exporter": "python",
   "pygments_lexer": "ipython3",
   "version": "3.8.8"
  }
 },
 "nbformat": 4,
 "nbformat_minor": 5
}
