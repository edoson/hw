{
 "cells": [
  {
   "cell_type": "markdown",
   "id": "c3650ec5-196c-45df-b557-3fd8ea25d98d",
   "metadata": {},
   "source": [
    "# Modeling"
   ]
  },
  {
   "cell_type": "code",
   "execution_count": 1,
   "id": "9216be30-0c4a-4090-8d2c-a320fc52ac72",
   "metadata": {},
   "outputs": [],
   "source": [
    "import pandas as pd\n",
    "import numpy as np"
   ]
  },
  {
   "cell_type": "markdown",
   "id": "d8326e0d-fa75-4c13-b69f-b73125d4eb41",
   "metadata": {},
   "source": [
    "## Dataset"
   ]
  },
  {
   "cell_type": "code",
   "execution_count": 3,
   "id": "a2b314b5-94b0-408f-8e79-a85898dc5620",
   "metadata": {},
   "outputs": [
    {
     "name": "stdout",
     "output_type": "stream",
     "text": [
      "<class 'pandas.core.frame.DataFrame'>\n",
      "RangeIndex: 726288 entries, 0 to 726287\n",
      "Columns: 767 entries, HKTLMYY to TLJYWBE\n",
      "dtypes: float64(742), int64(21), object(4)\n",
      "memory usage: 4.2+ GB\n"
     ]
    }
   ],
   "source": [
    "df = pd.read_feather('removed_duplicated_columns.feather')\n",
    "df.info()"
   ]
  },
  {
   "cell_type": "code",
   "execution_count": 4,
   "id": "bad4a292-e69b-42de-b791-ee449b7a3505",
   "metadata": {},
   "outputs": [
    {
     "data": {
      "text/plain": [
       "False    726224\n",
       "True         64\n",
       "Name: TLJYWBE, dtype: int64"
      ]
     },
     "execution_count": 4,
     "metadata": {},
     "output_type": "execute_result"
    }
   ],
   "source": [
    "target = 'TLJYWBE'\n",
    "df[target] = df[target].apply(lambda v: v >= 1e-5)\n",
    "df[target].value_counts()"
   ]
  },
  {
   "cell_type": "code",
   "execution_count": 43,
   "id": "e1eb1329-0e0f-4642-8c08-7a45fc26df16",
   "metadata": {},
   "outputs": [],
   "source": [
    "from imblearn.under_sampling import RandomUnderSampler\n",
    "rus = RandomUnderSampler(sampling_strategy=0.0005)  \n",
    "X_resampled, _ = rus.fit_resample(df, df[target])"
   ]
  },
  {
   "cell_type": "code",
   "execution_count": 44,
   "id": "797b357b-6e23-4fd1-bb68-63367c9a713d",
   "metadata": {},
   "outputs": [
    {
     "data": {
      "text/plain": [
       "False    64000\n",
       "True        64\n",
       "Name: TLJYWBE, dtype: int64"
      ]
     },
     "execution_count": 44,
     "metadata": {},
     "output_type": "execute_result"
    }
   ],
   "source": [
    "X_resampled[target].value_counts()"
   ]
  },
  {
   "cell_type": "code",
   "execution_count": 45,
   "id": "66d3b4b4-3288-4b98-b09a-b5d892ae5ca2",
   "metadata": {},
   "outputs": [],
   "source": [
    "from sklearn.model_selection import train_test_split"
   ]
  },
  {
   "cell_type": "code",
   "execution_count": 46,
   "id": "8c1c43d4-2c37-4791-bfad-649c397b363e",
   "metadata": {},
   "outputs": [],
   "source": [
    "features = [c for c in df.columns if c != target]\n",
    "training_features, test_features, train_target, test_target = train_test_split(X_resampled[features], X_resampled[target], test_size=0.25, stratify=X_resampled[target])"
   ]
  },
  {
   "cell_type": "code",
   "execution_count": 47,
   "id": "f365f27e-a8a2-4e05-a7b5-147c20e50cb7",
   "metadata": {},
   "outputs": [
    {
     "name": "stdout",
     "output_type": "stream",
     "text": [
      "Training set shape: (48048, 766)\n",
      "Training set target shape: (48048,)\n",
      "Test set shape: (16016, 766)\n",
      "Training set target shape: (16016,)\n"
     ]
    }
   ],
   "source": [
    "print(f'Training set shape: {training_features.shape}')\n",
    "print(f'Training set target shape: {train_target.shape}')\n",
    "print(f'Test set shape: {test_features.shape}')\n",
    "print(f'Training set target shape: {test_target.shape}')"
   ]
  },
  {
   "cell_type": "code",
   "execution_count": 48,
   "id": "7bff88c3-6449-4f67-ab63-24226625415d",
   "metadata": {},
   "outputs": [
    {
     "data": {
      "text/plain": [
       "False    16000\n",
       "True        16\n",
       "Name: TLJYWBE, dtype: int64"
      ]
     },
     "execution_count": 48,
     "metadata": {},
     "output_type": "execute_result"
    }
   ],
   "source": [
    "test_target.value_counts()"
   ]
  },
  {
   "cell_type": "markdown",
   "id": "bc3bddc7-9bda-4905-bf17-6265b9288116",
   "metadata": {},
   "source": [
    "## Modeling"
   ]
  },
  {
   "cell_type": "code",
   "execution_count": 49,
   "id": "84765cc6-da51-481b-8cc4-ea8bb03656f2",
   "metadata": {},
   "outputs": [
    {
     "data": {
      "text/plain": [
       "HKTLMYY      int64\n",
       "IJEXXXL    float64\n",
       "KVNLYTZ    float64\n",
       "ADOIOYN    float64\n",
       "GPCKISJ    float64\n",
       "dtype: object"
      ]
     },
     "execution_count": 49,
     "metadata": {},
     "output_type": "execute_result"
    }
   ],
   "source": [
    "dtypes = df.dtypes\n",
    "dtypes.head()"
   ]
  },
  {
   "cell_type": "code",
   "execution_count": 50,
   "id": "d5933898-9179-46ee-a9ec-0b4932de3488",
   "metadata": {},
   "outputs": [],
   "source": [
    "import numpy as np\n",
    "from sklearn.compose import ColumnTransformer\n",
    "from sklearn.pipeline import Pipeline\n",
    "from sklearn.impute import SimpleImputer\n",
    "from sklearn.preprocessing import StandardScaler, OneHotEncoder\n",
    "from sklearn.linear_model import RidgeClassifier, LogisticRegression\n",
    "from sklearn.ensemble import RandomForestClassifier\n",
    "from sklearn.model_selection import GridSearchCV, RandomizedSearchCV"
   ]
  },
  {
   "cell_type": "code",
   "execution_count": 51,
   "id": "3a70d6d9-d12b-4b3c-af56-8956211a899b",
   "metadata": {},
   "outputs": [
    {
     "data": {
      "text/plain": [
       "(21, 741, 4)"
      ]
     },
     "execution_count": 51,
     "metadata": {},
     "output_type": "execute_result"
    }
   ],
   "source": [
    "int_features = dtypes[dtypes == 'int64'].index\n",
    "float_features = dtypes[dtypes == 'float64'].index\n",
    "cat_features = dtypes[dtypes == 'object'].index\n",
    "len(int_features), len(float_features), len(cat_features)"
   ]
  },
  {
   "cell_type": "code",
   "execution_count": 52,
   "id": "e2205bb6-a37e-4980-98ed-ef193e16823e",
   "metadata": {},
   "outputs": [],
   "source": [
    "numeric_transformer = Pipeline(steps=[\n",
    "    ('imputer', SimpleImputer(strategy='median')),\n",
    "    ('scaler', StandardScaler())\n",
    "])\n",
    "\n",
    "categorical_transformer = Pipeline(steps=[\n",
    "    ('imputer', SimpleImputer(strategy='constant', fill_value='missing')),\n",
    "    ('onehot', OneHotEncoder(handle_unknown='ignore'))\n",
    "])\n",
    "\n",
    "preprocessor = ColumnTransformer(\n",
    "    transformers=[\n",
    "        ('int', numeric_transformer, int_features),\n",
    "        ('float', numeric_transformer, float_features),\n",
    "        ('cat', categorical_transformer, cat_features)\n",
    "    ])\n",
    "\n",
    "pipeline = Pipeline(steps=[('preprocessor', preprocessor),\n",
    "                           ('classifier', 'passthrough')  \n",
    "                          ])"
   ]
  },
  {
   "cell_type": "code",
   "execution_count": 54,
   "id": "76ce0521-528a-40a4-8d97-df40627a0ce1",
   "metadata": {},
   "outputs": [],
   "source": [
    "param_grid = [\n",
    "    {\n",
    "        'classifier': [RidgeClassifier()],\n",
    "        'classifier__alpha': [100, 150, 200],  \n",
    "        'classifier__class_weight': [{0: 1, 1: w} for w in [75, 100, 150, 200]]\n",
    "    },\n",
    "    {\n",
    "        'classifier': [RandomForestClassifier()],\n",
    "        'classifier__n_estimators': [50, 75, 100, 125],\n",
    "        'classifier__min_samples_split': [8, 10, 15, 20],\n",
    "        'classifier__min_samples_leaf': [4, 6, 8],\n",
    "        'classifier__class_weight': [{0: 1, 1: w} for w in [50, 75, 100, 150]] \n",
    "    }\n",
    "]"
   ]
  },
  {
   "cell_type": "code",
   "execution_count": 55,
   "id": "ecbac079-be08-4dbb-9192-75e67cc0a223",
   "metadata": {},
   "outputs": [
    {
     "name": "stdout",
     "output_type": "stream",
     "text": [
      "CPU times: user 29.7 s, sys: 4.52 s, total: 34.2 s\n",
      "Wall time: 1h 48min 11s\n"
     ]
    },
    {
     "data": {
      "text/html": [
       "<style>#sk-container-id-1 {color: black;background-color: white;}#sk-container-id-1 pre{padding: 0;}#sk-container-id-1 div.sk-toggleable {background-color: white;}#sk-container-id-1 label.sk-toggleable__label {cursor: pointer;display: block;width: 100%;margin-bottom: 0;padding: 0.3em;box-sizing: border-box;text-align: center;}#sk-container-id-1 label.sk-toggleable__label-arrow:before {content: \"▸\";float: left;margin-right: 0.25em;color: #696969;}#sk-container-id-1 label.sk-toggleable__label-arrow:hover:before {color: black;}#sk-container-id-1 div.sk-estimator:hover label.sk-toggleable__label-arrow:before {color: black;}#sk-container-id-1 div.sk-toggleable__content {max-height: 0;max-width: 0;overflow: hidden;text-align: left;background-color: #f0f8ff;}#sk-container-id-1 div.sk-toggleable__content pre {margin: 0.2em;color: black;border-radius: 0.25em;background-color: #f0f8ff;}#sk-container-id-1 input.sk-toggleable__control:checked~div.sk-toggleable__content {max-height: 200px;max-width: 100%;overflow: auto;}#sk-container-id-1 input.sk-toggleable__control:checked~label.sk-toggleable__label-arrow:before {content: \"▾\";}#sk-container-id-1 div.sk-estimator input.sk-toggleable__control:checked~label.sk-toggleable__label {background-color: #d4ebff;}#sk-container-id-1 div.sk-label input.sk-toggleable__control:checked~label.sk-toggleable__label {background-color: #d4ebff;}#sk-container-id-1 input.sk-hidden--visually {border: 0;clip: rect(1px 1px 1px 1px);clip: rect(1px, 1px, 1px, 1px);height: 1px;margin: -1px;overflow: hidden;padding: 0;position: absolute;width: 1px;}#sk-container-id-1 div.sk-estimator {font-family: monospace;background-color: #f0f8ff;border: 1px dotted black;border-radius: 0.25em;box-sizing: border-box;margin-bottom: 0.5em;}#sk-container-id-1 div.sk-estimator:hover {background-color: #d4ebff;}#sk-container-id-1 div.sk-parallel-item::after {content: \"\";width: 100%;border-bottom: 1px solid gray;flex-grow: 1;}#sk-container-id-1 div.sk-label:hover label.sk-toggleable__label {background-color: #d4ebff;}#sk-container-id-1 div.sk-serial::before {content: \"\";position: absolute;border-left: 1px solid gray;box-sizing: border-box;top: 0;bottom: 0;left: 50%;z-index: 0;}#sk-container-id-1 div.sk-serial {display: flex;flex-direction: column;align-items: center;background-color: white;padding-right: 0.2em;padding-left: 0.2em;position: relative;}#sk-container-id-1 div.sk-item {position: relative;z-index: 1;}#sk-container-id-1 div.sk-parallel {display: flex;align-items: stretch;justify-content: center;background-color: white;position: relative;}#sk-container-id-1 div.sk-item::before, #sk-container-id-1 div.sk-parallel-item::before {content: \"\";position: absolute;border-left: 1px solid gray;box-sizing: border-box;top: 0;bottom: 0;left: 50%;z-index: -1;}#sk-container-id-1 div.sk-parallel-item {display: flex;flex-direction: column;z-index: 1;position: relative;background-color: white;}#sk-container-id-1 div.sk-parallel-item:first-child::after {align-self: flex-end;width: 50%;}#sk-container-id-1 div.sk-parallel-item:last-child::after {align-self: flex-start;width: 50%;}#sk-container-id-1 div.sk-parallel-item:only-child::after {width: 0;}#sk-container-id-1 div.sk-dashed-wrapped {border: 1px dashed gray;margin: 0 0.4em 0.5em 0.4em;box-sizing: border-box;padding-bottom: 0.4em;background-color: white;}#sk-container-id-1 div.sk-label label {font-family: monospace;font-weight: bold;display: inline-block;line-height: 1.2em;}#sk-container-id-1 div.sk-label-container {text-align: center;}#sk-container-id-1 div.sk-container {/* jupyter's `normalize.less` sets `[hidden] { display: none; }` but bootstrap.min.css set `[hidden] { display: none !important; }` so we also need the `!important` here to be able to override the default hidden behavior on the sphinx rendered scikit-learn.org. See: https://github.com/scikit-learn/scikit-learn/issues/21755 */display: inline-block !important;position: relative;}#sk-container-id-1 div.sk-text-repr-fallback {display: none;}</style><div id=\"sk-container-id-1\" class=\"sk-top-container\"><div class=\"sk-text-repr-fallback\"><pre>GridSearchCV(cv=5,\n",
       "             estimator=Pipeline(steps=[(&#x27;preprocessor&#x27;,\n",
       "                                        ColumnTransformer(transformers=[(&#x27;int&#x27;,\n",
       "                                                                         Pipeline(steps=[(&#x27;imputer&#x27;,\n",
       "                                                                                          SimpleImputer(strategy=&#x27;median&#x27;)),\n",
       "                                                                                         (&#x27;scaler&#x27;,\n",
       "                                                                                          StandardScaler())]),\n",
       "                                                                         Index([&#x27;HKTLMYY&#x27;, &#x27;JEKQIKE&#x27;, &#x27;MUEKGHC&#x27;, &#x27;HVTWAZN&#x27;, &#x27;SBUETBP&#x27;, &#x27;WSRRROM&#x27;,\n",
       "       &#x27;EGWONKF&#x27;, &#x27;XEUMIIT&#x27;, &#x27;JYNEQWD&#x27;, &#x27;XJUIXIR&#x27;, &#x27;WLULXFN&#x27;, &#x27;AQYGYOE&#x27;,\n",
       "       &#x27;YZRVJSE&#x27;, &#x27;EULURHL&#x27;, &#x27;WCZJBOX&#x27;, &#x27;PI...\n",
       "                                                       {0: 1, 1: 200}]},\n",
       "                         {&#x27;classifier&#x27;: [RandomForestClassifier(class_weight={0: 1,\n",
       "                                                                              1: 75},\n",
       "                                                                min_samples_leaf=4,\n",
       "                                                                min_samples_split=10)],\n",
       "                          &#x27;classifier__class_weight&#x27;: [{0: 1, 1: 75},\n",
       "                                                       {0: 1, 1: 100},\n",
       "                                                       {0: 1, 1: 150},\n",
       "                                                       {0: 1, 1: 200}],\n",
       "                          &#x27;classifier__max_depth&#x27;: [None],\n",
       "                          &#x27;classifier__min_samples_leaf&#x27;: [1, 2, 4],\n",
       "                          &#x27;classifier__min_samples_split&#x27;: [2, 5, 10],\n",
       "                          &#x27;classifier__n_estimators&#x27;: [50, 100, 200]}],\n",
       "             scoring=&#x27;f1&#x27;)</pre><b>In a Jupyter environment, please rerun this cell to show the HTML representation or trust the notebook. <br />On GitHub, the HTML representation is unable to render, please try loading this page with nbviewer.org.</b></div><div class=\"sk-container\" hidden><div class=\"sk-item sk-dashed-wrapped\"><div class=\"sk-label-container\"><div class=\"sk-label sk-toggleable\"><input class=\"sk-toggleable__control sk-hidden--visually\" id=\"sk-estimator-id-1\" type=\"checkbox\" ><label for=\"sk-estimator-id-1\" class=\"sk-toggleable__label sk-toggleable__label-arrow\">GridSearchCV</label><div class=\"sk-toggleable__content\"><pre>GridSearchCV(cv=5,\n",
       "             estimator=Pipeline(steps=[(&#x27;preprocessor&#x27;,\n",
       "                                        ColumnTransformer(transformers=[(&#x27;int&#x27;,\n",
       "                                                                         Pipeline(steps=[(&#x27;imputer&#x27;,\n",
       "                                                                                          SimpleImputer(strategy=&#x27;median&#x27;)),\n",
       "                                                                                         (&#x27;scaler&#x27;,\n",
       "                                                                                          StandardScaler())]),\n",
       "                                                                         Index([&#x27;HKTLMYY&#x27;, &#x27;JEKQIKE&#x27;, &#x27;MUEKGHC&#x27;, &#x27;HVTWAZN&#x27;, &#x27;SBUETBP&#x27;, &#x27;WSRRROM&#x27;,\n",
       "       &#x27;EGWONKF&#x27;, &#x27;XEUMIIT&#x27;, &#x27;JYNEQWD&#x27;, &#x27;XJUIXIR&#x27;, &#x27;WLULXFN&#x27;, &#x27;AQYGYOE&#x27;,\n",
       "       &#x27;YZRVJSE&#x27;, &#x27;EULURHL&#x27;, &#x27;WCZJBOX&#x27;, &#x27;PI...\n",
       "                                                       {0: 1, 1: 200}]},\n",
       "                         {&#x27;classifier&#x27;: [RandomForestClassifier(class_weight={0: 1,\n",
       "                                                                              1: 75},\n",
       "                                                                min_samples_leaf=4,\n",
       "                                                                min_samples_split=10)],\n",
       "                          &#x27;classifier__class_weight&#x27;: [{0: 1, 1: 75},\n",
       "                                                       {0: 1, 1: 100},\n",
       "                                                       {0: 1, 1: 150},\n",
       "                                                       {0: 1, 1: 200}],\n",
       "                          &#x27;classifier__max_depth&#x27;: [None],\n",
       "                          &#x27;classifier__min_samples_leaf&#x27;: [1, 2, 4],\n",
       "                          &#x27;classifier__min_samples_split&#x27;: [2, 5, 10],\n",
       "                          &#x27;classifier__n_estimators&#x27;: [50, 100, 200]}],\n",
       "             scoring=&#x27;f1&#x27;)</pre></div></div></div><div class=\"sk-parallel\"><div class=\"sk-parallel-item\"><div class=\"sk-item\"><div class=\"sk-label-container\"><div class=\"sk-label sk-toggleable\"><input class=\"sk-toggleable__control sk-hidden--visually\" id=\"sk-estimator-id-2\" type=\"checkbox\" ><label for=\"sk-estimator-id-2\" class=\"sk-toggleable__label sk-toggleable__label-arrow\">estimator: Pipeline</label><div class=\"sk-toggleable__content\"><pre>Pipeline(steps=[(&#x27;preprocessor&#x27;,\n",
       "                 ColumnTransformer(transformers=[(&#x27;int&#x27;,\n",
       "                                                  Pipeline(steps=[(&#x27;imputer&#x27;,\n",
       "                                                                   SimpleImputer(strategy=&#x27;median&#x27;)),\n",
       "                                                                  (&#x27;scaler&#x27;,\n",
       "                                                                   StandardScaler())]),\n",
       "                                                  Index([&#x27;HKTLMYY&#x27;, &#x27;JEKQIKE&#x27;, &#x27;MUEKGHC&#x27;, &#x27;HVTWAZN&#x27;, &#x27;SBUETBP&#x27;, &#x27;WSRRROM&#x27;,\n",
       "       &#x27;EGWONKF&#x27;, &#x27;XEUMIIT&#x27;, &#x27;JYNEQWD&#x27;, &#x27;XJUIXIR&#x27;, &#x27;WLULXFN&#x27;, &#x27;AQYGYOE&#x27;,\n",
       "       &#x27;YZRVJSE&#x27;, &#x27;EULURHL&#x27;, &#x27;WCZJBOX&#x27;, &#x27;PIACHYE&#x27;, &#x27;LCAOHWW&#x27;, &#x27;PATWSZC&#x27;,\n",
       "       &#x27;...\n",
       "       &#x27;AHVIXII&#x27;, &#x27;PSXOLCG&#x27;, &#x27;NPVZRXF&#x27;, &#x27;RGDZIYI&#x27;, &#x27;UWFUPRN&#x27;, &#x27;QGKAEUF&#x27;,\n",
       "       &#x27;GQHLWWM&#x27;, &#x27;SHBNDLU&#x27;, &#x27;IHCEXCN&#x27;, &#x27;YEZPLBM&#x27;],\n",
       "      dtype=&#x27;object&#x27;, length=741)),\n",
       "                                                 (&#x27;cat&#x27;,\n",
       "                                                  Pipeline(steps=[(&#x27;imputer&#x27;,\n",
       "                                                                   SimpleImputer(fill_value=&#x27;missing&#x27;,\n",
       "                                                                                 strategy=&#x27;constant&#x27;)),\n",
       "                                                                  (&#x27;onehot&#x27;,\n",
       "                                                                   OneHotEncoder(handle_unknown=&#x27;ignore&#x27;))]),\n",
       "                                                  Index([&#x27;TQSLCKT&#x27;, &#x27;CJICMVV&#x27;, &#x27;OYBONYX&#x27;, &#x27;TERIJOV&#x27;], dtype=&#x27;object&#x27;))])),\n",
       "                (&#x27;classifier&#x27;, &#x27;passthrough&#x27;)])</pre></div></div></div><div class=\"sk-serial\"><div class=\"sk-item\"><div class=\"sk-serial\"><div class=\"sk-item sk-dashed-wrapped\"><div class=\"sk-label-container\"><div class=\"sk-label sk-toggleable\"><input class=\"sk-toggleable__control sk-hidden--visually\" id=\"sk-estimator-id-3\" type=\"checkbox\" ><label for=\"sk-estimator-id-3\" class=\"sk-toggleable__label sk-toggleable__label-arrow\">preprocessor: ColumnTransformer</label><div class=\"sk-toggleable__content\"><pre>ColumnTransformer(transformers=[(&#x27;int&#x27;,\n",
       "                                 Pipeline(steps=[(&#x27;imputer&#x27;,\n",
       "                                                  SimpleImputer(strategy=&#x27;median&#x27;)),\n",
       "                                                 (&#x27;scaler&#x27;, StandardScaler())]),\n",
       "                                 Index([&#x27;HKTLMYY&#x27;, &#x27;JEKQIKE&#x27;, &#x27;MUEKGHC&#x27;, &#x27;HVTWAZN&#x27;, &#x27;SBUETBP&#x27;, &#x27;WSRRROM&#x27;,\n",
       "       &#x27;EGWONKF&#x27;, &#x27;XEUMIIT&#x27;, &#x27;JYNEQWD&#x27;, &#x27;XJUIXIR&#x27;, &#x27;WLULXFN&#x27;, &#x27;AQYGYOE&#x27;,\n",
       "       &#x27;YZRVJSE&#x27;, &#x27;EULURHL&#x27;, &#x27;WCZJBOX&#x27;, &#x27;PIACHYE&#x27;, &#x27;LCAOHWW&#x27;, &#x27;PATWSZC&#x27;,\n",
       "       &#x27;FPBFOEB&#x27;, &#x27;XIRNYHK&#x27;, &#x27;HBQPQTD&#x27;],\n",
       "      dt...\n",
       "       &#x27;TDMCRGU&#x27;, &#x27;HNDGNRG&#x27;, &#x27;HFHITLP&#x27;, &#x27;MSVWNFK&#x27;,\n",
       "       ...\n",
       "       &#x27;AHVIXII&#x27;, &#x27;PSXOLCG&#x27;, &#x27;NPVZRXF&#x27;, &#x27;RGDZIYI&#x27;, &#x27;UWFUPRN&#x27;, &#x27;QGKAEUF&#x27;,\n",
       "       &#x27;GQHLWWM&#x27;, &#x27;SHBNDLU&#x27;, &#x27;IHCEXCN&#x27;, &#x27;YEZPLBM&#x27;],\n",
       "      dtype=&#x27;object&#x27;, length=741)),\n",
       "                                (&#x27;cat&#x27;,\n",
       "                                 Pipeline(steps=[(&#x27;imputer&#x27;,\n",
       "                                                  SimpleImputer(fill_value=&#x27;missing&#x27;,\n",
       "                                                                strategy=&#x27;constant&#x27;)),\n",
       "                                                 (&#x27;onehot&#x27;,\n",
       "                                                  OneHotEncoder(handle_unknown=&#x27;ignore&#x27;))]),\n",
       "                                 Index([&#x27;TQSLCKT&#x27;, &#x27;CJICMVV&#x27;, &#x27;OYBONYX&#x27;, &#x27;TERIJOV&#x27;], dtype=&#x27;object&#x27;))])</pre></div></div></div><div class=\"sk-parallel\"><div class=\"sk-parallel-item\"><div class=\"sk-item\"><div class=\"sk-label-container\"><div class=\"sk-label sk-toggleable\"><input class=\"sk-toggleable__control sk-hidden--visually\" id=\"sk-estimator-id-4\" type=\"checkbox\" ><label for=\"sk-estimator-id-4\" class=\"sk-toggleable__label sk-toggleable__label-arrow\">int</label><div class=\"sk-toggleable__content\"><pre>Index([&#x27;HKTLMYY&#x27;, &#x27;JEKQIKE&#x27;, &#x27;MUEKGHC&#x27;, &#x27;HVTWAZN&#x27;, &#x27;SBUETBP&#x27;, &#x27;WSRRROM&#x27;,\n",
       "       &#x27;EGWONKF&#x27;, &#x27;XEUMIIT&#x27;, &#x27;JYNEQWD&#x27;, &#x27;XJUIXIR&#x27;, &#x27;WLULXFN&#x27;, &#x27;AQYGYOE&#x27;,\n",
       "       &#x27;YZRVJSE&#x27;, &#x27;EULURHL&#x27;, &#x27;WCZJBOX&#x27;, &#x27;PIACHYE&#x27;, &#x27;LCAOHWW&#x27;, &#x27;PATWSZC&#x27;,\n",
       "       &#x27;FPBFOEB&#x27;, &#x27;XIRNYHK&#x27;, &#x27;HBQPQTD&#x27;],\n",
       "      dtype=&#x27;object&#x27;)</pre></div></div></div><div class=\"sk-serial\"><div class=\"sk-item\"><div class=\"sk-serial\"><div class=\"sk-item\"><div class=\"sk-estimator sk-toggleable\"><input class=\"sk-toggleable__control sk-hidden--visually\" id=\"sk-estimator-id-5\" type=\"checkbox\" ><label for=\"sk-estimator-id-5\" class=\"sk-toggleable__label sk-toggleable__label-arrow\">SimpleImputer</label><div class=\"sk-toggleable__content\"><pre>SimpleImputer(strategy=&#x27;median&#x27;)</pre></div></div></div><div class=\"sk-item\"><div class=\"sk-estimator sk-toggleable\"><input class=\"sk-toggleable__control sk-hidden--visually\" id=\"sk-estimator-id-6\" type=\"checkbox\" ><label for=\"sk-estimator-id-6\" class=\"sk-toggleable__label sk-toggleable__label-arrow\">StandardScaler</label><div class=\"sk-toggleable__content\"><pre>StandardScaler()</pre></div></div></div></div></div></div></div></div><div class=\"sk-parallel-item\"><div class=\"sk-item\"><div class=\"sk-label-container\"><div class=\"sk-label sk-toggleable\"><input class=\"sk-toggleable__control sk-hidden--visually\" id=\"sk-estimator-id-7\" type=\"checkbox\" ><label for=\"sk-estimator-id-7\" class=\"sk-toggleable__label sk-toggleable__label-arrow\">float</label><div class=\"sk-toggleable__content\"><pre>Index([&#x27;IJEXXXL&#x27;, &#x27;KVNLYTZ&#x27;, &#x27;ADOIOYN&#x27;, &#x27;GPCKISJ&#x27;, &#x27;BFYTKKS&#x27;, &#x27;HNJMSWN&#x27;,\n",
       "       &#x27;TDMCRGU&#x27;, &#x27;HNDGNRG&#x27;, &#x27;HFHITLP&#x27;, &#x27;MSVWNFK&#x27;,\n",
       "       ...\n",
       "       &#x27;AHVIXII&#x27;, &#x27;PSXOLCG&#x27;, &#x27;NPVZRXF&#x27;, &#x27;RGDZIYI&#x27;, &#x27;UWFUPRN&#x27;, &#x27;QGKAEUF&#x27;,\n",
       "       &#x27;GQHLWWM&#x27;, &#x27;SHBNDLU&#x27;, &#x27;IHCEXCN&#x27;, &#x27;YEZPLBM&#x27;],\n",
       "      dtype=&#x27;object&#x27;, length=741)</pre></div></div></div><div class=\"sk-serial\"><div class=\"sk-item\"><div class=\"sk-serial\"><div class=\"sk-item\"><div class=\"sk-estimator sk-toggleable\"><input class=\"sk-toggleable__control sk-hidden--visually\" id=\"sk-estimator-id-8\" type=\"checkbox\" ><label for=\"sk-estimator-id-8\" class=\"sk-toggleable__label sk-toggleable__label-arrow\">SimpleImputer</label><div class=\"sk-toggleable__content\"><pre>SimpleImputer(strategy=&#x27;median&#x27;)</pre></div></div></div><div class=\"sk-item\"><div class=\"sk-estimator sk-toggleable\"><input class=\"sk-toggleable__control sk-hidden--visually\" id=\"sk-estimator-id-9\" type=\"checkbox\" ><label for=\"sk-estimator-id-9\" class=\"sk-toggleable__label sk-toggleable__label-arrow\">StandardScaler</label><div class=\"sk-toggleable__content\"><pre>StandardScaler()</pre></div></div></div></div></div></div></div></div><div class=\"sk-parallel-item\"><div class=\"sk-item\"><div class=\"sk-label-container\"><div class=\"sk-label sk-toggleable\"><input class=\"sk-toggleable__control sk-hidden--visually\" id=\"sk-estimator-id-10\" type=\"checkbox\" ><label for=\"sk-estimator-id-10\" class=\"sk-toggleable__label sk-toggleable__label-arrow\">cat</label><div class=\"sk-toggleable__content\"><pre>Index([&#x27;TQSLCKT&#x27;, &#x27;CJICMVV&#x27;, &#x27;OYBONYX&#x27;, &#x27;TERIJOV&#x27;], dtype=&#x27;object&#x27;)</pre></div></div></div><div class=\"sk-serial\"><div class=\"sk-item\"><div class=\"sk-serial\"><div class=\"sk-item\"><div class=\"sk-estimator sk-toggleable\"><input class=\"sk-toggleable__control sk-hidden--visually\" id=\"sk-estimator-id-11\" type=\"checkbox\" ><label for=\"sk-estimator-id-11\" class=\"sk-toggleable__label sk-toggleable__label-arrow\">SimpleImputer</label><div class=\"sk-toggleable__content\"><pre>SimpleImputer(fill_value=&#x27;missing&#x27;, strategy=&#x27;constant&#x27;)</pre></div></div></div><div class=\"sk-item\"><div class=\"sk-estimator sk-toggleable\"><input class=\"sk-toggleable__control sk-hidden--visually\" id=\"sk-estimator-id-12\" type=\"checkbox\" ><label for=\"sk-estimator-id-12\" class=\"sk-toggleable__label sk-toggleable__label-arrow\">OneHotEncoder</label><div class=\"sk-toggleable__content\"><pre>OneHotEncoder(handle_unknown=&#x27;ignore&#x27;)</pre></div></div></div></div></div></div></div></div></div></div><div class=\"sk-item\"><div class=\"sk-estimator sk-toggleable\"><input class=\"sk-toggleable__control sk-hidden--visually\" id=\"sk-estimator-id-13\" type=\"checkbox\" ><label for=\"sk-estimator-id-13\" class=\"sk-toggleable__label sk-toggleable__label-arrow\">passthrough</label><div class=\"sk-toggleable__content\"><pre>passthrough</pre></div></div></div></div></div></div></div></div></div></div></div></div>"
      ],
      "text/plain": [
       "GridSearchCV(cv=5,\n",
       "             estimator=Pipeline(steps=[('preprocessor',\n",
       "                                        ColumnTransformer(transformers=[('int',\n",
       "                                                                         Pipeline(steps=[('imputer',\n",
       "                                                                                          SimpleImputer(strategy='median')),\n",
       "                                                                                         ('scaler',\n",
       "                                                                                          StandardScaler())]),\n",
       "                                                                         Index(['HKTLMYY', 'JEKQIKE', 'MUEKGHC', 'HVTWAZN', 'SBUETBP', 'WSRRROM',\n",
       "       'EGWONKF', 'XEUMIIT', 'JYNEQWD', 'XJUIXIR', 'WLULXFN', 'AQYGYOE',\n",
       "       'YZRVJSE', 'EULURHL', 'WCZJBOX', 'PI...\n",
       "                                                       {0: 1, 1: 200}]},\n",
       "                         {'classifier': [RandomForestClassifier(class_weight={0: 1,\n",
       "                                                                              1: 75},\n",
       "                                                                min_samples_leaf=4,\n",
       "                                                                min_samples_split=10)],\n",
       "                          'classifier__class_weight': [{0: 1, 1: 75},\n",
       "                                                       {0: 1, 1: 100},\n",
       "                                                       {0: 1, 1: 150},\n",
       "                                                       {0: 1, 1: 200}],\n",
       "                          'classifier__max_depth': [None],\n",
       "                          'classifier__min_samples_leaf': [1, 2, 4],\n",
       "                          'classifier__min_samples_split': [2, 5, 10],\n",
       "                          'classifier__n_estimators': [50, 100, 200]}],\n",
       "             scoring='f1')"
      ]
     },
     "execution_count": 55,
     "metadata": {},
     "output_type": "execute_result"
    }
   ],
   "source": [
    "%%time\n",
    "search = GridSearchCV(pipeline, param_grid, cv=5, scoring='f1', n_jobs=2)\n",
    "search.fit(training_features, train_target)"
   ]
  },
  {
   "cell_type": "code",
   "execution_count": 56,
   "id": "95baf2c5-6114-4792-ab63-d84474843b44",
   "metadata": {},
   "outputs": [
    {
     "name": "stdout",
     "output_type": "stream",
     "text": [
      "Best parameter (CV score=0.204):\n",
      "{'classifier': RandomForestClassifier(class_weight={0: 1, 1: 75}, min_samples_leaf=4,\n",
      "                       min_samples_split=10), 'classifier__class_weight': {0: 1, 1: 75}, 'classifier__max_depth': None, 'classifier__min_samples_leaf': 4, 'classifier__min_samples_split': 10, 'classifier__n_estimators': 100}\n"
     ]
    }
   ],
   "source": [
    "print(\"Best parameter (CV score=%0.3f):\" % search.best_score_)\n",
    "print(search.best_params_)"
   ]
  },
  {
   "cell_type": "code",
   "execution_count": 64,
   "id": "4ad4983d-f50b-4782-9e38-f1bc462fc059",
   "metadata": {},
   "outputs": [
    {
     "data": {
      "text/html": [
       "<div>\n",
       "<style scoped>\n",
       "    .dataframe tbody tr th:only-of-type {\n",
       "        vertical-align: middle;\n",
       "    }\n",
       "\n",
       "    .dataframe tbody tr th {\n",
       "        vertical-align: top;\n",
       "    }\n",
       "\n",
       "    .dataframe thead th {\n",
       "        text-align: right;\n",
       "    }\n",
       "</style>\n",
       "<table border=\"1\" class=\"dataframe\">\n",
       "  <thead>\n",
       "    <tr style=\"text-align: right;\">\n",
       "      <th></th>\n",
       "      <th>params</th>\n",
       "      <th>mean_test_score</th>\n",
       "      <th>std_test_score</th>\n",
       "    </tr>\n",
       "  </thead>\n",
       "  <tbody>\n",
       "    <tr>\n",
       "      <th>37</th>\n",
       "      <td>{'classifier': RandomForestClassifier(class_weight={0: 1, 1: 75}, min_samples_leaf=4,\n",
       "                       min_samples_split=10), 'classifier__class_weight': {0: 1, 1: 75}, 'classifier__max_depth': None, 'classifier__min_samples_leaf': 4, 'classifier__min_samples_split': 10, 'classifier__n_estimators': 100}</td>\n",
       "      <td>0.203785</td>\n",
       "      <td>0.070294</td>\n",
       "    </tr>\n",
       "    <tr>\n",
       "      <th>90</th>\n",
       "      <td>{'classifier': RandomForestClassifier(class_weight={0: 1, 1: 75}, min_samples_leaf=4,\n",
       "                       min_samples_split=10), 'classifier__class_weight': {0: 1, 1: 150}, 'classifier__max_depth': None, 'classifier__min_samples_leaf': 4, 'classifier__min_samples_split': 10, 'classifier__n_estimators': 50}</td>\n",
       "      <td>0.170452</td>\n",
       "      <td>0.108905</td>\n",
       "    </tr>\n",
       "    <tr>\n",
       "      <th>36</th>\n",
       "      <td>{'classifier': RandomForestClassifier(class_weight={0: 1, 1: 75}, min_samples_leaf=4,\n",
       "                       min_samples_split=10), 'classifier__class_weight': {0: 1, 1: 75}, 'classifier__max_depth': None, 'classifier__min_samples_leaf': 4, 'classifier__min_samples_split': 10, 'classifier__n_estimators': 50}</td>\n",
       "      <td>0.168571</td>\n",
       "      <td>0.106972</td>\n",
       "    </tr>\n",
       "    <tr>\n",
       "      <th>8</th>\n",
       "      <td>{'classifier': RidgeClassifier(), 'classifier__alpha': 200, 'classifier__class_weight': {0: 1, 1: 75}}</td>\n",
       "      <td>0.168087</td>\n",
       "      <td>0.069250</td>\n",
       "    </tr>\n",
       "    <tr>\n",
       "      <th>45</th>\n",
       "      <td>{'classifier': RandomForestClassifier(class_weight={0: 1, 1: 75}, min_samples_leaf=4,\n",
       "                       min_samples_split=10), 'classifier__class_weight': {0: 1, 1: 100}, 'classifier__max_depth': None, 'classifier__min_samples_leaf': 1, 'classifier__min_samples_split': 10, 'classifier__n_estimators': 50}</td>\n",
       "      <td>0.159341</td>\n",
       "      <td>0.105847</td>\n",
       "    </tr>\n",
       "    <tr>\n",
       "      <th>33</th>\n",
       "      <td>{'classifier': RandomForestClassifier(class_weight={0: 1, 1: 75}, min_samples_leaf=4,\n",
       "                       min_samples_split=10), 'classifier__class_weight': {0: 1, 1: 75}, 'classifier__max_depth': None, 'classifier__min_samples_leaf': 4, 'classifier__min_samples_split': 5, 'classifier__n_estimators': 50}</td>\n",
       "      <td>0.159341</td>\n",
       "      <td>0.105847</td>\n",
       "    </tr>\n",
       "    <tr>\n",
       "      <th>32</th>\n",
       "      <td>{'classifier': RandomForestClassifier(class_weight={0: 1, 1: 75}, min_samples_leaf=4,\n",
       "                       min_samples_split=10), 'classifier__class_weight': {0: 1, 1: 75}, 'classifier__max_depth': None, 'classifier__min_samples_leaf': 4, 'classifier__min_samples_split': 2, 'classifier__n_estimators': 200}</td>\n",
       "      <td>0.159341</td>\n",
       "      <td>0.105847</td>\n",
       "    </tr>\n",
       "    <tr>\n",
       "      <th>27</th>\n",
       "      <td>{'classifier': RandomForestClassifier(class_weight={0: 1, 1: 75}, min_samples_leaf=4,\n",
       "                       min_samples_split=10), 'classifier__class_weight': {0: 1, 1: 75}, 'classifier__max_depth': None, 'classifier__min_samples_leaf': 2, 'classifier__min_samples_split': 10, 'classifier__n_estimators': 50}</td>\n",
       "      <td>0.157436</td>\n",
       "      <td>0.106212</td>\n",
       "    </tr>\n",
       "    <tr>\n",
       "      <th>4</th>\n",
       "      <td>{'classifier': RidgeClassifier(), 'classifier__alpha': 150, 'classifier__class_weight': {0: 1, 1: 75}}</td>\n",
       "      <td>0.153891</td>\n",
       "      <td>0.067520</td>\n",
       "    </tr>\n",
       "    <tr>\n",
       "      <th>0</th>\n",
       "      <td>{'classifier': RidgeClassifier(), 'classifier__alpha': 100, 'classifier__class_weight': {0: 1, 1: 75}}</td>\n",
       "      <td>0.151519</td>\n",
       "      <td>0.063387</td>\n",
       "    </tr>\n",
       "  </tbody>\n",
       "</table>\n",
       "</div>"
      ],
      "text/plain": [
       "                                                                                                                                                                                                                                                                                                                    params  \\\n",
       "37  {'classifier': RandomForestClassifier(class_weight={0: 1, 1: 75}, min_samples_leaf=4,\n",
       "                       min_samples_split=10), 'classifier__class_weight': {0: 1, 1: 75}, 'classifier__max_depth': None, 'classifier__min_samples_leaf': 4, 'classifier__min_samples_split': 10, 'classifier__n_estimators': 100}   \n",
       "90  {'classifier': RandomForestClassifier(class_weight={0: 1, 1: 75}, min_samples_leaf=4,\n",
       "                       min_samples_split=10), 'classifier__class_weight': {0: 1, 1: 150}, 'classifier__max_depth': None, 'classifier__min_samples_leaf': 4, 'classifier__min_samples_split': 10, 'classifier__n_estimators': 50}   \n",
       "36   {'classifier': RandomForestClassifier(class_weight={0: 1, 1: 75}, min_samples_leaf=4,\n",
       "                       min_samples_split=10), 'classifier__class_weight': {0: 1, 1: 75}, 'classifier__max_depth': None, 'classifier__min_samples_leaf': 4, 'classifier__min_samples_split': 10, 'classifier__n_estimators': 50}   \n",
       "8                                                                                                                                                                                                                   {'classifier': RidgeClassifier(), 'classifier__alpha': 200, 'classifier__class_weight': {0: 1, 1: 75}}   \n",
       "45  {'classifier': RandomForestClassifier(class_weight={0: 1, 1: 75}, min_samples_leaf=4,\n",
       "                       min_samples_split=10), 'classifier__class_weight': {0: 1, 1: 100}, 'classifier__max_depth': None, 'classifier__min_samples_leaf': 1, 'classifier__min_samples_split': 10, 'classifier__n_estimators': 50}   \n",
       "33    {'classifier': RandomForestClassifier(class_weight={0: 1, 1: 75}, min_samples_leaf=4,\n",
       "                       min_samples_split=10), 'classifier__class_weight': {0: 1, 1: 75}, 'classifier__max_depth': None, 'classifier__min_samples_leaf': 4, 'classifier__min_samples_split': 5, 'classifier__n_estimators': 50}   \n",
       "32   {'classifier': RandomForestClassifier(class_weight={0: 1, 1: 75}, min_samples_leaf=4,\n",
       "                       min_samples_split=10), 'classifier__class_weight': {0: 1, 1: 75}, 'classifier__max_depth': None, 'classifier__min_samples_leaf': 4, 'classifier__min_samples_split': 2, 'classifier__n_estimators': 200}   \n",
       "27   {'classifier': RandomForestClassifier(class_weight={0: 1, 1: 75}, min_samples_leaf=4,\n",
       "                       min_samples_split=10), 'classifier__class_weight': {0: 1, 1: 75}, 'classifier__max_depth': None, 'classifier__min_samples_leaf': 2, 'classifier__min_samples_split': 10, 'classifier__n_estimators': 50}   \n",
       "4                                                                                                                                                                                                                   {'classifier': RidgeClassifier(), 'classifier__alpha': 150, 'classifier__class_weight': {0: 1, 1: 75}}   \n",
       "0                                                                                                                                                                                                                   {'classifier': RidgeClassifier(), 'classifier__alpha': 100, 'classifier__class_weight': {0: 1, 1: 75}}   \n",
       "\n",
       "    mean_test_score  std_test_score  \n",
       "37         0.203785        0.070294  \n",
       "90         0.170452        0.108905  \n",
       "36         0.168571        0.106972  \n",
       "8          0.168087        0.069250  \n",
       "45         0.159341        0.105847  \n",
       "33         0.159341        0.105847  \n",
       "32         0.159341        0.105847  \n",
       "27         0.157436        0.106212  \n",
       "4          0.153891        0.067520  \n",
       "0          0.151519        0.063387  "
      ]
     },
     "execution_count": 64,
     "metadata": {},
     "output_type": "execute_result"
    }
   ],
   "source": [
    "import pandas as pd\n",
    "pd.set_option('display.max_colwidth', 400)\n",
    "results_df = pd.DataFrame(search.cv_results_)\n",
    "top_results = results_df.sort_values(by='mean_test_score', ascending=False)\n",
    "top_results[['params', 'mean_test_score', 'std_test_score']].head(10)"
   ]
  },
  {
   "cell_type": "code",
   "execution_count": 131,
   "id": "c02523eb-19ed-4580-8a0e-40367e98d694",
   "metadata": {},
   "outputs": [
    {
     "ename": "AttributeError",
     "evalue": "'GridSearchCV' object has no attribute 'best_estimator_'",
     "output_type": "error",
     "traceback": [
      "\u001b[0;31m---------------------------------------------------------------------------\u001b[0m",
      "\u001b[0;31mAttributeError\u001b[0m                            Traceback (most recent call last)",
      "\u001b[0;32m<ipython-input-131-049aa4129d31>\u001b[0m in \u001b[0;36m<module>\u001b[0;34m\u001b[0m\n\u001b[1;32m      1\u001b[0m \u001b[0;32mfrom\u001b[0m \u001b[0msklearn\u001b[0m\u001b[0;34m.\u001b[0m\u001b[0mmetrics\u001b[0m \u001b[0;32mimport\u001b[0m \u001b[0mf1_score\u001b[0m\u001b[0;34m,\u001b[0m \u001b[0mprecision_score\u001b[0m\u001b[0;34m\u001b[0m\u001b[0;34m\u001b[0m\u001b[0m\n\u001b[0;32m----> 2\u001b[0;31m \u001b[0mbest_estimator\u001b[0m \u001b[0;34m=\u001b[0m \u001b[0msearch\u001b[0m\u001b[0;34m.\u001b[0m\u001b[0mbest_estimator_\u001b[0m\u001b[0;34m\u001b[0m\u001b[0;34m\u001b[0m\u001b[0m\n\u001b[0m\u001b[1;32m      3\u001b[0m \u001b[0mbest_estimator\u001b[0m\u001b[0;34m.\u001b[0m\u001b[0mfit\u001b[0m\u001b[0;34m(\u001b[0m\u001b[0mtraining_features\u001b[0m\u001b[0;34m,\u001b[0m \u001b[0mtrain_target\u001b[0m\u001b[0;34m)\u001b[0m\u001b[0;34m\u001b[0m\u001b[0;34m\u001b[0m\u001b[0m\n\u001b[1;32m      4\u001b[0m \u001b[0mtest_predictions\u001b[0m \u001b[0;34m=\u001b[0m \u001b[0mbest_estimator\u001b[0m\u001b[0;34m.\u001b[0m\u001b[0mpredict\u001b[0m\u001b[0;34m(\u001b[0m\u001b[0mtest_features\u001b[0m\u001b[0;34m)\u001b[0m\u001b[0;34m\u001b[0m\u001b[0;34m\u001b[0m\u001b[0m\n\u001b[1;32m      5\u001b[0m \u001b[0mf1\u001b[0m \u001b[0;34m=\u001b[0m \u001b[0mf1_score\u001b[0m\u001b[0;34m(\u001b[0m\u001b[0mtest_target\u001b[0m\u001b[0;34m,\u001b[0m \u001b[0mtest_predictions\u001b[0m\u001b[0;34m)\u001b[0m\u001b[0;34m\u001b[0m\u001b[0;34m\u001b[0m\u001b[0m\n",
      "\u001b[0;31mAttributeError\u001b[0m: 'GridSearchCV' object has no attribute 'best_estimator_'"
     ]
    }
   ],
   "source": [
    "from sklearn.metrics import f1_score, precision_score\n",
    "best_estimator = search.best_estimator_\n",
    "best_estimator.fit(training_features, train_target)\n",
    "test_predictions = best_estimator.predict(test_features)\n",
    "f1 = f1_score(test_target, test_predictions)\n",
    "precision = precision_score(test_target, test_predictions)\n",
    "print(f\"F1 Score on Test Set: {f1:.3f}\")\n",
    "print(f\"Precision on Test Set: {precision:.3f}\")"
   ]
  },
  {
   "cell_type": "markdown",
   "id": "d6346dbd-f4e1-485a-9adc-0db6fa9b1c25",
   "metadata": {},
   "source": [
    "## Feature importance"
   ]
  },
  {
   "cell_type": "markdown",
   "id": "ae7d256e-e973-45e7-af6c-07ccd8296bd1",
   "metadata": {},
   "source": [
    "### By best RF clf"
   ]
  },
  {
   "cell_type": "code",
   "execution_count": 105,
   "id": "f1848628-ad98-4e6f-a0a7-6e91264e990e",
   "metadata": {
    "tags": []
   },
   "outputs": [],
   "source": [
    "feature_names = training_features.columns.tolist()\n",
    "feature_importance = best_estimator.named_steps['classifier'].feature_importances_\n",
    "feature_importance = dict(zip(feature_names, feature_importance))\n",
    "sorted_rf_features = sorted(feature_importance.items(), key=lambda x: abs(x[1]), reverse=True)"
   ]
  },
  {
   "cell_type": "code",
   "execution_count": 124,
   "id": "32c28cf7-ab30-4646-af82-985a0a287f6c",
   "metadata": {},
   "outputs": [
    {
     "data": {
      "text/html": [
       "<div>\n",
       "<style scoped>\n",
       "    .dataframe tbody tr th:only-of-type {\n",
       "        vertical-align: middle;\n",
       "    }\n",
       "\n",
       "    .dataframe tbody tr th {\n",
       "        vertical-align: top;\n",
       "    }\n",
       "\n",
       "    .dataframe thead th {\n",
       "        text-align: right;\n",
       "    }\n",
       "</style>\n",
       "<table border=\"1\" class=\"dataframe\">\n",
       "  <thead>\n",
       "    <tr style=\"text-align: right;\">\n",
       "      <th></th>\n",
       "      <th>feature</th>\n",
       "      <th>rf_importance</th>\n",
       "      <th>rf_relative_importance</th>\n",
       "    </tr>\n",
       "  </thead>\n",
       "  <tbody>\n",
       "    <tr>\n",
       "      <th>0</th>\n",
       "      <td>KGJACPV</td>\n",
       "      <td>0.045163</td>\n",
       "      <td>1.000000</td>\n",
       "    </tr>\n",
       "    <tr>\n",
       "      <th>1</th>\n",
       "      <td>GUEUYTS</td>\n",
       "      <td>0.043535</td>\n",
       "      <td>0.963963</td>\n",
       "    </tr>\n",
       "    <tr>\n",
       "      <th>2</th>\n",
       "      <td>ZAIRSDG</td>\n",
       "      <td>0.026666</td>\n",
       "      <td>0.590436</td>\n",
       "    </tr>\n",
       "    <tr>\n",
       "      <th>3</th>\n",
       "      <td>USAETVU</td>\n",
       "      <td>0.023823</td>\n",
       "      <td>0.527492</td>\n",
       "    </tr>\n",
       "    <tr>\n",
       "      <th>4</th>\n",
       "      <td>OJSWUAF</td>\n",
       "      <td>0.022448</td>\n",
       "      <td>0.497050</td>\n",
       "    </tr>\n",
       "  </tbody>\n",
       "</table>\n",
       "</div>"
      ],
      "text/plain": [
       "   feature  rf_importance  rf_relative_importance\n",
       "0  KGJACPV       0.045163                1.000000\n",
       "1  GUEUYTS       0.043535                0.963963\n",
       "2  ZAIRSDG       0.026666                0.590436\n",
       "3  USAETVU       0.023823                0.527492\n",
       "4  OJSWUAF       0.022448                0.497050"
      ]
     },
     "execution_count": 124,
     "metadata": {},
     "output_type": "execute_result"
    }
   ],
   "source": [
    "rf_fi = pd.DataFrame(sorted_rf_features, columns=['feature','rf_importance'])\n",
    "rf_fi['rf_relative_importance'] = abs(rf_fi.rf_importance) / abs(rf_fi.rf_importance.max())\n",
    "rf_fi.head()"
   ]
  },
  {
   "cell_type": "markdown",
   "id": "89749386-b68b-419a-99b4-dedd5c21bff9",
   "metadata": {},
   "source": [
    "### By LR classifier "
   ]
  },
  {
   "cell_type": "code",
   "execution_count": 111,
   "id": "d084b2a7-f7c2-4d0d-91a8-0bec8ae4d906",
   "metadata": {},
   "outputs": [],
   "source": [
    "lr_clf = RidgeClassifier(alpha=200, class_weight={0: 1, 1: 75})\n",
    "pipeline = Pipeline(steps=[('preprocessor', preprocessor),\n",
    "                           ('classifier', lr_clf)  \n",
    "                          ])"
   ]
  },
  {
   "cell_type": "code",
   "execution_count": 113,
   "id": "c2976e67-8f95-46d2-acb0-fa748d12c3e4",
   "metadata": {},
   "outputs": [
    {
     "data": {
      "text/html": [
       "<style>#sk-container-id-6 {color: black;background-color: white;}#sk-container-id-6 pre{padding: 0;}#sk-container-id-6 div.sk-toggleable {background-color: white;}#sk-container-id-6 label.sk-toggleable__label {cursor: pointer;display: block;width: 100%;margin-bottom: 0;padding: 0.3em;box-sizing: border-box;text-align: center;}#sk-container-id-6 label.sk-toggleable__label-arrow:before {content: \"▸\";float: left;margin-right: 0.25em;color: #696969;}#sk-container-id-6 label.sk-toggleable__label-arrow:hover:before {color: black;}#sk-container-id-6 div.sk-estimator:hover label.sk-toggleable__label-arrow:before {color: black;}#sk-container-id-6 div.sk-toggleable__content {max-height: 0;max-width: 0;overflow: hidden;text-align: left;background-color: #f0f8ff;}#sk-container-id-6 div.sk-toggleable__content pre {margin: 0.2em;color: black;border-radius: 0.25em;background-color: #f0f8ff;}#sk-container-id-6 input.sk-toggleable__control:checked~div.sk-toggleable__content {max-height: 200px;max-width: 100%;overflow: auto;}#sk-container-id-6 input.sk-toggleable__control:checked~label.sk-toggleable__label-arrow:before {content: \"▾\";}#sk-container-id-6 div.sk-estimator input.sk-toggleable__control:checked~label.sk-toggleable__label {background-color: #d4ebff;}#sk-container-id-6 div.sk-label input.sk-toggleable__control:checked~label.sk-toggleable__label {background-color: #d4ebff;}#sk-container-id-6 input.sk-hidden--visually {border: 0;clip: rect(1px 1px 1px 1px);clip: rect(1px, 1px, 1px, 1px);height: 1px;margin: -1px;overflow: hidden;padding: 0;position: absolute;width: 1px;}#sk-container-id-6 div.sk-estimator {font-family: monospace;background-color: #f0f8ff;border: 1px dotted black;border-radius: 0.25em;box-sizing: border-box;margin-bottom: 0.5em;}#sk-container-id-6 div.sk-estimator:hover {background-color: #d4ebff;}#sk-container-id-6 div.sk-parallel-item::after {content: \"\";width: 100%;border-bottom: 1px solid gray;flex-grow: 1;}#sk-container-id-6 div.sk-label:hover label.sk-toggleable__label {background-color: #d4ebff;}#sk-container-id-6 div.sk-serial::before {content: \"\";position: absolute;border-left: 1px solid gray;box-sizing: border-box;top: 0;bottom: 0;left: 50%;z-index: 0;}#sk-container-id-6 div.sk-serial {display: flex;flex-direction: column;align-items: center;background-color: white;padding-right: 0.2em;padding-left: 0.2em;position: relative;}#sk-container-id-6 div.sk-item {position: relative;z-index: 1;}#sk-container-id-6 div.sk-parallel {display: flex;align-items: stretch;justify-content: center;background-color: white;position: relative;}#sk-container-id-6 div.sk-item::before, #sk-container-id-6 div.sk-parallel-item::before {content: \"\";position: absolute;border-left: 1px solid gray;box-sizing: border-box;top: 0;bottom: 0;left: 50%;z-index: -1;}#sk-container-id-6 div.sk-parallel-item {display: flex;flex-direction: column;z-index: 1;position: relative;background-color: white;}#sk-container-id-6 div.sk-parallel-item:first-child::after {align-self: flex-end;width: 50%;}#sk-container-id-6 div.sk-parallel-item:last-child::after {align-self: flex-start;width: 50%;}#sk-container-id-6 div.sk-parallel-item:only-child::after {width: 0;}#sk-container-id-6 div.sk-dashed-wrapped {border: 1px dashed gray;margin: 0 0.4em 0.5em 0.4em;box-sizing: border-box;padding-bottom: 0.4em;background-color: white;}#sk-container-id-6 div.sk-label label {font-family: monospace;font-weight: bold;display: inline-block;line-height: 1.2em;}#sk-container-id-6 div.sk-label-container {text-align: center;}#sk-container-id-6 div.sk-container {/* jupyter's `normalize.less` sets `[hidden] { display: none; }` but bootstrap.min.css set `[hidden] { display: none !important; }` so we also need the `!important` here to be able to override the default hidden behavior on the sphinx rendered scikit-learn.org. See: https://github.com/scikit-learn/scikit-learn/issues/21755 */display: inline-block !important;position: relative;}#sk-container-id-6 div.sk-text-repr-fallback {display: none;}</style><div id=\"sk-container-id-6\" class=\"sk-top-container\"><div class=\"sk-text-repr-fallback\"><pre>Pipeline(steps=[(&#x27;preprocessor&#x27;,\n",
       "                 ColumnTransformer(transformers=[(&#x27;int&#x27;,\n",
       "                                                  Pipeline(steps=[(&#x27;imputer&#x27;,\n",
       "                                                                   SimpleImputer(strategy=&#x27;median&#x27;)),\n",
       "                                                                  (&#x27;scaler&#x27;,\n",
       "                                                                   StandardScaler())]),\n",
       "                                                  Index([&#x27;HKTLMYY&#x27;, &#x27;JEKQIKE&#x27;, &#x27;MUEKGHC&#x27;, &#x27;HVTWAZN&#x27;, &#x27;SBUETBP&#x27;, &#x27;WSRRROM&#x27;,\n",
       "       &#x27;EGWONKF&#x27;, &#x27;XEUMIIT&#x27;, &#x27;JYNEQWD&#x27;, &#x27;XJUIXIR&#x27;, &#x27;WLULXFN&#x27;, &#x27;AQYGYOE&#x27;,\n",
       "       &#x27;YZRVJSE&#x27;, &#x27;EULURHL&#x27;, &#x27;WCZJBOX&#x27;, &#x27;PIACHYE&#x27;, &#x27;LCAOHWW&#x27;, &#x27;PATWSZC&#x27;,\n",
       "       &#x27;...\n",
       "       &#x27;AHVIXII&#x27;, &#x27;PSXOLCG&#x27;, &#x27;NPVZRXF&#x27;, &#x27;RGDZIYI&#x27;, &#x27;UWFUPRN&#x27;, &#x27;QGKAEUF&#x27;,\n",
       "       &#x27;GQHLWWM&#x27;, &#x27;SHBNDLU&#x27;, &#x27;IHCEXCN&#x27;, &#x27;YEZPLBM&#x27;],\n",
       "      dtype=&#x27;object&#x27;, length=741)),\n",
       "                                                 (&#x27;cat&#x27;,\n",
       "                                                  Pipeline(steps=[(&#x27;imputer&#x27;,\n",
       "                                                                   SimpleImputer(fill_value=&#x27;missing&#x27;,\n",
       "                                                                                 strategy=&#x27;constant&#x27;)),\n",
       "                                                                  (&#x27;onehot&#x27;,\n",
       "                                                                   OneHotEncoder(handle_unknown=&#x27;ignore&#x27;))]),\n",
       "                                                  Index([&#x27;TQSLCKT&#x27;, &#x27;CJICMVV&#x27;, &#x27;OYBONYX&#x27;, &#x27;TERIJOV&#x27;], dtype=&#x27;object&#x27;))])),\n",
       "                (&#x27;classifier&#x27;,\n",
       "                 RidgeClassifier(alpha=200, class_weight={0: 1, 1: 75}))])</pre><b>In a Jupyter environment, please rerun this cell to show the HTML representation or trust the notebook. <br />On GitHub, the HTML representation is unable to render, please try loading this page with nbviewer.org.</b></div><div class=\"sk-container\" hidden><div class=\"sk-item sk-dashed-wrapped\"><div class=\"sk-label-container\"><div class=\"sk-label sk-toggleable\"><input class=\"sk-toggleable__control sk-hidden--visually\" id=\"sk-estimator-id-62\" type=\"checkbox\" ><label for=\"sk-estimator-id-62\" class=\"sk-toggleable__label sk-toggleable__label-arrow\">Pipeline</label><div class=\"sk-toggleable__content\"><pre>Pipeline(steps=[(&#x27;preprocessor&#x27;,\n",
       "                 ColumnTransformer(transformers=[(&#x27;int&#x27;,\n",
       "                                                  Pipeline(steps=[(&#x27;imputer&#x27;,\n",
       "                                                                   SimpleImputer(strategy=&#x27;median&#x27;)),\n",
       "                                                                  (&#x27;scaler&#x27;,\n",
       "                                                                   StandardScaler())]),\n",
       "                                                  Index([&#x27;HKTLMYY&#x27;, &#x27;JEKQIKE&#x27;, &#x27;MUEKGHC&#x27;, &#x27;HVTWAZN&#x27;, &#x27;SBUETBP&#x27;, &#x27;WSRRROM&#x27;,\n",
       "       &#x27;EGWONKF&#x27;, &#x27;XEUMIIT&#x27;, &#x27;JYNEQWD&#x27;, &#x27;XJUIXIR&#x27;, &#x27;WLULXFN&#x27;, &#x27;AQYGYOE&#x27;,\n",
       "       &#x27;YZRVJSE&#x27;, &#x27;EULURHL&#x27;, &#x27;WCZJBOX&#x27;, &#x27;PIACHYE&#x27;, &#x27;LCAOHWW&#x27;, &#x27;PATWSZC&#x27;,\n",
       "       &#x27;...\n",
       "       &#x27;AHVIXII&#x27;, &#x27;PSXOLCG&#x27;, &#x27;NPVZRXF&#x27;, &#x27;RGDZIYI&#x27;, &#x27;UWFUPRN&#x27;, &#x27;QGKAEUF&#x27;,\n",
       "       &#x27;GQHLWWM&#x27;, &#x27;SHBNDLU&#x27;, &#x27;IHCEXCN&#x27;, &#x27;YEZPLBM&#x27;],\n",
       "      dtype=&#x27;object&#x27;, length=741)),\n",
       "                                                 (&#x27;cat&#x27;,\n",
       "                                                  Pipeline(steps=[(&#x27;imputer&#x27;,\n",
       "                                                                   SimpleImputer(fill_value=&#x27;missing&#x27;,\n",
       "                                                                                 strategy=&#x27;constant&#x27;)),\n",
       "                                                                  (&#x27;onehot&#x27;,\n",
       "                                                                   OneHotEncoder(handle_unknown=&#x27;ignore&#x27;))]),\n",
       "                                                  Index([&#x27;TQSLCKT&#x27;, &#x27;CJICMVV&#x27;, &#x27;OYBONYX&#x27;, &#x27;TERIJOV&#x27;], dtype=&#x27;object&#x27;))])),\n",
       "                (&#x27;classifier&#x27;,\n",
       "                 RidgeClassifier(alpha=200, class_weight={0: 1, 1: 75}))])</pre></div></div></div><div class=\"sk-serial\"><div class=\"sk-item sk-dashed-wrapped\"><div class=\"sk-label-container\"><div class=\"sk-label sk-toggleable\"><input class=\"sk-toggleable__control sk-hidden--visually\" id=\"sk-estimator-id-63\" type=\"checkbox\" ><label for=\"sk-estimator-id-63\" class=\"sk-toggleable__label sk-toggleable__label-arrow\">preprocessor: ColumnTransformer</label><div class=\"sk-toggleable__content\"><pre>ColumnTransformer(transformers=[(&#x27;int&#x27;,\n",
       "                                 Pipeline(steps=[(&#x27;imputer&#x27;,\n",
       "                                                  SimpleImputer(strategy=&#x27;median&#x27;)),\n",
       "                                                 (&#x27;scaler&#x27;, StandardScaler())]),\n",
       "                                 Index([&#x27;HKTLMYY&#x27;, &#x27;JEKQIKE&#x27;, &#x27;MUEKGHC&#x27;, &#x27;HVTWAZN&#x27;, &#x27;SBUETBP&#x27;, &#x27;WSRRROM&#x27;,\n",
       "       &#x27;EGWONKF&#x27;, &#x27;XEUMIIT&#x27;, &#x27;JYNEQWD&#x27;, &#x27;XJUIXIR&#x27;, &#x27;WLULXFN&#x27;, &#x27;AQYGYOE&#x27;,\n",
       "       &#x27;YZRVJSE&#x27;, &#x27;EULURHL&#x27;, &#x27;WCZJBOX&#x27;, &#x27;PIACHYE&#x27;, &#x27;LCAOHWW&#x27;, &#x27;PATWSZC&#x27;,\n",
       "       &#x27;FPBFOEB&#x27;, &#x27;XIRNYHK&#x27;, &#x27;HBQPQTD&#x27;],\n",
       "      dt...\n",
       "       &#x27;TDMCRGU&#x27;, &#x27;HNDGNRG&#x27;, &#x27;HFHITLP&#x27;, &#x27;MSVWNFK&#x27;,\n",
       "       ...\n",
       "       &#x27;AHVIXII&#x27;, &#x27;PSXOLCG&#x27;, &#x27;NPVZRXF&#x27;, &#x27;RGDZIYI&#x27;, &#x27;UWFUPRN&#x27;, &#x27;QGKAEUF&#x27;,\n",
       "       &#x27;GQHLWWM&#x27;, &#x27;SHBNDLU&#x27;, &#x27;IHCEXCN&#x27;, &#x27;YEZPLBM&#x27;],\n",
       "      dtype=&#x27;object&#x27;, length=741)),\n",
       "                                (&#x27;cat&#x27;,\n",
       "                                 Pipeline(steps=[(&#x27;imputer&#x27;,\n",
       "                                                  SimpleImputer(fill_value=&#x27;missing&#x27;,\n",
       "                                                                strategy=&#x27;constant&#x27;)),\n",
       "                                                 (&#x27;onehot&#x27;,\n",
       "                                                  OneHotEncoder(handle_unknown=&#x27;ignore&#x27;))]),\n",
       "                                 Index([&#x27;TQSLCKT&#x27;, &#x27;CJICMVV&#x27;, &#x27;OYBONYX&#x27;, &#x27;TERIJOV&#x27;], dtype=&#x27;object&#x27;))])</pre></div></div></div><div class=\"sk-parallel\"><div class=\"sk-parallel-item\"><div class=\"sk-item\"><div class=\"sk-label-container\"><div class=\"sk-label sk-toggleable\"><input class=\"sk-toggleable__control sk-hidden--visually\" id=\"sk-estimator-id-64\" type=\"checkbox\" ><label for=\"sk-estimator-id-64\" class=\"sk-toggleable__label sk-toggleable__label-arrow\">int</label><div class=\"sk-toggleable__content\"><pre>Index([&#x27;HKTLMYY&#x27;, &#x27;JEKQIKE&#x27;, &#x27;MUEKGHC&#x27;, &#x27;HVTWAZN&#x27;, &#x27;SBUETBP&#x27;, &#x27;WSRRROM&#x27;,\n",
       "       &#x27;EGWONKF&#x27;, &#x27;XEUMIIT&#x27;, &#x27;JYNEQWD&#x27;, &#x27;XJUIXIR&#x27;, &#x27;WLULXFN&#x27;, &#x27;AQYGYOE&#x27;,\n",
       "       &#x27;YZRVJSE&#x27;, &#x27;EULURHL&#x27;, &#x27;WCZJBOX&#x27;, &#x27;PIACHYE&#x27;, &#x27;LCAOHWW&#x27;, &#x27;PATWSZC&#x27;,\n",
       "       &#x27;FPBFOEB&#x27;, &#x27;XIRNYHK&#x27;, &#x27;HBQPQTD&#x27;],\n",
       "      dtype=&#x27;object&#x27;)</pre></div></div></div><div class=\"sk-serial\"><div class=\"sk-item\"><div class=\"sk-serial\"><div class=\"sk-item\"><div class=\"sk-estimator sk-toggleable\"><input class=\"sk-toggleable__control sk-hidden--visually\" id=\"sk-estimator-id-65\" type=\"checkbox\" ><label for=\"sk-estimator-id-65\" class=\"sk-toggleable__label sk-toggleable__label-arrow\">SimpleImputer</label><div class=\"sk-toggleable__content\"><pre>SimpleImputer(strategy=&#x27;median&#x27;)</pre></div></div></div><div class=\"sk-item\"><div class=\"sk-estimator sk-toggleable\"><input class=\"sk-toggleable__control sk-hidden--visually\" id=\"sk-estimator-id-66\" type=\"checkbox\" ><label for=\"sk-estimator-id-66\" class=\"sk-toggleable__label sk-toggleable__label-arrow\">StandardScaler</label><div class=\"sk-toggleable__content\"><pre>StandardScaler()</pre></div></div></div></div></div></div></div></div><div class=\"sk-parallel-item\"><div class=\"sk-item\"><div class=\"sk-label-container\"><div class=\"sk-label sk-toggleable\"><input class=\"sk-toggleable__control sk-hidden--visually\" id=\"sk-estimator-id-67\" type=\"checkbox\" ><label for=\"sk-estimator-id-67\" class=\"sk-toggleable__label sk-toggleable__label-arrow\">float</label><div class=\"sk-toggleable__content\"><pre>Index([&#x27;IJEXXXL&#x27;, &#x27;KVNLYTZ&#x27;, &#x27;ADOIOYN&#x27;, &#x27;GPCKISJ&#x27;, &#x27;BFYTKKS&#x27;, &#x27;HNJMSWN&#x27;,\n",
       "       &#x27;TDMCRGU&#x27;, &#x27;HNDGNRG&#x27;, &#x27;HFHITLP&#x27;, &#x27;MSVWNFK&#x27;,\n",
       "       ...\n",
       "       &#x27;AHVIXII&#x27;, &#x27;PSXOLCG&#x27;, &#x27;NPVZRXF&#x27;, &#x27;RGDZIYI&#x27;, &#x27;UWFUPRN&#x27;, &#x27;QGKAEUF&#x27;,\n",
       "       &#x27;GQHLWWM&#x27;, &#x27;SHBNDLU&#x27;, &#x27;IHCEXCN&#x27;, &#x27;YEZPLBM&#x27;],\n",
       "      dtype=&#x27;object&#x27;, length=741)</pre></div></div></div><div class=\"sk-serial\"><div class=\"sk-item\"><div class=\"sk-serial\"><div class=\"sk-item\"><div class=\"sk-estimator sk-toggleable\"><input class=\"sk-toggleable__control sk-hidden--visually\" id=\"sk-estimator-id-68\" type=\"checkbox\" ><label for=\"sk-estimator-id-68\" class=\"sk-toggleable__label sk-toggleable__label-arrow\">SimpleImputer</label><div class=\"sk-toggleable__content\"><pre>SimpleImputer(strategy=&#x27;median&#x27;)</pre></div></div></div><div class=\"sk-item\"><div class=\"sk-estimator sk-toggleable\"><input class=\"sk-toggleable__control sk-hidden--visually\" id=\"sk-estimator-id-69\" type=\"checkbox\" ><label for=\"sk-estimator-id-69\" class=\"sk-toggleable__label sk-toggleable__label-arrow\">StandardScaler</label><div class=\"sk-toggleable__content\"><pre>StandardScaler()</pre></div></div></div></div></div></div></div></div><div class=\"sk-parallel-item\"><div class=\"sk-item\"><div class=\"sk-label-container\"><div class=\"sk-label sk-toggleable\"><input class=\"sk-toggleable__control sk-hidden--visually\" id=\"sk-estimator-id-70\" type=\"checkbox\" ><label for=\"sk-estimator-id-70\" class=\"sk-toggleable__label sk-toggleable__label-arrow\">cat</label><div class=\"sk-toggleable__content\"><pre>Index([&#x27;TQSLCKT&#x27;, &#x27;CJICMVV&#x27;, &#x27;OYBONYX&#x27;, &#x27;TERIJOV&#x27;], dtype=&#x27;object&#x27;)</pre></div></div></div><div class=\"sk-serial\"><div class=\"sk-item\"><div class=\"sk-serial\"><div class=\"sk-item\"><div class=\"sk-estimator sk-toggleable\"><input class=\"sk-toggleable__control sk-hidden--visually\" id=\"sk-estimator-id-71\" type=\"checkbox\" ><label for=\"sk-estimator-id-71\" class=\"sk-toggleable__label sk-toggleable__label-arrow\">SimpleImputer</label><div class=\"sk-toggleable__content\"><pre>SimpleImputer(fill_value=&#x27;missing&#x27;, strategy=&#x27;constant&#x27;)</pre></div></div></div><div class=\"sk-item\"><div class=\"sk-estimator sk-toggleable\"><input class=\"sk-toggleable__control sk-hidden--visually\" id=\"sk-estimator-id-72\" type=\"checkbox\" ><label for=\"sk-estimator-id-72\" class=\"sk-toggleable__label sk-toggleable__label-arrow\">OneHotEncoder</label><div class=\"sk-toggleable__content\"><pre>OneHotEncoder(handle_unknown=&#x27;ignore&#x27;)</pre></div></div></div></div></div></div></div></div></div></div><div class=\"sk-item\"><div class=\"sk-estimator sk-toggleable\"><input class=\"sk-toggleable__control sk-hidden--visually\" id=\"sk-estimator-id-73\" type=\"checkbox\" ><label for=\"sk-estimator-id-73\" class=\"sk-toggleable__label sk-toggleable__label-arrow\">RidgeClassifier</label><div class=\"sk-toggleable__content\"><pre>RidgeClassifier(alpha=200, class_weight={0: 1, 1: 75})</pre></div></div></div></div></div></div></div>"
      ],
      "text/plain": [
       "Pipeline(steps=[('preprocessor',\n",
       "                 ColumnTransformer(transformers=[('int',\n",
       "                                                  Pipeline(steps=[('imputer',\n",
       "                                                                   SimpleImputer(strategy='median')),\n",
       "                                                                  ('scaler',\n",
       "                                                                   StandardScaler())]),\n",
       "                                                  Index(['HKTLMYY', 'JEKQIKE', 'MUEKGHC', 'HVTWAZN', 'SBUETBP', 'WSRRROM',\n",
       "       'EGWONKF', 'XEUMIIT', 'JYNEQWD', 'XJUIXIR', 'WLULXFN', 'AQYGYOE',\n",
       "       'YZRVJSE', 'EULURHL', 'WCZJBOX', 'PIACHYE', 'LCAOHWW', 'PATWSZC',\n",
       "       '...\n",
       "       'AHVIXII', 'PSXOLCG', 'NPVZRXF', 'RGDZIYI', 'UWFUPRN', 'QGKAEUF',\n",
       "       'GQHLWWM', 'SHBNDLU', 'IHCEXCN', 'YEZPLBM'],\n",
       "      dtype='object', length=741)),\n",
       "                                                 ('cat',\n",
       "                                                  Pipeline(steps=[('imputer',\n",
       "                                                                   SimpleImputer(fill_value='missing',\n",
       "                                                                                 strategy='constant')),\n",
       "                                                                  ('onehot',\n",
       "                                                                   OneHotEncoder(handle_unknown='ignore'))]),\n",
       "                                                  Index(['TQSLCKT', 'CJICMVV', 'OYBONYX', 'TERIJOV'], dtype='object'))])),\n",
       "                ('classifier',\n",
       "                 RidgeClassifier(alpha=200, class_weight={0: 1, 1: 75}))])"
      ]
     },
     "execution_count": 113,
     "metadata": {},
     "output_type": "execute_result"
    }
   ],
   "source": [
    "pipeline.fit(training_features, train_target)"
   ]
  },
  {
   "cell_type": "code",
   "execution_count": 114,
   "id": "30e2e6a0-0248-4cee-a37e-e0e86f1144a4",
   "metadata": {},
   "outputs": [
    {
     "name": "stdout",
     "output_type": "stream",
     "text": [
      "F1 Score on Training Set: 0.552\n",
      "Precision on Training Set: 0.381\n"
     ]
    }
   ],
   "source": [
    "y_pred_train = pipeline.predict(training_features)\n",
    "f1 = f1_score(train_target, y_pred_train)\n",
    "precision = precision_score(train_target, y_pred_train)\n",
    "print(f\"F1 Score on Training Set: {f1:.3f}\")\n",
    "print(f\"Precision on Training Set: {precision:.3f}\")"
   ]
  },
  {
   "cell_type": "code",
   "execution_count": 115,
   "id": "8e67e5a9-8e93-42b4-9c26-6e174d87f5c1",
   "metadata": {},
   "outputs": [
    {
     "name": "stdout",
     "output_type": "stream",
     "text": [
      "F1 Score on Test Set: 0.077\n",
      "Precision on Test Set: 0.056\n"
     ]
    }
   ],
   "source": [
    "test_predictions = pipeline.predict(test_features)\n",
    "f1 = f1_score(test_target, test_predictions)\n",
    "precision = precision_score(test_target, test_predictions)\n",
    "print(f\"F1 Score on Test Set: {f1:.3f}\")\n",
    "print(f\"Precision on Test Set: {precision:.3f}\")"
   ]
  },
  {
   "cell_type": "code",
   "execution_count": 117,
   "id": "0651b118-5ff8-4b5f-87d2-4537f5d296b8",
   "metadata": {
    "tags": []
   },
   "outputs": [],
   "source": [
    "feature_names = training_features.columns.tolist()\n",
    "coefficients = pipeline.named_steps['classifier'].coef_[0]\n",
    "feature_importance = dict(zip(feature_names, coefficients))\n",
    "sorted_lr_features = sorted(feature_importance.items(), key=lambda x: abs(x[1]), reverse=True)"
   ]
  },
  {
   "cell_type": "code",
   "execution_count": 125,
   "id": "3cf9f9f7-d8a0-4360-b52b-31d347d9d0d2",
   "metadata": {},
   "outputs": [
    {
     "data": {
      "text/html": [
       "<div>\n",
       "<style scoped>\n",
       "    .dataframe tbody tr th:only-of-type {\n",
       "        vertical-align: middle;\n",
       "    }\n",
       "\n",
       "    .dataframe tbody tr th {\n",
       "        vertical-align: top;\n",
       "    }\n",
       "\n",
       "    .dataframe thead th {\n",
       "        text-align: right;\n",
       "    }\n",
       "</style>\n",
       "<table border=\"1\" class=\"dataframe\">\n",
       "  <thead>\n",
       "    <tr style=\"text-align: right;\">\n",
       "      <th></th>\n",
       "      <th>feature</th>\n",
       "      <th>lr_importance</th>\n",
       "      <th>lr_relative_importance</th>\n",
       "    </tr>\n",
       "  </thead>\n",
       "  <tbody>\n",
       "    <tr>\n",
       "      <th>0</th>\n",
       "      <td>YEZPLBM</td>\n",
       "      <td>-0.223787</td>\n",
       "      <td>1.000000</td>\n",
       "    </tr>\n",
       "    <tr>\n",
       "      <th>1</th>\n",
       "      <td>GYXMTQR</td>\n",
       "      <td>-0.172428</td>\n",
       "      <td>0.770499</td>\n",
       "    </tr>\n",
       "    <tr>\n",
       "      <th>2</th>\n",
       "      <td>RRMMRAJ</td>\n",
       "      <td>0.127460</td>\n",
       "      <td>0.569559</td>\n",
       "    </tr>\n",
       "    <tr>\n",
       "      <th>3</th>\n",
       "      <td>OMIIMXP</td>\n",
       "      <td>0.116486</td>\n",
       "      <td>0.520523</td>\n",
       "    </tr>\n",
       "    <tr>\n",
       "      <th>4</th>\n",
       "      <td>AEXRRBM</td>\n",
       "      <td>0.113696</td>\n",
       "      <td>0.508055</td>\n",
       "    </tr>\n",
       "  </tbody>\n",
       "</table>\n",
       "</div>"
      ],
      "text/plain": [
       "   feature  lr_importance  lr_relative_importance\n",
       "0  YEZPLBM      -0.223787                1.000000\n",
       "1  GYXMTQR      -0.172428                0.770499\n",
       "2  RRMMRAJ       0.127460                0.569559\n",
       "3  OMIIMXP       0.116486                0.520523\n",
       "4  AEXRRBM       0.113696                0.508055"
      ]
     },
     "execution_count": 125,
     "metadata": {},
     "output_type": "execute_result"
    }
   ],
   "source": [
    "lr_fi = pd.DataFrame(sorted_lr_features, columns=['feature','lr_importance'])\n",
    "lr_fi['lr_relative_importance'] = abs(lr_fi.lr_importance) / abs(lr_fi.lr_importance).max()\n",
    "lr_fi.head()"
   ]
  },
  {
   "cell_type": "code",
   "execution_count": 126,
   "id": "28e52074-ffb1-48e2-83c2-d1f8e2915720",
   "metadata": {},
   "outputs": [
    {
     "data": {
      "text/html": [
       "<div>\n",
       "<style scoped>\n",
       "    .dataframe tbody tr th:only-of-type {\n",
       "        vertical-align: middle;\n",
       "    }\n",
       "\n",
       "    .dataframe tbody tr th {\n",
       "        vertical-align: top;\n",
       "    }\n",
       "\n",
       "    .dataframe thead th {\n",
       "        text-align: right;\n",
       "    }\n",
       "</style>\n",
       "<table border=\"1\" class=\"dataframe\">\n",
       "  <thead>\n",
       "    <tr style=\"text-align: right;\">\n",
       "      <th></th>\n",
       "      <th>feature</th>\n",
       "      <th>rf_importance</th>\n",
       "      <th>rf_relative_importance</th>\n",
       "      <th>lr_importance</th>\n",
       "      <th>lr_relative_importance</th>\n",
       "    </tr>\n",
       "  </thead>\n",
       "  <tbody>\n",
       "    <tr>\n",
       "      <th>0</th>\n",
       "      <td>KGJACPV</td>\n",
       "      <td>0.045163</td>\n",
       "      <td>1.000000</td>\n",
       "      <td>0.095134</td>\n",
       "      <td>0.425108</td>\n",
       "    </tr>\n",
       "    <tr>\n",
       "      <th>1</th>\n",
       "      <td>GUEUYTS</td>\n",
       "      <td>0.043535</td>\n",
       "      <td>0.963963</td>\n",
       "      <td>0.005939</td>\n",
       "      <td>0.026538</td>\n",
       "    </tr>\n",
       "    <tr>\n",
       "      <th>2</th>\n",
       "      <td>ZAIRSDG</td>\n",
       "      <td>0.026666</td>\n",
       "      <td>0.590436</td>\n",
       "      <td>0.007464</td>\n",
       "      <td>0.033354</td>\n",
       "    </tr>\n",
       "    <tr>\n",
       "      <th>3</th>\n",
       "      <td>USAETVU</td>\n",
       "      <td>0.023823</td>\n",
       "      <td>0.527492</td>\n",
       "      <td>0.011544</td>\n",
       "      <td>0.051586</td>\n",
       "    </tr>\n",
       "    <tr>\n",
       "      <th>4</th>\n",
       "      <td>OJSWUAF</td>\n",
       "      <td>0.022448</td>\n",
       "      <td>0.497050</td>\n",
       "      <td>-0.011266</td>\n",
       "      <td>0.050340</td>\n",
       "    </tr>\n",
       "    <tr>\n",
       "      <th>5</th>\n",
       "      <td>GYXMTQR</td>\n",
       "      <td>0.013477</td>\n",
       "      <td>0.298413</td>\n",
       "      <td>-0.172428</td>\n",
       "      <td>0.770499</td>\n",
       "    </tr>\n",
       "    <tr>\n",
       "      <th>6</th>\n",
       "      <td>NYWUAUO</td>\n",
       "      <td>0.011368</td>\n",
       "      <td>0.251719</td>\n",
       "      <td>-0.018634</td>\n",
       "      <td>0.083266</td>\n",
       "    </tr>\n",
       "    <tr>\n",
       "      <th>7</th>\n",
       "      <td>RZPQSGM</td>\n",
       "      <td>0.010406</td>\n",
       "      <td>0.230416</td>\n",
       "      <td>-0.024375</td>\n",
       "      <td>0.108922</td>\n",
       "    </tr>\n",
       "    <tr>\n",
       "      <th>8</th>\n",
       "      <td>BGDAMPC</td>\n",
       "      <td>0.010342</td>\n",
       "      <td>0.228992</td>\n",
       "      <td>-0.019030</td>\n",
       "      <td>0.085037</td>\n",
       "    </tr>\n",
       "    <tr>\n",
       "      <th>9</th>\n",
       "      <td>AKUNFFN</td>\n",
       "      <td>0.009881</td>\n",
       "      <td>0.218780</td>\n",
       "      <td>-0.055187</td>\n",
       "      <td>0.246603</td>\n",
       "    </tr>\n",
       "    <tr>\n",
       "      <th>10</th>\n",
       "      <td>KPQSPBC</td>\n",
       "      <td>0.009670</td>\n",
       "      <td>0.214122</td>\n",
       "      <td>-0.013807</td>\n",
       "      <td>0.061697</td>\n",
       "    </tr>\n",
       "    <tr>\n",
       "      <th>11</th>\n",
       "      <td>AUSDIEL</td>\n",
       "      <td>0.009208</td>\n",
       "      <td>0.203894</td>\n",
       "      <td>0.043536</td>\n",
       "      <td>0.194540</td>\n",
       "    </tr>\n",
       "    <tr>\n",
       "      <th>12</th>\n",
       "      <td>AIKOJYC</td>\n",
       "      <td>0.008800</td>\n",
       "      <td>0.194844</td>\n",
       "      <td>-0.011572</td>\n",
       "      <td>0.051709</td>\n",
       "    </tr>\n",
       "    <tr>\n",
       "      <th>13</th>\n",
       "      <td>ULCBNOU</td>\n",
       "      <td>0.008232</td>\n",
       "      <td>0.182270</td>\n",
       "      <td>0.009279</td>\n",
       "      <td>0.041465</td>\n",
       "    </tr>\n",
       "    <tr>\n",
       "      <th>14</th>\n",
       "      <td>RCVCFXR</td>\n",
       "      <td>0.007484</td>\n",
       "      <td>0.165704</td>\n",
       "      <td>0.010180</td>\n",
       "      <td>0.045488</td>\n",
       "    </tr>\n",
       "    <tr>\n",
       "      <th>15</th>\n",
       "      <td>DKOVDCG</td>\n",
       "      <td>0.006458</td>\n",
       "      <td>0.142986</td>\n",
       "      <td>0.006746</td>\n",
       "      <td>0.030146</td>\n",
       "    </tr>\n",
       "    <tr>\n",
       "      <th>16</th>\n",
       "      <td>LPKKAWN</td>\n",
       "      <td>0.005872</td>\n",
       "      <td>0.130014</td>\n",
       "      <td>-0.002955</td>\n",
       "      <td>0.013203</td>\n",
       "    </tr>\n",
       "    <tr>\n",
       "      <th>17</th>\n",
       "      <td>LGXZTHS</td>\n",
       "      <td>0.005519</td>\n",
       "      <td>0.122206</td>\n",
       "      <td>-0.032745</td>\n",
       "      <td>0.146323</td>\n",
       "    </tr>\n",
       "    <tr>\n",
       "      <th>18</th>\n",
       "      <td>DVSZBLN</td>\n",
       "      <td>0.005477</td>\n",
       "      <td>0.121275</td>\n",
       "      <td>0.093035</td>\n",
       "      <td>0.415732</td>\n",
       "    </tr>\n",
       "    <tr>\n",
       "      <th>19</th>\n",
       "      <td>OKIKPOJ</td>\n",
       "      <td>0.005469</td>\n",
       "      <td>0.121085</td>\n",
       "      <td>-0.094523</td>\n",
       "      <td>0.422380</td>\n",
       "    </tr>\n",
       "  </tbody>\n",
       "</table>\n",
       "</div>"
      ],
      "text/plain": [
       "    feature  rf_importance  rf_relative_importance  lr_importance  \\\n",
       "0   KGJACPV       0.045163                1.000000       0.095134   \n",
       "1   GUEUYTS       0.043535                0.963963       0.005939   \n",
       "2   ZAIRSDG       0.026666                0.590436       0.007464   \n",
       "3   USAETVU       0.023823                0.527492       0.011544   \n",
       "4   OJSWUAF       0.022448                0.497050      -0.011266   \n",
       "5   GYXMTQR       0.013477                0.298413      -0.172428   \n",
       "6   NYWUAUO       0.011368                0.251719      -0.018634   \n",
       "7   RZPQSGM       0.010406                0.230416      -0.024375   \n",
       "8   BGDAMPC       0.010342                0.228992      -0.019030   \n",
       "9   AKUNFFN       0.009881                0.218780      -0.055187   \n",
       "10  KPQSPBC       0.009670                0.214122      -0.013807   \n",
       "11  AUSDIEL       0.009208                0.203894       0.043536   \n",
       "12  AIKOJYC       0.008800                0.194844      -0.011572   \n",
       "13  ULCBNOU       0.008232                0.182270       0.009279   \n",
       "14  RCVCFXR       0.007484                0.165704       0.010180   \n",
       "15  DKOVDCG       0.006458                0.142986       0.006746   \n",
       "16  LPKKAWN       0.005872                0.130014      -0.002955   \n",
       "17  LGXZTHS       0.005519                0.122206      -0.032745   \n",
       "18  DVSZBLN       0.005477                0.121275       0.093035   \n",
       "19  OKIKPOJ       0.005469                0.121085      -0.094523   \n",
       "\n",
       "    lr_relative_importance  \n",
       "0                 0.425108  \n",
       "1                 0.026538  \n",
       "2                 0.033354  \n",
       "3                 0.051586  \n",
       "4                 0.050340  \n",
       "5                 0.770499  \n",
       "6                 0.083266  \n",
       "7                 0.108922  \n",
       "8                 0.085037  \n",
       "9                 0.246603  \n",
       "10                0.061697  \n",
       "11                0.194540  \n",
       "12                0.051709  \n",
       "13                0.041465  \n",
       "14                0.045488  \n",
       "15                0.030146  \n",
       "16                0.013203  \n",
       "17                0.146323  \n",
       "18                0.415732  \n",
       "19                0.422380  "
      ]
     },
     "execution_count": 126,
     "metadata": {},
     "output_type": "execute_result"
    }
   ],
   "source": [
    "fi_df = rf_fi.merge(lr_fi, on='feature')\n",
    "fi_df.head(20)"
   ]
  },
  {
   "cell_type": "code",
   "execution_count": 127,
   "id": "ade65fcb-a88d-4035-b74c-17d12a6f67bc",
   "metadata": {},
   "outputs": [],
   "source": [
    "fi_df.to_csv('feature_importance_1_to_1000_downsample_using_lr_and_rf.csv', index=False)"
   ]
  },
  {
   "cell_type": "code",
   "execution_count": null,
   "id": "5ab7610e-2c0e-48c0-a6b9-bd51aac727dc",
   "metadata": {},
   "outputs": [],
   "source": []
  }
 ],
 "metadata": {
  "kernelspec": {
   "display_name": "Python 3",
   "language": "python",
   "name": "python3"
  },
  "language_info": {
   "codemirror_mode": {
    "name": "ipython",
    "version": 3
   },
   "file_extension": ".py",
   "mimetype": "text/x-python",
   "name": "python",
   "nbconvert_exporter": "python",
   "pygments_lexer": "ipython3",
   "version": "3.8.8"
  }
 },
 "nbformat": 4,
 "nbformat_minor": 5
}
