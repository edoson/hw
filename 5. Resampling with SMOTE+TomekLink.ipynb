{
 "cells": [
  {
   "cell_type": "markdown",
   "id": "27e6b18d-19ba-4fce-b790-ca6800442ede",
   "metadata": {},
   "source": [
    "# Up & Downsampling"
   ]
  },
  {
   "cell_type": "code",
   "execution_count": 36,
   "id": "9e47cb1d-43d4-4191-9745-29d82e30c563",
   "metadata": {
    "tags": []
   },
   "outputs": [],
   "source": [
    "import pandas as pd\n",
    "import numpy as np"
   ]
  },
  {
   "cell_type": "markdown",
   "id": "e2018636-7e70-4b7e-ba13-e830ae4c9d48",
   "metadata": {},
   "source": [
    "## Dataset"
   ]
  },
  {
   "cell_type": "code",
   "execution_count": 37,
   "id": "42fc10b6-71f5-42af-8238-098d8bfcf926",
   "metadata": {
    "tags": []
   },
   "outputs": [],
   "source": [
    "from sklearn.model_selection import train_test_split"
   ]
  },
  {
   "cell_type": "code",
   "execution_count": 38,
   "id": "0aa0197e-313c-4168-892e-09d870b60160",
   "metadata": {
    "tags": []
   },
   "outputs": [
    {
     "name": "stdout",
     "output_type": "stream",
     "text": [
      "<class 'pandas.core.frame.DataFrame'>\n",
      "RangeIndex: 709518 entries, 0 to 709517\n",
      "Columns: 368 entries, HKTLMYY to TLJYWBE\n",
      "dtypes: float64(347), int64(21)\n",
      "memory usage: 1.9 GB\n"
     ]
    }
   ],
   "source": [
    "df = pd.read_feather('dataset_no_duplicates_no_univalue_no_correlated_columns.feather')\n",
    "df.info()"
   ]
  },
  {
   "cell_type": "code",
   "execution_count": 39,
   "id": "da9af2aa-0d26-435e-8a61-6e7788933f46",
   "metadata": {
    "tags": []
   },
   "outputs": [
    {
     "data": {
      "text/plain": [
       "TLJYWBE\n",
       "False    709454\n",
       "True         64\n",
       "Name: count, dtype: int64"
      ]
     },
     "execution_count": 39,
     "metadata": {},
     "output_type": "execute_result"
    }
   ],
   "source": [
    "target = 'TLJYWBE'\n",
    "df[target] = df[target].apply(lambda v: v >= 1e-5)\n",
    "df[target].value_counts()"
   ]
  },
  {
   "cell_type": "code",
   "execution_count": 40,
   "id": "22dadbad-16b2-416e-83d5-700a31682050",
   "metadata": {
    "tags": []
   },
   "outputs": [],
   "source": [
    "features = [c for c in df.columns if c != target]\n",
    "training_features, test_features, train_target, test_target = train_test_split(df[features], df[target], test_size=0.3, stratify=df[target])"
   ]
  },
  {
   "cell_type": "code",
   "execution_count": 41,
   "id": "19ce01b6-ee3d-4bb9-af6c-5b597430d719",
   "metadata": {
    "tags": []
   },
   "outputs": [
    {
     "name": "stdout",
     "output_type": "stream",
     "text": [
      "Training set shape: (496662, 367)\n",
      "Training set target shape: (496662,)\n",
      "Test set shape: (212856, 367)\n",
      "Training set target shape: (212856,)\n"
     ]
    }
   ],
   "source": [
    "print(f'Training set shape: {training_features.shape}')\n",
    "print(f'Training set target shape: {train_target.shape}')\n",
    "print(f'Test set shape: {test_features.shape}')\n",
    "print(f'Training set target shape: {test_target.shape}')"
   ]
  },
  {
   "cell_type": "code",
   "execution_count": 42,
   "id": "2d583ee4-aaaf-48fc-8639-36258972d015",
   "metadata": {
    "tags": []
   },
   "outputs": [
    {
     "data": {
      "text/plain": [
       "TLJYWBE\n",
       "False    212837\n",
       "True         19\n",
       "Name: count, dtype: int64"
      ]
     },
     "execution_count": 42,
     "metadata": {},
     "output_type": "execute_result"
    }
   ],
   "source": [
    "test_target.value_counts()"
   ]
  },
  {
   "cell_type": "markdown",
   "id": "e3d368fe-370d-4e90-ae8a-9101f799e98f",
   "metadata": {},
   "source": [
    "## SMOTE + TomekLink"
   ]
  },
  {
   "cell_type": "code",
   "execution_count": 43,
   "id": "e809191f-f109-4010-ad73-cd492a0685c6",
   "metadata": {
    "tags": []
   },
   "outputs": [],
   "source": [
    "from imblearn.pipeline import Pipeline\n",
    "from sklearn.model_selection import cross_validate\n",
    "from sklearn.model_selection import RepeatedStratifiedKFold\n",
    "from sklearn.ensemble import RandomForestClassifier\n",
    "from imblearn.combine import SMOTETomek\n",
    "from imblearn.over_sampling import SMOTE\n",
    "from imblearn.under_sampling import TomekLinks"
   ]
  },
  {
   "cell_type": "code",
   "execution_count": 44,
   "id": "577c1ed0-3415-4533-b5f7-498e2b8fc647",
   "metadata": {
    "tags": []
   },
   "outputs": [],
   "source": [
    "from sklearn.compose import ColumnTransformer\n",
    "from imblearn.pipeline import Pipeline as ImbPipeline\n",
    "from sklearn.impute import SimpleImputer\n",
    "from sklearn.preprocessing import StandardScaler, OneHotEncoder\n",
    "from sklearn.ensemble import RandomForestClassifier\n",
    "from imblearn.under_sampling import RandomUnderSampler"
   ]
  },
  {
   "cell_type": "markdown",
   "id": "6fc5febc-d193-471c-800f-68dbf35bcf72",
   "metadata": {},
   "source": [
    "### Pipeline"
   ]
  },
  {
   "cell_type": "code",
   "execution_count": 45,
   "id": "79b8ef22-6bc9-442f-a352-22400d02c3ff",
   "metadata": {
    "tags": []
   },
   "outputs": [
    {
     "data": {
      "text/plain": [
       "float64    346\n",
       "int64       21\n",
       "Name: count, dtype: int64"
      ]
     },
     "execution_count": 45,
     "metadata": {},
     "output_type": "execute_result"
    }
   ],
   "source": [
    "dtypes = training_features.dtypes\n",
    "dtypes.value_counts()"
   ]
  },
  {
   "cell_type": "code",
   "execution_count": 46,
   "id": "26ee21aa-7f21-4546-a416-aa8f846d49a4",
   "metadata": {
    "tags": []
   },
   "outputs": [
    {
     "data": {
      "text/plain": [
       "(21, 346, 0)"
      ]
     },
     "execution_count": 46,
     "metadata": {},
     "output_type": "execute_result"
    }
   ],
   "source": [
    "int_features = dtypes[dtypes == 'int64'].index\n",
    "float_features = dtypes[dtypes == 'float64'].index\n",
    "cat_features = dtypes[dtypes == 'object'].index\n",
    "len(int_features), len(float_features), len(cat_features)"
   ]
  },
  {
   "cell_type": "code",
   "execution_count": 47,
   "id": "7c7ebae9-6e1f-42bd-a87c-18273c08f805",
   "metadata": {
    "tags": []
   },
   "outputs": [],
   "source": [
    "numeric_transformer = Pipeline(steps=[\n",
    "    ('imputer', SimpleImputer(strategy='median')),\n",
    "    ('scaler', StandardScaler())\n",
    "])\n",
    "\n",
    "categorical_transformer = Pipeline(steps=[\n",
    "    ('imputer', SimpleImputer(strategy='constant', fill_value='missing')),\n",
    "    ('onehot', OneHotEncoder(handle_unknown='ignore'))\n",
    "])\n",
    "\n",
    "preprocessor = ColumnTransformer(\n",
    "    transformers=[\n",
    "        ('int', numeric_transformer, int_features),\n",
    "        ('float', numeric_transformer, float_features),\n",
    "        ('cat', categorical_transformer, cat_features)\n",
    "    ])\n",
    "\n",
    "smote = SMOTE(sampling_strategy=0.2, k_neighbors=5)\n",
    "tomek = TomekLinks(sampling_strategy='majority')\n",
    "downsampler = RandomUnderSampler(sampling_strategy=0.5)\n",
    "\n",
    "\n",
    "# Create and evaluate the pipeline\n",
    "resampling_pipeline = ImbPipeline(steps=[('preprocessor', preprocessor),\n",
    "                              ('smote', smote),\n",
    "                              ('tomek', tomek)])"
   ]
  },
  {
   "cell_type": "markdown",
   "id": "698178d5-66ff-4fdf-ac11-e6cc1d38c831",
   "metadata": {},
   "source": [
    "## Transforming and resampling the training set"
   ]
  },
  {
   "cell_type": "code",
   "execution_count": 48,
   "id": "583674ae-3ee7-41a4-9d43-bdd91248cecb",
   "metadata": {
    "tags": []
   },
   "outputs": [
    {
     "name": "stdout",
     "output_type": "stream",
     "text": [
      "CPU times: user 1h 41min 42s, sys: 4.42 s, total: 1h 41min 46s\n",
      "Wall time: 13min 21s\n"
     ]
    }
   ],
   "source": [
    "%%time\n",
    "X_resampled, y_resampled = resampling_pipeline.fit_resample(training_features, train_target)"
   ]
  },
  {
   "cell_type": "code",
   "execution_count": 49,
   "id": "dd1e915f-8aed-4f94-830f-cda3464bdfbe",
   "metadata": {
    "tags": []
   },
   "outputs": [
    {
     "name": "stdout",
     "output_type": "stream",
     "text": [
      "Resampled training set shape: (595940, 367)\n",
      "Resampled target shape: (595940,)\n"
     ]
    }
   ],
   "source": [
    "print(f\"Resampled training set shape: {X_resampled.shape}\")\n",
    "print(f\"Resampled target shape: {y_resampled.shape}\")"
   ]
  },
  {
   "cell_type": "code",
   "execution_count": 50,
   "id": "2f577647-0af1-4321-813f-a0a501c5897f",
   "metadata": {
    "tags": []
   },
   "outputs": [],
   "source": [
    "# Save the resampled data\n",
    "np.save('X_resampled.npy', X_resampled)\n",
    "np.save('y_resampled.npy', y_resampled)"
   ]
  },
  {
   "cell_type": "markdown",
   "id": "3edfa531-df62-4551-9974-47d1ace540af",
   "metadata": {},
   "source": [
    "## Transforming the test set"
   ]
  },
  {
   "cell_type": "code",
   "execution_count": 51,
   "id": "94f70682-eea6-4f62-8e0b-28c5c28da132",
   "metadata": {
    "tags": []
   },
   "outputs": [],
   "source": [
    "X_test_transformed = resampling_pipeline.named_steps['preprocessor'].transform(test_features)"
   ]
  },
  {
   "cell_type": "code",
   "execution_count": 52,
   "id": "6f7aa13f-7df9-4259-9c25-7c397c02ac1e",
   "metadata": {
    "tags": []
   },
   "outputs": [
    {
     "name": "stdout",
     "output_type": "stream",
     "text": [
      "Transformed test set shape: (212856, 367)\n",
      "Test target shape: (212856,)\n"
     ]
    }
   ],
   "source": [
    "print(f\"Transformed test set shape: {X_test_transformed.shape}\")\n",
    "print(f\"Test target shape: {test_target.shape}\")"
   ]
  },
  {
   "cell_type": "code",
   "execution_count": 53,
   "id": "9371df17-982b-49ee-857f-867810233a9b",
   "metadata": {
    "tags": []
   },
   "outputs": [],
   "source": [
    "# Save the transformed test data\n",
    "np.save('X_test_transformed.npy', X_test_transformed)\n",
    "np.save('test_target.npy', test_target)"
   ]
  }
 ],
 "metadata": {
  "kernelspec": {
   "display_name": "conda_python3",
   "language": "python",
   "name": "conda_python3"
  },
  "language_info": {
   "codemirror_mode": {
    "name": "ipython",
    "version": 3
   },
   "file_extension": ".py",
   "mimetype": "text/x-python",
   "name": "python",
   "nbconvert_exporter": "python",
   "pygments_lexer": "ipython3",
   "version": "3.10.12"
  }
 },
 "nbformat": 4,
 "nbformat_minor": 5
}
