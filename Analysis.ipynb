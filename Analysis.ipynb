{
 "cells": [
  {
   "cell_type": "markdown",
   "id": "927a6e6c-2bab-43ca-91d8-d1a5355299b6",
   "metadata": {},
   "source": [
    "# Analysis"
   ]
  },
  {
   "cell_type": "code",
   "execution_count": 1,
   "id": "c60b0750-057d-4a5f-8ba8-4f0201ddadbe",
   "metadata": {},
   "outputs": [],
   "source": [
    "import pandas as pd\n",
    "import numpy as np"
   ]
  },
  {
   "cell_type": "code",
   "execution_count": 2,
   "id": "f962ebef-15d0-48bb-a510-ea9093dbcf04",
   "metadata": {},
   "outputs": [
    {
     "data": {
      "text/html": [
       "        <script type=\"text/javascript\">\n",
       "        window.PlotlyConfig = {MathJaxConfig: 'local'};\n",
       "        if (window.MathJax) {MathJax.Hub.Config({SVG: {font: \"STIX-Web\"}});}\n",
       "        if (typeof require !== 'undefined') {\n",
       "        require.undef(\"plotly\");\n",
       "        requirejs.config({\n",
       "            paths: {\n",
       "                'plotly': ['https://cdn.plot.ly/plotly-2.2.0.min']\n",
       "            }\n",
       "        });\n",
       "        require(['plotly'], function(Plotly) {\n",
       "            window._Plotly = Plotly;\n",
       "        });\n",
       "        }\n",
       "        </script>\n",
       "        "
      ]
     },
     "metadata": {},
     "output_type": "display_data"
    }
   ],
   "source": [
    "import cufflinks as cf; cf.go_offline()"
   ]
  },
  {
   "cell_type": "markdown",
   "id": "bf9288a6-7466-42de-a59d-05f73a843072",
   "metadata": {},
   "source": [
    "### Missing values"
   ]
  },
  {
   "cell_type": "code",
   "execution_count": 11,
   "id": "003a7798-d064-4487-80bf-22c865b9ac18",
   "metadata": {},
   "outputs": [],
   "source": [
    "df = pd.read_feather('removed_duplicated_columns.feather')"
   ]
  },
  {
   "cell_type": "code",
   "execution_count": 12,
   "id": "44869585-a175-47bf-9605-ecdc53032fd3",
   "metadata": {},
   "outputs": [],
   "source": [
    "missing_values = df.isnull().sum()\n",
    "missing_percentage = (missing_values / len(df)) * 100"
   ]
  },
  {
   "cell_type": "code",
   "execution_count": 13,
   "id": "86e48178-88e9-4076-9eee-9c344c94cc1a",
   "metadata": {},
   "outputs": [
    {
     "data": {
      "text/plain": [
       "count    767.000000\n",
       "mean       9.748248\n",
       "std       27.342557\n",
       "min        0.000000\n",
       "25%        0.002203\n",
       "50%        0.005507\n",
       "75%        0.011015\n",
       "max       99.998899\n",
       "dtype: float64"
      ]
     },
     "execution_count": 13,
     "metadata": {},
     "output_type": "execute_result"
    }
   ],
   "source": [
    "missing_percentage.describe()"
   ]
  },
  {
   "cell_type": "code",
   "execution_count": 14,
   "id": "de6fb96a-601b-4587-8dc5-5ba837d27be4",
   "metadata": {},
   "outputs": [
    {
     "data": {
      "application/vnd.plotly.v1+json": {
       "config": {
        "linkText": "Export to plot.ly",
        "plotlyServerURL": "https://plot.ly",
        "showLink": true
       },
       "data": [
        {
         "marker": {
          "color": "rgba(255, 153, 51, 0.6)",
          "line": {
           "color": "rgba(255, 153, 51, 1.0)",
           "width": 1
          }
         },
         "name": "None",
         "orientation": "v",
         "text": "",
         "type": "bar",
         "x": [
          "YEZPLBM",
          "VUBFVUN",
          "VHLPUWU",
          "YTYOTNN",
          "MSJJKBM",
          "MPRIFAX",
          "MSVWNFK",
          "UIDFQDA",
          "XKLWARB",
          "OELFGBD",
          "NMCAKWK",
          "DLWYUSK",
          "VUTOMKG",
          "CUULBWE",
          "RHCAZIU",
          "KKKSVYN",
          "XUCVAEV",
          "CHBMNEK",
          "GTKQUGU",
          "KCVNCWE",
          "BTDJSVV",
          "RGDZIYI",
          "UWFUPRN",
          "QGKAEUF",
          "WYYWAWQ",
          "ZQMONHC",
          "TKXCHYD",
          "KAHHGFH",
          "VLOHNYE",
          "FBDGIUT",
          "HTTHEYH",
          "VXQLENI",
          "WPJXHBR",
          "OYBONYX",
          "PCIXTYP",
          "FZHCPXN",
          "ABKUZXQ",
          "TNLTITB",
          "WHWNSMK",
          "OELGKKQ",
          "AJOFIZJ",
          "XQJKMDS",
          "VRXSNDL",
          "VFXXPOM",
          "LYCIQTI",
          "FIGZKCY",
          "OJSWUAF",
          "TWXNMUD",
          "AUNDDNZ",
          "GJFZDWF",
          "SRDJVGB",
          "FJCYMJD",
          "OAEOBHM",
          "JRVGHMH",
          "BDABVCY",
          "CDSPXSX",
          "PTGZANY",
          "UBMPCGB",
          "HFHITLP",
          "HNDGNRG",
          "KVNLYTZ",
          "ZAIRSDG",
          "USAETVU",
          "WTVBKCK",
          "XZJYNXP",
          "IJEXXXL",
          "TDMCRGU",
          "HNJMSWN",
          "BFYTKKS",
          "GPCKISJ",
          "ADOIOYN",
          "KGPPPLD",
          "YBBDEJH",
          "LCXZSFV",
          "REQAQFJ",
          "EBCCQTL",
          "ADXRLFT",
          "GGTSHYD",
          "LCJYFNQ",
          "POPBDDN",
          "FUKRRDS",
          "GMJTNTH",
          "UZQXSAH",
          "RMSJZUV",
          "ZYOBVQN",
          "JMFGDPB",
          "SETVSTN",
          "DUOKWOI",
          "SJZKEVZ",
          "RXLZZHO",
          "AWMGPPL",
          "JZVNCXT",
          "TLJYWBE",
          "DVSZBLN",
          "OKIKPOJ",
          "EEIRTMR",
          "SFGWGSJ",
          "APJFLOK",
          "WIWNVTH",
          "EDASGHM",
          "EJMEHVK",
          "SKKXRWR",
          "SFTKCKG",
          "ALDDXXN",
          "RNKJCEN",
          "UTGKBXG",
          "LBMUJNZ",
          "DDGIRQA",
          "YAXADEO",
          "JNYELDJ",
          "YYKATJF",
          "NSERJIK",
          "TTQVFLL",
          "FFJOGRA",
          "KDQUJOB",
          "MSAHYEA",
          "KPQSPBC",
          "KVOYKGE",
          "AIKOJYC",
          "NYWUAUO",
          "TERIJOV",
          "AKUNFFN",
          "DJANPLY",
          "XRUUCHW",
          "KNFIDTO",
          "VZOZKWX",
          "IKMWIOV",
          "AVSMOFQ",
          "UNFEABR",
          "LNWVWPK",
          "DMTXDGF",
          "CMSGVTL",
          "LJWUXOV",
          "PFFFNMW",
          "FXACWUA",
          "MRUWBZT",
          "YLHQTEA",
          "VEOALEL",
          "AOWLZQX",
          "KCFQOSD",
          "DMAJOKS",
          "IQOCYUU",
          "VMWDQGF",
          "JNEVNAR",
          "UPSDFCS",
          "YCYSGLG",
          "OYSQKAH",
          "VRNGUZU",
          "RZPQSGM",
          "XKEMMHR",
          "AUESMVQ",
          "EAZAMWH",
          "SHEGNUT",
          "LTZYUVU",
          "WVRSHBW",
          "IUCJIOI",
          "UAEETIT",
          "YCWMHMB",
          "YVZKQBW",
          "OISOEYC",
          "GPDXQZO",
          "UJTXHTS",
          "NLPSQAO",
          "XIITBEU",
          "PIJMPQK",
          "UDQKCAP",
          "ELDKYEY",
          "LOGULZS",
          "GYFZSXY",
          "DXWRFDA",
          "VTLKBMI",
          "WROOIFH",
          "HOVFLAR",
          "BGPVFMN",
          "NRKKRBK",
          "FTFSHCI",
          "PLSHZWK",
          "GMLIQMK",
          "IROKFNR",
          "HEBFRRA",
          "RIEGYBR",
          "PJLETFT",
          "GVJTVXV",
          "ETXKSTM",
          "RVCNNGA",
          "LADIFWP",
          "FFRECAD",
          "THFGWMH",
          "JQXEEPS",
          "OGYQNUB",
          "BZYFPMM",
          "SQODRRP",
          "NVITMSQ",
          "WBCMBKW",
          "KKFJKFD",
          "KUXSPYJ",
          "TBFLCFW",
          "EBRWJEU",
          "PJGXCUT",
          "FPGUGZC"
         ],
         "y": [
          99.99889850858061,
          99.98237613728989,
          99.98237613728989,
          99.97686868019298,
          99.97686868019298,
          99.75657039631662,
          99.70810477386381,
          99.70810477386381,
          99.70810477386381,
          99.56601238076355,
          99.56601238076355,
          99.56601238076355,
          99.51203930121383,
          99.51203930121383,
          99.51203930121383,
          99.49331394708435,
          99.49331394708435,
          99.49331394708435,
          99.44044235895403,
          99.44044235895403,
          99.44044235895403,
          99.02187561958893,
          99.02187561958893,
          99.02187561958893,
          98.69913863371005,
          98.69913863371005,
          98.69913863371005,
          98.69913863371005,
          98.69913863371005,
          98.69913863371005,
          98.69913863371005,
          98.69913863371005,
          98.69913863371005,
          98.69913863371005,
          98.69913863371005,
          98.69913863371005,
          98.69913863371005,
          98.69913863371005,
          98.69913863371005,
          98.69913863371005,
          98.69913863371005,
          98.69913863371005,
          94.50796378296214,
          90.78712576829027,
          87.14779811865266,
          87.00129975987487,
          81.1887295397969,
          73.61487454012733,
          73.61487454012733,
          73.61487454012733,
          73.61487454012733,
          73.61487454012733,
          73.61487454012733,
          73.61487454012733,
          73.61487454012733,
          73.61487454012733,
          73.61487454012733,
          73.61487454012733,
          71.16515762342212,
          71.16515762342212,
          71.16515762342212,
          71.16515762342212,
          71.16515762342212,
          71.16515762342212,
          71.16515762342212,
          71.16515762342212,
          71.16515762342212,
          71.16515762342212,
          71.16515762342212,
          71.16515762342212,
          71.16515762342212,
          68.76610931200847,
          68.76610931200847,
          68.76610931200847,
          68.76610931200847,
          68.76610931200847,
          68.76610931200847,
          68.76610931200847,
          68.76610931200847,
          68.76610931200847,
          68.76610931200847,
          68.76610931200847,
          68.76610931200847,
          68.76610931200847,
          62.08556385345758,
          18.811270460203115,
          18.811270460203115,
          18.811270460203115,
          18.811270460203115,
          18.811270460203115,
          18.811270460203115,
          18.811270460203115,
          2.309001387879188,
          0.9814288546692221,
          0.9814288546692221,
          0.9814288546692221,
          0.9814288546692221,
          0.9814288546692221,
          0.9814288546692221,
          0.9814288546692221,
          0.9814288546692221,
          0.9814288546692221,
          0.9814288546692221,
          0.9814288546692221,
          0.9814288546692221,
          0.9814288546692221,
          0.9814288546692221,
          0.9814288546692221,
          0.9814288546692221,
          0.9814288546692221,
          0.9814288546692221,
          0.9814288546692221,
          0.9814288546692221,
          0.9797766175401493,
          0.9781243804110766,
          0.9650441698059172,
          0.9650441698059172,
          0.9650441698059172,
          0.9650441698059172,
          0.9650441698059172,
          0.9650441698059172,
          0.9650441698059172,
          0.9650441698059172,
          0.9605005177009671,
          0.9605005177009671,
          0.9605005177009671,
          0.6394157689511599,
          0.6394157689511599,
          0.6394157689511599,
          0.6394157689511599,
          0.6390027096688917,
          0.6390027096688917,
          0.6390027096688917,
          0.6390027096688917,
          0.6385896503866234,
          0.6385896503866234,
          0.6385896503866234,
          0.6385896503866234,
          0.5110920185931751,
          0.5066860529156477,
          0.5066860529156477,
          0.11345361619632982,
          0.11345361619632982,
          0.030841759742691606,
          0.030841759742691606,
          0.030841759742691606,
          0.030841759742691606,
          0.030841759742691606,
          0.030841759742691606,
          0.029740268323309758,
          0.029740268323309758,
          0.029740268323309758,
          0.029740268323309758,
          0.028638776903927916,
          0.028638776903927916,
          0.028638776903927916,
          0.01101491419381843,
          0.01101491419381843,
          0.01101491419381843,
          0.01101491419381843,
          0.01101491419381843,
          0.01101491419381843,
          0.01101491419381843,
          0.01101491419381843,
          0.01101491419381843,
          0.01101491419381843,
          0.01101491419381843,
          0.01101491419381843,
          0.01101491419381843,
          0.01101491419381843,
          0.01101491419381843,
          0.01101491419381843,
          0.01101491419381843,
          0.01101491419381843,
          0.01101491419381843,
          0.01101491419381843,
          0.01101491419381843,
          0.01101491419381843,
          0.01101491419381843,
          0.01101491419381843,
          0.01101491419381843,
          0.01101491419381843,
          0.01101491419381843,
          0.01101491419381843,
          0.01101491419381843,
          0.01101491419381843,
          0.01101491419381843,
          0.01101491419381843,
          0.01101491419381843,
          0.01101491419381843,
          0.01101491419381843,
          0.01101491419381843,
          0.01101491419381843,
          0.01101491419381843,
          0.01101491419381843,
          0.01101491419381843,
          0.01101491419381843,
          0.01101491419381843,
          0.01101491419381843,
          0.01101491419381843
         ]
        }
       ],
       "layout": {
        "autosize": true,
        "legend": {
         "bgcolor": "#F5F6F9",
         "font": {
          "color": "#4D5663"
         }
        },
        "paper_bgcolor": "#F5F6F9",
        "plot_bgcolor": "#F5F6F9",
        "template": {
         "data": {
          "bar": [
           {
            "error_x": {
             "color": "#2a3f5f"
            },
            "error_y": {
             "color": "#2a3f5f"
            },
            "marker": {
             "line": {
              "color": "#E5ECF6",
              "width": 0.5
             },
             "pattern": {
              "fillmode": "overlay",
              "size": 10,
              "solidity": 0.2
             }
            },
            "type": "bar"
           }
          ],
          "barpolar": [
           {
            "marker": {
             "line": {
              "color": "#E5ECF6",
              "width": 0.5
             },
             "pattern": {
              "fillmode": "overlay",
              "size": 10,
              "solidity": 0.2
             }
            },
            "type": "barpolar"
           }
          ],
          "carpet": [
           {
            "aaxis": {
             "endlinecolor": "#2a3f5f",
             "gridcolor": "white",
             "linecolor": "white",
             "minorgridcolor": "white",
             "startlinecolor": "#2a3f5f"
            },
            "baxis": {
             "endlinecolor": "#2a3f5f",
             "gridcolor": "white",
             "linecolor": "white",
             "minorgridcolor": "white",
             "startlinecolor": "#2a3f5f"
            },
            "type": "carpet"
           }
          ],
          "choropleth": [
           {
            "colorbar": {
             "outlinewidth": 0,
             "ticks": ""
            },
            "type": "choropleth"
           }
          ],
          "contour": [
           {
            "colorbar": {
             "outlinewidth": 0,
             "ticks": ""
            },
            "colorscale": [
             [
              0,
              "#0d0887"
             ],
             [
              0.1111111111111111,
              "#46039f"
             ],
             [
              0.2222222222222222,
              "#7201a8"
             ],
             [
              0.3333333333333333,
              "#9c179e"
             ],
             [
              0.4444444444444444,
              "#bd3786"
             ],
             [
              0.5555555555555556,
              "#d8576b"
             ],
             [
              0.6666666666666666,
              "#ed7953"
             ],
             [
              0.7777777777777778,
              "#fb9f3a"
             ],
             [
              0.8888888888888888,
              "#fdca26"
             ],
             [
              1,
              "#f0f921"
             ]
            ],
            "type": "contour"
           }
          ],
          "contourcarpet": [
           {
            "colorbar": {
             "outlinewidth": 0,
             "ticks": ""
            },
            "type": "contourcarpet"
           }
          ],
          "heatmap": [
           {
            "colorbar": {
             "outlinewidth": 0,
             "ticks": ""
            },
            "colorscale": [
             [
              0,
              "#0d0887"
             ],
             [
              0.1111111111111111,
              "#46039f"
             ],
             [
              0.2222222222222222,
              "#7201a8"
             ],
             [
              0.3333333333333333,
              "#9c179e"
             ],
             [
              0.4444444444444444,
              "#bd3786"
             ],
             [
              0.5555555555555556,
              "#d8576b"
             ],
             [
              0.6666666666666666,
              "#ed7953"
             ],
             [
              0.7777777777777778,
              "#fb9f3a"
             ],
             [
              0.8888888888888888,
              "#fdca26"
             ],
             [
              1,
              "#f0f921"
             ]
            ],
            "type": "heatmap"
           }
          ],
          "heatmapgl": [
           {
            "colorbar": {
             "outlinewidth": 0,
             "ticks": ""
            },
            "colorscale": [
             [
              0,
              "#0d0887"
             ],
             [
              0.1111111111111111,
              "#46039f"
             ],
             [
              0.2222222222222222,
              "#7201a8"
             ],
             [
              0.3333333333333333,
              "#9c179e"
             ],
             [
              0.4444444444444444,
              "#bd3786"
             ],
             [
              0.5555555555555556,
              "#d8576b"
             ],
             [
              0.6666666666666666,
              "#ed7953"
             ],
             [
              0.7777777777777778,
              "#fb9f3a"
             ],
             [
              0.8888888888888888,
              "#fdca26"
             ],
             [
              1,
              "#f0f921"
             ]
            ],
            "type": "heatmapgl"
           }
          ],
          "histogram": [
           {
            "marker": {
             "pattern": {
              "fillmode": "overlay",
              "size": 10,
              "solidity": 0.2
             }
            },
            "type": "histogram"
           }
          ],
          "histogram2d": [
           {
            "colorbar": {
             "outlinewidth": 0,
             "ticks": ""
            },
            "colorscale": [
             [
              0,
              "#0d0887"
             ],
             [
              0.1111111111111111,
              "#46039f"
             ],
             [
              0.2222222222222222,
              "#7201a8"
             ],
             [
              0.3333333333333333,
              "#9c179e"
             ],
             [
              0.4444444444444444,
              "#bd3786"
             ],
             [
              0.5555555555555556,
              "#d8576b"
             ],
             [
              0.6666666666666666,
              "#ed7953"
             ],
             [
              0.7777777777777778,
              "#fb9f3a"
             ],
             [
              0.8888888888888888,
              "#fdca26"
             ],
             [
              1,
              "#f0f921"
             ]
            ],
            "type": "histogram2d"
           }
          ],
          "histogram2dcontour": [
           {
            "colorbar": {
             "outlinewidth": 0,
             "ticks": ""
            },
            "colorscale": [
             [
              0,
              "#0d0887"
             ],
             [
              0.1111111111111111,
              "#46039f"
             ],
             [
              0.2222222222222222,
              "#7201a8"
             ],
             [
              0.3333333333333333,
              "#9c179e"
             ],
             [
              0.4444444444444444,
              "#bd3786"
             ],
             [
              0.5555555555555556,
              "#d8576b"
             ],
             [
              0.6666666666666666,
              "#ed7953"
             ],
             [
              0.7777777777777778,
              "#fb9f3a"
             ],
             [
              0.8888888888888888,
              "#fdca26"
             ],
             [
              1,
              "#f0f921"
             ]
            ],
            "type": "histogram2dcontour"
           }
          ],
          "mesh3d": [
           {
            "colorbar": {
             "outlinewidth": 0,
             "ticks": ""
            },
            "type": "mesh3d"
           }
          ],
          "parcoords": [
           {
            "line": {
             "colorbar": {
              "outlinewidth": 0,
              "ticks": ""
             }
            },
            "type": "parcoords"
           }
          ],
          "pie": [
           {
            "automargin": true,
            "type": "pie"
           }
          ],
          "scatter": [
           {
            "marker": {
             "colorbar": {
              "outlinewidth": 0,
              "ticks": ""
             }
            },
            "type": "scatter"
           }
          ],
          "scatter3d": [
           {
            "line": {
             "colorbar": {
              "outlinewidth": 0,
              "ticks": ""
             }
            },
            "marker": {
             "colorbar": {
              "outlinewidth": 0,
              "ticks": ""
             }
            },
            "type": "scatter3d"
           }
          ],
          "scattercarpet": [
           {
            "marker": {
             "colorbar": {
              "outlinewidth": 0,
              "ticks": ""
             }
            },
            "type": "scattercarpet"
           }
          ],
          "scattergeo": [
           {
            "marker": {
             "colorbar": {
              "outlinewidth": 0,
              "ticks": ""
             }
            },
            "type": "scattergeo"
           }
          ],
          "scattergl": [
           {
            "marker": {
             "colorbar": {
              "outlinewidth": 0,
              "ticks": ""
             }
            },
            "type": "scattergl"
           }
          ],
          "scattermapbox": [
           {
            "marker": {
             "colorbar": {
              "outlinewidth": 0,
              "ticks": ""
             }
            },
            "type": "scattermapbox"
           }
          ],
          "scatterpolar": [
           {
            "marker": {
             "colorbar": {
              "outlinewidth": 0,
              "ticks": ""
             }
            },
            "type": "scatterpolar"
           }
          ],
          "scatterpolargl": [
           {
            "marker": {
             "colorbar": {
              "outlinewidth": 0,
              "ticks": ""
             }
            },
            "type": "scatterpolargl"
           }
          ],
          "scatterternary": [
           {
            "marker": {
             "colorbar": {
              "outlinewidth": 0,
              "ticks": ""
             }
            },
            "type": "scatterternary"
           }
          ],
          "surface": [
           {
            "colorbar": {
             "outlinewidth": 0,
             "ticks": ""
            },
            "colorscale": [
             [
              0,
              "#0d0887"
             ],
             [
              0.1111111111111111,
              "#46039f"
             ],
             [
              0.2222222222222222,
              "#7201a8"
             ],
             [
              0.3333333333333333,
              "#9c179e"
             ],
             [
              0.4444444444444444,
              "#bd3786"
             ],
             [
              0.5555555555555556,
              "#d8576b"
             ],
             [
              0.6666666666666666,
              "#ed7953"
             ],
             [
              0.7777777777777778,
              "#fb9f3a"
             ],
             [
              0.8888888888888888,
              "#fdca26"
             ],
             [
              1,
              "#f0f921"
             ]
            ],
            "type": "surface"
           }
          ],
          "table": [
           {
            "cells": {
             "fill": {
              "color": "#EBF0F8"
             },
             "line": {
              "color": "white"
             }
            },
            "header": {
             "fill": {
              "color": "#C8D4E3"
             },
             "line": {
              "color": "white"
             }
            },
            "type": "table"
           }
          ]
         },
         "layout": {
          "annotationdefaults": {
           "arrowcolor": "#2a3f5f",
           "arrowhead": 0,
           "arrowwidth": 1
          },
          "autotypenumbers": "strict",
          "coloraxis": {
           "colorbar": {
            "outlinewidth": 0,
            "ticks": ""
           }
          },
          "colorscale": {
           "diverging": [
            [
             0,
             "#8e0152"
            ],
            [
             0.1,
             "#c51b7d"
            ],
            [
             0.2,
             "#de77ae"
            ],
            [
             0.3,
             "#f1b6da"
            ],
            [
             0.4,
             "#fde0ef"
            ],
            [
             0.5,
             "#f7f7f7"
            ],
            [
             0.6,
             "#e6f5d0"
            ],
            [
             0.7,
             "#b8e186"
            ],
            [
             0.8,
             "#7fbc41"
            ],
            [
             0.9,
             "#4d9221"
            ],
            [
             1,
             "#276419"
            ]
           ],
           "sequential": [
            [
             0,
             "#0d0887"
            ],
            [
             0.1111111111111111,
             "#46039f"
            ],
            [
             0.2222222222222222,
             "#7201a8"
            ],
            [
             0.3333333333333333,
             "#9c179e"
            ],
            [
             0.4444444444444444,
             "#bd3786"
            ],
            [
             0.5555555555555556,
             "#d8576b"
            ],
            [
             0.6666666666666666,
             "#ed7953"
            ],
            [
             0.7777777777777778,
             "#fb9f3a"
            ],
            [
             0.8888888888888888,
             "#fdca26"
            ],
            [
             1,
             "#f0f921"
            ]
           ],
           "sequentialminus": [
            [
             0,
             "#0d0887"
            ],
            [
             0.1111111111111111,
             "#46039f"
            ],
            [
             0.2222222222222222,
             "#7201a8"
            ],
            [
             0.3333333333333333,
             "#9c179e"
            ],
            [
             0.4444444444444444,
             "#bd3786"
            ],
            [
             0.5555555555555556,
             "#d8576b"
            ],
            [
             0.6666666666666666,
             "#ed7953"
            ],
            [
             0.7777777777777778,
             "#fb9f3a"
            ],
            [
             0.8888888888888888,
             "#fdca26"
            ],
            [
             1,
             "#f0f921"
            ]
           ]
          },
          "colorway": [
           "#636efa",
           "#EF553B",
           "#00cc96",
           "#ab63fa",
           "#FFA15A",
           "#19d3f3",
           "#FF6692",
           "#B6E880",
           "#FF97FF",
           "#FECB52"
          ],
          "font": {
           "color": "#2a3f5f"
          },
          "geo": {
           "bgcolor": "white",
           "lakecolor": "white",
           "landcolor": "#E5ECF6",
           "showlakes": true,
           "showland": true,
           "subunitcolor": "white"
          },
          "hoverlabel": {
           "align": "left"
          },
          "hovermode": "closest",
          "mapbox": {
           "style": "light"
          },
          "paper_bgcolor": "white",
          "plot_bgcolor": "#E5ECF6",
          "polar": {
           "angularaxis": {
            "gridcolor": "white",
            "linecolor": "white",
            "ticks": ""
           },
           "bgcolor": "#E5ECF6",
           "radialaxis": {
            "gridcolor": "white",
            "linecolor": "white",
            "ticks": ""
           }
          },
          "scene": {
           "xaxis": {
            "backgroundcolor": "#E5ECF6",
            "gridcolor": "white",
            "gridwidth": 2,
            "linecolor": "white",
            "showbackground": true,
            "ticks": "",
            "zerolinecolor": "white"
           },
           "yaxis": {
            "backgroundcolor": "#E5ECF6",
            "gridcolor": "white",
            "gridwidth": 2,
            "linecolor": "white",
            "showbackground": true,
            "ticks": "",
            "zerolinecolor": "white"
           },
           "zaxis": {
            "backgroundcolor": "#E5ECF6",
            "gridcolor": "white",
            "gridwidth": 2,
            "linecolor": "white",
            "showbackground": true,
            "ticks": "",
            "zerolinecolor": "white"
           }
          },
          "shapedefaults": {
           "line": {
            "color": "#2a3f5f"
           }
          },
          "ternary": {
           "aaxis": {
            "gridcolor": "white",
            "linecolor": "white",
            "ticks": ""
           },
           "baxis": {
            "gridcolor": "white",
            "linecolor": "white",
            "ticks": ""
           },
           "bgcolor": "#E5ECF6",
           "caxis": {
            "gridcolor": "white",
            "linecolor": "white",
            "ticks": ""
           }
          },
          "title": {
           "x": 0.05
          },
          "xaxis": {
           "automargin": true,
           "gridcolor": "white",
           "linecolor": "white",
           "ticks": "",
           "title": {
            "standoff": 15
           },
           "zerolinecolor": "white",
           "zerolinewidth": 2
          },
          "yaxis": {
           "automargin": true,
           "gridcolor": "white",
           "linecolor": "white",
           "ticks": "",
           "title": {
            "standoff": 15
           },
           "zerolinecolor": "white",
           "zerolinewidth": 2
          }
         }
        },
        "title": {
         "font": {
          "color": "#4D5663"
         }
        },
        "xaxis": {
         "autorange": true,
         "gridcolor": "#E1E5ED",
         "range": [
          -0.5,
          199.5
         ],
         "showgrid": true,
         "tickfont": {
          "color": "#4D5663"
         },
         "title": {
          "font": {
           "color": "#4D5663"
          },
          "text": ""
         },
         "type": "category",
         "zerolinecolor": "#E1E5ED"
        },
        "yaxis": {
         "autorange": true,
         "gridcolor": "#E1E5ED",
         "range": [
          0,
          105.26199843008484
         ],
         "showgrid": true,
         "tickfont": {
          "color": "#4D5663"
         },
         "title": {
          "font": {
           "color": "#4D5663"
          },
          "text": ""
         },
         "type": "linear",
         "zerolinecolor": "#E1E5ED"
        }
       }
      },
      "image/png": "[encoded data removed]",
      "text/html": [
       "<div>                            <div id=\"2afef2e2-fbc4-4eea-9ad3-76cb6785df16\" class=\"plotly-graph-div\" style=\"height:525px; width:100%;\"></div>            <script type=\"text/javascript\">                require([\"plotly\"], function(Plotly) {                    window.PLOTLYENV=window.PLOTLYENV || {};\n",
       "                    window.PLOTLYENV.BASE_URL='https://plot.ly';                                    if (document.getElementById(\"2afef2e2-fbc4-4eea-9ad3-76cb6785df16\")) {                    Plotly.newPlot(                        \"2afef2e2-fbc4-4eea-9ad3-76cb6785df16\",                        [{\"marker\":{\"color\":\"rgba(255, 153, 51, 0.6)\",\"line\":{\"color\":\"rgba(255, 153, 51, 1.0)\",\"width\":1}},\"name\":\"None\",\"orientation\":\"v\",\"text\":\"\",\"type\":\"bar\",\"x\":[\"YEZPLBM\",\"VUBFVUN\",\"VHLPUWU\",\"YTYOTNN\",\"MSJJKBM\",\"MPRIFAX\",\"MSVWNFK\",\"UIDFQDA\",\"XKLWARB\",\"OELFGBD\",\"NMCAKWK\",\"DLWYUSK\",\"VUTOMKG\",\"CUULBWE\",\"RHCAZIU\",\"KKKSVYN\",\"XUCVAEV\",\"CHBMNEK\",\"GTKQUGU\",\"KCVNCWE\",\"BTDJSVV\",\"RGDZIYI\",\"UWFUPRN\",\"QGKAEUF\",\"WYYWAWQ\",\"ZQMONHC\",\"TKXCHYD\",\"KAHHGFH\",\"VLOHNYE\",\"FBDGIUT\",\"HTTHEYH\",\"VXQLENI\",\"WPJXHBR\",\"OYBONYX\",\"PCIXTYP\",\"FZHCPXN\",\"ABKUZXQ\",\"TNLTITB\",\"WHWNSMK\",\"OELGKKQ\",\"AJOFIZJ\",\"XQJKMDS\",\"VRXSNDL\",\"VFXXPOM\",\"LYCIQTI\",\"FIGZKCY\",\"OJSWUAF\",\"TWXNMUD\",\"AUNDDNZ\",\"GJFZDWF\",\"SRDJVGB\",\"FJCYMJD\",\"OAEOBHM\",\"JRVGHMH\",\"BDABVCY\",\"CDSPXSX\",\"PTGZANY\",\"UBMPCGB\",\"HFHITLP\",\"HNDGNRG\",\"KVNLYTZ\",\"ZAIRSDG\",\"USAETVU\",\"WTVBKCK\",\"XZJYNXP\",\"IJEXXXL\",\"TDMCRGU\",\"HNJMSWN\",\"BFYTKKS\",\"GPCKISJ\",\"ADOIOYN\",\"KGPPPLD\",\"YBBDEJH\",\"LCXZSFV\",\"REQAQFJ\",\"EBCCQTL\",\"ADXRLFT\",\"GGTSHYD\",\"LCJYFNQ\",\"POPBDDN\",\"FUKRRDS\",\"GMJTNTH\",\"UZQXSAH\",\"RMSJZUV\",\"ZYOBVQN\",\"JMFGDPB\",\"SETVSTN\",\"DUOKWOI\",\"SJZKEVZ\",\"RXLZZHO\",\"AWMGPPL\",\"JZVNCXT\",\"TLJYWBE\",\"DVSZBLN\",\"OKIKPOJ\",\"EEIRTMR\",\"SFGWGSJ\",\"APJFLOK\",\"WIWNVTH\",\"EDASGHM\",\"EJMEHVK\",\"SKKXRWR\",\"SFTKCKG\",\"ALDDXXN\",\"RNKJCEN\",\"UTGKBXG\",\"LBMUJNZ\",\"DDGIRQA\",\"YAXADEO\",\"JNYELDJ\",\"YYKATJF\",\"NSERJIK\",\"TTQVFLL\",\"FFJOGRA\",\"KDQUJOB\",\"MSAHYEA\",\"KPQSPBC\",\"KVOYKGE\",\"AIKOJYC\",\"NYWUAUO\",\"TERIJOV\",\"AKUNFFN\",\"DJANPLY\",\"XRUUCHW\",\"KNFIDTO\",\"VZOZKWX\",\"IKMWIOV\",\"AVSMOFQ\",\"UNFEABR\",\"LNWVWPK\",\"DMTXDGF\",\"CMSGVTL\",\"LJWUXOV\",\"PFFFNMW\",\"FXACWUA\",\"MRUWBZT\",\"YLHQTEA\",\"VEOALEL\",\"AOWLZQX\",\"KCFQOSD\",\"DMAJOKS\",\"IQOCYUU\",\"VMWDQGF\",\"JNEVNAR\",\"UPSDFCS\",\"YCYSGLG\",\"OYSQKAH\",\"VRNGUZU\",\"RZPQSGM\",\"XKEMMHR\",\"AUESMVQ\",\"EAZAMWH\",\"SHEGNUT\",\"LTZYUVU\",\"WVRSHBW\",\"IUCJIOI\",\"UAEETIT\",\"YCWMHMB\",\"YVZKQBW\",\"OISOEYC\",\"GPDXQZO\",\"UJTXHTS\",\"NLPSQAO\",\"XIITBEU\",\"PIJMPQK\",\"UDQKCAP\",\"ELDKYEY\",\"LOGULZS\",\"GYFZSXY\",\"DXWRFDA\",\"VTLKBMI\",\"WROOIFH\",\"HOVFLAR\",\"BGPVFMN\",\"NRKKRBK\",\"FTFSHCI\",\"PLSHZWK\",\"GMLIQMK\",\"IROKFNR\",\"HEBFRRA\",\"RIEGYBR\",\"PJLETFT\",\"GVJTVXV\",\"ETXKSTM\",\"RVCNNGA\",\"LADIFWP\",\"FFRECAD\",\"THFGWMH\",\"JQXEEPS\",\"OGYQNUB\",\"BZYFPMM\",\"SQODRRP\",\"NVITMSQ\",\"WBCMBKW\",\"KKFJKFD\",\"KUXSPYJ\",\"TBFLCFW\",\"EBRWJEU\",\"PJGXCUT\",\"FPGUGZC\"],\"y\":[99.99889850858061,99.98237613728989,99.98237613728989,99.97686868019298,99.97686868019298,99.75657039631662,99.70810477386381,99.70810477386381,99.70810477386381,99.56601238076355,99.56601238076355,99.56601238076355,99.51203930121383,99.51203930121383,99.51203930121383,99.49331394708435,99.49331394708435,99.49331394708435,99.44044235895403,99.44044235895403,99.44044235895403,99.02187561958893,99.02187561958893,99.02187561958893,98.69913863371005,98.69913863371005,98.69913863371005,98.69913863371005,98.69913863371005,98.69913863371005,98.69913863371005,98.69913863371005,98.69913863371005,98.69913863371005,98.69913863371005,98.69913863371005,98.69913863371005,98.69913863371005,98.69913863371005,98.69913863371005,98.69913863371005,98.69913863371005,94.50796378296214,90.78712576829027,87.14779811865266,87.00129975987487,81.1887295397969,73.61487454012733,73.61487454012733,73.61487454012733,73.61487454012733,73.61487454012733,73.61487454012733,73.61487454012733,73.61487454012733,73.61487454012733,73.61487454012733,73.61487454012733,71.16515762342212,71.16515762342212,71.16515762342212,71.16515762342212,71.16515762342212,71.16515762342212,71.16515762342212,71.16515762342212,71.16515762342212,71.16515762342212,71.16515762342212,71.16515762342212,71.16515762342212,68.76610931200847,68.76610931200847,68.76610931200847,68.76610931200847,68.76610931200847,68.76610931200847,68.76610931200847,68.76610931200847,68.76610931200847,68.76610931200847,68.76610931200847,68.76610931200847,68.76610931200847,62.08556385345758,18.811270460203115,18.811270460203115,18.811270460203115,18.811270460203115,18.811270460203115,18.811270460203115,18.811270460203115,2.309001387879188,0.9814288546692221,0.9814288546692221,0.9814288546692221,0.9814288546692221,0.9814288546692221,0.9814288546692221,0.9814288546692221,0.9814288546692221,0.9814288546692221,0.9814288546692221,0.9814288546692221,0.9814288546692221,0.9814288546692221,0.9814288546692221,0.9814288546692221,0.9814288546692221,0.9814288546692221,0.9814288546692221,0.9814288546692221,0.9814288546692221,0.9797766175401493,0.9781243804110766,0.9650441698059172,0.9650441698059172,0.9650441698059172,0.9650441698059172,0.9650441698059172,0.9650441698059172,0.9650441698059172,0.9650441698059172,0.9605005177009671,0.9605005177009671,0.9605005177009671,0.6394157689511599,0.6394157689511599,0.6394157689511599,0.6394157689511599,0.6390027096688917,0.6390027096688917,0.6390027096688917,0.6390027096688917,0.6385896503866234,0.6385896503866234,0.6385896503866234,0.6385896503866234,0.5110920185931751,0.5066860529156477,0.5066860529156477,0.11345361619632982,0.11345361619632982,0.030841759742691606,0.030841759742691606,0.030841759742691606,0.030841759742691606,0.030841759742691606,0.030841759742691606,0.029740268323309758,0.029740268323309758,0.029740268323309758,0.029740268323309758,0.028638776903927916,0.028638776903927916,0.028638776903927916,0.01101491419381843,0.01101491419381843,0.01101491419381843,0.01101491419381843,0.01101491419381843,0.01101491419381843,0.01101491419381843,0.01101491419381843,0.01101491419381843,0.01101491419381843,0.01101491419381843,0.01101491419381843,0.01101491419381843,0.01101491419381843,0.01101491419381843,0.01101491419381843,0.01101491419381843,0.01101491419381843,0.01101491419381843,0.01101491419381843,0.01101491419381843,0.01101491419381843,0.01101491419381843,0.01101491419381843,0.01101491419381843,0.01101491419381843,0.01101491419381843,0.01101491419381843,0.01101491419381843,0.01101491419381843,0.01101491419381843,0.01101491419381843,0.01101491419381843,0.01101491419381843,0.01101491419381843,0.01101491419381843,0.01101491419381843,0.01101491419381843,0.01101491419381843,0.01101491419381843,0.01101491419381843,0.01101491419381843,0.01101491419381843,0.01101491419381843]}],                        {\"legend\":{\"bgcolor\":\"#F5F6F9\",\"font\":{\"color\":\"#4D5663\"}},\"paper_bgcolor\":\"#F5F6F9\",\"plot_bgcolor\":\"#F5F6F9\",\"template\":{\"data\":{\"bar\":[{\"error_x\":{\"color\":\"#2a3f5f\"},\"error_y\":{\"color\":\"#2a3f5f\"},\"marker\":{\"line\":{\"color\":\"#E5ECF6\",\"width\":0.5},\"pattern\":{\"fillmode\":\"overlay\",\"size\":10,\"solidity\":0.2}},\"type\":\"bar\"}],\"barpolar\":[{\"marker\":{\"line\":{\"color\":\"#E5ECF6\",\"width\":0.5},\"pattern\":{\"fillmode\":\"overlay\",\"size\":10,\"solidity\":0.2}},\"type\":\"barpolar\"}],\"carpet\":[{\"aaxis\":{\"endlinecolor\":\"#2a3f5f\",\"gridcolor\":\"white\",\"linecolor\":\"white\",\"minorgridcolor\":\"white\",\"startlinecolor\":\"#2a3f5f\"},\"baxis\":{\"endlinecolor\":\"#2a3f5f\",\"gridcolor\":\"white\",\"linecolor\":\"white\",\"minorgridcolor\":\"white\",\"startlinecolor\":\"#2a3f5f\"},\"type\":\"carpet\"}],\"choropleth\":[{\"colorbar\":{\"outlinewidth\":0,\"ticks\":\"\"},\"type\":\"choropleth\"}],\"contour\":[{\"colorbar\":{\"outlinewidth\":0,\"ticks\":\"\"},\"colorscale\":[[0.0,\"#0d0887\"],[0.1111111111111111,\"#46039f\"],[0.2222222222222222,\"#7201a8\"],[0.3333333333333333,\"#9c179e\"],[0.4444444444444444,\"#bd3786\"],[0.5555555555555556,\"#d8576b\"],[0.6666666666666666,\"#ed7953\"],[0.7777777777777778,\"#fb9f3a\"],[0.8888888888888888,\"#fdca26\"],[1.0,\"#f0f921\"]],\"type\":\"contour\"}],\"contourcarpet\":[{\"colorbar\":{\"outlinewidth\":0,\"ticks\":\"\"},\"type\":\"contourcarpet\"}],\"heatmap\":[{\"colorbar\":{\"outlinewidth\":0,\"ticks\":\"\"},\"colorscale\":[[0.0,\"#0d0887\"],[0.1111111111111111,\"#46039f\"],[0.2222222222222222,\"#7201a8\"],[0.3333333333333333,\"#9c179e\"],[0.4444444444444444,\"#bd3786\"],[0.5555555555555556,\"#d8576b\"],[0.6666666666666666,\"#ed7953\"],[0.7777777777777778,\"#fb9f3a\"],[0.8888888888888888,\"#fdca26\"],[1.0,\"#f0f921\"]],\"type\":\"heatmap\"}],\"heatmapgl\":[{\"colorbar\":{\"outlinewidth\":0,\"ticks\":\"\"},\"colorscale\":[[0.0,\"#0d0887\"],[0.1111111111111111,\"#46039f\"],[0.2222222222222222,\"#7201a8\"],[0.3333333333333333,\"#9c179e\"],[0.4444444444444444,\"#bd3786\"],[0.5555555555555556,\"#d8576b\"],[0.6666666666666666,\"#ed7953\"],[0.7777777777777778,\"#fb9f3a\"],[0.8888888888888888,\"#fdca26\"],[1.0,\"#f0f921\"]],\"type\":\"heatmapgl\"}],\"histogram\":[{\"marker\":{\"pattern\":{\"fillmode\":\"overlay\",\"size\":10,\"solidity\":0.2}},\"type\":\"histogram\"}],\"histogram2d\":[{\"colorbar\":{\"outlinewidth\":0,\"ticks\":\"\"},\"colorscale\":[[0.0,\"#0d0887\"],[0.1111111111111111,\"#46039f\"],[0.2222222222222222,\"#7201a8\"],[0.3333333333333333,\"#9c179e\"],[0.4444444444444444,\"#bd3786\"],[0.5555555555555556,\"#d8576b\"],[0.6666666666666666,\"#ed7953\"],[0.7777777777777778,\"#fb9f3a\"],[0.8888888888888888,\"#fdca26\"],[1.0,\"#f0f921\"]],\"type\":\"histogram2d\"}],\"histogram2dcontour\":[{\"colorbar\":{\"outlinewidth\":0,\"ticks\":\"\"},\"colorscale\":[[0.0,\"#0d0887\"],[0.1111111111111111,\"#46039f\"],[0.2222222222222222,\"#7201a8\"],[0.3333333333333333,\"#9c179e\"],[0.4444444444444444,\"#bd3786\"],[0.5555555555555556,\"#d8576b\"],[0.6666666666666666,\"#ed7953\"],[0.7777777777777778,\"#fb9f3a\"],[0.8888888888888888,\"#fdca26\"],[1.0,\"#f0f921\"]],\"type\":\"histogram2dcontour\"}],\"mesh3d\":[{\"colorbar\":{\"outlinewidth\":0,\"ticks\":\"\"},\"type\":\"mesh3d\"}],\"parcoords\":[{\"line\":{\"colorbar\":{\"outlinewidth\":0,\"ticks\":\"\"}},\"type\":\"parcoords\"}],\"pie\":[{\"automargin\":true,\"type\":\"pie\"}],\"scatter\":[{\"marker\":{\"colorbar\":{\"outlinewidth\":0,\"ticks\":\"\"}},\"type\":\"scatter\"}],\"scatter3d\":[{\"line\":{\"colorbar\":{\"outlinewidth\":0,\"ticks\":\"\"}},\"marker\":{\"colorbar\":{\"outlinewidth\":0,\"ticks\":\"\"}},\"type\":\"scatter3d\"}],\"scattercarpet\":[{\"marker\":{\"colorbar\":{\"outlinewidth\":0,\"ticks\":\"\"}},\"type\":\"scattercarpet\"}],\"scattergeo\":[{\"marker\":{\"colorbar\":{\"outlinewidth\":0,\"ticks\":\"\"}},\"type\":\"scattergeo\"}],\"scattergl\":[{\"marker\":{\"colorbar\":{\"outlinewidth\":0,\"ticks\":\"\"}},\"type\":\"scattergl\"}],\"scattermapbox\":[{\"marker\":{\"colorbar\":{\"outlinewidth\":0,\"ticks\":\"\"}},\"type\":\"scattermapbox\"}],\"scatterpolar\":[{\"marker\":{\"colorbar\":{\"outlinewidth\":0,\"ticks\":\"\"}},\"type\":\"scatterpolar\"}],\"scatterpolargl\":[{\"marker\":{\"colorbar\":{\"outlinewidth\":0,\"ticks\":\"\"}},\"type\":\"scatterpolargl\"}],\"scatterternary\":[{\"marker\":{\"colorbar\":{\"outlinewidth\":0,\"ticks\":\"\"}},\"type\":\"scatterternary\"}],\"surface\":[{\"colorbar\":{\"outlinewidth\":0,\"ticks\":\"\"},\"colorscale\":[[0.0,\"#0d0887\"],[0.1111111111111111,\"#46039f\"],[0.2222222222222222,\"#7201a8\"],[0.3333333333333333,\"#9c179e\"],[0.4444444444444444,\"#bd3786\"],[0.5555555555555556,\"#d8576b\"],[0.6666666666666666,\"#ed7953\"],[0.7777777777777778,\"#fb9f3a\"],[0.8888888888888888,\"#fdca26\"],[1.0,\"#f0f921\"]],\"type\":\"surface\"}],\"table\":[{\"cells\":{\"fill\":{\"color\":\"#EBF0F8\"},\"line\":{\"color\":\"white\"}},\"header\":{\"fill\":{\"color\":\"#C8D4E3\"},\"line\":{\"color\":\"white\"}},\"type\":\"table\"}]},\"layout\":{\"annotationdefaults\":{\"arrowcolor\":\"#2a3f5f\",\"arrowhead\":0,\"arrowwidth\":1},\"autotypenumbers\":\"strict\",\"coloraxis\":{\"colorbar\":{\"outlinewidth\":0,\"ticks\":\"\"}},\"colorscale\":{\"diverging\":[[0,\"#8e0152\"],[0.1,\"#c51b7d\"],[0.2,\"#de77ae\"],[0.3,\"#f1b6da\"],[0.4,\"#fde0ef\"],[0.5,\"#f7f7f7\"],[0.6,\"#e6f5d0\"],[0.7,\"#b8e186\"],[0.8,\"#7fbc41\"],[0.9,\"#4d9221\"],[1,\"#276419\"]],\"sequential\":[[0.0,\"#0d0887\"],[0.1111111111111111,\"#46039f\"],[0.2222222222222222,\"#7201a8\"],[0.3333333333333333,\"#9c179e\"],[0.4444444444444444,\"#bd3786\"],[0.5555555555555556,\"#d8576b\"],[0.6666666666666666,\"#ed7953\"],[0.7777777777777778,\"#fb9f3a\"],[0.8888888888888888,\"#fdca26\"],[1.0,\"#f0f921\"]],\"sequentialminus\":[[0.0,\"#0d0887\"],[0.1111111111111111,\"#46039f\"],[0.2222222222222222,\"#7201a8\"],[0.3333333333333333,\"#9c179e\"],[0.4444444444444444,\"#bd3786\"],[0.5555555555555556,\"#d8576b\"],[0.6666666666666666,\"#ed7953\"],[0.7777777777777778,\"#fb9f3a\"],[0.8888888888888888,\"#fdca26\"],[1.0,\"#f0f921\"]]},\"colorway\":[\"#636efa\",\"#EF553B\",\"#00cc96\",\"#ab63fa\",\"#FFA15A\",\"#19d3f3\",\"#FF6692\",\"#B6E880\",\"#FF97FF\",\"#FECB52\"],\"font\":{\"color\":\"#2a3f5f\"},\"geo\":{\"bgcolor\":\"white\",\"lakecolor\":\"white\",\"landcolor\":\"#E5ECF6\",\"showlakes\":true,\"showland\":true,\"subunitcolor\":\"white\"},\"hoverlabel\":{\"align\":\"left\"},\"hovermode\":\"closest\",\"mapbox\":{\"style\":\"light\"},\"paper_bgcolor\":\"white\",\"plot_bgcolor\":\"#E5ECF6\",\"polar\":{\"angularaxis\":{\"gridcolor\":\"white\",\"linecolor\":\"white\",\"ticks\":\"\"},\"bgcolor\":\"#E5ECF6\",\"radialaxis\":{\"gridcolor\":\"white\",\"linecolor\":\"white\",\"ticks\":\"\"}},\"scene\":{\"xaxis\":{\"backgroundcolor\":\"#E5ECF6\",\"gridcolor\":\"white\",\"gridwidth\":2,\"linecolor\":\"white\",\"showbackground\":true,\"ticks\":\"\",\"zerolinecolor\":\"white\"},\"yaxis\":{\"backgroundcolor\":\"#E5ECF6\",\"gridcolor\":\"white\",\"gridwidth\":2,\"linecolor\":\"white\",\"showbackground\":true,\"ticks\":\"\",\"zerolinecolor\":\"white\"},\"zaxis\":{\"backgroundcolor\":\"#E5ECF6\",\"gridcolor\":\"white\",\"gridwidth\":2,\"linecolor\":\"white\",\"showbackground\":true,\"ticks\":\"\",\"zerolinecolor\":\"white\"}},\"shapedefaults\":{\"line\":{\"color\":\"#2a3f5f\"}},\"ternary\":{\"aaxis\":{\"gridcolor\":\"white\",\"linecolor\":\"white\",\"ticks\":\"\"},\"baxis\":{\"gridcolor\":\"white\",\"linecolor\":\"white\",\"ticks\":\"\"},\"bgcolor\":\"#E5ECF6\",\"caxis\":{\"gridcolor\":\"white\",\"linecolor\":\"white\",\"ticks\":\"\"}},\"title\":{\"x\":0.05},\"xaxis\":{\"automargin\":true,\"gridcolor\":\"white\",\"linecolor\":\"white\",\"ticks\":\"\",\"title\":{\"standoff\":15},\"zerolinecolor\":\"white\",\"zerolinewidth\":2},\"yaxis\":{\"automargin\":true,\"gridcolor\":\"white\",\"linecolor\":\"white\",\"ticks\":\"\",\"title\":{\"standoff\":15},\"zerolinecolor\":\"white\",\"zerolinewidth\":2}}},\"title\":{\"font\":{\"color\":\"#4D5663\"}},\"xaxis\":{\"gridcolor\":\"#E1E5ED\",\"showgrid\":true,\"tickfont\":{\"color\":\"#4D5663\"},\"title\":{\"font\":{\"color\":\"#4D5663\"},\"text\":\"\"},\"zerolinecolor\":\"#E1E5ED\"},\"yaxis\":{\"gridcolor\":\"#E1E5ED\",\"showgrid\":true,\"tickfont\":{\"color\":\"#4D5663\"},\"title\":{\"font\":{\"color\":\"#4D5663\"},\"text\":\"\"},\"zerolinecolor\":\"#E1E5ED\"}},                        {\"showLink\": true, \"linkText\": \"Export to plot.ly\", \"plotlyServerURL\": \"https://plot.ly\", \"responsive\": true}                    ).then(function(){\n",
       "                            \n",
       "var gd = document.getElementById('2afef2e2-fbc4-4eea-9ad3-76cb6785df16');\n",
       "var x = new MutationObserver(function (mutations, observer) {{\n",
       "        var display = window.getComputedStyle(gd).display;\n",
       "        if (!display || display === 'none') {{\n",
       "            console.log([gd, 'removed!']);\n",
       "            Plotly.purge(gd);\n",
       "            observer.disconnect();\n",
       "        }}\n",
       "}});\n",
       "\n",
       "// Listen for the removal of the full notebook cells\n",
       "var notebookContainer = gd.closest('#notebook-container');\n",
       "if (notebookContainer) {{\n",
       "    x.observe(notebookContainer, {childList: true});\n",
       "}}\n",
       "\n",
       "// Listen for the clearing of the current output cell\n",
       "var outputEl = gd.closest('.output');\n",
       "if (outputEl) {{\n",
       "    x.observe(outputEl, {childList: true});\n",
       "}}\n",
       "\n",
       "                        })                };                });            </script>        </div>"
      ]
     },
     "metadata": {},
     "output_type": "display_data"
    }
   ],
   "source": [
    "missing_percentage.sort_values(ascending=False).head(200).iplot(kind='bar')"
   ]
  },
  {
   "cell_type": "code",
   "execution_count": 15,
   "id": "3e376beb-832e-4080-8d50-d9df5c9d602b",
   "metadata": {},
   "outputs": [
    {
     "data": {
      "application/vnd.plotly.v1+json": {
       "config": {
        "linkText": "Export to plot.ly",
        "plotlyServerURL": "https://plot.ly",
        "showLink": true
       },
       "data": [
        {
         "marker": {
          "color": "rgba(255, 153, 51, 0.6)",
          "line": {
           "color": "rgba(255, 153, 51, 1.0)",
           "width": 1
          }
         },
         "name": "None",
         "orientation": "v",
         "text": "",
         "type": "bar",
         "x": [
          "PDWQQDP",
          "HXBFDMA",
          "XJMDTQG",
          "KPZEEJR",
          "OOVNYOI",
          "ILGYBTA",
          "VYQUVQJ",
          "ZZYQSDQ",
          "KUZHMLE",
          "ZIQDKWK",
          "UOGNHSF",
          "ISLNVVQ",
          "TBGAWDK",
          "GRBGIZR",
          "VOYPYYV",
          "DDZYPGM",
          "NGIJPET",
          "LQEHWDR",
          "CZUZJKN",
          "QWGVMUQ",
          "DBSUCIH",
          "WCHWYUP",
          "GRYCMJK",
          "KOESNGG",
          "YVAAWCN",
          "BBVLSAK",
          "RQTEIMY",
          "SRQKQTX",
          "MNNVQLZ",
          "JMPVBOV",
          "SLHDFLB",
          "CXQMCRY",
          "IFZDTPK",
          "OETLBRB",
          "BKAHOMJ",
          "FNCZPLL",
          "MGHHIOF",
          "UZIGIGC",
          "YWVSPKM",
          "INJPVHJ",
          "HFYZKSZ",
          "DTJITAO",
          "GOBJALH",
          "AHDJJHN",
          "EJCYPQQ",
          "JWXNCNT",
          "NQYIWSN",
          "LVMHJCI",
          "HHWCKEO",
          "FWGTLEW",
          "LTCKGYN",
          "EDQZDFY",
          "GJJABFU",
          "CEIXACS",
          "XFLCFEY",
          "UYETXXG",
          "DATPBXC",
          "QIIBORT",
          "JIOWSAX",
          "QRTDBHR",
          "PCYIKPD",
          "DNHHKRL",
          "ZIWVRVM",
          "FUUJDZI",
          "PJWUWBJ",
          "MKHZSRI",
          "DYKRTXD",
          "DBDLSUG",
          "ALKYTAY",
          "TPUASCQ",
          "VIACOPE",
          "IYFABDO",
          "NTJRVGR",
          "OBFPKIQ",
          "CPFOOLV",
          "ETSCGYD",
          "LLHXSPF",
          "TLOEEZC",
          "VXWAKJT",
          "XJJAKPY",
          "QASZGHA",
          "KPXMEBJ",
          "WPYBJPG",
          "HGONGZK",
          "EYARVDG",
          "EKTAHFF",
          "WGQRBHJ",
          "CTGUILF",
          "OOASVXJ",
          "STMKCSJ",
          "REAKUIZ",
          "OOXHPWM",
          "FUPIOHC",
          "LUYUPBB",
          "RHSKKTW",
          "WHHQYVO",
          "DDPBVDN",
          "DITVBVV",
          "PAIOUXI",
          "TNUQMZC",
          "KOJYJHO",
          "QALTYYP",
          "ZYMFJDH",
          "UZGUYFK",
          "PCJBMTF",
          "HCSXZKW",
          "TKQUNLP",
          "JZYCXXB",
          "HNXONUF",
          "GPKTTWB",
          "SLCKDWR",
          "BTZIFTJ",
          "JZRBYSL",
          "AYAJVQL",
          "GYXMTQR",
          "NRUIVJF",
          "LLZRQRY",
          "NMWUWJL",
          "MOSECGI",
          "AHVIXII",
          "PSXOLCG",
          "NPVZRXF",
          "GQHLWWM",
          "SHBNDLU",
          "IHCEXCN",
          "KNIKHDA",
          "PPPQVMZ",
          "KCTFYGC",
          "YZRVJSE",
          "WSCCCVK",
          "BGEQHWR",
          "QTALKVV",
          "XJUIXIR",
          "WLULXFN",
          "AQYGYOE",
          "FHCNORU",
          "AKWDPAB",
          "HYBFEEM",
          "OKMWHQM",
          "CNKJBOO",
          "NDWFVEZ",
          "HSCCVTR",
          "VKTZZSI",
          "VMHLOFU",
          "JYSKSPX",
          "UEIYMWS",
          "XGBPWXI",
          "AOLWPYQ",
          "DDCMFRW",
          "MDBYIRV",
          "CJMPQXT",
          "UGXVMKE",
          "CZJWKNF",
          "PNSPXXL",
          "RHYKHCF",
          "RMDQISV",
          "EGWONKF",
          "XEUMIIT",
          "JYNEQWD",
          "LZJFGGT",
          "VRFKBMQ",
          "ZDWTEVD",
          "NIMFVWU",
          "EULURHL",
          "CVWPAJZ",
          "WCZJBOX",
          "INLEXOC",
          "ZSGPKXD",
          "SDEUDHY",
          "UXZNNNB",
          "BDROJVQ",
          "AGLJDAB",
          "UDQVDVI",
          "OOFAOBD",
          "PUBVMLA",
          "MUEKGHC",
          "JEKQIKE",
          "FPBFOEB",
          "XIRNYHK",
          "HBQPQTD",
          "LPCAWJY",
          "PIFCYQL",
          "HVTWAZN",
          "SBUETBP",
          "SXUVCDJ",
          "LEFUBNX",
          "QSQCEMO",
          "FREGTES",
          "MFKGYLS",
          "RETRSMC",
          "LWIGOSX",
          "ZHFQXTN",
          "WSRRROM",
          "QKXDWEZ",
          "CBNASKU",
          "JOJRNMZ",
          "PIACHYE",
          "LCAOHWW",
          "PATWSZC",
          "HKTLMYY"
         ],
         "y": [
          0.002202982838763686,
          0.002202982838763686,
          0.002202982838763686,
          0.002202982838763686,
          0.002202982838763686,
          0.002202982838763686,
          0.002202982838763686,
          0.002202982838763686,
          0.002202982838763686,
          0.002202982838763686,
          0.002202982838763686,
          0.002202982838763686,
          0.002202982838763686,
          0.002202982838763686,
          0.002202982838763686,
          0.002202982838763686,
          0.002202982838763686,
          0.002202982838763686,
          0.002202982838763686,
          0.002202982838763686,
          0.002202982838763686,
          0.002202982838763686,
          0.002202982838763686,
          0.002202982838763686,
          0.002202982838763686,
          0.002202982838763686,
          0.002202982838763686,
          0.001101491419381843,
          0.001101491419381843,
          0.001101491419381843,
          0.001101491419381843,
          0.001101491419381843,
          0.001101491419381843,
          0.001101491419381843,
          0.001101491419381843,
          0.001101491419381843,
          0.001101491419381843,
          0.001101491419381843,
          0.001101491419381843,
          0.001101491419381843,
          0.001101491419381843,
          0.001101491419381843,
          0.001101491419381843,
          0.001101491419381843,
          0.001101491419381843,
          0.001101491419381843,
          0.001101491419381843,
          0.001101491419381843,
          0.001101491419381843,
          0.001101491419381843,
          0.001101491419381843,
          0.001101491419381843,
          0.001101491419381843,
          0.001101491419381843,
          0.001101491419381843,
          0.001101491419381843,
          0.001101491419381843,
          0.001101491419381843,
          0.001101491419381843,
          0.001101491419381843,
          0.001101491419381843,
          0.001101491419381843,
          0.001101491419381843,
          0.001101491419381843,
          0.001101491419381843,
          0.001101491419381843,
          0.001101491419381843,
          0.001101491419381843,
          0.001101491419381843,
          0.001101491419381843,
          0.001101491419381843,
          0.001101491419381843,
          0.001101491419381843,
          0.001101491419381843,
          0.001101491419381843,
          0.001101491419381843,
          0.001101491419381843,
          0.001101491419381843,
          0.001101491419381843,
          0.001101491419381843,
          0.001101491419381843,
          0.001101491419381843,
          0.001101491419381843,
          0.001101491419381843,
          0.001101491419381843,
          0.001101491419381843,
          0.001101491419381843,
          0.001101491419381843,
          0.001101491419381843,
          0.001101491419381843,
          0.001101491419381843,
          0.001101491419381843,
          0.001101491419381843,
          0.001101491419381843,
          0.001101491419381843,
          0.001101491419381843,
          0.001101491419381843,
          0.001101491419381843,
          0.001101491419381843,
          0.001101491419381843,
          0.001101491419381843,
          0.001101491419381843,
          0.001101491419381843,
          0.001101491419381843,
          0.001101491419381843,
          0.001101491419381843,
          0.001101491419381843,
          0.001101491419381843,
          0.001101491419381843,
          0.001101491419381843,
          0.001101491419381843,
          0.001101491419381843,
          0,
          0,
          0,
          0,
          0,
          0,
          0,
          0,
          0,
          0,
          0,
          0,
          0,
          0,
          0,
          0,
          0,
          0,
          0,
          0,
          0,
          0,
          0,
          0,
          0,
          0,
          0,
          0,
          0,
          0,
          0,
          0,
          0,
          0,
          0,
          0,
          0,
          0,
          0,
          0,
          0,
          0,
          0,
          0,
          0,
          0,
          0,
          0,
          0,
          0,
          0,
          0,
          0,
          0,
          0,
          0,
          0,
          0,
          0,
          0,
          0,
          0,
          0,
          0,
          0,
          0,
          0,
          0,
          0,
          0,
          0,
          0,
          0,
          0,
          0,
          0,
          0,
          0,
          0,
          0,
          0,
          0,
          0,
          0,
          0,
          0,
          0,
          0
         ]
        }
       ],
       "layout": {
        "autosize": true,
        "legend": {
         "bgcolor": "#F5F6F9",
         "font": {
          "color": "#4D5663"
         }
        },
        "paper_bgcolor": "#F5F6F9",
        "plot_bgcolor": "#F5F6F9",
        "template": {
         "data": {
          "bar": [
           {
            "error_x": {
             "color": "#2a3f5f"
            },
            "error_y": {
             "color": "#2a3f5f"
            },
            "marker": {
             "line": {
              "color": "#E5ECF6",
              "width": 0.5
             },
             "pattern": {
              "fillmode": "overlay",
              "size": 10,
              "solidity": 0.2
             }
            },
            "type": "bar"
           }
          ],
          "barpolar": [
           {
            "marker": {
             "line": {
              "color": "#E5ECF6",
              "width": 0.5
             },
             "pattern": {
              "fillmode": "overlay",
              "size": 10,
              "solidity": 0.2
             }
            },
            "type": "barpolar"
           }
          ],
          "carpet": [
           {
            "aaxis": {
             "endlinecolor": "#2a3f5f",
             "gridcolor": "white",
             "linecolor": "white",
             "minorgridcolor": "white",
             "startlinecolor": "#2a3f5f"
            },
            "baxis": {
             "endlinecolor": "#2a3f5f",
             "gridcolor": "white",
             "linecolor": "white",
             "minorgridcolor": "white",
             "startlinecolor": "#2a3f5f"
            },
            "type": "carpet"
           }
          ],
          "choropleth": [
           {
            "colorbar": {
             "outlinewidth": 0,
             "ticks": ""
            },
            "type": "choropleth"
           }
          ],
          "contour": [
           {
            "colorbar": {
             "outlinewidth": 0,
             "ticks": ""
            },
            "colorscale": [
             [
              0,
              "#0d0887"
             ],
             [
              0.1111111111111111,
              "#46039f"
             ],
             [
              0.2222222222222222,
              "#7201a8"
             ],
             [
              0.3333333333333333,
              "#9c179e"
             ],
             [
              0.4444444444444444,
              "#bd3786"
             ],
             [
              0.5555555555555556,
              "#d8576b"
             ],
             [
              0.6666666666666666,
              "#ed7953"
             ],
             [
              0.7777777777777778,
              "#fb9f3a"
             ],
             [
              0.8888888888888888,
              "#fdca26"
             ],
             [
              1,
              "#f0f921"
             ]
            ],
            "type": "contour"
           }
          ],
          "contourcarpet": [
           {
            "colorbar": {
             "outlinewidth": 0,
             "ticks": ""
            },
            "type": "contourcarpet"
           }
          ],
          "heatmap": [
           {
            "colorbar": {
             "outlinewidth": 0,
             "ticks": ""
            },
            "colorscale": [
             [
              0,
              "#0d0887"
             ],
             [
              0.1111111111111111,
              "#46039f"
             ],
             [
              0.2222222222222222,
              "#7201a8"
             ],
             [
              0.3333333333333333,
              "#9c179e"
             ],
             [
              0.4444444444444444,
              "#bd3786"
             ],
             [
              0.5555555555555556,
              "#d8576b"
             ],
             [
              0.6666666666666666,
              "#ed7953"
             ],
             [
              0.7777777777777778,
              "#fb9f3a"
             ],
             [
              0.8888888888888888,
              "#fdca26"
             ],
             [
              1,
              "#f0f921"
             ]
            ],
            "type": "heatmap"
           }
          ],
          "heatmapgl": [
           {
            "colorbar": {
             "outlinewidth": 0,
             "ticks": ""
            },
            "colorscale": [
             [
              0,
              "#0d0887"
             ],
             [
              0.1111111111111111,
              "#46039f"
             ],
             [
              0.2222222222222222,
              "#7201a8"
             ],
             [
              0.3333333333333333,
              "#9c179e"
             ],
             [
              0.4444444444444444,
              "#bd3786"
             ],
             [
              0.5555555555555556,
              "#d8576b"
             ],
             [
              0.6666666666666666,
              "#ed7953"
             ],
             [
              0.7777777777777778,
              "#fb9f3a"
             ],
             [
              0.8888888888888888,
              "#fdca26"
             ],
             [
              1,
              "#f0f921"
             ]
            ],
            "type": "heatmapgl"
           }
          ],
          "histogram": [
           {
            "marker": {
             "pattern": {
              "fillmode": "overlay",
              "size": 10,
              "solidity": 0.2
             }
            },
            "type": "histogram"
           }
          ],
          "histogram2d": [
           {
            "colorbar": {
             "outlinewidth": 0,
             "ticks": ""
            },
            "colorscale": [
             [
              0,
              "#0d0887"
             ],
             [
              0.1111111111111111,
              "#46039f"
             ],
             [
              0.2222222222222222,
              "#7201a8"
             ],
             [
              0.3333333333333333,
              "#9c179e"
             ],
             [
              0.4444444444444444,
              "#bd3786"
             ],
             [
              0.5555555555555556,
              "#d8576b"
             ],
             [
              0.6666666666666666,
              "#ed7953"
             ],
             [
              0.7777777777777778,
              "#fb9f3a"
             ],
             [
              0.8888888888888888,
              "#fdca26"
             ],
             [
              1,
              "#f0f921"
             ]
            ],
            "type": "histogram2d"
           }
          ],
          "histogram2dcontour": [
           {
            "colorbar": {
             "outlinewidth": 0,
             "ticks": ""
            },
            "colorscale": [
             [
              0,
              "#0d0887"
             ],
             [
              0.1111111111111111,
              "#46039f"
             ],
             [
              0.2222222222222222,
              "#7201a8"
             ],
             [
              0.3333333333333333,
              "#9c179e"
             ],
             [
              0.4444444444444444,
              "#bd3786"
             ],
             [
              0.5555555555555556,
              "#d8576b"
             ],
             [
              0.6666666666666666,
              "#ed7953"
             ],
             [
              0.7777777777777778,
              "#fb9f3a"
             ],
             [
              0.8888888888888888,
              "#fdca26"
             ],
             [
              1,
              "#f0f921"
             ]
            ],
            "type": "histogram2dcontour"
           }
          ],
          "mesh3d": [
           {
            "colorbar": {
             "outlinewidth": 0,
             "ticks": ""
            },
            "type": "mesh3d"
           }
          ],
          "parcoords": [
           {
            "line": {
             "colorbar": {
              "outlinewidth": 0,
              "ticks": ""
             }
            },
            "type": "parcoords"
           }
          ],
          "pie": [
           {
            "automargin": true,
            "type": "pie"
           }
          ],
          "scatter": [
           {
            "marker": {
             "colorbar": {
              "outlinewidth": 0,
              "ticks": ""
             }
            },
            "type": "scatter"
           }
          ],
          "scatter3d": [
           {
            "line": {
             "colorbar": {
              "outlinewidth": 0,
              "ticks": ""
             }
            },
            "marker": {
             "colorbar": {
              "outlinewidth": 0,
              "ticks": ""
             }
            },
            "type": "scatter3d"
           }
          ],
          "scattercarpet": [
           {
            "marker": {
             "colorbar": {
              "outlinewidth": 0,
              "ticks": ""
             }
            },
            "type": "scattercarpet"
           }
          ],
          "scattergeo": [
           {
            "marker": {
             "colorbar": {
              "outlinewidth": 0,
              "ticks": ""
             }
            },
            "type": "scattergeo"
           }
          ],
          "scattergl": [
           {
            "marker": {
             "colorbar": {
              "outlinewidth": 0,
              "ticks": ""
             }
            },
            "type": "scattergl"
           }
          ],
          "scattermapbox": [
           {
            "marker": {
             "colorbar": {
              "outlinewidth": 0,
              "ticks": ""
             }
            },
            "type": "scattermapbox"
           }
          ],
          "scatterpolar": [
           {
            "marker": {
             "colorbar": {
              "outlinewidth": 0,
              "ticks": ""
             }
            },
            "type": "scatterpolar"
           }
          ],
          "scatterpolargl": [
           {
            "marker": {
             "colorbar": {
              "outlinewidth": 0,
              "ticks": ""
             }
            },
            "type": "scatterpolargl"
           }
          ],
          "scatterternary": [
           {
            "marker": {
             "colorbar": {
              "outlinewidth": 0,
              "ticks": ""
             }
            },
            "type": "scatterternary"
           }
          ],
          "surface": [
           {
            "colorbar": {
             "outlinewidth": 0,
             "ticks": ""
            },
            "colorscale": [
             [
              0,
              "#0d0887"
             ],
             [
              0.1111111111111111,
              "#46039f"
             ],
             [
              0.2222222222222222,
              "#7201a8"
             ],
             [
              0.3333333333333333,
              "#9c179e"
             ],
             [
              0.4444444444444444,
              "#bd3786"
             ],
             [
              0.5555555555555556,
              "#d8576b"
             ],
             [
              0.6666666666666666,
              "#ed7953"
             ],
             [
              0.7777777777777778,
              "#fb9f3a"
             ],
             [
              0.8888888888888888,
              "#fdca26"
             ],
             [
              1,
              "#f0f921"
             ]
            ],
            "type": "surface"
           }
          ],
          "table": [
           {
            "cells": {
             "fill": {
              "color": "#EBF0F8"
             },
             "line": {
              "color": "white"
             }
            },
            "header": {
             "fill": {
              "color": "#C8D4E3"
             },
             "line": {
              "color": "white"
             }
            },
            "type": "table"
           }
          ]
         },
         "layout": {
          "annotationdefaults": {
           "arrowcolor": "#2a3f5f",
           "arrowhead": 0,
           "arrowwidth": 1
          },
          "autotypenumbers": "strict",
          "coloraxis": {
           "colorbar": {
            "outlinewidth": 0,
            "ticks": ""
           }
          },
          "colorscale": {
           "diverging": [
            [
             0,
             "#8e0152"
            ],
            [
             0.1,
             "#c51b7d"
            ],
            [
             0.2,
             "#de77ae"
            ],
            [
             0.3,
             "#f1b6da"
            ],
            [
             0.4,
             "#fde0ef"
            ],
            [
             0.5,
             "#f7f7f7"
            ],
            [
             0.6,
             "#e6f5d0"
            ],
            [
             0.7,
             "#b8e186"
            ],
            [
             0.8,
             "#7fbc41"
            ],
            [
             0.9,
             "#4d9221"
            ],
            [
             1,
             "#276419"
            ]
           ],
           "sequential": [
            [
             0,
             "#0d0887"
            ],
            [
             0.1111111111111111,
             "#46039f"
            ],
            [
             0.2222222222222222,
             "#7201a8"
            ],
            [
             0.3333333333333333,
             "#9c179e"
            ],
            [
             0.4444444444444444,
             "#bd3786"
            ],
            [
             0.5555555555555556,
             "#d8576b"
            ],
            [
             0.6666666666666666,
             "#ed7953"
            ],
            [
             0.7777777777777778,
             "#fb9f3a"
            ],
            [
             0.8888888888888888,
             "#fdca26"
            ],
            [
             1,
             "#f0f921"
            ]
           ],
           "sequentialminus": [
            [
             0,
             "#0d0887"
            ],
            [
             0.1111111111111111,
             "#46039f"
            ],
            [
             0.2222222222222222,
             "#7201a8"
            ],
            [
             0.3333333333333333,
             "#9c179e"
            ],
            [
             0.4444444444444444,
             "#bd3786"
            ],
            [
             0.5555555555555556,
             "#d8576b"
            ],
            [
             0.6666666666666666,
             "#ed7953"
            ],
            [
             0.7777777777777778,
             "#fb9f3a"
            ],
            [
             0.8888888888888888,
             "#fdca26"
            ],
            [
             1,
             "#f0f921"
            ]
           ]
          },
          "colorway": [
           "#636efa",
           "#EF553B",
           "#00cc96",
           "#ab63fa",
           "#FFA15A",
           "#19d3f3",
           "#FF6692",
           "#B6E880",
           "#FF97FF",
           "#FECB52"
          ],
          "font": {
           "color": "#2a3f5f"
          },
          "geo": {
           "bgcolor": "white",
           "lakecolor": "white",
           "landcolor": "#E5ECF6",
           "showlakes": true,
           "showland": true,
           "subunitcolor": "white"
          },
          "hoverlabel": {
           "align": "left"
          },
          "hovermode": "closest",
          "mapbox": {
           "style": "light"
          },
          "paper_bgcolor": "white",
          "plot_bgcolor": "#E5ECF6",
          "polar": {
           "angularaxis": {
            "gridcolor": "white",
            "linecolor": "white",
            "ticks": ""
           },
           "bgcolor": "#E5ECF6",
           "radialaxis": {
            "gridcolor": "white",
            "linecolor": "white",
            "ticks": ""
           }
          },
          "scene": {
           "xaxis": {
            "backgroundcolor": "#E5ECF6",
            "gridcolor": "white",
            "gridwidth": 2,
            "linecolor": "white",
            "showbackground": true,
            "ticks": "",
            "zerolinecolor": "white"
           },
           "yaxis": {
            "backgroundcolor": "#E5ECF6",
            "gridcolor": "white",
            "gridwidth": 2,
            "linecolor": "white",
            "showbackground": true,
            "ticks": "",
            "zerolinecolor": "white"
           },
           "zaxis": {
            "backgroundcolor": "#E5ECF6",
            "gridcolor": "white",
            "gridwidth": 2,
            "linecolor": "white",
            "showbackground": true,
            "ticks": "",
            "zerolinecolor": "white"
           }
          },
          "shapedefaults": {
           "line": {
            "color": "#2a3f5f"
           }
          },
          "ternary": {
           "aaxis": {
            "gridcolor": "white",
            "linecolor": "white",
            "ticks": ""
           },
           "baxis": {
            "gridcolor": "white",
            "linecolor": "white",
            "ticks": ""
           },
           "bgcolor": "#E5ECF6",
           "caxis": {
            "gridcolor": "white",
            "linecolor": "white",
            "ticks": ""
           }
          },
          "title": {
           "x": 0.05
          },
          "xaxis": {
           "automargin": true,
           "gridcolor": "white",
           "linecolor": "white",
           "ticks": "",
           "title": {
            "standoff": 15
           },
           "zerolinecolor": "white",
           "zerolinewidth": 2
          },
          "yaxis": {
           "automargin": true,
           "gridcolor": "white",
           "linecolor": "white",
           "ticks": "",
           "title": {
            "standoff": 15
           },
           "zerolinecolor": "white",
           "zerolinewidth": 2
          }
         }
        },
        "title": {
         "font": {
          "color": "#4D5663"
         }
        },
        "xaxis": {
         "autorange": true,
         "gridcolor": "#E1E5ED",
         "range": [
          -0.5,
          199.5
         ],
         "showgrid": true,
         "tickfont": {
          "color": "#4D5663"
         },
         "title": {
          "font": {
           "color": "#4D5663"
          },
          "text": ""
         },
         "type": "category",
         "zerolinecolor": "#E1E5ED"
        },
        "yaxis": {
         "autorange": true,
         "gridcolor": "#E1E5ED",
         "range": [
          0,
          0.002318929303961775
         ],
         "showgrid": true,
         "tickfont": {
          "color": "#4D5663"
         },
         "title": {
          "font": {
           "color": "#4D5663"
          },
          "text": ""
         },
         "type": "linear",
         "zerolinecolor": "#E1E5ED"
        }
       }
      },
      "image/png": "[encoded data removed]",
      "text/html": [
       "<div>                            <div id=\"6a31bdc9-4689-439c-8bb4-1ce0aa6cb1ba\" class=\"plotly-graph-div\" style=\"height:525px; width:100%;\"></div>            <script type=\"text/javascript\">                require([\"plotly\"], function(Plotly) {                    window.PLOTLYENV=window.PLOTLYENV || {};\n",
       "                    window.PLOTLYENV.BASE_URL='https://plot.ly';                                    if (document.getElementById(\"6a31bdc9-4689-439c-8bb4-1ce0aa6cb1ba\")) {                    Plotly.newPlot(                        \"6a31bdc9-4689-439c-8bb4-1ce0aa6cb1ba\",                        [{\"marker\":{\"color\":\"rgba(255, 153, 51, 0.6)\",\"line\":{\"color\":\"rgba(255, 153, 51, 1.0)\",\"width\":1}},\"name\":\"None\",\"orientation\":\"v\",\"text\":\"\",\"type\":\"bar\",\"x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y\":[0.002202982838763686,0.002202982838763686,0.002202982838763686,0.002202982838763686,0.002202982838763686,0.002202982838763686,0.002202982838763686,0.002202982838763686,0.002202982838763686,0.002202982838763686,0.002202982838763686,0.002202982838763686,0.002202982838763686,0.002202982838763686,0.002202982838763686,0.002202982838763686,0.002202982838763686,0.002202982838763686,0.002202982838763686,0.002202982838763686,0.002202982838763686,0.002202982838763686,0.002202982838763686,0.002202982838763686,0.002202982838763686,0.002202982838763686,0.002202982838763686,0.001101491419381843,0.001101491419381843,0.001101491419381843,0.001101491419381843,0.001101491419381843,0.001101491419381843,0.001101491419381843,0.001101491419381843,0.001101491419381843,0.001101491419381843,0.001101491419381843,0.001101491419381843,0.001101491419381843,0.001101491419381843,0.001101491419381843,0.001101491419381843,0.001101491419381843,0.001101491419381843,0.001101491419381843,0.001101491419381843,0.001101491419381843,0.001101491419381843,0.001101491419381843,0.001101491419381843,0.001101491419381843,0.001101491419381843,0.001101491419381843,0.001101491419381843,0.001101491419381843,0.001101491419381843,0.001101491419381843,0.001101491419381843,0.001101491419381843,0.001101491419381843,0.001101491419381843,0.001101491419381843,0.001101491419381843,0.001101491419381843,0.001101491419381843,0.001101491419381843,0.001101491419381843,0.001101491419381843,0.001101491419381843,0.001101491419381843,0.001101491419381843,0.001101491419381843,0.001101491419381843,0.001101491419381843,0.001101491419381843,0.001101491419381843,0.001101491419381843,0.001101491419381843,0.001101491419381843,0.001101491419381843,0.001101491419381843,0.001101491419381843,0.001101491419381843,0.001101491419381843,0.001101491419381843,0.001101491419381843,0.001101491419381843,0.001101491419381843,0.001101491419381843,0.001101491419381843,0.001101491419381843,0.001101491419381843,0.001101491419381843,0.001101491419381843,0.001101491419381843,0.001101491419381843,0.001101491419381843,0.001101491419381843,0.001101491419381843,0.001101491419381843,0.001101491419381843,0.001101491419381843,0.001101491419381843,0.001101491419381843,0.001101491419381843,0.001101491419381843,0.001101491419381843,0.001101491419381843,0.001101491419381843,0.001101491419381843,0.001101491419381843,0.0,0.0,0.0,0.0,0.0,0.0,0.0,0.0,0.0,0.0,0.0,0.0,0.0,0.0,0.0,0.0,0.0,0.0,0.0,0.0,0.0,0.0,0.0,0.0,0.0,0.0,0.0,0.0,0.0,0.0,0.0,0.0,0.0,0.0,0.0,0.0,0.0,0.0,0.0,0.0,0.0,0.0,0.0,0.0,0.0,0.0,0.0,0.0,0.0,0.0,0.0,0.0,0.0,0.0,0.0,0.0,0.0,0.0,0.0,0.0,0.0,0.0,0.0,0.0,0.0,0.0,0.0,0.0,0.0,0.0,0.0,0.0,0.0,0.0,0.0,0.0,0.0,0.0,0.0,0.0,0.0,0.0,0.0,0.0,0.0,0.0,0.0,0.0]}],                        {\"legend\":{\"bgcolor\":\"#F5F6F9\",\"font\":{\"color\":\"#4D5663\"}},\"paper_bgcolor\":\"#F5F6F9\",\"plot_bgcolor\":\"#F5F6F9\",\"template\":{\"data\":{\"bar\":[{\"error_x\":{\"color\":\"#2a3f5f\"},\"error_y\":{\"color\":\"#2a3f5f\"},\"marker\":{\"line\":{\"color\":\"#E5ECF6\",\"width\":0.5},\"pattern\":{\"fillmode\":\"overlay\",\"size\":10,\"solidity\":0.2}},\"type\":\"bar\"}],\"barpolar\":[{\"marker\":{\"line\":{\"color\":\"#E5ECF6\",\"width\":0.5},\"pattern\":{\"fillmode\":\"overlay\",\"size\":10,\"solidity\":0.2}},\"type\":\"barpolar\"}],\"carpet\":[{\"aaxis\":{\"endlinecolor\":\"#2a3f5f\",\"gridcolor\":\"white\",\"linecolor\":\"white\",\"minorgridcolor\":\"white\",\"startlinecolor\":\"#2a3f5f\"},\"baxis\":{\"endlinecolor\":\"#2a3f5f\",\"gridcolor\":\"white\",\"linecolor\":\"white\",\"minorgridcolor\":\"white\",\"startlinecolor\":\"#2a3f5f\"},\"type\":\"carpet\"}],\"choropleth\":[{\"colorbar\":{\"outlinewidth\":0,\"ticks\":\"\"},\"type\":\"choropleth\"}],\"contour\":[{\"colorbar\":{\"outlinewidth\":0,\"ticks\":\"\"},\"colorscale\":[[0.0,\"#0d0887\"],[0.1111111111111111,\"#46039f\"],[0.2222222222222222,\"#7201a8\"],[0.3333333333333333,\"#9c179e\"],[0.4444444444444444,\"#bd3786\"],[0.5555555555555556,\"#d8576b\"],[0.6666666666666666,\"#ed7953\"],[0.7777777777777778,\"#fb9f3a\"],[0.8888888888888888,\"#fdca26\"],[1.0,\"#f0f921\"]],\"type\":\"contour\"}],\"contourcarpet\":[{\"colorbar\":{\"outlinewidth\":0,\"ticks\":\"\"},\"type\":\"contourcarpet\"}],\"heatmap\":[{\"colorbar\":{\"outlinewidth\":0,\"ticks\":\"\"},\"colorscale\":[[0.0,\"#0d0887\"],[0.1111111111111111,\"#46039f\"],[0.2222222222222222,\"#7201a8\"],[0.3333333333333333,\"#9c179e\"],[0.4444444444444444,\"#bd3786\"],[0.5555555555555556,\"#d8576b\"],[0.6666666666666666,\"#ed7953\"],[0.7777777777777778,\"#fb9f3a\"],[0.8888888888888888,\"#fdca26\"],[1.0,\"#f0f921\"]],\"type\":\"heatmap\"}],\"heatmapgl\":[{\"colorbar\":{\"outlinewidth\":0,\"ticks\":\"\"},\"colorscale\":[[0.0,\"#0d0887\"],[0.1111111111111111,\"#46039f\"],[0.2222222222222222,\"#7201a8\"],[0.3333333333333333,\"#9c179e\"],[0.4444444444444444,\"#bd3786\"],[0.5555555555555556,\"#d8576b\"],[0.6666666666666666,\"#ed7953\"],[0.7777777777777778,\"#fb9f3a\"],[0.8888888888888888,\"#fdca26\"],[1.0,\"#f0f921\"]],\"type\":\"heatmapgl\"}],\"histogram\":[{\"marker\":{\"pattern\":{\"fillmode\":\"overlay\",\"size\":10,\"solidity\":0.2}},\"type\":\"histogram\"}],\"histogram2d\":[{\"colorbar\":{\"outlinewidth\":0,\"ticks\":\"\"},\"colorscale\":[[0.0,\"#0d0887\"],[0.1111111111111111,\"#46039f\"],[0.2222222222222222,\"#7201a8\"],[0.3333333333333333,\"#9c179e\"],[0.4444444444444444,\"#bd3786\"],[0.5555555555555556,\"#d8576b\"],[0.6666666666666666,\"#ed7953\"],[0.7777777777777778,\"#fb9f3a\"],[0.8888888888888888,\"#fdca26\"],[1.0,\"#f0f921\"]],\"type\":\"histogram2d\"}],\"histogram2dcontour\":[{\"colorbar\":{\"outlinewidth\":0,\"ticks\":\"\"},\"colorscale\":[[0.0,\"#0d0887\"],[0.1111111111111111,\"#46039f\"],[0.2222222222222222,\"#7201a8\"],[0.3333333333333333,\"#9c179e\"],[0.4444444444444444,\"#bd3786\"],[0.5555555555555556,\"#d8576b\"],[0.6666666666666666,\"#ed7953\"],[0.7777777777777778,\"#fb9f3a\"],[0.8888888888888888,\"#fdca26\"],[1.0,\"#f0f921\"]],\"type\":\"histogram2dcontour\"}],\"mesh3d\":[{\"colorbar\":{\"outlinewidth\":0,\"ticks\":\"\"},\"type\":\"mesh3d\"}],\"parcoords\":[{\"line\":{\"colorbar\":{\"outlinewidth\":0,\"ticks\":\"\"}},\"type\":\"parcoords\"}],\"pie\":[{\"automargin\":true,\"type\":\"pie\"}],\"scatter\":[{\"marker\":{\"colorbar\":{\"outlinewidth\":0,\"ticks\":\"\"}},\"type\":\"scatter\"}],\"scatter3d\":[{\"line\":{\"colorbar\":{\"outlinewidth\":0,\"ticks\":\"\"}},\"marker\":{\"colorbar\":{\"outlinewidth\":0,\"ticks\":\"\"}},\"type\":\"scatter3d\"}],\"scattercarpet\":[{\"marker\":{\"colorbar\":{\"outlinewidth\":0,\"ticks\":\"\"}},\"type\":\"scattercarpet\"}],\"scattergeo\":[{\"marker\":{\"colorbar\":{\"outlinewidth\":0,\"ticks\":\"\"}},\"type\":\"scattergeo\"}],\"scattergl\":[{\"marker\":{\"colorbar\":{\"outlinewidth\":0,\"ticks\":\"\"}},\"type\":\"scattergl\"}],\"scattermapbox\":[{\"marker\":{\"colorbar\":{\"outlinewidth\":0,\"ticks\":\"\"}},\"type\":\"scattermapbox\"}],\"scatterpolar\":[{\"marker\":{\"colorbar\":{\"outlinewidth\":0,\"ticks\":\"\"}},\"type\":\"scatterpolar\"}],\"scatterpolargl\":[{\"marker\":{\"colorbar\":{\"outlinewidth\":0,\"ticks\":\"\"}},\"type\":\"scatterpolargl\"}],\"scatterternary\":[{\"marker\":{\"colorbar\":{\"outlinewidth\":0,\"ticks\":\"\"}},\"type\":\"scatterternary\"}],\"surface\":[{\"colorbar\":{\"outlinewidth\":0,\"ticks\":\"\"},\"colorscale\":[[0.0,\"#0d0887\"],[0.1111111111111111,\"#46039f\"],[0.2222222222222222,\"#7201a8\"],[0.3333333333333333,\"#9c179e\"],[0.4444444444444444,\"#bd3786\"],[0.5555555555555556,\"#d8576b\"],[0.6666666666666666,\"#ed7953\"],[0.7777777777777778,\"#fb9f3a\"],[0.8888888888888888,\"#fdca26\"],[1.0,\"#f0f921\"]],\"type\":\"surface\"}],\"table\":[{\"cells\":{\"fill\":{\"color\":\"#EBF0F8\"},\"line\":{\"color\":\"white\"}},\"header\":{\"fill\":{\"color\":\"#C8D4E3\"},\"line\":{\"color\":\"white\"}},\"type\":\"table\"}]},\"layout\":{\"annotationdefaults\":{\"arrowcolor\":\"#2a3f5f\",\"arrowhead\":0,\"arrowwidth\":1},\"autotypenumbers\":\"strict\",\"coloraxis\":{\"colorbar\":{\"outlinewidth\":0,\"ticks\":\"\"}},\"colorscale\":{\"diverging\":[[0,\"#8e0152\"],[0.1,\"#c51b7d\"],[0.2,\"#de77ae\"],[0.3,\"#f1b6da\"],[0.4,\"#fde0ef\"],[0.5,\"#f7f7f7\"],[0.6,\"#e6f5d0\"],[0.7,\"#b8e186\"],[0.8,\"#7fbc41\"],[0.9,\"#4d9221\"],[1,\"#276419\"]],\"sequential\":[[0.0,\"#0d0887\"],[0.1111111111111111,\"#46039f\"],[0.2222222222222222,\"#7201a8\"],[0.3333333333333333,\"#9c179e\"],[0.4444444444444444,\"#bd3786\"],[0.5555555555555556,\"#d8576b\"],[0.6666666666666666,\"#ed7953\"],[0.7777777777777778,\"#fb9f3a\"],[0.8888888888888888,\"#fdca26\"],[1.0,\"#f0f921\"]],\"sequentialminus\":[[0.0,\"#0d0887\"],[0.1111111111111111,\"#46039f\"],[0.2222222222222222,\"#7201a8\"],[0.3333333333333333,\"#9c179e\"],[0.4444444444444444,\"#bd3786\"],[0.5555555555555556,\"#d8576b\"],[0.6666666666666666,\"#ed7953\"],[0.7777777777777778,\"#fb9f3a\"],[0.8888888888888888,\"#fdca26\"],[1.0,\"#f0f921\"]]},\"colorway\":[\"#636efa\",\"#EF553B\",\"#00cc96\",\"#ab63fa\",\"#FFA15A\",\"#19d3f3\",\"#FF6692\",\"#B6E880\",\"#FF97FF\",\"#FECB52\"],\"font\":{\"color\":\"#2a3f5f\"},\"geo\":{\"bgcolor\":\"white\",\"lakecolor\":\"white\",\"landcolor\":\"#E5ECF6\",\"showlakes\":true,\"showland\":true,\"subunitcolor\":\"white\"},\"hoverlabel\":{\"align\":\"left\"},\"hovermode\":\"closest\",\"mapbox\":{\"style\":\"light\"},\"paper_bgcolor\":\"white\",\"plot_bgcolor\":\"#E5ECF6\",\"polar\":{\"angularaxis\":{\"gridcolor\":\"white\",\"linecolor\":\"white\",\"ticks\":\"\"},\"bgcolor\":\"#E5ECF6\",\"radialaxis\":{\"gridcolor\":\"white\",\"linecolor\":\"white\",\"ticks\":\"\"}},\"scene\":{\"xaxis\":{\"backgroundcolor\":\"#E5ECF6\",\"gridcolor\":\"white\",\"gridwidth\":2,\"linecolor\":\"white\",\"showbackground\":true,\"ticks\":\"\",\"zerolinecolor\":\"white\"},\"yaxis\":{\"backgroundcolor\":\"#E5ECF6\",\"gridcolor\":\"white\",\"gridwidth\":2,\"linecolor\":\"white\",\"showbackground\":true,\"ticks\":\"\",\"zerolinecolor\":\"white\"},\"zaxis\":{\"backgroundcolor\":\"#E5ECF6\",\"gridcolor\":\"white\",\"gridwidth\":2,\"linecolor\":\"white\",\"showbackground\":true,\"ticks\":\"\",\"zerolinecolor\":\"white\"}},\"shapedefaults\":{\"line\":{\"color\":\"#2a3f5f\"}},\"ternary\":{\"aaxis\":{\"gridcolor\":\"white\",\"linecolor\":\"white\",\"ticks\":\"\"},\"baxis\":{\"gridcolor\":\"white\",\"linecolor\":\"white\",\"ticks\":\"\"},\"bgcolor\":\"#E5ECF6\",\"caxis\":{\"gridcolor\":\"white\",\"linecolor\":\"white\",\"ticks\":\"\"}},\"title\":{\"x\":0.05},\"xaxis\":{\"automargin\":true,\"gridcolor\":\"white\",\"linecolor\":\"white\",\"ticks\":\"\",\"title\":{\"standoff\":15},\"zerolinecolor\":\"white\",\"zerolinewidth\":2},\"yaxis\":{\"automargin\":true,\"gridcolor\":\"white\",\"linecolor\":\"white\",\"ticks\":\"\",\"title\":{\"standoff\":15},\"zerolinecolor\":\"white\",\"zerolinewidth\":2}}},\"title\":{\"font\":{\"color\":\"#4D5663\"}},\"xaxis\":{\"gridcolor\":\"#E1E5ED\",\"showgrid\":true,\"tickfont\":{\"color\":\"#4D5663\"},\"title\":{\"font\":{\"color\":\"#4D5663\"},\"text\":\"\"},\"zerolinecolor\":\"#E1E5ED\"},\"yaxis\":{\"gridcolor\":\"#E1E5ED\",\"showgrid\":true,\"tickfont\":{\"color\":\"#4D5663\"},\"title\":{\"font\":{\"color\":\"#4D5663\"},\"text\":\"\"},\"zerolinecolor\":\"#E1E5ED\"}},                        {\"showLink\": true, \"linkText\": \"Export to plot.ly\", \"plotlyServerURL\": \"https://plot.ly\", \"responsive\": true}                    ).then(function(){\n",
       "                            \n",
       "var gd = document.getElementById('6a31bdc9-4689-439c-8bb4-1ce0aa6cb1ba');\n",
       "var x = new MutationObserver(function (mutations, observer) {{\n",
       "        var display = window.getComputedStyle(gd).display;\n",
       "        if (!display || display === 'none') {{\n",
       "            console.log([gd, 'removed!']);\n",
       "            Plotly.purge(gd);\n",
       "            observer.disconnect();\n",
       "        }}\n",
       "}});\n",
       "\n",
       "// Listen for the removal of the full notebook cells\n",
       "var notebookContainer = gd.closest('#notebook-container');\n",
       "if (notebookContainer) {{\n",
       "    x.observe(notebookContainer, {childList: true});\n",
       "}}\n",
       "\n",
       "// Listen for the clearing of the current output cell\n",
       "var outputEl = gd.closest('.output');\n",
       "if (outputEl) {{\n",
       "    x.observe(outputEl, {childList: true});\n",
       "}}\n",
       "\n",
       "                        })                };                });            </script>        </div>"
      ]
     },
     "metadata": {},
     "output_type": "display_data"
    }
   ],
   "source": [
    "missing_percentage.sort_values(ascending=False).tail(200).iplot(kind='bar')"
   ]
  },
  {
   "cell_type": "markdown",
   "id": "8c10af2d-7efd-40c5-bb15-71b630001f3d",
   "metadata": {},
   "source": [
    "### Unique values"
   ]
  },
  {
   "cell_type": "code",
   "execution_count": 89,
   "id": "db293f10-51e7-4f66-bea6-419b07a725c7",
   "metadata": {},
   "outputs": [
    {
     "data": {
      "text/plain": [
       "count       767.000000\n",
       "mean      21589.123859\n",
       "std      111197.584291\n",
       "min           1.000000\n",
       "25%          14.000000\n",
       "50%          81.000000\n",
       "75%         331.000000\n",
       "max      723293.000000\n",
       "dtype: float64"
      ]
     },
     "execution_count": 89,
     "metadata": {},
     "output_type": "execute_result"
    }
   ],
   "source": [
    "df.nunique().describe()"
   ]
  },
  {
   "cell_type": "markdown",
   "id": "3c7c504f-1abe-4533-8c63-2cf4de17d89f",
   "metadata": {},
   "source": [
    "### Target analysis"
   ]
  },
  {
   "cell_type": "code",
   "execution_count": 16,
   "id": "5d9ea1a5-367b-45c4-9972-3f52c9ea9316",
   "metadata": {},
   "outputs": [],
   "source": [
    "target_test = 'TLJYWBE'\n",
    "failure_thd = 1e-5\n",
    "target_test_col = df[target_test]"
   ]
  },
  {
   "cell_type": "code",
   "execution_count": 17,
   "id": "9a1060ed-0de4-47f1-862e-d5fbfa260a6e",
   "metadata": {},
   "outputs": [
    {
     "data": {
      "text/plain": [
       "16770"
      ]
     },
     "execution_count": 17,
     "metadata": {},
     "output_type": "execute_result"
    }
   ],
   "source": [
    "target_test_col.isna().sum()"
   ]
  },
  {
   "cell_type": "code",
   "execution_count": 18,
   "id": "407773b9-a9e6-414e-adc9-8d568dae1bc6",
   "metadata": {},
   "outputs": [
    {
     "data": {
      "text/plain": [
       "False    726224\n",
       "True         64\n",
       "Name: TLJYWBE, dtype: int64"
      ]
     },
     "execution_count": 18,
     "metadata": {},
     "output_type": "execute_result"
    }
   ],
   "source": [
    "(target_test_col >= failure_thd).value_counts()"
   ]
  },
  {
   "cell_type": "markdown",
   "id": "30090ebf-2bcd-400d-80ad-3005170a354f",
   "metadata": {},
   "source": [
    "### Correlations"
   ]
  },
  {
   "cell_type": "code",
   "execution_count": 55,
   "id": "19330c7c-0c4a-4d0e-b9c8-1ae4b37effae",
   "metadata": {},
   "outputs": [],
   "source": [
    "sample_for_corr_calc = df.sample(frac=0.1, random_state=42)"
   ]
  },
  {
   "cell_type": "code",
   "execution_count": 56,
   "id": "d218f906-e39c-4894-b908-8391922fcc56",
   "metadata": {},
   "outputs": [
    {
     "data": {
      "text/plain": [
       "658"
      ]
     },
     "execution_count": 56,
     "metadata": {},
     "output_type": "execute_result"
    }
   ],
   "source": [
    "valid_cols = missing_percentage[missing_percentage < 50].index\n",
    "dtypes = df.dtypes\n",
    "float_cols = [c for c in dtypes[dtypes == 'float64'].index.tolist() if c in valid_cols]\n",
    "len(float_cols)"
   ]
  },
  {
   "cell_type": "code",
   "execution_count": 58,
   "id": "7976e771-00f1-4b68-9f72-800efda9b133",
   "metadata": {},
   "outputs": [
    {
     "name": "stdout",
     "output_type": "stream",
     "text": [
      "[########################################] | 100% Completed |  3min 39.4s\n"
     ]
    }
   ],
   "source": [
    "from dask.diagnostics import ProgressBar\n",
    "import dask.dataframe as dd\n",
    "\n",
    "ddf = dd.from_pandas(sample_for_corr_calc, npartitions=8)\n",
    "\n",
    "with ProgressBar():\n",
    "    correlation_matrix = ddf[float_cols].corr().compute()"
   ]
  },
  {
   "cell_type": "code",
   "execution_count": 59,
   "id": "d578f843-ddf9-4ce5-a47e-0e6df72a578b",
   "metadata": {},
   "outputs": [],
   "source": [
    "melted_corr = correlation_matrix.stack().reset_index()\n",
    "melted_corr.columns = ['col1', 'col2', 'corr']\n",
    "melted_corr = melted_corr[melted_corr['col1'] != melted_corr['col2']]"
   ]
  },
  {
   "cell_type": "code",
   "execution_count": 60,
   "id": "f8e9b2bc-4507-472b-b4ea-30d605bc2845",
   "metadata": {},
   "outputs": [
    {
     "data": {
      "text/html": [
       "<div>\n",
       "<style scoped>\n",
       "    .dataframe tbody tr th:only-of-type {\n",
       "        vertical-align: middle;\n",
       "    }\n",
       "\n",
       "    .dataframe tbody tr th {\n",
       "        vertical-align: top;\n",
       "    }\n",
       "\n",
       "    .dataframe thead th {\n",
       "        text-align: right;\n",
       "    }\n",
       "</style>\n",
       "<table border=\"1\" class=\"dataframe\">\n",
       "  <thead>\n",
       "    <tr style=\"text-align: right;\">\n",
       "      <th></th>\n",
       "      <th>col1</th>\n",
       "      <th>col2</th>\n",
       "      <th>corr</th>\n",
       "    </tr>\n",
       "  </thead>\n",
       "  <tbody>\n",
       "    <tr>\n",
       "      <th>74684</th>\n",
       "      <td>IFZDTPK</td>\n",
       "      <td>CXQMCRY</td>\n",
       "      <td>1.000000</td>\n",
       "    </tr>\n",
       "    <tr>\n",
       "      <th>74043</th>\n",
       "      <td>CXQMCRY</td>\n",
       "      <td>IFZDTPK</td>\n",
       "      <td>1.000000</td>\n",
       "    </tr>\n",
       "    <tr>\n",
       "      <th>106753</th>\n",
       "      <td>JNEVNAR</td>\n",
       "      <td>RZPQSGM</td>\n",
       "      <td>1.000000</td>\n",
       "    </tr>\n",
       "    <tr>\n",
       "      <th>106111</th>\n",
       "      <td>RZPQSGM</td>\n",
       "      <td>JNEVNAR</td>\n",
       "      <td>1.000000</td>\n",
       "    </tr>\n",
       "    <tr>\n",
       "      <th>70823</th>\n",
       "      <td>HHWCKEO</td>\n",
       "      <td>LTCKGYN</td>\n",
       "      <td>1.000000</td>\n",
       "    </tr>\n",
       "    <tr>\n",
       "      <th>70182</th>\n",
       "      <td>LTCKGYN</td>\n",
       "      <td>HHWCKEO</td>\n",
       "      <td>1.000000</td>\n",
       "    </tr>\n",
       "    <tr>\n",
       "      <th>72756</th>\n",
       "      <td>JMPVBOV</td>\n",
       "      <td>SLHDFLB</td>\n",
       "      <td>1.000000</td>\n",
       "    </tr>\n",
       "    <tr>\n",
       "      <th>73397</th>\n",
       "      <td>SLHDFLB</td>\n",
       "      <td>JMPVBOV</td>\n",
       "      <td>1.000000</td>\n",
       "    </tr>\n",
       "    <tr>\n",
       "      <th>71469</th>\n",
       "      <td>INJPVHJ</td>\n",
       "      <td>LVMHJCI</td>\n",
       "      <td>1.000000</td>\n",
       "    </tr>\n",
       "    <tr>\n",
       "      <th>72110</th>\n",
       "      <td>LVMHJCI</td>\n",
       "      <td>INJPVHJ</td>\n",
       "      <td>1.000000</td>\n",
       "    </tr>\n",
       "    <tr>\n",
       "      <th>39287</th>\n",
       "      <td>KWGZVQN</td>\n",
       "      <td>LNZGNNA</td>\n",
       "      <td>1.000000</td>\n",
       "    </tr>\n",
       "    <tr>\n",
       "      <th>41849</th>\n",
       "      <td>LNZGNNA</td>\n",
       "      <td>KWGZVQN</td>\n",
       "      <td>1.000000</td>\n",
       "    </tr>\n",
       "    <tr>\n",
       "      <th>41207</th>\n",
       "      <td>WTMETCB</td>\n",
       "      <td>PYGQGOY</td>\n",
       "      <td>1.000000</td>\n",
       "    </tr>\n",
       "    <tr>\n",
       "      <th>38644</th>\n",
       "      <td>PYGQGOY</td>\n",
       "      <td>WTMETCB</td>\n",
       "      <td>1.000000</td>\n",
       "    </tr>\n",
       "    <tr>\n",
       "      <th>43787</th>\n",
       "      <td>HVHDNTE</td>\n",
       "      <td>PKCUSYS</td>\n",
       "      <td>0.999999</td>\n",
       "    </tr>\n",
       "    <tr>\n",
       "      <th>45712</th>\n",
       "      <td>PKCUSYS</td>\n",
       "      <td>HVHDNTE</td>\n",
       "      <td>0.999999</td>\n",
       "    </tr>\n",
       "    <tr>\n",
       "      <th>43143</th>\n",
       "      <td>ILHBFRB</td>\n",
       "      <td>UZXVNSW</td>\n",
       "      <td>0.999998</td>\n",
       "    </tr>\n",
       "    <tr>\n",
       "      <th>45068</th>\n",
       "      <td>UZXVNSW</td>\n",
       "      <td>ILHBFRB</td>\n",
       "      <td>0.999998</td>\n",
       "    </tr>\n",
       "    <tr>\n",
       "      <th>361469</th>\n",
       "      <td>IUCJIOI</td>\n",
       "      <td>LZIQISI</td>\n",
       "      <td>0.999964</td>\n",
       "    </tr>\n",
       "    <tr>\n",
       "      <th>193940</th>\n",
       "      <td>LZIQISI</td>\n",
       "      <td>IUCJIOI</td>\n",
       "      <td>0.999964</td>\n",
       "    </tr>\n",
       "    <tr>\n",
       "      <th>360825</th>\n",
       "      <td>LTZYUVU</td>\n",
       "      <td>KMGNWGY</td>\n",
       "      <td>0.999945</td>\n",
       "    </tr>\n",
       "    <tr>\n",
       "      <th>193296</th>\n",
       "      <td>KMGNWGY</td>\n",
       "      <td>LTZYUVU</td>\n",
       "      <td>0.999945</td>\n",
       "    </tr>\n",
       "    <tr>\n",
       "      <th>194584</th>\n",
       "      <td>DEAUOMN</td>\n",
       "      <td>WVRSHBW</td>\n",
       "      <td>0.999945</td>\n",
       "    </tr>\n",
       "    <tr>\n",
       "      <th>362113</th>\n",
       "      <td>WVRSHBW</td>\n",
       "      <td>DEAUOMN</td>\n",
       "      <td>0.999945</td>\n",
       "    </tr>\n",
       "    <tr>\n",
       "      <th>316084</th>\n",
       "      <td>EYARVDG</td>\n",
       "      <td>RFVSOEI</td>\n",
       "      <td>0.999941</td>\n",
       "    </tr>\n",
       "    <tr>\n",
       "      <th>357805</th>\n",
       "      <td>RFVSOEI</td>\n",
       "      <td>EYARVDG</td>\n",
       "      <td>0.999941</td>\n",
       "    </tr>\n",
       "    <tr>\n",
       "      <th>192005</th>\n",
       "      <td>ZUEEBTY</td>\n",
       "      <td>RFVSOEI</td>\n",
       "      <td>0.999911</td>\n",
       "    </tr>\n",
       "    <tr>\n",
       "      <th>357612</th>\n",
       "      <td>RFVSOEI</td>\n",
       "      <td>ZUEEBTY</td>\n",
       "      <td>0.999911</td>\n",
       "    </tr>\n",
       "    <tr>\n",
       "      <th>191940</th>\n",
       "      <td>ZUEEBTY</td>\n",
       "      <td>EYARVDG</td>\n",
       "      <td>0.999851</td>\n",
       "    </tr>\n",
       "    <tr>\n",
       "      <th>315826</th>\n",
       "      <td>EYARVDG</td>\n",
       "      <td>ZUEEBTY</td>\n",
       "      <td>0.999851</td>\n",
       "    </tr>\n",
       "    <tr>\n",
       "      <th>38642</th>\n",
       "      <td>PYGQGOY</td>\n",
       "      <td>OULTOYT</td>\n",
       "      <td>0.999785</td>\n",
       "    </tr>\n",
       "    <tr>\n",
       "      <th>39924</th>\n",
       "      <td>OULTOYT</td>\n",
       "      <td>PYGQGOY</td>\n",
       "      <td>0.999785</td>\n",
       "    </tr>\n",
       "    <tr>\n",
       "      <th>39928</th>\n",
       "      <td>OULTOYT</td>\n",
       "      <td>WTMETCB</td>\n",
       "      <td>0.999783</td>\n",
       "    </tr>\n",
       "    <tr>\n",
       "      <th>41209</th>\n",
       "      <td>WTMETCB</td>\n",
       "      <td>OULTOYT</td>\n",
       "      <td>0.999783</td>\n",
       "    </tr>\n",
       "    <tr>\n",
       "      <th>191362</th>\n",
       "      <td>KRFHHDX</td>\n",
       "      <td>JKILSTV</td>\n",
       "      <td>0.999677</td>\n",
       "    </tr>\n",
       "    <tr>\n",
       "      <th>356969</th>\n",
       "      <td>JKILSTV</td>\n",
       "      <td>KRFHHDX</td>\n",
       "      <td>0.999677</td>\n",
       "    </tr>\n",
       "    <tr>\n",
       "      <th>357162</th>\n",
       "      <td>JKILSTV</td>\n",
       "      <td>EKTAHFF</td>\n",
       "      <td>0.999647</td>\n",
       "    </tr>\n",
       "    <tr>\n",
       "      <th>315441</th>\n",
       "      <td>EKTAHFF</td>\n",
       "      <td>JKILSTV</td>\n",
       "      <td>0.999647</td>\n",
       "    </tr>\n",
       "    <tr>\n",
       "      <th>263349</th>\n",
       "      <td>RLYWHCU</td>\n",
       "      <td>PZYGETW</td>\n",
       "      <td>0.999567</td>\n",
       "    </tr>\n",
       "    <tr>\n",
       "      <th>345508</th>\n",
       "      <td>PZYGETW</td>\n",
       "      <td>RLYWHCU</td>\n",
       "      <td>0.999567</td>\n",
       "    </tr>\n",
       "    <tr>\n",
       "      <th>179771</th>\n",
       "      <td>YCJYNVQ</td>\n",
       "      <td>PZYGETW</td>\n",
       "      <td>0.999565</td>\n",
       "    </tr>\n",
       "    <tr>\n",
       "      <th>345378</th>\n",
       "      <td>PZYGETW</td>\n",
       "      <td>YCJYNVQ</td>\n",
       "      <td>0.999565</td>\n",
       "    </tr>\n",
       "    <tr>\n",
       "      <th>179449</th>\n",
       "      <td>YCJYNVQ</td>\n",
       "      <td>VOHXBZJ</td>\n",
       "      <td>0.999562</td>\n",
       "    </tr>\n",
       "    <tr>\n",
       "      <th>138369</th>\n",
       "      <td>VOHXBZJ</td>\n",
       "      <td>YCJYNVQ</td>\n",
       "      <td>0.999562</td>\n",
       "    </tr>\n",
       "    <tr>\n",
       "      <th>179643</th>\n",
       "      <td>YCJYNVQ</td>\n",
       "      <td>RLYWHCU</td>\n",
       "      <td>0.999559</td>\n",
       "    </tr>\n",
       "    <tr>\n",
       "      <th>263091</th>\n",
       "      <td>RLYWHCU</td>\n",
       "      <td>YCJYNVQ</td>\n",
       "      <td>0.999559</td>\n",
       "    </tr>\n",
       "    <tr>\n",
       "      <th>138627</th>\n",
       "      <td>VOHXBZJ</td>\n",
       "      <td>PZYGETW</td>\n",
       "      <td>0.999550</td>\n",
       "    </tr>\n",
       "    <tr>\n",
       "      <th>345314</th>\n",
       "      <td>PZYGETW</td>\n",
       "      <td>VOHXBZJ</td>\n",
       "      <td>0.999550</td>\n",
       "    </tr>\n",
       "    <tr>\n",
       "      <th>138499</th>\n",
       "      <td>VOHXBZJ</td>\n",
       "      <td>RLYWHCU</td>\n",
       "      <td>0.999543</td>\n",
       "    </tr>\n",
       "    <tr>\n",
       "      <th>263027</th>\n",
       "      <td>RLYWHCU</td>\n",
       "      <td>VOHXBZJ</td>\n",
       "      <td>0.999543</td>\n",
       "    </tr>\n",
       "  </tbody>\n",
       "</table>\n",
       "</div>"
      ],
      "text/plain": [
       "           col1     col2      corr\n",
       "74684   IFZDTPK  CXQMCRY  1.000000\n",
       "74043   CXQMCRY  IFZDTPK  1.000000\n",
       "106753  JNEVNAR  RZPQSGM  1.000000\n",
       "106111  RZPQSGM  JNEVNAR  1.000000\n",
       "70823   HHWCKEO  LTCKGYN  1.000000\n",
       "70182   LTCKGYN  HHWCKEO  1.000000\n",
       "72756   JMPVBOV  SLHDFLB  1.000000\n",
       "73397   SLHDFLB  JMPVBOV  1.000000\n",
       "71469   INJPVHJ  LVMHJCI  1.000000\n",
       "72110   LVMHJCI  INJPVHJ  1.000000\n",
       "39287   KWGZVQN  LNZGNNA  1.000000\n",
       "41849   LNZGNNA  KWGZVQN  1.000000\n",
       "41207   WTMETCB  PYGQGOY  1.000000\n",
       "38644   PYGQGOY  WTMETCB  1.000000\n",
       "43787   HVHDNTE  PKCUSYS  0.999999\n",
       "45712   PKCUSYS  HVHDNTE  0.999999\n",
       "43143   ILHBFRB  UZXVNSW  0.999998\n",
       "45068   UZXVNSW  ILHBFRB  0.999998\n",
       "361469  IUCJIOI  LZIQISI  0.999964\n",
       "193940  LZIQISI  IUCJIOI  0.999964\n",
       "360825  LTZYUVU  KMGNWGY  0.999945\n",
       "193296  KMGNWGY  LTZYUVU  0.999945\n",
       "194584  DEAUOMN  WVRSHBW  0.999945\n",
       "362113  WVRSHBW  DEAUOMN  0.999945\n",
       "316084  EYARVDG  RFVSOEI  0.999941\n",
       "357805  RFVSOEI  EYARVDG  0.999941\n",
       "192005  ZUEEBTY  RFVSOEI  0.999911\n",
       "357612  RFVSOEI  ZUEEBTY  0.999911\n",
       "191940  ZUEEBTY  EYARVDG  0.999851\n",
       "315826  EYARVDG  ZUEEBTY  0.999851\n",
       "38642   PYGQGOY  OULTOYT  0.999785\n",
       "39924   OULTOYT  PYGQGOY  0.999785\n",
       "39928   OULTOYT  WTMETCB  0.999783\n",
       "41209   WTMETCB  OULTOYT  0.999783\n",
       "191362  KRFHHDX  JKILSTV  0.999677\n",
       "356969  JKILSTV  KRFHHDX  0.999677\n",
       "357162  JKILSTV  EKTAHFF  0.999647\n",
       "315441  EKTAHFF  JKILSTV  0.999647\n",
       "263349  RLYWHCU  PZYGETW  0.999567\n",
       "345508  PZYGETW  RLYWHCU  0.999567\n",
       "179771  YCJYNVQ  PZYGETW  0.999565\n",
       "345378  PZYGETW  YCJYNVQ  0.999565\n",
       "179449  YCJYNVQ  VOHXBZJ  0.999562\n",
       "138369  VOHXBZJ  YCJYNVQ  0.999562\n",
       "179643  YCJYNVQ  RLYWHCU  0.999559\n",
       "263091  RLYWHCU  YCJYNVQ  0.999559\n",
       "138627  VOHXBZJ  PZYGETW  0.999550\n",
       "345314  PZYGETW  VOHXBZJ  0.999550\n",
       "138499  VOHXBZJ  RLYWHCU  0.999543\n",
       "263027  RLYWHCU  VOHXBZJ  0.999543"
      ]
     },
     "execution_count": 60,
     "metadata": {},
     "output_type": "execute_result"
    }
   ],
   "source": [
    "melted_corr = melted_corr.sort_values(by='corr', ascending=False)\n",
    "melted_corr.head(50)"
   ]
  }
 ],
 "metadata": {
  "kernelspec": {
   "display_name": "Python 3",
   "language": "python",
   "name": "python3"
  },
  "language_info": {
   "codemirror_mode": {
    "name": "ipython",
    "version": 3
   },
   "file_extension": ".py",
   "mimetype": "text/x-python",
   "name": "python",
   "nbconvert_exporter": "python",
   "pygments_lexer": "ipython3",
   "version": "3.8.8"
  }
 },
 "nbformat": 4,
 "nbformat_minor": 5
}
