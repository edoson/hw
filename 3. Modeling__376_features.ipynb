{
 "cells": [
  {
   "cell_type": "markdown",
   "id": "d37b69e3-67cd-4e3c-8b74-4616c2490f4a",
   "metadata": {},
   "source": [
    "# Final Modeling"
   ]
  },
  {
   "cell_type": "code",
   "execution_count": 15,
   "id": "7746a254-94a4-43f0-b4af-86521c77175d",
   "metadata": {
    "tags": []
   },
   "outputs": [],
   "source": [
    "import pandas as pd\n",
    "import numpy as np\n",
    "from sklearn.model_selection import train_test_split"
   ]
  },
  {
   "cell_type": "markdown",
   "id": "68182f6b-400c-4138-9382-2a04944be2c8",
   "metadata": {},
   "source": [
    "## Dataset craetion"
   ]
  },
  {
   "cell_type": "code",
   "execution_count": 16,
   "id": "712cde10-08d6-4f6e-bb8d-a18f05254396",
   "metadata": {
    "tags": []
   },
   "outputs": [
    {
     "name": "stdout",
     "output_type": "stream",
     "text": [
      "<class 'pandas.core.frame.DataFrame'>\n",
      "RangeIndex: 709518 entries, 0 to 709517\n",
      "Columns: 368 entries, HKTLMYY to TLJYWBE\n",
      "dtypes: float64(347), int64(21)\n",
      "memory usage: 1.9 GB\n"
     ]
    }
   ],
   "source": [
    "df = pd.read_feather('dataset_no_duplicates_no_univalue_no_correlated_columns.feather')\n",
    "df.info()"
   ]
  },
  {
   "cell_type": "code",
   "execution_count": 17,
   "id": "a3eaa0be-8e4f-4129-87d4-95187d017151",
   "metadata": {
    "tags": []
   },
   "outputs": [
    {
     "data": {
      "text/plain": [
       "False    709454\n",
       "True         64\n",
       "Name: TLJYWBE, dtype: int64"
      ]
     },
     "execution_count": 17,
     "metadata": {},
     "output_type": "execute_result"
    }
   ],
   "source": [
    "target = 'TLJYWBE'\n",
    "df[target] = df[target].apply(lambda v: v >= 1e-5)\n",
    "df[target].value_counts()"
   ]
  },
  {
   "cell_type": "code",
   "execution_count": 18,
   "id": "af3247b9-5fed-46da-af30-ec089aa9ffba",
   "metadata": {
    "tags": []
   },
   "outputs": [],
   "source": [
    "features = [c for c in df.columns if c != target]\n",
    "training_features, test_features, train_target, test_target = train_test_split(df[features], df[target], test_size=0.3, stratify=df[target])"
   ]
  },
  {
   "cell_type": "code",
   "execution_count": 19,
   "id": "2d8f763c-e1ed-44e5-85d1-b2ed3eb0952b",
   "metadata": {
    "tags": []
   },
   "outputs": [
    {
     "name": "stdout",
     "output_type": "stream",
     "text": [
      "Training set shape: (496662, 367)\n",
      "Training set target shape: (496662,)\n",
      "Test set shape: (212856, 367)\n",
      "Training set target shape: (212856,)\n"
     ]
    }
   ],
   "source": [
    "print(f'Training set shape: {training_features.shape}')\n",
    "print(f'Training set target shape: {train_target.shape}')\n",
    "print(f'Test set shape: {test_features.shape}')\n",
    "print(f'Training set target shape: {test_target.shape}')"
   ]
  },
  {
   "cell_type": "code",
   "execution_count": 20,
   "id": "5d64d00c-c331-4482-a11d-685f2f4ad1ad",
   "metadata": {
    "tags": []
   },
   "outputs": [
    {
     "data": {
      "text/plain": [
       "False    212837\n",
       "True         19\n",
       "Name: TLJYWBE, dtype: int64"
      ]
     },
     "execution_count": 20,
     "metadata": {},
     "output_type": "execute_result"
    }
   ],
   "source": [
    "test_target.value_counts()"
   ]
  },
  {
   "cell_type": "markdown",
   "id": "bd5a9c02-1801-4829-b3c9-ea4e43dd1acd",
   "metadata": {},
   "source": [
    "## Modeling"
   ]
  },
  {
   "cell_type": "code",
   "execution_count": 21,
   "id": "06d82279-13f3-4ba0-9e8f-ff572ad11747",
   "metadata": {
    "tags": []
   },
   "outputs": [],
   "source": [
    "import numpy as np\n",
    "from sklearn.compose import ColumnTransformer\n",
    "from sklearn.pipeline import Pipeline\n",
    "from sklearn.impute import SimpleImputer\n",
    "from sklearn.preprocessing import StandardScaler, OneHotEncoder\n",
    "from sklearn.linear_model import LogisticRegression\n",
    "from imblearn.ensemble import BalancedRandomForestClassifier\n",
    "from sklearn.model_selection import GridSearchCV, StratifiedKFold, RepeatedStratifiedKFold"
   ]
  },
  {
   "cell_type": "code",
   "execution_count": 22,
   "id": "db463ee4-2656-437f-a9b2-765c57b485b5",
   "metadata": {
    "tags": []
   },
   "outputs": [
    {
     "data": {
      "text/plain": [
       "float64    346\n",
       "int64       21\n",
       "dtype: int64"
      ]
     },
     "execution_count": 22,
     "metadata": {},
     "output_type": "execute_result"
    }
   ],
   "source": [
    "dtypes = training_features.dtypes\n",
    "dtypes.value_counts()"
   ]
  },
  {
   "cell_type": "code",
   "execution_count": 23,
   "id": "8f732df3-ad4f-43fd-a0a2-27c80c49e2a7",
   "metadata": {
    "tags": []
   },
   "outputs": [
    {
     "data": {
      "text/plain": [
       "(21, 346, 0)"
      ]
     },
     "execution_count": 23,
     "metadata": {},
     "output_type": "execute_result"
    }
   ],
   "source": [
    "int_features = dtypes[dtypes == 'int64'].index\n",
    "float_features = dtypes[dtypes == 'float64'].index\n",
    "cat_features = dtypes[dtypes == 'object'].index\n",
    "len(int_features), len(float_features), len(cat_features)"
   ]
  },
  {
   "cell_type": "code",
   "execution_count": 24,
   "id": "08c6cb39-da12-4740-a188-3845097249c1",
   "metadata": {
    "tags": []
   },
   "outputs": [],
   "source": [
    "numeric_transformer = Pipeline(steps=[\n",
    "    ('imputer', SimpleImputer(strategy='median')),\n",
    "    ('scaler', StandardScaler())\n",
    "])\n",
    "\n",
    "categorical_transformer = Pipeline(steps=[\n",
    "    ('imputer', SimpleImputer(strategy='constant', fill_value='missing')),\n",
    "    ('onehot', OneHotEncoder(handle_unknown='ignore'))\n",
    "])\n",
    "\n",
    "preprocessor = ColumnTransformer(\n",
    "    transformers=[\n",
    "        ('int', numeric_transformer, int_features),\n",
    "        ('float', numeric_transformer, float_features),\n",
    "        ('cat', categorical_transformer, cat_features)\n",
    "    ])\n",
    "\n",
    "pipeline = Pipeline(steps=[('preprocessor', preprocessor),\n",
    "                           ('classifier', 'passthrough')  \n",
    "                          ])"
   ]
  },
  {
   "cell_type": "markdown",
   "id": "4a9bde24-82f1-45fe-afeb-cdb9d61f9c97",
   "metadata": {},
   "source": [
    "## Balanced Random Forest"
   ]
  },
  {
   "cell_type": "code",
   "execution_count": 43,
   "id": "afe6e806-134e-4d90-ae17-102716c0e27b",
   "metadata": {
    "tags": []
   },
   "outputs": [],
   "source": [
    "param_grid = [\n",
    "    {\n",
    "        'classifier': [BalancedRandomForestClassifier(replacement=True)],\n",
    "        'classifier__max_depth': [10],\n",
    "        'classifier__n_estimators': [150, 200],\n",
    "        'classifier__min_samples_leaf': [4],\n",
    "        'classifier__sampling_strategy': [0.05, 0.01, 0.2]\n",
    "    }\n",
    "]"
   ]
  },
  {
   "cell_type": "code",
   "execution_count": 44,
   "id": "ef3cc0c8-eaf9-40cc-ae69-8630b5434213",
   "metadata": {
    "tags": []
   },
   "outputs": [],
   "source": [
    "from src.custom_metrics import precision_at_full_recall, precision_at_full_recall_scorer"
   ]
  },
  {
   "cell_type": "code",
   "execution_count": 45,
   "id": "71161214-8e8d-4096-9fb2-cc35a112b371",
   "metadata": {
    "tags": []
   },
   "outputs": [
    {
     "name": "stdout",
     "output_type": "stream",
     "text": [
      "CPU times: user 57.8 s, sys: 5.82 s, total: 1min 3s\n",
      "Wall time: 12min 46s\n"
     ]
    },
    {
     "data": {
      "text/html": [
       "<style>#sk-container-id-2 {color: black;}#sk-container-id-2 pre{padding: 0;}#sk-container-id-2 div.sk-toggleable {background-color: white;}#sk-container-id-2 label.sk-toggleable__label {cursor: pointer;display: block;width: 100%;margin-bottom: 0;padding: 0.3em;box-sizing: border-box;text-align: center;}#sk-container-id-2 label.sk-toggleable__label-arrow:before {content: \"▸\";float: left;margin-right: 0.25em;color: #696969;}#sk-container-id-2 label.sk-toggleable__label-arrow:hover:before {color: black;}#sk-container-id-2 div.sk-estimator:hover label.sk-toggleable__label-arrow:before {color: black;}#sk-container-id-2 div.sk-toggleable__content {max-height: 0;max-width: 0;overflow: hidden;text-align: left;background-color: #f0f8ff;}#sk-container-id-2 div.sk-toggleable__content pre {margin: 0.2em;color: black;border-radius: 0.25em;background-color: #f0f8ff;}#sk-container-id-2 input.sk-toggleable__control:checked~div.sk-toggleable__content {max-height: 200px;max-width: 100%;overflow: auto;}#sk-container-id-2 input.sk-toggleable__control:checked~label.sk-toggleable__label-arrow:before {content: \"▾\";}#sk-container-id-2 div.sk-estimator input.sk-toggleable__control:checked~label.sk-toggleable__label {background-color: #d4ebff;}#sk-container-id-2 div.sk-label input.sk-toggleable__control:checked~label.sk-toggleable__label {background-color: #d4ebff;}#sk-container-id-2 input.sk-hidden--visually {border: 0;clip: rect(1px 1px 1px 1px);clip: rect(1px, 1px, 1px, 1px);height: 1px;margin: -1px;overflow: hidden;padding: 0;position: absolute;width: 1px;}#sk-container-id-2 div.sk-estimator {font-family: monospace;background-color: #f0f8ff;border: 1px dotted black;border-radius: 0.25em;box-sizing: border-box;margin-bottom: 0.5em;}#sk-container-id-2 div.sk-estimator:hover {background-color: #d4ebff;}#sk-container-id-2 div.sk-parallel-item::after {content: \"\";width: 100%;border-bottom: 1px solid gray;flex-grow: 1;}#sk-container-id-2 div.sk-label:hover label.sk-toggleable__label {background-color: #d4ebff;}#sk-container-id-2 div.sk-serial::before {content: \"\";position: absolute;border-left: 1px solid gray;box-sizing: border-box;top: 0;bottom: 0;left: 50%;z-index: 0;}#sk-container-id-2 div.sk-serial {display: flex;flex-direction: column;align-items: center;background-color: white;padding-right: 0.2em;padding-left: 0.2em;position: relative;}#sk-container-id-2 div.sk-item {position: relative;z-index: 1;}#sk-container-id-2 div.sk-parallel {display: flex;align-items: stretch;justify-content: center;background-color: white;position: relative;}#sk-container-id-2 div.sk-item::before, #sk-container-id-2 div.sk-parallel-item::before {content: \"\";position: absolute;border-left: 1px solid gray;box-sizing: border-box;top: 0;bottom: 0;left: 50%;z-index: -1;}#sk-container-id-2 div.sk-parallel-item {display: flex;flex-direction: column;z-index: 1;position: relative;background-color: white;}#sk-container-id-2 div.sk-parallel-item:first-child::after {align-self: flex-end;width: 50%;}#sk-container-id-2 div.sk-parallel-item:last-child::after {align-self: flex-start;width: 50%;}#sk-container-id-2 div.sk-parallel-item:only-child::after {width: 0;}#sk-container-id-2 div.sk-dashed-wrapped {border: 1px dashed gray;margin: 0 0.4em 0.5em 0.4em;box-sizing: border-box;padding-bottom: 0.4em;background-color: white;}#sk-container-id-2 div.sk-label label {font-family: monospace;font-weight: bold;display: inline-block;line-height: 1.2em;}#sk-container-id-2 div.sk-label-container {text-align: center;}#sk-container-id-2 div.sk-container {/* jupyter's `normalize.less` sets `[hidden] { display: none; }` but bootstrap.min.css set `[hidden] { display: none !important; }` so we also need the `!important` here to be able to override the default hidden behavior on the sphinx rendered scikit-learn.org. See: https://github.com/scikit-learn/scikit-learn/issues/21755 */display: inline-block !important;position: relative;}#sk-container-id-2 div.sk-text-repr-fallback {display: none;}</style><div id=\"sk-container-id-2\" class=\"sk-top-container\"><div class=\"sk-text-repr-fallback\"><pre>GridSearchCV(cv=RepeatedStratifiedKFold(n_repeats=2, n_splits=5, random_state=1),\n",
       "             estimator=Pipeline(steps=[(&#x27;preprocessor&#x27;,\n",
       "                                        ColumnTransformer(transformers=[(&#x27;int&#x27;,\n",
       "                                                                         Pipeline(steps=[(&#x27;imputer&#x27;,\n",
       "                                                                                          SimpleImputer(strategy=&#x27;median&#x27;)),\n",
       "                                                                                         (&#x27;scaler&#x27;,\n",
       "                                                                                          StandardScaler())]),\n",
       "                                                                         Index([&#x27;HKTLMYY&#x27;, &#x27;JEKQIKE&#x27;, &#x27;MUEKGHC&#x27;, &#x27;HVTWAZN&#x27;, &#x27;SBUETBP&#x27;, &#x27;WSRRROM&#x27;,\n",
       "       &#x27;EGWONKF&#x27;, &#x27;XEUMIIT&#x27;, &#x27;JYNEQWD&#x27;, &#x27;X...\n",
       "             param_grid=[{&#x27;classifier&#x27;: [BalancedRandomForestClassifier(max_depth=10,\n",
       "                                                                        min_samples_leaf=4,\n",
       "                                                                        n_estimators=200,\n",
       "                                                                        replacement=True,\n",
       "                                                                        sampling_strategy=0.01)],\n",
       "                          &#x27;classifier__max_depth&#x27;: [10],\n",
       "                          &#x27;classifier__min_samples_leaf&#x27;: [4],\n",
       "                          &#x27;classifier__n_estimators&#x27;: [150, 200],\n",
       "                          &#x27;classifier__sampling_strategy&#x27;: [0.05, 0.01, 0.2]}],\n",
       "             scoring=make_scorer(precision_at_full_recall, needs_proba=True))</pre><b>In a Jupyter environment, please rerun this cell to show the HTML representation or trust the notebook. <br />On GitHub, the HTML representation is unable to render, please try loading this page with nbviewer.org.</b></div><div class=\"sk-container\" hidden><div class=\"sk-item sk-dashed-wrapped\"><div class=\"sk-label-container\"><div class=\"sk-label sk-toggleable\"><input class=\"sk-toggleable__control sk-hidden--visually\" id=\"sk-estimator-id-14\" type=\"checkbox\" ><label for=\"sk-estimator-id-14\" class=\"sk-toggleable__label sk-toggleable__label-arrow\">GridSearchCV</label><div class=\"sk-toggleable__content\"><pre>GridSearchCV(cv=RepeatedStratifiedKFold(n_repeats=2, n_splits=5, random_state=1),\n",
       "             estimator=Pipeline(steps=[(&#x27;preprocessor&#x27;,\n",
       "                                        ColumnTransformer(transformers=[(&#x27;int&#x27;,\n",
       "                                                                         Pipeline(steps=[(&#x27;imputer&#x27;,\n",
       "                                                                                          SimpleImputer(strategy=&#x27;median&#x27;)),\n",
       "                                                                                         (&#x27;scaler&#x27;,\n",
       "                                                                                          StandardScaler())]),\n",
       "                                                                         Index([&#x27;HKTLMYY&#x27;, &#x27;JEKQIKE&#x27;, &#x27;MUEKGHC&#x27;, &#x27;HVTWAZN&#x27;, &#x27;SBUETBP&#x27;, &#x27;WSRRROM&#x27;,\n",
       "       &#x27;EGWONKF&#x27;, &#x27;XEUMIIT&#x27;, &#x27;JYNEQWD&#x27;, &#x27;X...\n",
       "             param_grid=[{&#x27;classifier&#x27;: [BalancedRandomForestClassifier(max_depth=10,\n",
       "                                                                        min_samples_leaf=4,\n",
       "                                                                        n_estimators=200,\n",
       "                                                                        replacement=True,\n",
       "                                                                        sampling_strategy=0.01)],\n",
       "                          &#x27;classifier__max_depth&#x27;: [10],\n",
       "                          &#x27;classifier__min_samples_leaf&#x27;: [4],\n",
       "                          &#x27;classifier__n_estimators&#x27;: [150, 200],\n",
       "                          &#x27;classifier__sampling_strategy&#x27;: [0.05, 0.01, 0.2]}],\n",
       "             scoring=make_scorer(precision_at_full_recall, needs_proba=True))</pre></div></div></div><div class=\"sk-parallel\"><div class=\"sk-parallel-item\"><div class=\"sk-item\"><div class=\"sk-label-container\"><div class=\"sk-label sk-toggleable\"><input class=\"sk-toggleable__control sk-hidden--visually\" id=\"sk-estimator-id-15\" type=\"checkbox\" ><label for=\"sk-estimator-id-15\" class=\"sk-toggleable__label sk-toggleable__label-arrow\">estimator: Pipeline</label><div class=\"sk-toggleable__content\"><pre>Pipeline(steps=[(&#x27;preprocessor&#x27;,\n",
       "                 ColumnTransformer(transformers=[(&#x27;int&#x27;,\n",
       "                                                  Pipeline(steps=[(&#x27;imputer&#x27;,\n",
       "                                                                   SimpleImputer(strategy=&#x27;median&#x27;)),\n",
       "                                                                  (&#x27;scaler&#x27;,\n",
       "                                                                   StandardScaler())]),\n",
       "                                                  Index([&#x27;HKTLMYY&#x27;, &#x27;JEKQIKE&#x27;, &#x27;MUEKGHC&#x27;, &#x27;HVTWAZN&#x27;, &#x27;SBUETBP&#x27;, &#x27;WSRRROM&#x27;,\n",
       "       &#x27;EGWONKF&#x27;, &#x27;XEUMIIT&#x27;, &#x27;JYNEQWD&#x27;, &#x27;XJUIXIR&#x27;, &#x27;WLULXFN&#x27;, &#x27;AQYGYOE&#x27;,\n",
       "       &#x27;YZRVJSE&#x27;, &#x27;EULURHL&#x27;, &#x27;WCZJBOX&#x27;, &#x27;PIACHYE&#x27;, &#x27;LCAOHWW&#x27;, &#x27;PATWSZC&#x27;,\n",
       "       &#x27;...\n",
       "       &#x27;TDMCRGU&#x27;, &#x27;HNDGNRG&#x27;, &#x27;HFHITLP&#x27;, &#x27;MSVWNFK&#x27;,\n",
       "       ...\n",
       "       &#x27;GYXMTQR&#x27;, &#x27;JZRBYSL&#x27;, &#x27;AYAJVQL&#x27;, &#x27;KNIKHDA&#x27;, &#x27;LLZRQRY&#x27;, &#x27;PSXOLCG&#x27;,\n",
       "       &#x27;NPVZRXF&#x27;, &#x27;RGDZIYI&#x27;, &#x27;UWFUPRN&#x27;, &#x27;IHCEXCN&#x27;],\n",
       "      dtype=&#x27;object&#x27;, length=346)),\n",
       "                                                 (&#x27;cat&#x27;,\n",
       "                                                  Pipeline(steps=[(&#x27;imputer&#x27;,\n",
       "                                                                   SimpleImputer(fill_value=&#x27;missing&#x27;,\n",
       "                                                                                 strategy=&#x27;constant&#x27;)),\n",
       "                                                                  (&#x27;onehot&#x27;,\n",
       "                                                                   OneHotEncoder(handle_unknown=&#x27;ignore&#x27;))]),\n",
       "                                                  Index([], dtype=&#x27;object&#x27;))])),\n",
       "                (&#x27;classifier&#x27;, &#x27;passthrough&#x27;)])</pre></div></div></div><div class=\"sk-serial\"><div class=\"sk-item\"><div class=\"sk-serial\"><div class=\"sk-item sk-dashed-wrapped\"><div class=\"sk-label-container\"><div class=\"sk-label sk-toggleable\"><input class=\"sk-toggleable__control sk-hidden--visually\" id=\"sk-estimator-id-16\" type=\"checkbox\" ><label for=\"sk-estimator-id-16\" class=\"sk-toggleable__label sk-toggleable__label-arrow\">preprocessor: ColumnTransformer</label><div class=\"sk-toggleable__content\"><pre>ColumnTransformer(transformers=[(&#x27;int&#x27;,\n",
       "                                 Pipeline(steps=[(&#x27;imputer&#x27;,\n",
       "                                                  SimpleImputer(strategy=&#x27;median&#x27;)),\n",
       "                                                 (&#x27;scaler&#x27;, StandardScaler())]),\n",
       "                                 Index([&#x27;HKTLMYY&#x27;, &#x27;JEKQIKE&#x27;, &#x27;MUEKGHC&#x27;, &#x27;HVTWAZN&#x27;, &#x27;SBUETBP&#x27;, &#x27;WSRRROM&#x27;,\n",
       "       &#x27;EGWONKF&#x27;, &#x27;XEUMIIT&#x27;, &#x27;JYNEQWD&#x27;, &#x27;XJUIXIR&#x27;, &#x27;WLULXFN&#x27;, &#x27;AQYGYOE&#x27;,\n",
       "       &#x27;YZRVJSE&#x27;, &#x27;EULURHL&#x27;, &#x27;WCZJBOX&#x27;, &#x27;PIACHYE&#x27;, &#x27;LCAOHWW&#x27;, &#x27;PATWSZC&#x27;,\n",
       "       &#x27;FPBFOEB&#x27;, &#x27;XIRNYHK&#x27;, &#x27;HBQPQTD&#x27;],\n",
       "      dt...\n",
       "                                 Index([&#x27;IJEXXXL&#x27;, &#x27;KVNLYTZ&#x27;, &#x27;ADOIOYN&#x27;, &#x27;GPCKISJ&#x27;, &#x27;BFYTKKS&#x27;, &#x27;HNJMSWN&#x27;,\n",
       "       &#x27;TDMCRGU&#x27;, &#x27;HNDGNRG&#x27;, &#x27;HFHITLP&#x27;, &#x27;MSVWNFK&#x27;,\n",
       "       ...\n",
       "       &#x27;GYXMTQR&#x27;, &#x27;JZRBYSL&#x27;, &#x27;AYAJVQL&#x27;, &#x27;KNIKHDA&#x27;, &#x27;LLZRQRY&#x27;, &#x27;PSXOLCG&#x27;,\n",
       "       &#x27;NPVZRXF&#x27;, &#x27;RGDZIYI&#x27;, &#x27;UWFUPRN&#x27;, &#x27;IHCEXCN&#x27;],\n",
       "      dtype=&#x27;object&#x27;, length=346)),\n",
       "                                (&#x27;cat&#x27;,\n",
       "                                 Pipeline(steps=[(&#x27;imputer&#x27;,\n",
       "                                                  SimpleImputer(fill_value=&#x27;missing&#x27;,\n",
       "                                                                strategy=&#x27;constant&#x27;)),\n",
       "                                                 (&#x27;onehot&#x27;,\n",
       "                                                  OneHotEncoder(handle_unknown=&#x27;ignore&#x27;))]),\n",
       "                                 Index([], dtype=&#x27;object&#x27;))])</pre></div></div></div><div class=\"sk-parallel\"><div class=\"sk-parallel-item\"><div class=\"sk-item\"><div class=\"sk-label-container\"><div class=\"sk-label sk-toggleable\"><input class=\"sk-toggleable__control sk-hidden--visually\" id=\"sk-estimator-id-17\" type=\"checkbox\" ><label for=\"sk-estimator-id-17\" class=\"sk-toggleable__label sk-toggleable__label-arrow\">int</label><div class=\"sk-toggleable__content\"><pre>Index([&#x27;HKTLMYY&#x27;, &#x27;JEKQIKE&#x27;, &#x27;MUEKGHC&#x27;, &#x27;HVTWAZN&#x27;, &#x27;SBUETBP&#x27;, &#x27;WSRRROM&#x27;,\n",
       "       &#x27;EGWONKF&#x27;, &#x27;XEUMIIT&#x27;, &#x27;JYNEQWD&#x27;, &#x27;XJUIXIR&#x27;, &#x27;WLULXFN&#x27;, &#x27;AQYGYOE&#x27;,\n",
       "       &#x27;YZRVJSE&#x27;, &#x27;EULURHL&#x27;, &#x27;WCZJBOX&#x27;, &#x27;PIACHYE&#x27;, &#x27;LCAOHWW&#x27;, &#x27;PATWSZC&#x27;,\n",
       "       &#x27;FPBFOEB&#x27;, &#x27;XIRNYHK&#x27;, &#x27;HBQPQTD&#x27;],\n",
       "      dtype=&#x27;object&#x27;)</pre></div></div></div><div class=\"sk-serial\"><div class=\"sk-item\"><div class=\"sk-serial\"><div class=\"sk-item\"><div class=\"sk-estimator sk-toggleable\"><input class=\"sk-toggleable__control sk-hidden--visually\" id=\"sk-estimator-id-18\" type=\"checkbox\" ><label for=\"sk-estimator-id-18\" class=\"sk-toggleable__label sk-toggleable__label-arrow\">SimpleImputer</label><div class=\"sk-toggleable__content\"><pre>SimpleImputer(strategy=&#x27;median&#x27;)</pre></div></div></div><div class=\"sk-item\"><div class=\"sk-estimator sk-toggleable\"><input class=\"sk-toggleable__control sk-hidden--visually\" id=\"sk-estimator-id-19\" type=\"checkbox\" ><label for=\"sk-estimator-id-19\" class=\"sk-toggleable__label sk-toggleable__label-arrow\">StandardScaler</label><div class=\"sk-toggleable__content\"><pre>StandardScaler()</pre></div></div></div></div></div></div></div></div><div class=\"sk-parallel-item\"><div class=\"sk-item\"><div class=\"sk-label-container\"><div class=\"sk-label sk-toggleable\"><input class=\"sk-toggleable__control sk-hidden--visually\" id=\"sk-estimator-id-20\" type=\"checkbox\" ><label for=\"sk-estimator-id-20\" class=\"sk-toggleable__label sk-toggleable__label-arrow\">float</label><div class=\"sk-toggleable__content\"><pre>Index([&#x27;IJEXXXL&#x27;, &#x27;KVNLYTZ&#x27;, &#x27;ADOIOYN&#x27;, &#x27;GPCKISJ&#x27;, &#x27;BFYTKKS&#x27;, &#x27;HNJMSWN&#x27;,\n",
       "       &#x27;TDMCRGU&#x27;, &#x27;HNDGNRG&#x27;, &#x27;HFHITLP&#x27;, &#x27;MSVWNFK&#x27;,\n",
       "       ...\n",
       "       &#x27;GYXMTQR&#x27;, &#x27;JZRBYSL&#x27;, &#x27;AYAJVQL&#x27;, &#x27;KNIKHDA&#x27;, &#x27;LLZRQRY&#x27;, &#x27;PSXOLCG&#x27;,\n",
       "       &#x27;NPVZRXF&#x27;, &#x27;RGDZIYI&#x27;, &#x27;UWFUPRN&#x27;, &#x27;IHCEXCN&#x27;],\n",
       "      dtype=&#x27;object&#x27;, length=346)</pre></div></div></div><div class=\"sk-serial\"><div class=\"sk-item\"><div class=\"sk-serial\"><div class=\"sk-item\"><div class=\"sk-estimator sk-toggleable\"><input class=\"sk-toggleable__control sk-hidden--visually\" id=\"sk-estimator-id-21\" type=\"checkbox\" ><label for=\"sk-estimator-id-21\" class=\"sk-toggleable__label sk-toggleable__label-arrow\">SimpleImputer</label><div class=\"sk-toggleable__content\"><pre>SimpleImputer(strategy=&#x27;median&#x27;)</pre></div></div></div><div class=\"sk-item\"><div class=\"sk-estimator sk-toggleable\"><input class=\"sk-toggleable__control sk-hidden--visually\" id=\"sk-estimator-id-22\" type=\"checkbox\" ><label for=\"sk-estimator-id-22\" class=\"sk-toggleable__label sk-toggleable__label-arrow\">StandardScaler</label><div class=\"sk-toggleable__content\"><pre>StandardScaler()</pre></div></div></div></div></div></div></div></div><div class=\"sk-parallel-item\"><div class=\"sk-item\"><div class=\"sk-label-container\"><div class=\"sk-label sk-toggleable\"><input class=\"sk-toggleable__control sk-hidden--visually\" id=\"sk-estimator-id-23\" type=\"checkbox\" ><label for=\"sk-estimator-id-23\" class=\"sk-toggleable__label sk-toggleable__label-arrow\">cat</label><div class=\"sk-toggleable__content\"><pre>Index([], dtype=&#x27;object&#x27;)</pre></div></div></div><div class=\"sk-serial\"><div class=\"sk-item\"><div class=\"sk-serial\"><div class=\"sk-item\"><div class=\"sk-estimator sk-toggleable\"><input class=\"sk-toggleable__control sk-hidden--visually\" id=\"sk-estimator-id-24\" type=\"checkbox\" ><label for=\"sk-estimator-id-24\" class=\"sk-toggleable__label sk-toggleable__label-arrow\">SimpleImputer</label><div class=\"sk-toggleable__content\"><pre>SimpleImputer(fill_value=&#x27;missing&#x27;, strategy=&#x27;constant&#x27;)</pre></div></div></div><div class=\"sk-item\"><div class=\"sk-estimator sk-toggleable\"><input class=\"sk-toggleable__control sk-hidden--visually\" id=\"sk-estimator-id-25\" type=\"checkbox\" ><label for=\"sk-estimator-id-25\" class=\"sk-toggleable__label sk-toggleable__label-arrow\">OneHotEncoder</label><div class=\"sk-toggleable__content\"><pre>OneHotEncoder(handle_unknown=&#x27;ignore&#x27;)</pre></div></div></div></div></div></div></div></div></div></div><div class=\"sk-item\"><div class=\"sk-estimator sk-toggleable\"><input class=\"sk-toggleable__control sk-hidden--visually\" id=\"sk-estimator-id-26\" type=\"checkbox\" ><label for=\"sk-estimator-id-26\" class=\"sk-toggleable__label sk-toggleable__label-arrow\">passthrough</label><div class=\"sk-toggleable__content\"><pre>passthrough</pre></div></div></div></div></div></div></div></div></div></div></div></div>"
      ],
      "text/plain": [
       "GridSearchCV(cv=RepeatedStratifiedKFold(n_repeats=2, n_splits=5, random_state=1),\n",
       "             estimator=Pipeline(steps=[('preprocessor',\n",
       "                                        ColumnTransformer(transformers=[('int',\n",
       "                                                                         Pipeline(steps=[('imputer',\n",
       "                                                                                          SimpleImputer(strategy='median')),\n",
       "                                                                                         ('scaler',\n",
       "                                                                                          StandardScaler())]),\n",
       "                                                                         Index(['HKTLMYY', 'JEKQIKE', 'MUEKGHC', 'HVTWAZN', 'SBUETBP', 'WSRRROM',\n",
       "       'EGWONKF', 'XEUMIIT', 'JYNEQWD', 'X...\n",
       "             param_grid=[{'classifier': [BalancedRandomForestClassifier(max_depth=10,\n",
       "                                                                        min_samples_leaf=4,\n",
       "                                                                        n_estimators=200,\n",
       "                                                                        replacement=True,\n",
       "                                                                        sampling_strategy=0.01)],\n",
       "                          'classifier__max_depth': [10],\n",
       "                          'classifier__min_samples_leaf': [4],\n",
       "                          'classifier__n_estimators': [150, 200],\n",
       "                          'classifier__sampling_strategy': [0.05, 0.01, 0.2]}],\n",
       "             scoring=make_scorer(precision_at_full_recall, needs_proba=True))"
      ]
     },
     "execution_count": 45,
     "metadata": {},
     "output_type": "execute_result"
    }
   ],
   "source": [
    "%%time\n",
    "cv = RepeatedStratifiedKFold(n_splits=5, n_repeats=2, random_state=1)\n",
    "search = GridSearchCV(pipeline, param_grid, cv=cv, scoring=precision_at_full_recall_scorer, n_jobs=4)\n",
    "search.fit(training_features, train_target)"
   ]
  },
  {
   "cell_type": "code",
   "execution_count": 50,
   "id": "25fd9e9d-5a44-4ec6-9821-c80e8e2af20b",
   "metadata": {
    "tags": []
   },
   "outputs": [
    {
     "name": "stdout",
     "output_type": "stream",
     "text": [
      "Best parameter (CV score=0.00171):\n",
      "{'classifier': BalancedRandomForestClassifier(max_depth=10, min_samples_leaf=4,\n",
      "                               n_estimators=200, replacement=True,\n",
      "                               sampling_strategy=0.01), 'classifier__max_depth': 10, 'classifier__min_samples_leaf': 4, 'classifier__n_estimators': 200, 'classifier__sampling_strategy': 0.01}\n"
     ]
    }
   ],
   "source": [
    "print(\"Best parameter (CV score=%0.5f):\" % search.best_score_)\n",
    "print(search.best_params_)"
   ]
  },
  {
   "cell_type": "code",
   "execution_count": 51,
   "id": "39f219e1-5c6e-4716-b153-13bbad49b8c8",
   "metadata": {
    "tags": []
   },
   "outputs": [
    {
     "data": {
      "text/html": [
       "<div>\n",
       "<style scoped>\n",
       "    .dataframe tbody tr th:only-of-type {\n",
       "        vertical-align: middle;\n",
       "    }\n",
       "\n",
       "    .dataframe tbody tr th {\n",
       "        vertical-align: top;\n",
       "    }\n",
       "\n",
       "    .dataframe thead th {\n",
       "        text-align: right;\n",
       "    }\n",
       "</style>\n",
       "<table border=\"1\" class=\"dataframe\">\n",
       "  <thead>\n",
       "    <tr style=\"text-align: right;\">\n",
       "      <th></th>\n",
       "      <th>param_classifier__sampling_strategy</th>\n",
       "      <th>param_classifier__n_estimators</th>\n",
       "      <th>param_classifier__max_depth</th>\n",
       "      <th>mean_test_score</th>\n",
       "      <th>std_test_score</th>\n",
       "    </tr>\n",
       "  </thead>\n",
       "  <tbody>\n",
       "    <tr>\n",
       "      <th>4</th>\n",
       "      <td>0.01</td>\n",
       "      <td>200</td>\n",
       "      <td>10</td>\n",
       "      <td>0.001715</td>\n",
       "      <td>0.001307</td>\n",
       "    </tr>\n",
       "    <tr>\n",
       "      <th>3</th>\n",
       "      <td>0.05</td>\n",
       "      <td>200</td>\n",
       "      <td>10</td>\n",
       "      <td>0.001665</td>\n",
       "      <td>0.001087</td>\n",
       "    </tr>\n",
       "    <tr>\n",
       "      <th>1</th>\n",
       "      <td>0.01</td>\n",
       "      <td>150</td>\n",
       "      <td>10</td>\n",
       "      <td>0.001539</td>\n",
       "      <td>0.001110</td>\n",
       "    </tr>\n",
       "    <tr>\n",
       "      <th>0</th>\n",
       "      <td>0.05</td>\n",
       "      <td>150</td>\n",
       "      <td>10</td>\n",
       "      <td>0.001461</td>\n",
       "      <td>0.000681</td>\n",
       "    </tr>\n",
       "    <tr>\n",
       "      <th>5</th>\n",
       "      <td>0.2</td>\n",
       "      <td>200</td>\n",
       "      <td>10</td>\n",
       "      <td>0.001434</td>\n",
       "      <td>0.000946</td>\n",
       "    </tr>\n",
       "    <tr>\n",
       "      <th>2</th>\n",
       "      <td>0.2</td>\n",
       "      <td>150</td>\n",
       "      <td>10</td>\n",
       "      <td>0.001269</td>\n",
       "      <td>0.000651</td>\n",
       "    </tr>\n",
       "  </tbody>\n",
       "</table>\n",
       "</div>"
      ],
      "text/plain": [
       "  param_classifier__sampling_strategy param_classifier__n_estimators  \\\n",
       "4                                0.01                            200   \n",
       "3                                0.05                            200   \n",
       "1                                0.01                            150   \n",
       "0                                0.05                            150   \n",
       "5                                 0.2                            200   \n",
       "2                                 0.2                            150   \n",
       "\n",
       "  param_classifier__max_depth  mean_test_score  std_test_score  \n",
       "4                          10         0.001715        0.001307  \n",
       "3                          10         0.001665        0.001087  \n",
       "1                          10         0.001539        0.001110  \n",
       "0                          10         0.001461        0.000681  \n",
       "5                          10         0.001434        0.000946  \n",
       "2                          10         0.001269        0.000651  "
      ]
     },
     "execution_count": 51,
     "metadata": {},
     "output_type": "execute_result"
    }
   ],
   "source": [
    "pd.set_option('display.max_colwidth', 200)\n",
    "cols = ['param_classifier__sampling_strategy','param_classifier__n_estimators','param_classifier__max_depth', 'mean_test_score','std_test_score']\n",
    "results = pd.DataFrame(search.cv_results_).sort_values(by='mean_test_score',ascending=False)\n",
    "results.head(10)[cols]"
   ]
  },
  {
   "cell_type": "code",
   "execution_count": 52,
   "id": "d6d039a4-73f0-4ddc-82fa-ddd943fb375c",
   "metadata": {
    "tags": []
   },
   "outputs": [
    {
     "data": {
      "text/plain": [
       "(0.00016037138636843215, 0.002785758626516402)"
      ]
     },
     "execution_count": 52,
     "metadata": {},
     "output_type": "execute_result"
    }
   ],
   "source": [
    "test_predicted_probs = search.best_estimator_.predict_proba(test_features)[:,1]\n",
    "precision, thd = precision_at_full_recall(test_target, test_predicted_probs, return_thd=True)\n",
    "precision, thd"
   ]
  },
  {
   "cell_type": "code",
   "execution_count": 53,
   "id": "3a2bc9a7-1219-4554-bd76-8ada11876e45",
   "metadata": {
    "tags": []
   },
   "outputs": [
    {
     "name": "stdout",
     "output_type": "stream",
     "text": [
      "True positive to False positive ratio: 1:6235\n",
      "Percentage of tests that will be skipped  46%\n"
     ]
    }
   ],
   "source": [
    "inv_prec = 1 / precision - 1\n",
    "print(f'True positive to False positive ratio: 1:{1 / precision - 1:.0f}')\n",
    "print(f'Percentage of tests that will be skipped {100 * (1 - 19 * inv_prec / 217686): .0f}%')"
   ]
  },
  {
   "cell_type": "markdown",
   "id": "1c28132c-376a-40ab-bc9d-b2c888c8c0e1",
   "metadata": {},
   "source": [
    "## Using EasyEnsembleClassifier"
   ]
  },
  {
   "cell_type": "code",
   "execution_count": 58,
   "id": "448abfcb-9d2d-42c9-8e08-3feea764a615",
   "metadata": {
    "tags": []
   },
   "outputs": [
    {
     "name": "stdout",
     "output_type": "stream",
     "text": [
      "CPU times: user 1min 3s, sys: 5.8 s, total: 1min 9s\n",
      "Wall time: 1min 9s\n"
     ]
    },
    {
     "data": {
      "text/html": [
       "<style>#sk-container-id-4 {color: black;}#sk-container-id-4 pre{padding: 0;}#sk-container-id-4 div.sk-toggleable {background-color: white;}#sk-container-id-4 label.sk-toggleable__label {cursor: pointer;display: block;width: 100%;margin-bottom: 0;padding: 0.3em;box-sizing: border-box;text-align: center;}#sk-container-id-4 label.sk-toggleable__label-arrow:before {content: \"▸\";float: left;margin-right: 0.25em;color: #696969;}#sk-container-id-4 label.sk-toggleable__label-arrow:hover:before {color: black;}#sk-container-id-4 div.sk-estimator:hover label.sk-toggleable__label-arrow:before {color: black;}#sk-container-id-4 div.sk-toggleable__content {max-height: 0;max-width: 0;overflow: hidden;text-align: left;background-color: #f0f8ff;}#sk-container-id-4 div.sk-toggleable__content pre {margin: 0.2em;color: black;border-radius: 0.25em;background-color: #f0f8ff;}#sk-container-id-4 input.sk-toggleable__control:checked~div.sk-toggleable__content {max-height: 200px;max-width: 100%;overflow: auto;}#sk-container-id-4 input.sk-toggleable__control:checked~label.sk-toggleable__label-arrow:before {content: \"▾\";}#sk-container-id-4 div.sk-estimator input.sk-toggleable__control:checked~label.sk-toggleable__label {background-color: #d4ebff;}#sk-container-id-4 div.sk-label input.sk-toggleable__control:checked~label.sk-toggleable__label {background-color: #d4ebff;}#sk-container-id-4 input.sk-hidden--visually {border: 0;clip: rect(1px 1px 1px 1px);clip: rect(1px, 1px, 1px, 1px);height: 1px;margin: -1px;overflow: hidden;padding: 0;position: absolute;width: 1px;}#sk-container-id-4 div.sk-estimator {font-family: monospace;background-color: #f0f8ff;border: 1px dotted black;border-radius: 0.25em;box-sizing: border-box;margin-bottom: 0.5em;}#sk-container-id-4 div.sk-estimator:hover {background-color: #d4ebff;}#sk-container-id-4 div.sk-parallel-item::after {content: \"\";width: 100%;border-bottom: 1px solid gray;flex-grow: 1;}#sk-container-id-4 div.sk-label:hover label.sk-toggleable__label {background-color: #d4ebff;}#sk-container-id-4 div.sk-serial::before {content: \"\";position: absolute;border-left: 1px solid gray;box-sizing: border-box;top: 0;bottom: 0;left: 50%;z-index: 0;}#sk-container-id-4 div.sk-serial {display: flex;flex-direction: column;align-items: center;background-color: white;padding-right: 0.2em;padding-left: 0.2em;position: relative;}#sk-container-id-4 div.sk-item {position: relative;z-index: 1;}#sk-container-id-4 div.sk-parallel {display: flex;align-items: stretch;justify-content: center;background-color: white;position: relative;}#sk-container-id-4 div.sk-item::before, #sk-container-id-4 div.sk-parallel-item::before {content: \"\";position: absolute;border-left: 1px solid gray;box-sizing: border-box;top: 0;bottom: 0;left: 50%;z-index: -1;}#sk-container-id-4 div.sk-parallel-item {display: flex;flex-direction: column;z-index: 1;position: relative;background-color: white;}#sk-container-id-4 div.sk-parallel-item:first-child::after {align-self: flex-end;width: 50%;}#sk-container-id-4 div.sk-parallel-item:last-child::after {align-self: flex-start;width: 50%;}#sk-container-id-4 div.sk-parallel-item:only-child::after {width: 0;}#sk-container-id-4 div.sk-dashed-wrapped {border: 1px dashed gray;margin: 0 0.4em 0.5em 0.4em;box-sizing: border-box;padding-bottom: 0.4em;background-color: white;}#sk-container-id-4 div.sk-label label {font-family: monospace;font-weight: bold;display: inline-block;line-height: 1.2em;}#sk-container-id-4 div.sk-label-container {text-align: center;}#sk-container-id-4 div.sk-container {/* jupyter's `normalize.less` sets `[hidden] { display: none; }` but bootstrap.min.css set `[hidden] { display: none !important; }` so we also need the `!important` here to be able to override the default hidden behavior on the sphinx rendered scikit-learn.org. See: https://github.com/scikit-learn/scikit-learn/issues/21755 */display: inline-block !important;position: relative;}#sk-container-id-4 div.sk-text-repr-fallback {display: none;}</style><div id=\"sk-container-id-4\" class=\"sk-top-container\"><div class=\"sk-text-repr-fallback\"><pre>Pipeline(steps=[(&#x27;preprocessor&#x27;,\n",
       "                 ColumnTransformer(transformers=[(&#x27;int&#x27;,\n",
       "                                                  Pipeline(steps=[(&#x27;imputer&#x27;,\n",
       "                                                                   SimpleImputer(strategy=&#x27;median&#x27;)),\n",
       "                                                                  (&#x27;scaler&#x27;,\n",
       "                                                                   StandardScaler())]),\n",
       "                                                  Index([&#x27;HKTLMYY&#x27;, &#x27;JEKQIKE&#x27;, &#x27;MUEKGHC&#x27;, &#x27;HVTWAZN&#x27;, &#x27;SBUETBP&#x27;, &#x27;WSRRROM&#x27;,\n",
       "       &#x27;EGWONKF&#x27;, &#x27;XEUMIIT&#x27;, &#x27;JYNEQWD&#x27;, &#x27;XJUIXIR&#x27;, &#x27;WLULXFN&#x27;, &#x27;AQYGYOE&#x27;,\n",
       "       &#x27;YZRVJSE&#x27;, &#x27;EULURHL&#x27;, &#x27;WCZJBOX&#x27;, &#x27;PIACHYE&#x27;, &#x27;LCAOHWW&#x27;, &#x27;PATWSZC&#x27;,\n",
       "       &#x27;...\n",
       "       &#x27;GYXMTQR&#x27;, &#x27;JZRBYSL&#x27;, &#x27;AYAJVQL&#x27;, &#x27;KNIKHDA&#x27;, &#x27;LLZRQRY&#x27;, &#x27;PSXOLCG&#x27;,\n",
       "       &#x27;NPVZRXF&#x27;, &#x27;RGDZIYI&#x27;, &#x27;UWFUPRN&#x27;, &#x27;IHCEXCN&#x27;],\n",
       "      dtype=&#x27;object&#x27;, length=346)),\n",
       "                                                 (&#x27;cat&#x27;,\n",
       "                                                  Pipeline(steps=[(&#x27;imputer&#x27;,\n",
       "                                                                   SimpleImputer(fill_value=&#x27;missing&#x27;,\n",
       "                                                                                 strategy=&#x27;constant&#x27;)),\n",
       "                                                                  (&#x27;onehot&#x27;,\n",
       "                                                                   OneHotEncoder(handle_unknown=&#x27;ignore&#x27;))]),\n",
       "                                                  Index([], dtype=&#x27;object&#x27;))])),\n",
       "                (&#x27;classifier&#x27;, EasyEnsembleClassifier(sampling_strategy=0.01))])</pre><b>In a Jupyter environment, please rerun this cell to show the HTML representation or trust the notebook. <br />On GitHub, the HTML representation is unable to render, please try loading this page with nbviewer.org.</b></div><div class=\"sk-container\" hidden><div class=\"sk-item sk-dashed-wrapped\"><div class=\"sk-label-container\"><div class=\"sk-label sk-toggleable\"><input class=\"sk-toggleable__control sk-hidden--visually\" id=\"sk-estimator-id-39\" type=\"checkbox\" ><label for=\"sk-estimator-id-39\" class=\"sk-toggleable__label sk-toggleable__label-arrow\">Pipeline</label><div class=\"sk-toggleable__content\"><pre>Pipeline(steps=[(&#x27;preprocessor&#x27;,\n",
       "                 ColumnTransformer(transformers=[(&#x27;int&#x27;,\n",
       "                                                  Pipeline(steps=[(&#x27;imputer&#x27;,\n",
       "                                                                   SimpleImputer(strategy=&#x27;median&#x27;)),\n",
       "                                                                  (&#x27;scaler&#x27;,\n",
       "                                                                   StandardScaler())]),\n",
       "                                                  Index([&#x27;HKTLMYY&#x27;, &#x27;JEKQIKE&#x27;, &#x27;MUEKGHC&#x27;, &#x27;HVTWAZN&#x27;, &#x27;SBUETBP&#x27;, &#x27;WSRRROM&#x27;,\n",
       "       &#x27;EGWONKF&#x27;, &#x27;XEUMIIT&#x27;, &#x27;JYNEQWD&#x27;, &#x27;XJUIXIR&#x27;, &#x27;WLULXFN&#x27;, &#x27;AQYGYOE&#x27;,\n",
       "       &#x27;YZRVJSE&#x27;, &#x27;EULURHL&#x27;, &#x27;WCZJBOX&#x27;, &#x27;PIACHYE&#x27;, &#x27;LCAOHWW&#x27;, &#x27;PATWSZC&#x27;,\n",
       "       &#x27;...\n",
       "       &#x27;GYXMTQR&#x27;, &#x27;JZRBYSL&#x27;, &#x27;AYAJVQL&#x27;, &#x27;KNIKHDA&#x27;, &#x27;LLZRQRY&#x27;, &#x27;PSXOLCG&#x27;,\n",
       "       &#x27;NPVZRXF&#x27;, &#x27;RGDZIYI&#x27;, &#x27;UWFUPRN&#x27;, &#x27;IHCEXCN&#x27;],\n",
       "      dtype=&#x27;object&#x27;, length=346)),\n",
       "                                                 (&#x27;cat&#x27;,\n",
       "                                                  Pipeline(steps=[(&#x27;imputer&#x27;,\n",
       "                                                                   SimpleImputer(fill_value=&#x27;missing&#x27;,\n",
       "                                                                                 strategy=&#x27;constant&#x27;)),\n",
       "                                                                  (&#x27;onehot&#x27;,\n",
       "                                                                   OneHotEncoder(handle_unknown=&#x27;ignore&#x27;))]),\n",
       "                                                  Index([], dtype=&#x27;object&#x27;))])),\n",
       "                (&#x27;classifier&#x27;, EasyEnsembleClassifier(sampling_strategy=0.01))])</pre></div></div></div><div class=\"sk-serial\"><div class=\"sk-item sk-dashed-wrapped\"><div class=\"sk-label-container\"><div class=\"sk-label sk-toggleable\"><input class=\"sk-toggleable__control sk-hidden--visually\" id=\"sk-estimator-id-40\" type=\"checkbox\" ><label for=\"sk-estimator-id-40\" class=\"sk-toggleable__label sk-toggleable__label-arrow\">preprocessor: ColumnTransformer</label><div class=\"sk-toggleable__content\"><pre>ColumnTransformer(transformers=[(&#x27;int&#x27;,\n",
       "                                 Pipeline(steps=[(&#x27;imputer&#x27;,\n",
       "                                                  SimpleImputer(strategy=&#x27;median&#x27;)),\n",
       "                                                 (&#x27;scaler&#x27;, StandardScaler())]),\n",
       "                                 Index([&#x27;HKTLMYY&#x27;, &#x27;JEKQIKE&#x27;, &#x27;MUEKGHC&#x27;, &#x27;HVTWAZN&#x27;, &#x27;SBUETBP&#x27;, &#x27;WSRRROM&#x27;,\n",
       "       &#x27;EGWONKF&#x27;, &#x27;XEUMIIT&#x27;, &#x27;JYNEQWD&#x27;, &#x27;XJUIXIR&#x27;, &#x27;WLULXFN&#x27;, &#x27;AQYGYOE&#x27;,\n",
       "       &#x27;YZRVJSE&#x27;, &#x27;EULURHL&#x27;, &#x27;WCZJBOX&#x27;, &#x27;PIACHYE&#x27;, &#x27;LCAOHWW&#x27;, &#x27;PATWSZC&#x27;,\n",
       "       &#x27;FPBFOEB&#x27;, &#x27;XIRNYHK&#x27;, &#x27;HBQPQTD&#x27;],\n",
       "      dt...\n",
       "                                 Index([&#x27;IJEXXXL&#x27;, &#x27;KVNLYTZ&#x27;, &#x27;ADOIOYN&#x27;, &#x27;GPCKISJ&#x27;, &#x27;BFYTKKS&#x27;, &#x27;HNJMSWN&#x27;,\n",
       "       &#x27;TDMCRGU&#x27;, &#x27;HNDGNRG&#x27;, &#x27;HFHITLP&#x27;, &#x27;MSVWNFK&#x27;,\n",
       "       ...\n",
       "       &#x27;GYXMTQR&#x27;, &#x27;JZRBYSL&#x27;, &#x27;AYAJVQL&#x27;, &#x27;KNIKHDA&#x27;, &#x27;LLZRQRY&#x27;, &#x27;PSXOLCG&#x27;,\n",
       "       &#x27;NPVZRXF&#x27;, &#x27;RGDZIYI&#x27;, &#x27;UWFUPRN&#x27;, &#x27;IHCEXCN&#x27;],\n",
       "      dtype=&#x27;object&#x27;, length=346)),\n",
       "                                (&#x27;cat&#x27;,\n",
       "                                 Pipeline(steps=[(&#x27;imputer&#x27;,\n",
       "                                                  SimpleImputer(fill_value=&#x27;missing&#x27;,\n",
       "                                                                strategy=&#x27;constant&#x27;)),\n",
       "                                                 (&#x27;onehot&#x27;,\n",
       "                                                  OneHotEncoder(handle_unknown=&#x27;ignore&#x27;))]),\n",
       "                                 Index([], dtype=&#x27;object&#x27;))])</pre></div></div></div><div class=\"sk-parallel\"><div class=\"sk-parallel-item\"><div class=\"sk-item\"><div class=\"sk-label-container\"><div class=\"sk-label sk-toggleable\"><input class=\"sk-toggleable__control sk-hidden--visually\" id=\"sk-estimator-id-41\" type=\"checkbox\" ><label for=\"sk-estimator-id-41\" class=\"sk-toggleable__label sk-toggleable__label-arrow\">int</label><div class=\"sk-toggleable__content\"><pre>Index([&#x27;HKTLMYY&#x27;, &#x27;JEKQIKE&#x27;, &#x27;MUEKGHC&#x27;, &#x27;HVTWAZN&#x27;, &#x27;SBUETBP&#x27;, &#x27;WSRRROM&#x27;,\n",
       "       &#x27;EGWONKF&#x27;, &#x27;XEUMIIT&#x27;, &#x27;JYNEQWD&#x27;, &#x27;XJUIXIR&#x27;, &#x27;WLULXFN&#x27;, &#x27;AQYGYOE&#x27;,\n",
       "       &#x27;YZRVJSE&#x27;, &#x27;EULURHL&#x27;, &#x27;WCZJBOX&#x27;, &#x27;PIACHYE&#x27;, &#x27;LCAOHWW&#x27;, &#x27;PATWSZC&#x27;,\n",
       "       &#x27;FPBFOEB&#x27;, &#x27;XIRNYHK&#x27;, &#x27;HBQPQTD&#x27;],\n",
       "      dtype=&#x27;object&#x27;)</pre></div></div></div><div class=\"sk-serial\"><div class=\"sk-item\"><div class=\"sk-serial\"><div class=\"sk-item\"><div class=\"sk-estimator sk-toggleable\"><input class=\"sk-toggleable__control sk-hidden--visually\" id=\"sk-estimator-id-42\" type=\"checkbox\" ><label for=\"sk-estimator-id-42\" class=\"sk-toggleable__label sk-toggleable__label-arrow\">SimpleImputer</label><div class=\"sk-toggleable__content\"><pre>SimpleImputer(strategy=&#x27;median&#x27;)</pre></div></div></div><div class=\"sk-item\"><div class=\"sk-estimator sk-toggleable\"><input class=\"sk-toggleable__control sk-hidden--visually\" id=\"sk-estimator-id-43\" type=\"checkbox\" ><label for=\"sk-estimator-id-43\" class=\"sk-toggleable__label sk-toggleable__label-arrow\">StandardScaler</label><div class=\"sk-toggleable__content\"><pre>StandardScaler()</pre></div></div></div></div></div></div></div></div><div class=\"sk-parallel-item\"><div class=\"sk-item\"><div class=\"sk-label-container\"><div class=\"sk-label sk-toggleable\"><input class=\"sk-toggleable__control sk-hidden--visually\" id=\"sk-estimator-id-44\" type=\"checkbox\" ><label for=\"sk-estimator-id-44\" class=\"sk-toggleable__label sk-toggleable__label-arrow\">float</label><div class=\"sk-toggleable__content\"><pre>Index([&#x27;IJEXXXL&#x27;, &#x27;KVNLYTZ&#x27;, &#x27;ADOIOYN&#x27;, &#x27;GPCKISJ&#x27;, &#x27;BFYTKKS&#x27;, &#x27;HNJMSWN&#x27;,\n",
       "       &#x27;TDMCRGU&#x27;, &#x27;HNDGNRG&#x27;, &#x27;HFHITLP&#x27;, &#x27;MSVWNFK&#x27;,\n",
       "       ...\n",
       "       &#x27;GYXMTQR&#x27;, &#x27;JZRBYSL&#x27;, &#x27;AYAJVQL&#x27;, &#x27;KNIKHDA&#x27;, &#x27;LLZRQRY&#x27;, &#x27;PSXOLCG&#x27;,\n",
       "       &#x27;NPVZRXF&#x27;, &#x27;RGDZIYI&#x27;, &#x27;UWFUPRN&#x27;, &#x27;IHCEXCN&#x27;],\n",
       "      dtype=&#x27;object&#x27;, length=346)</pre></div></div></div><div class=\"sk-serial\"><div class=\"sk-item\"><div class=\"sk-serial\"><div class=\"sk-item\"><div class=\"sk-estimator sk-toggleable\"><input class=\"sk-toggleable__control sk-hidden--visually\" id=\"sk-estimator-id-45\" type=\"checkbox\" ><label for=\"sk-estimator-id-45\" class=\"sk-toggleable__label sk-toggleable__label-arrow\">SimpleImputer</label><div class=\"sk-toggleable__content\"><pre>SimpleImputer(strategy=&#x27;median&#x27;)</pre></div></div></div><div class=\"sk-item\"><div class=\"sk-estimator sk-toggleable\"><input class=\"sk-toggleable__control sk-hidden--visually\" id=\"sk-estimator-id-46\" type=\"checkbox\" ><label for=\"sk-estimator-id-46\" class=\"sk-toggleable__label sk-toggleable__label-arrow\">StandardScaler</label><div class=\"sk-toggleable__content\"><pre>StandardScaler()</pre></div></div></div></div></div></div></div></div><div class=\"sk-parallel-item\"><div class=\"sk-item\"><div class=\"sk-label-container\"><div class=\"sk-label sk-toggleable\"><input class=\"sk-toggleable__control sk-hidden--visually\" id=\"sk-estimator-id-47\" type=\"checkbox\" ><label for=\"sk-estimator-id-47\" class=\"sk-toggleable__label sk-toggleable__label-arrow\">cat</label><div class=\"sk-toggleable__content\"><pre>Index([], dtype=&#x27;object&#x27;)</pre></div></div></div><div class=\"sk-serial\"><div class=\"sk-item\"><div class=\"sk-serial\"><div class=\"sk-item\"><div class=\"sk-estimator sk-toggleable\"><input class=\"sk-toggleable__control sk-hidden--visually\" id=\"sk-estimator-id-48\" type=\"checkbox\" ><label for=\"sk-estimator-id-48\" class=\"sk-toggleable__label sk-toggleable__label-arrow\">SimpleImputer</label><div class=\"sk-toggleable__content\"><pre>SimpleImputer(fill_value=&#x27;missing&#x27;, strategy=&#x27;constant&#x27;)</pre></div></div></div><div class=\"sk-item\"><div class=\"sk-estimator sk-toggleable\"><input class=\"sk-toggleable__control sk-hidden--visually\" id=\"sk-estimator-id-49\" type=\"checkbox\" ><label for=\"sk-estimator-id-49\" class=\"sk-toggleable__label sk-toggleable__label-arrow\">OneHotEncoder</label><div class=\"sk-toggleable__content\"><pre>OneHotEncoder(handle_unknown=&#x27;ignore&#x27;)</pre></div></div></div></div></div></div></div></div></div></div><div class=\"sk-item\"><div class=\"sk-estimator sk-toggleable\"><input class=\"sk-toggleable__control sk-hidden--visually\" id=\"sk-estimator-id-50\" type=\"checkbox\" ><label for=\"sk-estimator-id-50\" class=\"sk-toggleable__label sk-toggleable__label-arrow\">EasyEnsembleClassifier</label><div class=\"sk-toggleable__content\"><pre>EasyEnsembleClassifier(sampling_strategy=0.01)</pre></div></div></div></div></div></div></div>"
      ],
      "text/plain": [
       "Pipeline(steps=[('preprocessor',\n",
       "                 ColumnTransformer(transformers=[('int',\n",
       "                                                  Pipeline(steps=[('imputer',\n",
       "                                                                   SimpleImputer(strategy='median')),\n",
       "                                                                  ('scaler',\n",
       "                                                                   StandardScaler())]),\n",
       "                                                  Index(['HKTLMYY', 'JEKQIKE', 'MUEKGHC', 'HVTWAZN', 'SBUETBP', 'WSRRROM',\n",
       "       'EGWONKF', 'XEUMIIT', 'JYNEQWD', 'XJUIXIR', 'WLULXFN', 'AQYGYOE',\n",
       "       'YZRVJSE', 'EULURHL', 'WCZJBOX', 'PIACHYE', 'LCAOHWW', 'PATWSZC',\n",
       "       '...\n",
       "       'GYXMTQR', 'JZRBYSL', 'AYAJVQL', 'KNIKHDA', 'LLZRQRY', 'PSXOLCG',\n",
       "       'NPVZRXF', 'RGDZIYI', 'UWFUPRN', 'IHCEXCN'],\n",
       "      dtype='object', length=346)),\n",
       "                                                 ('cat',\n",
       "                                                  Pipeline(steps=[('imputer',\n",
       "                                                                   SimpleImputer(fill_value='missing',\n",
       "                                                                                 strategy='constant')),\n",
       "                                                                  ('onehot',\n",
       "                                                                   OneHotEncoder(handle_unknown='ignore'))]),\n",
       "                                                  Index([], dtype='object'))])),\n",
       "                ('classifier', EasyEnsembleClassifier(sampling_strategy=0.01))])"
      ]
     },
     "execution_count": 58,
     "metadata": {},
     "output_type": "execute_result"
    }
   ],
   "source": [
    "%%time\n",
    "from imblearn.ensemble import EasyEnsembleClassifier\n",
    "eec = EasyEnsembleClassifier(n_estimators=100, sampling_strategy=0.01)\n",
    "pipeline = Pipeline(steps=[('preprocessor', preprocessor),\n",
    "                           ('classifier', eec)])\n",
    "pipeline.fit(training_features, train_target)"
   ]
  },
  {
   "cell_type": "code",
   "execution_count": 59,
   "id": "193c2134-4a3e-4cfd-a34d-c25e962c9459",
   "metadata": {
    "tags": []
   },
   "outputs": [
    {
     "name": "stdout",
     "output_type": "stream",
     "text": [
      "CPU times: user 57.4 s, sys: 28.7 s, total: 1min 26s\n",
      "Wall time: 1min 26s\n"
     ]
    },
    {
     "data": {
      "text/plain": [
       "(0.00013130342840162262, 0.31475428639746383)"
      ]
     },
     "execution_count": 59,
     "metadata": {},
     "output_type": "execute_result"
    }
   ],
   "source": [
    "%%time\n",
    "y_pred = pipeline.predict_proba(test_features)[:,1]\n",
    "precision, thd = precision_at_full_recall(test_target, y_pred, return_thd=True)\n",
    "precision, thd"
   ]
  },
  {
   "cell_type": "code",
   "execution_count": 60,
   "id": "20e5ccc9-3642-40db-a9a8-ed64c311e3bd",
   "metadata": {
    "tags": []
   },
   "outputs": [
    {
     "name": "stdout",
     "output_type": "stream",
     "text": [
      "True positive to False positive ratio: 1:7615\n",
      "Percentage of tests that will be skipped  34%\n"
     ]
    }
   ],
   "source": [
    "inv_prec = 1 / precision - 1\n",
    "print(f'True positive to False positive ratio: 1:{1 / precision - 1:.0f}')\n",
    "print(f'Percentage of tests that will be skipped {100 * (1 - 19 * inv_prec / 217686): .0f}%')"
   ]
  },
  {
   "cell_type": "markdown",
   "id": "9349f63a-a1ef-4985-a468-38bf2d7f8319",
   "metadata": {
    "tags": []
   },
   "source": [
    "Conclusion:\n",
    "\n",
    "* Using a thd of 0.422 The classifier is able to recall all the defective tests.\n",
    "* At that thd, the precision is 0.0005907776499486957, or 1:1692\n",
    "* The valid to defective ratio of the test set is 1:11465\n",
    "* Thus by using the classifier, only 32148 samples will need to run the **TLJYWBE** test, instead of 217686\n",
    "* This is a 85% reduction in the cost of the test."
   ]
  },
  {
   "cell_type": "markdown",
   "id": "8f351122-03c7-4532-8324-412afc19f03a",
   "metadata": {},
   "source": [
    "### RUSBoostClassifier"
   ]
  },
  {
   "cell_type": "code",
   "execution_count": null,
   "id": "2c86b00a-0b30-4382-8ea8-1770a65a0894",
   "metadata": {
    "tags": []
   },
   "outputs": [],
   "source": [
    "from imblearn.ensemble import RUSBoostClassifier\n",
    "model = RUSBoostClassifier(n_estimators=500, algorithm='SAMME.R', random_state=1)\n",
    "pipeline = Pipeline(steps=[('preprocessor', preprocessor),\n",
    "                           ('classifier', model)])"
   ]
  },
  {
   "cell_type": "code",
   "execution_count": null,
   "id": "76e90dd3-755a-4714-91b4-ee558d9cf2da",
   "metadata": {
    "tags": []
   },
   "outputs": [],
   "source": [
    "%%time\n",
    "pipeline.fit(training_features, train_target)"
   ]
  },
  {
   "cell_type": "code",
   "execution_count": null,
   "id": "f997d94c-5ff5-48ef-9611-f4abb702543d",
   "metadata": {
    "tags": []
   },
   "outputs": [],
   "source": [
    "%%time\n",
    "y_pred = pipeline.predict_proba(test_features)[:,1]\n",
    "precision, thd = precision_at_full_recall(test_target, y_pred, return_thd=True)\n",
    "precision, thd"
   ]
  },
  {
   "cell_type": "code",
   "execution_count": null,
   "id": "12d80883-a098-4c26-bb73-5a0a5ec1443d",
   "metadata": {
    "tags": []
   },
   "outputs": [],
   "source": [
    "inv_prec = 1 / precision - 1\n",
    "print(f'True positive to False positive ratio: 1:{1 / precision - 1:.0f}')\n",
    "print(f'Percentage of tests that will be skipped {100 * (1 - 19 * inv_prec / 217686): .0f}%')"
   ]
  },
  {
   "cell_type": "markdown",
   "id": "16f912d3-07a2-4377-aa68-c7f0fd4197b9",
   "metadata": {
    "tags": []
   },
   "source": [
    "Conclusion:\n",
    "\n",
    "* Using a thd of 0.422 The classifier is able to recall all the defective tests.\n",
    "* At that thd, the precision is 0.0005907776499486957, or 1:1692\n",
    "* The valid to defective ratio of the test set is 1:11465\n",
    "* Thus by using the classifier, only 32148 samples will need to run the **TLJYWBE** test, instead of 217686\n",
    "* This is a 85% reduction in the cost of the test."
   ]
  },
  {
   "cell_type": "markdown",
   "id": "485ca3bf-5bdf-490b-9682-885e5d108e3d",
   "metadata": {},
   "source": [
    "## Fitting with resampled data"
   ]
  },
  {
   "cell_type": "code",
   "execution_count": 69,
   "id": "aa870d79-0160-4806-8df4-f3f7199e7ae3",
   "metadata": {
    "tags": []
   },
   "outputs": [],
   "source": [
    "import numpy as np\n",
    "X_resampled = np.load('X_resampled.npy')\n",
    "y_resampled = np.load('y_resampled.npy')"
   ]
  },
  {
   "cell_type": "code",
   "execution_count": 69,
   "id": "c93e0a60-e556-4ce4-9b3a-147f1374835f",
   "metadata": {
    "tags": []
   },
   "outputs": [],
   "source": [
    "# Load the transformed test data\n",
    "X_test_transformed = np.load('X_test_transformed.npy')\n",
    "test_target = np.load('test_target.npy')"
   ]
  },
  {
   "cell_type": "code",
   "execution_count": 69,
   "id": "2f516065-b7f6-4ad1-97ac-bec4f8e5b111",
   "metadata": {
    "tags": []
   },
   "outputs": [
    {
     "name": "stdout",
     "output_type": "stream",
     "text": [
      "Loaded resampled training set shape: (595940, 367)\n",
      "Loaded resampled target shape: (595940,)\n",
      "Loaded transformed test set shape: (212856, 367)\n",
      "Loaded test target shape: (212856,)\n"
     ]
    }
   ],
   "source": [
    "# Verify shapes:\n",
    "print(f\"Loaded resampled training set shape: {X_resampled.shape}\")\n",
    "print(f\"Loaded resampled target shape: {y_resampled.shape}\")\n",
    "print(f\"Loaded transformed test set shape: {X_test_transformed.shape}\")\n",
    "print(f\"Loaded test target shape: {test_target.shape}\")"
   ]
  },
  {
   "cell_type": "markdown",
   "id": "6cbbffd7-2886-40c4-aabd-86b2b267d043",
   "metadata": {},
   "source": [
    "### BalancedRandomForestClassifier"
   ]
  },
  {
   "cell_type": "code",
   "execution_count": 16,
   "id": "36fa55cb-a50c-4720-9e72-a6214e88889e",
   "metadata": {
    "tags": []
   },
   "outputs": [],
   "source": [
    "param_grid = [\n",
    "    {\n",
    "        'max_depth': [None, 10, 20],\n",
    "        'n_estimators': [150, 200],\n",
    "        'min_samples_leaf': [2, 4, 8],\n",
    "        'classifier__sampling_strategy': [0.05, 0.01, 0.2]\n",
    "    }\n",
    "]"
   ]
  },
  {
   "cell_type": "code",
   "execution_count": 17,
   "id": "195d991b-4330-4263-a2a9-972f8756aab4",
   "metadata": {
    "tags": []
   },
   "outputs": [],
   "source": [
    "from src.custom_metrics import precision_at_full_recall_scorer, precision_at_full_recall"
   ]
  },
  {
   "cell_type": "code",
   "execution_count": 18,
   "id": "044d2ab9-9038-42a5-81bd-c4906c798905",
   "metadata": {
    "tags": []
   },
   "outputs": [
    {
     "name": "stderr",
     "output_type": "stream",
     "text": [
      "/home/ec2-user/anaconda3/envs/tensorflow2_p310/lib/python3.10/site-packages/joblib/externals/loky/process_executor.py:752: UserWarning: A worker stopped while some jobs were given to the executor. This can be caused by a too short worker timeout or by a memory leak.\n",
      "  warnings.warn(\n"
     ]
    },
    {
     "name": "stdout",
     "output_type": "stream",
     "text": [
      "CPU times: user 21min 36s, sys: 25.9 s, total: 22min 2s\n",
      "Wall time: 3h 42min 41s\n"
     ]
    },
    {
     "data": {
      "text/html": [
       "<style>#sk-container-id-1 {color: black;}#sk-container-id-1 pre{padding: 0;}#sk-container-id-1 div.sk-toggleable {background-color: white;}#sk-container-id-1 label.sk-toggleable__label {cursor: pointer;display: block;width: 100%;margin-bottom: 0;padding: 0.3em;box-sizing: border-box;text-align: center;}#sk-container-id-1 label.sk-toggleable__label-arrow:before {content: \"▸\";float: left;margin-right: 0.25em;color: #696969;}#sk-container-id-1 label.sk-toggleable__label-arrow:hover:before {color: black;}#sk-container-id-1 div.sk-estimator:hover label.sk-toggleable__label-arrow:before {color: black;}#sk-container-id-1 div.sk-toggleable__content {max-height: 0;max-width: 0;overflow: hidden;text-align: left;background-color: #f0f8ff;}#sk-container-id-1 div.sk-toggleable__content pre {margin: 0.2em;color: black;border-radius: 0.25em;background-color: #f0f8ff;}#sk-container-id-1 input.sk-toggleable__control:checked~div.sk-toggleable__content {max-height: 200px;max-width: 100%;overflow: auto;}#sk-container-id-1 input.sk-toggleable__control:checked~label.sk-toggleable__label-arrow:before {content: \"▾\";}#sk-container-id-1 div.sk-estimator input.sk-toggleable__control:checked~label.sk-toggleable__label {background-color: #d4ebff;}#sk-container-id-1 div.sk-label input.sk-toggleable__control:checked~label.sk-toggleable__label {background-color: #d4ebff;}#sk-container-id-1 input.sk-hidden--visually {border: 0;clip: rect(1px 1px 1px 1px);clip: rect(1px, 1px, 1px, 1px);height: 1px;margin: -1px;overflow: hidden;padding: 0;position: absolute;width: 1px;}#sk-container-id-1 div.sk-estimator {font-family: monospace;background-color: #f0f8ff;border: 1px dotted black;border-radius: 0.25em;box-sizing: border-box;margin-bottom: 0.5em;}#sk-container-id-1 div.sk-estimator:hover {background-color: #d4ebff;}#sk-container-id-1 div.sk-parallel-item::after {content: \"\";width: 100%;border-bottom: 1px solid gray;flex-grow: 1;}#sk-container-id-1 div.sk-label:hover label.sk-toggleable__label {background-color: #d4ebff;}#sk-container-id-1 div.sk-serial::before {content: \"\";position: absolute;border-left: 1px solid gray;box-sizing: border-box;top: 0;bottom: 0;left: 50%;z-index: 0;}#sk-container-id-1 div.sk-serial {display: flex;flex-direction: column;align-items: center;background-color: white;padding-right: 0.2em;padding-left: 0.2em;position: relative;}#sk-container-id-1 div.sk-item {position: relative;z-index: 1;}#sk-container-id-1 div.sk-parallel {display: flex;align-items: stretch;justify-content: center;background-color: white;position: relative;}#sk-container-id-1 div.sk-item::before, #sk-container-id-1 div.sk-parallel-item::before {content: \"\";position: absolute;border-left: 1px solid gray;box-sizing: border-box;top: 0;bottom: 0;left: 50%;z-index: -1;}#sk-container-id-1 div.sk-parallel-item {display: flex;flex-direction: column;z-index: 1;position: relative;background-color: white;}#sk-container-id-1 div.sk-parallel-item:first-child::after {align-self: flex-end;width: 50%;}#sk-container-id-1 div.sk-parallel-item:last-child::after {align-self: flex-start;width: 50%;}#sk-container-id-1 div.sk-parallel-item:only-child::after {width: 0;}#sk-container-id-1 div.sk-dashed-wrapped {border: 1px dashed gray;margin: 0 0.4em 0.5em 0.4em;box-sizing: border-box;padding-bottom: 0.4em;background-color: white;}#sk-container-id-1 div.sk-label label {font-family: monospace;font-weight: bold;display: inline-block;line-height: 1.2em;}#sk-container-id-1 div.sk-label-container {text-align: center;}#sk-container-id-1 div.sk-container {/* jupyter's `normalize.less` sets `[hidden] { display: none; }` but bootstrap.min.css set `[hidden] { display: none !important; }` so we also need the `!important` here to be able to override the default hidden behavior on the sphinx rendered scikit-learn.org. See: https://github.com/scikit-learn/scikit-learn/issues/21755 */display: inline-block !important;position: relative;}#sk-container-id-1 div.sk-text-repr-fallback {display: none;}</style><div id=\"sk-container-id-1\" class=\"sk-top-container\"><div class=\"sk-text-repr-fallback\"><pre>GridSearchCV(cv=RepeatedStratifiedKFold(n_repeats=2, n_splits=5, random_state=1),\n",
       "             estimator=BalancedRandomForestClassifier(replacement=True,\n",
       "                                                      sampling_strategy=&#x27;all&#x27;),\n",
       "             n_jobs=-1,\n",
       "             param_grid=[{&#x27;max_depth&#x27;: [None, 10, 20],\n",
       "                          &#x27;min_samples_leaf&#x27;: [2, 4, 8],\n",
       "                          &#x27;n_estimators&#x27;: [100, 150, 200]}],\n",
       "             scoring=make_scorer(precision_at_full_recall, needs_proba=True))</pre><b>In a Jupyter environment, please rerun this cell to show the HTML representation or trust the notebook. <br />On GitHub, the HTML representation is unable to render, please try loading this page with nbviewer.org.</b></div><div class=\"sk-container\" hidden><div class=\"sk-item sk-dashed-wrapped\"><div class=\"sk-label-container\"><div class=\"sk-label sk-toggleable\"><input class=\"sk-toggleable__control sk-hidden--visually\" id=\"sk-estimator-id-1\" type=\"checkbox\" ><label for=\"sk-estimator-id-1\" class=\"sk-toggleable__label sk-toggleable__label-arrow\">GridSearchCV</label><div class=\"sk-toggleable__content\"><pre>GridSearchCV(cv=RepeatedStratifiedKFold(n_repeats=2, n_splits=5, random_state=1),\n",
       "             estimator=BalancedRandomForestClassifier(replacement=True,\n",
       "                                                      sampling_strategy=&#x27;all&#x27;),\n",
       "             n_jobs=-1,\n",
       "             param_grid=[{&#x27;max_depth&#x27;: [None, 10, 20],\n",
       "                          &#x27;min_samples_leaf&#x27;: [2, 4, 8],\n",
       "                          &#x27;n_estimators&#x27;: [100, 150, 200]}],\n",
       "             scoring=make_scorer(precision_at_full_recall, needs_proba=True))</pre></div></div></div><div class=\"sk-parallel\"><div class=\"sk-parallel-item\"><div class=\"sk-item\"><div class=\"sk-label-container\"><div class=\"sk-label sk-toggleable\"><input class=\"sk-toggleable__control sk-hidden--visually\" id=\"sk-estimator-id-2\" type=\"checkbox\" ><label for=\"sk-estimator-id-2\" class=\"sk-toggleable__label sk-toggleable__label-arrow\">estimator: BalancedRandomForestClassifier</label><div class=\"sk-toggleable__content\"><pre>BalancedRandomForestClassifier(replacement=True, sampling_strategy=&#x27;all&#x27;)</pre></div></div></div><div class=\"sk-serial\"><div class=\"sk-item\"><div class=\"sk-estimator sk-toggleable\"><input class=\"sk-toggleable__control sk-hidden--visually\" id=\"sk-estimator-id-3\" type=\"checkbox\" ><label for=\"sk-estimator-id-3\" class=\"sk-toggleable__label sk-toggleable__label-arrow\">BalancedRandomForestClassifier</label><div class=\"sk-toggleable__content\"><pre>BalancedRandomForestClassifier(replacement=True, sampling_strategy=&#x27;all&#x27;)</pre></div></div></div></div></div></div></div></div></div></div>"
      ],
      "text/plain": [
       "GridSearchCV(cv=RepeatedStratifiedKFold(n_repeats=2, n_splits=5, random_state=1),\n",
       "             estimator=BalancedRandomForestClassifier(replacement=True,\n",
       "                                                      sampling_strategy='all'),\n",
       "             n_jobs=-1,\n",
       "             param_grid=[{'max_depth': [None, 10, 20],\n",
       "                          'min_samples_leaf': [2, 4, 8],\n",
       "                          'n_estimators': [100, 150, 200]}],\n",
       "             scoring=make_scorer(precision_at_full_recall, needs_proba=True))"
      ]
     },
     "execution_count": 18,
     "metadata": {},
     "output_type": "execute_result"
    }
   ],
   "source": [
    "%%time\n",
    "cv = RepeatedStratifiedKFold(n_splits=5, n_repeats=2, random_state=1)\n",
    "search = GridSearchCV(estimator=BalancedRandomForestClassifier(sampling_strategy='all', replacement=True), \n",
    "                      param_grid=param_grid, cv=cv, scoring=precision_at_full_recall_scorer, n_jobs=-1)\n",
    "search.fit(X_resampled, y_resampled)"
   ]
  },
  {
   "cell_type": "code",
   "execution_count": 19,
   "id": "0ba02f58-6e07-4bc8-b30e-d196ab42d454",
   "metadata": {
    "tags": []
   },
   "outputs": [
    {
     "name": "stdout",
     "output_type": "stream",
     "text": [
      "Best parameter (CV score=0.999):\n",
      "{'max_depth': None, 'min_samples_leaf': 8, 'n_estimators': 200}\n"
     ]
    }
   ],
   "source": [
    "print(\"Best parameter (CV score=%0.3f):\" % search.best_score_)\n",
    "print(search.best_params_)"
   ]
  },
  {
   "cell_type": "code",
   "execution_count": 29,
   "id": "44a87fb3-9c4f-43d8-9343-b94ca4f670d5",
   "metadata": {
    "tags": []
   },
   "outputs": [
    {
     "data": {
      "text/html": [
       "<div>\n",
       "<style scoped>\n",
       "    .dataframe tbody tr th:only-of-type {\n",
       "        vertical-align: middle;\n",
       "    }\n",
       "\n",
       "    .dataframe tbody tr th {\n",
       "        vertical-align: top;\n",
       "    }\n",
       "\n",
       "    .dataframe thead th {\n",
       "        text-align: right;\n",
       "    }\n",
       "</style>\n",
       "<table border=\"1\" class=\"dataframe\">\n",
       "  <thead>\n",
       "    <tr style=\"text-align: right;\">\n",
       "      <th></th>\n",
       "      <th>param_min_samples_leaf</th>\n",
       "      <th>param_n_estimators</th>\n",
       "      <th>param_max_depth</th>\n",
       "      <th>mean_test_score</th>\n",
       "      <th>std_test_score</th>\n",
       "    </tr>\n",
       "  </thead>\n",
       "  <tbody>\n",
       "    <tr>\n",
       "      <th>8</th>\n",
       "      <td>8</td>\n",
       "      <td>200</td>\n",
       "      <td>None</td>\n",
       "      <td>0.998944</td>\n",
       "      <td>0.000557</td>\n",
       "    </tr>\n",
       "    <tr>\n",
       "      <th>1</th>\n",
       "      <td>2</td>\n",
       "      <td>150</td>\n",
       "      <td>None</td>\n",
       "      <td>0.998844</td>\n",
       "      <td>0.000420</td>\n",
       "    </tr>\n",
       "    <tr>\n",
       "      <th>4</th>\n",
       "      <td>4</td>\n",
       "      <td>150</td>\n",
       "      <td>None</td>\n",
       "      <td>0.998794</td>\n",
       "      <td>0.000565</td>\n",
       "    </tr>\n",
       "    <tr>\n",
       "      <th>5</th>\n",
       "      <td>4</td>\n",
       "      <td>200</td>\n",
       "      <td>None</td>\n",
       "      <td>0.998779</td>\n",
       "      <td>0.000594</td>\n",
       "    </tr>\n",
       "    <tr>\n",
       "      <th>7</th>\n",
       "      <td>8</td>\n",
       "      <td>150</td>\n",
       "      <td>None</td>\n",
       "      <td>0.998774</td>\n",
       "      <td>0.000696</td>\n",
       "    </tr>\n",
       "    <tr>\n",
       "      <th>3</th>\n",
       "      <td>4</td>\n",
       "      <td>100</td>\n",
       "      <td>None</td>\n",
       "      <td>0.998723</td>\n",
       "      <td>0.000657</td>\n",
       "    </tr>\n",
       "    <tr>\n",
       "      <th>6</th>\n",
       "      <td>8</td>\n",
       "      <td>100</td>\n",
       "      <td>None</td>\n",
       "      <td>0.998708</td>\n",
       "      <td>0.000517</td>\n",
       "    </tr>\n",
       "    <tr>\n",
       "      <th>2</th>\n",
       "      <td>2</td>\n",
       "      <td>200</td>\n",
       "      <td>None</td>\n",
       "      <td>0.998608</td>\n",
       "      <td>0.000517</td>\n",
       "    </tr>\n",
       "    <tr>\n",
       "      <th>0</th>\n",
       "      <td>2</td>\n",
       "      <td>100</td>\n",
       "      <td>None</td>\n",
       "      <td>0.998573</td>\n",
       "      <td>0.000549</td>\n",
       "    </tr>\n",
       "    <tr>\n",
       "      <th>24</th>\n",
       "      <td>8</td>\n",
       "      <td>100</td>\n",
       "      <td>20</td>\n",
       "      <td>0.998122</td>\n",
       "      <td>0.001102</td>\n",
       "    </tr>\n",
       "  </tbody>\n",
       "</table>\n",
       "</div>"
      ],
      "text/plain": [
       "   param_min_samples_leaf param_n_estimators param_max_depth  mean_test_score  \\\n",
       "8                       8                200            None         0.998944   \n",
       "1                       2                150            None         0.998844   \n",
       "4                       4                150            None         0.998794   \n",
       "5                       4                200            None         0.998779   \n",
       "7                       8                150            None         0.998774   \n",
       "3                       4                100            None         0.998723   \n",
       "6                       8                100            None         0.998708   \n",
       "2                       2                200            None         0.998608   \n",
       "0                       2                100            None         0.998573   \n",
       "24                      8                100              20         0.998122   \n",
       "\n",
       "    std_test_score  \n",
       "8         0.000557  \n",
       "1         0.000420  \n",
       "4         0.000565  \n",
       "5         0.000594  \n",
       "7         0.000696  \n",
       "3         0.000657  \n",
       "6         0.000517  \n",
       "2         0.000517  \n",
       "0         0.000549  \n",
       "24        0.001102  "
      ]
     },
     "execution_count": 29,
     "metadata": {},
     "output_type": "execute_result"
    }
   ],
   "source": [
    "pd.set_option('display.max_colwidth', 200)\n",
    "cols = ['param_min_samples_leaf','param_n_estimators','param_max_depth', 'mean_test_score','std_test_score']\n",
    "results = pd.DataFrame(search.cv_results_).sort_values(by='mean_test_score',ascending=False)\n",
    "results.head(10)[cols]"
   ]
  },
  {
   "cell_type": "markdown",
   "id": "6e3a933e-2b5c-4624-91ef-4b4c40a9d288",
   "metadata": {},
   "source": [
    "### Test model"
   ]
  },
  {
   "cell_type": "code",
   "execution_count": 21,
   "id": "784d0bbc-7ade-4ad3-9994-08c03740172e",
   "metadata": {
    "tags": []
   },
   "outputs": [],
   "source": [
    "test_predicted_probs = search.best_estimator_.predict_proba(X_test_transformed)[:,1]"
   ]
  },
  {
   "cell_type": "code",
   "execution_count": 44,
   "id": "c8944273-51e0-4f5b-add3-455303c7825e",
   "metadata": {
    "tags": []
   },
   "outputs": [
    {
     "data": {
      "text/plain": [
       "(0.0002911431198283788, 0.0013636363636363635)"
      ]
     },
     "execution_count": 44,
     "metadata": {},
     "output_type": "execute_result"
    }
   ],
   "source": [
    "precision, thd = precision_at_full_recall(test_target, test_predicted_probs, return_thd=True)\n",
    "precision, thd"
   ]
  },
  {
   "cell_type": "code",
   "execution_count": 50,
   "id": "9ba8d461-aaa5-4075-ad1a-8427f1282427",
   "metadata": {
    "tags": []
   },
   "outputs": [
    {
     "name": "stdout",
     "output_type": "stream",
     "text": [
      "True positive to False positive ratio: 1:3434\n",
      "Percentage of tests that will be skipped  70%\n"
     ]
    }
   ],
   "source": [
    "print(f'True positive to False positive ratio: 1:{1 / precision - 1:.0f}')\n",
    "print(f'Percentage of tests that will be skipped {100 * (1 - 19 * 3434 / 217686): .0f}%')"
   ]
  },
  {
   "cell_type": "markdown",
   "id": "715bab57-d02e-450b-9577-a0ee0b93e434",
   "metadata": {
    "tags": []
   },
   "source": [
    "Conclusion:\n",
    "\n",
    "* Using a thd of 0.0013 The classifier is able to recall all the defective tests.\n",
    "* At that thd, the precision is 0.000239, or 1:3434\n",
    "* The valid to defective ratio of the test set is 1:11465\n",
    "* Thus by using the classifier, only 79458 samples will need to run the **TLJYWBE** test, instead of 217686\n",
    "* This is a 70% reduction in the cost of the test."
   ]
  }
 ],
 "metadata": {
  "kernelspec": {
   "display_name": "conda_tensorflow2_p310",
   "language": "python",
   "name": "conda_tensorflow2_p310"
  },
  "language_info": {
   "codemirror_mode": {
    "name": "ipython",
    "version": 3
   },
   "file_extension": ".py",
   "mimetype": "text/x-python",
   "name": "python",
   "nbconvert_exporter": "python",
   "pygments_lexer": "ipython3",
   "version": "3.10.12"
  }
 },
 "nbformat": 4,
 "nbformat_minor": 5
}
